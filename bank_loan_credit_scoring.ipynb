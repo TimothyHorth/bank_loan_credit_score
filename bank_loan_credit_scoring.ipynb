{
 "cells": [
  {
   "cell_type": "markdown",
   "metadata": {},
   "source": [
    "<div style=\"border:solid green 2px; padding: 20px\"> \n",
    "    \n",
    "Hello Tim, \n",
    "    \n",
    "    \n",
    "my name is Aleksandra. I'm going to review your project! Nice to meet you! 🙌\n",
    "\n",
    "You can find my comments under the heading **«Review»**. I will categorize my comments in green, blue or red boxes like this:\n",
    "\n",
    "<div class=\"alert alert-success\">\n",
    "    <b>Success:</b> if everything is done successfully\n",
    "</div>\n",
    "<div class=\"alert alert-warning\">\n",
    "    <b>Remarks:</b> if I can give some recommendations or ways to improve the project\n",
    "</div>\n",
    "<div class=\"alert alert-danger\">\n",
    "    <b>Needs fixing:</b> if the block requires some corrections. Work can't be accepted with the red comments\n",
    "</div>\n",
    "\n",
    "Please don't remove my comments :) If you have any questions don't hesitate to respond to my comments in a different section. "
   ]
  },
  {
   "cell_type": "markdown",
   "metadata": {},
   "source": [
    "<div class=\"alert alert-block alert-success\">\n",
    "<b>Overall reviewer's comment v1</b> <a class=\"tocSkip\"></a>\n",
    "    \n",
    "Tim, thanks a lot for the project! Great job! Everything is perfect. I can see that a lot of efforts have been made, and it turned out to be very strong. You work very carefully with data and you make qualitative assumptions - like a real analyst. There are no critical comments. I left guidance ones as we went along. Good luck at next steps!"
   ]
  },
  {
   "cell_type": "markdown",
   "metadata": {},
   "source": [
    "# Analyzing borrowers’ risk of defaulting\n",
    "\n",
    "The loan division of an unspecified bank wants a report determining if certain characteristics of loan applicants have any impact on whether or not they will default on their loan. Additionally, the loan divison wants to know if the purpose of the loan has any affect on on-time loan payments, and if so, is it a negative or positive affect.\n",
    "\n",
    "The results of this report will be used by the bank's loan division when building the **credit score** of a potential customer. The **credit score** is used as a quantatative metric of the potential borrower's ability to repay their loan.\n",
    "\n",
    "The bank's loan division has provided a dataset of the characteristics of current customers who have loans, which they have requested be used to draw any conclusions about correlations between applicant characteristics and their ability to pay back a loan. It is expected that some data will be missing, some data will need to be adjusted or modified, and some data may need to be removed. Before the interpretation of the dataset can begin, it must be ensured that the dataset has been curated for accurate analysis by filling in or removing data, as well as correcting any incorrect or unusable values.\n",
    "\n",
    "In the analysis of the dataset, conclusions will be made on the following hypotheses:\n",
    "\n",
    "- Having a child or children will affect repaying a loan on time\n",
    "- Being married will affect repaying a loan on time\n",
    "- The customer's income level will affect repaying a loan on time\n",
    "- Loan purposes have an affect on repaying a loan on time\n",
    "\n",
    "At the end of this report, a summary will be provided of the results. The conclusion will either confirm or deny the above hypotheses by determining which of the specific characteristics of the customers affect their ability to pay back their loan, and if they have a positive or negative effect. As requested, the bank's loan division will then have a reference for comparing the characteristics of future applicants against to determine if they are suitable for a loan."
   ]
  },
  {
   "cell_type": "markdown",
   "metadata": {},
   "source": [
    "## Open the data file and have a look at the general information. \n",
    "\n",
    "Below I have imported the `pandas` library, storing it as `pd`. I also imported the `numpy` library as `np`, which we have not learned or reviewed yet in this course. I imported the `numpy` library for the puprose of replacing certain data values with `NaN`, and then applying the `.dropna` method to the dataset to remove those values. However, I came to the realization that there are easier and more effective methods to remove specific data values without needing the `numpy` library. Regardless, I left the code in the report for review and reference, and I made sure to address my experience with it. \n",
    "\n",
    "After importing the two libraries, I read in the `.csv` file as a DataFrame and stored it to `data`."
   ]
  },
  {
   "cell_type": "code",
   "execution_count": 1,
   "metadata": {},
   "outputs": [],
   "source": [
    "# Loading all the libraries\n",
    "import pandas as pd\n",
    "import numpy as np\n",
    "\n",
    "# Load the data\n",
    "data = pd.read_csv('/datasets/credit_scoring_eng.csv')\n"
   ]
  },
  {
   "cell_type": "markdown",
   "metadata": {},
   "source": [
    "## Task 1. Data exploration\n",
    "\n",
    "**Description of the data**\n",
    "- `children` - the number of children in the family\n",
    "- `days_employed` - work experience in days\n",
    "- `dob_years` - client's age in years\n",
    "- `education` - client's education\n",
    "- `education_id` - education identifier\n",
    "- `family_status` - marital status\n",
    "- `family_status_id` - marital status identifier\n",
    "- `gender` - gender of the client\n",
    "- `income_type` - type of employment\n",
    "- `debt` - was there any debt on loan repayment\n",
    "- `total_income` - monthly income\n",
    "- `purpose` - the purpose of obtaining a loan\n",
    "\n",
    "The list above contains the column names of the dataset, and provides a brief description of what the data in the column represents.\n",
    "\n",
    "The below code outputs the number of rows and columns of the dataset that the bank's loan division provided. The dataset contains `21525` rows and `12` columns."
   ]
  },
  {
   "cell_type": "code",
   "execution_count": 2,
   "metadata": {},
   "outputs": [
    {
     "name": "stdout",
     "output_type": "stream",
     "text": [
      "Number of rows: 21525\n",
      "Number of columns: 12\n"
     ]
    }
   ],
   "source": [
    "# Let's see how many rows and columns our dataset has\n",
    "table_size = data.shape\n",
    "print(f'Number of rows: {table_size[0]}')\n",
    "print(f'Number of columns: {table_size[1]}')\n",
    "\n",
    "# I used the print function on both lines for standardized formatting even though the last line is always printed."
   ]
  },
  {
   "cell_type": "markdown",
   "metadata": {},
   "source": [
    "Additionally, the first 15 rows of the dataset are printed in the following code block."
   ]
  },
  {
   "cell_type": "code",
   "execution_count": 3,
   "metadata": {
    "scrolled": true
   },
   "outputs": [
    {
     "data": {
      "text/html": [
       "<div>\n",
       "<style scoped>\n",
       "    .dataframe tbody tr th:only-of-type {\n",
       "        vertical-align: middle;\n",
       "    }\n",
       "\n",
       "    .dataframe tbody tr th {\n",
       "        vertical-align: top;\n",
       "    }\n",
       "\n",
       "    .dataframe thead th {\n",
       "        text-align: right;\n",
       "    }\n",
       "</style>\n",
       "<table border=\"1\" class=\"dataframe\">\n",
       "  <thead>\n",
       "    <tr style=\"text-align: right;\">\n",
       "      <th></th>\n",
       "      <th>children</th>\n",
       "      <th>days_employed</th>\n",
       "      <th>dob_years</th>\n",
       "      <th>education</th>\n",
       "      <th>education_id</th>\n",
       "      <th>family_status</th>\n",
       "      <th>family_status_id</th>\n",
       "      <th>gender</th>\n",
       "      <th>income_type</th>\n",
       "      <th>debt</th>\n",
       "      <th>total_income</th>\n",
       "      <th>purpose</th>\n",
       "    </tr>\n",
       "  </thead>\n",
       "  <tbody>\n",
       "    <tr>\n",
       "      <td>0</td>\n",
       "      <td>1</td>\n",
       "      <td>-8437.673028</td>\n",
       "      <td>42</td>\n",
       "      <td>bachelor's degree</td>\n",
       "      <td>0</td>\n",
       "      <td>married</td>\n",
       "      <td>0</td>\n",
       "      <td>F</td>\n",
       "      <td>employee</td>\n",
       "      <td>0</td>\n",
       "      <td>40620.102</td>\n",
       "      <td>purchase of the house</td>\n",
       "    </tr>\n",
       "    <tr>\n",
       "      <td>1</td>\n",
       "      <td>1</td>\n",
       "      <td>-4024.803754</td>\n",
       "      <td>36</td>\n",
       "      <td>secondary education</td>\n",
       "      <td>1</td>\n",
       "      <td>married</td>\n",
       "      <td>0</td>\n",
       "      <td>F</td>\n",
       "      <td>employee</td>\n",
       "      <td>0</td>\n",
       "      <td>17932.802</td>\n",
       "      <td>car purchase</td>\n",
       "    </tr>\n",
       "    <tr>\n",
       "      <td>2</td>\n",
       "      <td>0</td>\n",
       "      <td>-5623.422610</td>\n",
       "      <td>33</td>\n",
       "      <td>Secondary Education</td>\n",
       "      <td>1</td>\n",
       "      <td>married</td>\n",
       "      <td>0</td>\n",
       "      <td>M</td>\n",
       "      <td>employee</td>\n",
       "      <td>0</td>\n",
       "      <td>23341.752</td>\n",
       "      <td>purchase of the house</td>\n",
       "    </tr>\n",
       "    <tr>\n",
       "      <td>3</td>\n",
       "      <td>3</td>\n",
       "      <td>-4124.747207</td>\n",
       "      <td>32</td>\n",
       "      <td>secondary education</td>\n",
       "      <td>1</td>\n",
       "      <td>married</td>\n",
       "      <td>0</td>\n",
       "      <td>M</td>\n",
       "      <td>employee</td>\n",
       "      <td>0</td>\n",
       "      <td>42820.568</td>\n",
       "      <td>supplementary education</td>\n",
       "    </tr>\n",
       "    <tr>\n",
       "      <td>4</td>\n",
       "      <td>0</td>\n",
       "      <td>340266.072047</td>\n",
       "      <td>53</td>\n",
       "      <td>secondary education</td>\n",
       "      <td>1</td>\n",
       "      <td>civil partnership</td>\n",
       "      <td>1</td>\n",
       "      <td>F</td>\n",
       "      <td>retiree</td>\n",
       "      <td>0</td>\n",
       "      <td>25378.572</td>\n",
       "      <td>to have a wedding</td>\n",
       "    </tr>\n",
       "    <tr>\n",
       "      <td>5</td>\n",
       "      <td>0</td>\n",
       "      <td>-926.185831</td>\n",
       "      <td>27</td>\n",
       "      <td>bachelor's degree</td>\n",
       "      <td>0</td>\n",
       "      <td>civil partnership</td>\n",
       "      <td>1</td>\n",
       "      <td>M</td>\n",
       "      <td>business</td>\n",
       "      <td>0</td>\n",
       "      <td>40922.170</td>\n",
       "      <td>purchase of the house</td>\n",
       "    </tr>\n",
       "    <tr>\n",
       "      <td>6</td>\n",
       "      <td>0</td>\n",
       "      <td>-2879.202052</td>\n",
       "      <td>43</td>\n",
       "      <td>bachelor's degree</td>\n",
       "      <td>0</td>\n",
       "      <td>married</td>\n",
       "      <td>0</td>\n",
       "      <td>F</td>\n",
       "      <td>business</td>\n",
       "      <td>0</td>\n",
       "      <td>38484.156</td>\n",
       "      <td>housing transactions</td>\n",
       "    </tr>\n",
       "    <tr>\n",
       "      <td>7</td>\n",
       "      <td>0</td>\n",
       "      <td>-152.779569</td>\n",
       "      <td>50</td>\n",
       "      <td>SECONDARY EDUCATION</td>\n",
       "      <td>1</td>\n",
       "      <td>married</td>\n",
       "      <td>0</td>\n",
       "      <td>M</td>\n",
       "      <td>employee</td>\n",
       "      <td>0</td>\n",
       "      <td>21731.829</td>\n",
       "      <td>education</td>\n",
       "    </tr>\n",
       "    <tr>\n",
       "      <td>8</td>\n",
       "      <td>2</td>\n",
       "      <td>-6929.865299</td>\n",
       "      <td>35</td>\n",
       "      <td>BACHELOR'S DEGREE</td>\n",
       "      <td>0</td>\n",
       "      <td>civil partnership</td>\n",
       "      <td>1</td>\n",
       "      <td>F</td>\n",
       "      <td>employee</td>\n",
       "      <td>0</td>\n",
       "      <td>15337.093</td>\n",
       "      <td>having a wedding</td>\n",
       "    </tr>\n",
       "    <tr>\n",
       "      <td>9</td>\n",
       "      <td>0</td>\n",
       "      <td>-2188.756445</td>\n",
       "      <td>41</td>\n",
       "      <td>secondary education</td>\n",
       "      <td>1</td>\n",
       "      <td>married</td>\n",
       "      <td>0</td>\n",
       "      <td>M</td>\n",
       "      <td>employee</td>\n",
       "      <td>0</td>\n",
       "      <td>23108.150</td>\n",
       "      <td>purchase of the house for my family</td>\n",
       "    </tr>\n",
       "    <tr>\n",
       "      <td>10</td>\n",
       "      <td>2</td>\n",
       "      <td>-4171.483647</td>\n",
       "      <td>36</td>\n",
       "      <td>bachelor's degree</td>\n",
       "      <td>0</td>\n",
       "      <td>married</td>\n",
       "      <td>0</td>\n",
       "      <td>M</td>\n",
       "      <td>business</td>\n",
       "      <td>0</td>\n",
       "      <td>18230.959</td>\n",
       "      <td>buy real estate</td>\n",
       "    </tr>\n",
       "    <tr>\n",
       "      <td>11</td>\n",
       "      <td>0</td>\n",
       "      <td>-792.701887</td>\n",
       "      <td>40</td>\n",
       "      <td>secondary education</td>\n",
       "      <td>1</td>\n",
       "      <td>married</td>\n",
       "      <td>0</td>\n",
       "      <td>F</td>\n",
       "      <td>employee</td>\n",
       "      <td>0</td>\n",
       "      <td>12331.077</td>\n",
       "      <td>buy commercial real estate</td>\n",
       "    </tr>\n",
       "    <tr>\n",
       "      <td>12</td>\n",
       "      <td>0</td>\n",
       "      <td>NaN</td>\n",
       "      <td>65</td>\n",
       "      <td>secondary education</td>\n",
       "      <td>1</td>\n",
       "      <td>civil partnership</td>\n",
       "      <td>1</td>\n",
       "      <td>M</td>\n",
       "      <td>retiree</td>\n",
       "      <td>0</td>\n",
       "      <td>NaN</td>\n",
       "      <td>to have a wedding</td>\n",
       "    </tr>\n",
       "    <tr>\n",
       "      <td>13</td>\n",
       "      <td>0</td>\n",
       "      <td>-1846.641941</td>\n",
       "      <td>54</td>\n",
       "      <td>some college</td>\n",
       "      <td>2</td>\n",
       "      <td>married</td>\n",
       "      <td>0</td>\n",
       "      <td>F</td>\n",
       "      <td>employee</td>\n",
       "      <td>0</td>\n",
       "      <td>20873.317</td>\n",
       "      <td>car purchase</td>\n",
       "    </tr>\n",
       "    <tr>\n",
       "      <td>14</td>\n",
       "      <td>0</td>\n",
       "      <td>-1844.956182</td>\n",
       "      <td>56</td>\n",
       "      <td>bachelor's degree</td>\n",
       "      <td>0</td>\n",
       "      <td>civil partnership</td>\n",
       "      <td>1</td>\n",
       "      <td>F</td>\n",
       "      <td>business</td>\n",
       "      <td>1</td>\n",
       "      <td>26420.466</td>\n",
       "      <td>buy residential real estate</td>\n",
       "    </tr>\n",
       "  </tbody>\n",
       "</table>\n",
       "</div>"
      ],
      "text/plain": [
       "    children  days_employed  dob_years            education  education_id  \\\n",
       "0          1   -8437.673028         42    bachelor's degree             0   \n",
       "1          1   -4024.803754         36  secondary education             1   \n",
       "2          0   -5623.422610         33  Secondary Education             1   \n",
       "3          3   -4124.747207         32  secondary education             1   \n",
       "4          0  340266.072047         53  secondary education             1   \n",
       "5          0    -926.185831         27    bachelor's degree             0   \n",
       "6          0   -2879.202052         43    bachelor's degree             0   \n",
       "7          0    -152.779569         50  SECONDARY EDUCATION             1   \n",
       "8          2   -6929.865299         35    BACHELOR'S DEGREE             0   \n",
       "9          0   -2188.756445         41  secondary education             1   \n",
       "10         2   -4171.483647         36    bachelor's degree             0   \n",
       "11         0    -792.701887         40  secondary education             1   \n",
       "12         0            NaN         65  secondary education             1   \n",
       "13         0   -1846.641941         54         some college             2   \n",
       "14         0   -1844.956182         56    bachelor's degree             0   \n",
       "\n",
       "        family_status  family_status_id gender income_type  debt  \\\n",
       "0             married                 0      F    employee     0   \n",
       "1             married                 0      F    employee     0   \n",
       "2             married                 0      M    employee     0   \n",
       "3             married                 0      M    employee     0   \n",
       "4   civil partnership                 1      F     retiree     0   \n",
       "5   civil partnership                 1      M    business     0   \n",
       "6             married                 0      F    business     0   \n",
       "7             married                 0      M    employee     0   \n",
       "8   civil partnership                 1      F    employee     0   \n",
       "9             married                 0      M    employee     0   \n",
       "10            married                 0      M    business     0   \n",
       "11            married                 0      F    employee     0   \n",
       "12  civil partnership                 1      M     retiree     0   \n",
       "13            married                 0      F    employee     0   \n",
       "14  civil partnership                 1      F    business     1   \n",
       "\n",
       "    total_income                              purpose  \n",
       "0      40620.102                purchase of the house  \n",
       "1      17932.802                         car purchase  \n",
       "2      23341.752                purchase of the house  \n",
       "3      42820.568              supplementary education  \n",
       "4      25378.572                    to have a wedding  \n",
       "5      40922.170                purchase of the house  \n",
       "6      38484.156                 housing transactions  \n",
       "7      21731.829                            education  \n",
       "8      15337.093                     having a wedding  \n",
       "9      23108.150  purchase of the house for my family  \n",
       "10     18230.959                      buy real estate  \n",
       "11     12331.077           buy commercial real estate  \n",
       "12           NaN                    to have a wedding  \n",
       "13     20873.317                         car purchase  \n",
       "14     26420.466          buy residential real estate  "
      ]
     },
     "execution_count": 3,
     "metadata": {},
     "output_type": "execute_result"
    }
   ],
   "source": [
    "# Let's print the first 15 rows\n",
    "data.head(15)\n"
   ]
  },
  {
   "cell_type": "markdown",
   "metadata": {},
   "source": [
    "\n",
    "As can be seen by the `Nan` values in the table, there is missing data that will have to be looked at further. There are values in the `'days_employed'` column that are negative float values with up to 6 digits after the decimal. The negative aspect of the values may pose an issue later on with arithmetic operations depending on what is required, and the concept of negative days worked doesn't make logical sense. Additionally, the values in `'days_employd'` are more suited to be integers rather than real numbers. In the `'education'` column, some strings are in all capital letters, some strings have the first letter in each word capitalized, and some other strings are in all lowercase letters. From what I can deduce for values in the `'education_id'` column, **0** corresponds to a bachelor's degree, a **1** corresponds to secondary education, and **2** corresponds to some college. In the `'family_status_id'` column, a **0** corresponds to married, and a **1** corresponds to a civil partnership. In the `'debt'` column I do not know if a **0** or **1** corresponds to having current debt on loan repayment. The values in the `'total_income'` column have digits in the thousandths place (3 digits after the decimal point), which is unecessary. Otherwise, this snapshot of the data does not show any duplicates, and calling the `info()` method shows that the data types are what you would expect them to be for each column. See the code block below that calls the `info()` method on the dataset.\n"
   ]
  },
  {
   "cell_type": "code",
   "execution_count": 4,
   "metadata": {
    "scrolled": false
   },
   "outputs": [
    {
     "name": "stdout",
     "output_type": "stream",
     "text": [
      "<class 'pandas.core.frame.DataFrame'>\n",
      "RangeIndex: 21525 entries, 0 to 21524\n",
      "Data columns (total 12 columns):\n",
      "children            21525 non-null int64\n",
      "days_employed       19351 non-null float64\n",
      "dob_years           21525 non-null int64\n",
      "education           21525 non-null object\n",
      "education_id        21525 non-null int64\n",
      "family_status       21525 non-null object\n",
      "family_status_id    21525 non-null int64\n",
      "gender              21525 non-null object\n",
      "income_type         21525 non-null object\n",
      "debt                21525 non-null int64\n",
      "total_income        19351 non-null float64\n",
      "purpose             21525 non-null object\n",
      "dtypes: float64(2), int64(5), object(5)\n",
      "memory usage: 2.0+ MB\n"
     ]
    }
   ],
   "source": [
    "# Get info on data\n",
    "data.info()\n"
   ]
  },
  {
   "cell_type": "markdown",
   "metadata": {},
   "source": [
    "In the majority of columns there are **21525** rows of data, which is equivalent to the number of rows in the entire dataset. Thus, for the columns with **21525** non-null values there are no missing data values of `NaN` or `None`. Seeing as the columns `'days_employed'` and `'total_income'` only have **19351** non-null values, there must be missing data in both those columns. After reviewing the documentation of the values contained in both columns, I suspect that the missing data is due to the customers being unemployed and not being able to report their income or the number of days they've been employed."
   ]
  },
  {
   "cell_type": "code",
   "execution_count": 5,
   "metadata": {
    "scrolled": true
   },
   "outputs": [
    {
     "data": {
      "text/html": [
       "<div>\n",
       "<style scoped>\n",
       "    .dataframe tbody tr th:only-of-type {\n",
       "        vertical-align: middle;\n",
       "    }\n",
       "\n",
       "    .dataframe tbody tr th {\n",
       "        vertical-align: top;\n",
       "    }\n",
       "\n",
       "    .dataframe thead th {\n",
       "        text-align: right;\n",
       "    }\n",
       "</style>\n",
       "<table border=\"1\" class=\"dataframe\">\n",
       "  <thead>\n",
       "    <tr style=\"text-align: right;\">\n",
       "      <th></th>\n",
       "      <th>children</th>\n",
       "      <th>days_employed</th>\n",
       "      <th>dob_years</th>\n",
       "      <th>education</th>\n",
       "      <th>education_id</th>\n",
       "      <th>family_status</th>\n",
       "      <th>family_status_id</th>\n",
       "      <th>gender</th>\n",
       "      <th>income_type</th>\n",
       "      <th>debt</th>\n",
       "      <th>total_income</th>\n",
       "      <th>purpose</th>\n",
       "    </tr>\n",
       "  </thead>\n",
       "  <tbody>\n",
       "    <tr>\n",
       "      <td>0</td>\n",
       "      <td>0</td>\n",
       "      <td>NaN</td>\n",
       "      <td>65</td>\n",
       "      <td>secondary education</td>\n",
       "      <td>1</td>\n",
       "      <td>civil partnership</td>\n",
       "      <td>1</td>\n",
       "      <td>M</td>\n",
       "      <td>retiree</td>\n",
       "      <td>0</td>\n",
       "      <td>NaN</td>\n",
       "      <td>to have a wedding</td>\n",
       "    </tr>\n",
       "    <tr>\n",
       "      <td>1</td>\n",
       "      <td>0</td>\n",
       "      <td>NaN</td>\n",
       "      <td>41</td>\n",
       "      <td>secondary education</td>\n",
       "      <td>1</td>\n",
       "      <td>married</td>\n",
       "      <td>0</td>\n",
       "      <td>M</td>\n",
       "      <td>civil servant</td>\n",
       "      <td>0</td>\n",
       "      <td>NaN</td>\n",
       "      <td>education</td>\n",
       "    </tr>\n",
       "    <tr>\n",
       "      <td>2</td>\n",
       "      <td>0</td>\n",
       "      <td>NaN</td>\n",
       "      <td>63</td>\n",
       "      <td>secondary education</td>\n",
       "      <td>1</td>\n",
       "      <td>unmarried</td>\n",
       "      <td>4</td>\n",
       "      <td>F</td>\n",
       "      <td>retiree</td>\n",
       "      <td>0</td>\n",
       "      <td>NaN</td>\n",
       "      <td>building a real estate</td>\n",
       "    </tr>\n",
       "    <tr>\n",
       "      <td>3</td>\n",
       "      <td>0</td>\n",
       "      <td>NaN</td>\n",
       "      <td>50</td>\n",
       "      <td>secondary education</td>\n",
       "      <td>1</td>\n",
       "      <td>married</td>\n",
       "      <td>0</td>\n",
       "      <td>F</td>\n",
       "      <td>civil servant</td>\n",
       "      <td>0</td>\n",
       "      <td>NaN</td>\n",
       "      <td>second-hand car purchase</td>\n",
       "    </tr>\n",
       "    <tr>\n",
       "      <td>4</td>\n",
       "      <td>0</td>\n",
       "      <td>NaN</td>\n",
       "      <td>54</td>\n",
       "      <td>secondary education</td>\n",
       "      <td>1</td>\n",
       "      <td>civil partnership</td>\n",
       "      <td>1</td>\n",
       "      <td>F</td>\n",
       "      <td>retiree</td>\n",
       "      <td>1</td>\n",
       "      <td>NaN</td>\n",
       "      <td>to have a wedding</td>\n",
       "    </tr>\n",
       "    <tr>\n",
       "      <td>...</td>\n",
       "      <td>...</td>\n",
       "      <td>...</td>\n",
       "      <td>...</td>\n",
       "      <td>...</td>\n",
       "      <td>...</td>\n",
       "      <td>...</td>\n",
       "      <td>...</td>\n",
       "      <td>...</td>\n",
       "      <td>...</td>\n",
       "      <td>...</td>\n",
       "      <td>...</td>\n",
       "      <td>...</td>\n",
       "    </tr>\n",
       "    <tr>\n",
       "      <td>2169</td>\n",
       "      <td>2</td>\n",
       "      <td>NaN</td>\n",
       "      <td>47</td>\n",
       "      <td>Secondary Education</td>\n",
       "      <td>1</td>\n",
       "      <td>married</td>\n",
       "      <td>0</td>\n",
       "      <td>M</td>\n",
       "      <td>business</td>\n",
       "      <td>0</td>\n",
       "      <td>NaN</td>\n",
       "      <td>purchase of a car</td>\n",
       "    </tr>\n",
       "    <tr>\n",
       "      <td>2170</td>\n",
       "      <td>1</td>\n",
       "      <td>NaN</td>\n",
       "      <td>50</td>\n",
       "      <td>secondary education</td>\n",
       "      <td>1</td>\n",
       "      <td>civil partnership</td>\n",
       "      <td>1</td>\n",
       "      <td>F</td>\n",
       "      <td>employee</td>\n",
       "      <td>0</td>\n",
       "      <td>NaN</td>\n",
       "      <td>wedding ceremony</td>\n",
       "    </tr>\n",
       "    <tr>\n",
       "      <td>2171</td>\n",
       "      <td>0</td>\n",
       "      <td>NaN</td>\n",
       "      <td>48</td>\n",
       "      <td>BACHELOR'S DEGREE</td>\n",
       "      <td>0</td>\n",
       "      <td>married</td>\n",
       "      <td>0</td>\n",
       "      <td>F</td>\n",
       "      <td>business</td>\n",
       "      <td>0</td>\n",
       "      <td>NaN</td>\n",
       "      <td>building a property</td>\n",
       "    </tr>\n",
       "    <tr>\n",
       "      <td>2172</td>\n",
       "      <td>1</td>\n",
       "      <td>NaN</td>\n",
       "      <td>42</td>\n",
       "      <td>secondary education</td>\n",
       "      <td>1</td>\n",
       "      <td>married</td>\n",
       "      <td>0</td>\n",
       "      <td>F</td>\n",
       "      <td>employee</td>\n",
       "      <td>0</td>\n",
       "      <td>NaN</td>\n",
       "      <td>building a real estate</td>\n",
       "    </tr>\n",
       "    <tr>\n",
       "      <td>2173</td>\n",
       "      <td>2</td>\n",
       "      <td>NaN</td>\n",
       "      <td>28</td>\n",
       "      <td>secondary education</td>\n",
       "      <td>1</td>\n",
       "      <td>married</td>\n",
       "      <td>0</td>\n",
       "      <td>F</td>\n",
       "      <td>employee</td>\n",
       "      <td>0</td>\n",
       "      <td>NaN</td>\n",
       "      <td>car purchase</td>\n",
       "    </tr>\n",
       "  </tbody>\n",
       "</table>\n",
       "<p>2174 rows × 12 columns</p>\n",
       "</div>"
      ],
      "text/plain": [
       "      children  days_employed  dob_years            education  education_id  \\\n",
       "0            0            NaN         65  secondary education             1   \n",
       "1            0            NaN         41  secondary education             1   \n",
       "2            0            NaN         63  secondary education             1   \n",
       "3            0            NaN         50  secondary education             1   \n",
       "4            0            NaN         54  secondary education             1   \n",
       "...        ...            ...        ...                  ...           ...   \n",
       "2169         2            NaN         47  Secondary Education             1   \n",
       "2170         1            NaN         50  secondary education             1   \n",
       "2171         0            NaN         48    BACHELOR'S DEGREE             0   \n",
       "2172         1            NaN         42  secondary education             1   \n",
       "2173         2            NaN         28  secondary education             1   \n",
       "\n",
       "          family_status  family_status_id gender    income_type  debt  \\\n",
       "0     civil partnership                 1      M        retiree     0   \n",
       "1               married                 0      M  civil servant     0   \n",
       "2             unmarried                 4      F        retiree     0   \n",
       "3               married                 0      F  civil servant     0   \n",
       "4     civil partnership                 1      F        retiree     1   \n",
       "...                 ...               ...    ...            ...   ...   \n",
       "2169            married                 0      M       business     0   \n",
       "2170  civil partnership                 1      F       employee     0   \n",
       "2171            married                 0      F       business     0   \n",
       "2172            married                 0      F       employee     0   \n",
       "2173            married                 0      F       employee     0   \n",
       "\n",
       "      total_income                   purpose  \n",
       "0              NaN         to have a wedding  \n",
       "1              NaN                 education  \n",
       "2              NaN    building a real estate  \n",
       "3              NaN  second-hand car purchase  \n",
       "4              NaN         to have a wedding  \n",
       "...            ...                       ...  \n",
       "2169           NaN         purchase of a car  \n",
       "2170           NaN          wedding ceremony  \n",
       "2171           NaN       building a property  \n",
       "2172           NaN    building a real estate  \n",
       "2173           NaN              car purchase  \n",
       "\n",
       "[2174 rows x 12 columns]"
      ]
     },
     "execution_count": 5,
     "metadata": {},
     "output_type": "execute_result"
    }
   ],
   "source": [
    "# Print a table of rows that contain missing values in the first column where missing values appear,\n",
    "# which would be the 'days_employed' column\n",
    "\n",
    "data[data['days_employed'].isna()].reset_index(drop=True)\n",
    "\n",
    "# The above code returns a DataFrame of the rows that contain Null values in the 'days_employed' column.\n",
    "# Additionally, I've reset the index of the DataFrame and dropped the old index."
   ]
  },
  {
   "cell_type": "markdown",
   "metadata": {},
   "source": [
    "\n",
    "Review of the table returned by the above code shows that each row that has a missing value in the `'days_employed'` column also has a missing value in the `'total_income'` column. The missing data appears to be symmetric between the `'days_employed'` column and the `'total_income'` column. Thus, there is a high liklihood of a correlation between the missing values for the number of days employed reported and the missing values for the total income reported. \n",
    "\n",
    "The below code prints the number of missing values in either column to confirm that the total missing values in each column are equivalent. The code also prints the total number of rows in the filtered dataset so that it can be confirmed that each row contains two missing values, not just one."
   ]
  },
  {
   "cell_type": "code",
   "execution_count": 6,
   "metadata": {},
   "outputs": [
    {
     "name": "stdout",
     "output_type": "stream",
     "text": [
      "Number of missing values in the 'days_employed' column: 2174\n",
      "Number of missing values in the 'total_income' column: 2174\n",
      "Number of rows in the filtered dataset: 2174\n"
     ]
    }
   ],
   "source": [
    "# Filter the data to return all rows that contain at least 1 missing value.\n",
    "# The rows with missing data are 'days_employed' and 'total_income'\n",
    "# Count the total number of missing values in each row to ensure they are equal.\n",
    "\n",
    "filtered_data = data[(data['days_employed'].isna()) | (data['total_income'].isna())]\n",
    "print(f'Number of missing values in the \\'days_employed\\' column: {filtered_data[\"days_employed\"].isna().count()}')\n",
    "print(f'Number of missing values in the \\'total_income\\' column: {filtered_data[\"total_income\"].isna().count()}')\n",
    "print(f'Number of rows in the filtered dataset: {len(filtered_data)}')\n"
   ]
  },
  {
   "cell_type": "markdown",
   "metadata": {},
   "source": [
    "**Intermediate conclusion**\n",
    "\n",
    "My initial hypothesis as to why the total number of missing values in either column were equivalent was because the cusotmers are unemployed. However, it can clearly be seen in the preview of the returned dataset that the `'income_type'` column contains values that signal that the customers are salaried employees. `'civil servant'`, `'business'`, and `'employee'` are usually salaried positions with fixed incomes. So, my hypothesis about the customers with missing data being unemployed is incorrect, and no longer needs to be pursued.\n",
    "\n",
    "New hypotheses are as follows:\n",
    "\n",
    "- The customers haven't begun their jobs or started their businesses yet\n",
    "- The customers didn't want to report their income or days employed, or they didn't know the correct amounts\n",
    "\n",
    "It is possible that **2174** applicants out of **21525** applicants (roughly **10%**) have not yet begun their job or businesse. Maybe their lack of current income is exactly why they are applying for a loan. However, it is also likely that the applicants with missing data just didn't feel comfortable reporting their income or number of days employed. Some people are very considerate about what they disclose to the public. It's also possible that the applicants couldn't recall their salary or employment history from memory, and thus couldn't report the data without having that information accessible to them. A combination of the above hypotheses could also account for all of the missing values.\n",
    "\n",
    "In the below code I calculated the percentage of data that is missing; first in respect to the respective columns, and then in respect to the dataset as whole. The percentage of missing data in either column came out to be approximately **10.10%**, which is a significant amount and will need to be addressed.\n"
   ]
  },
  {
   "cell_type": "markdown",
   "metadata": {},
   "source": [
    "<div class=\"alert alert-block alert-success\">\n",
    "<b>Reviewer's comment v1</b> Your thoughts are correct"
   ]
  },
  {
   "cell_type": "code",
   "execution_count": 7,
   "metadata": {},
   "outputs": [
    {
     "name": "stdout",
     "output_type": "stream",
     "text": [
      "Number of rows in the dataset: 21525\n",
      "Number of missing values per column: 2174\n",
      "Percentage of missing values in either column: 10.10%\n",
      "\n",
      "Total number of missing values in the dataset: 4348\n",
      "Total number of values in the dataset: 258300\n",
      "Total percentage of missing values compared to the whole dataset: 1.68%\n"
     ]
    }
   ],
   "source": [
    "# Calculating the percentage of missing values in regards to the number of entries in their columns.\n",
    "# print(f'Percentage of missing values in either column: {len(filtered_data)/len(data):.2%}')\n",
    "\n",
    "# Try calculating the percentage of missing values with value_counts():\n",
    "print(f'Number of rows in the dataset: {len(data)}')\n",
    "print(f'Number of missing values per column: {data[\"days_employed\"].isna().sum()}')\n",
    "print(f'Percentage of missing values in either column: {data[\"days_employed\"].isna().value_counts(dropna=False)[True] / len(data):.2%}')\n",
    "\n",
    "print()\n",
    "# Try calculating the percentage of all missing values in the entire data set:\n",
    "total_missing_values = data.isna().sum().sum()\n",
    "total_values_in_dataset = data.shape[0] * data.shape[1]\n",
    "\n",
    "print(f'Total number of missing values in the dataset: {total_missing_values}')\n",
    "print(f'Total number of values in the dataset: {total_values_in_dataset}')\n",
    "print(f'Total percentage of missing values compared to the whole dataset: {(total_missing_values / total_values_in_dataset):.2%}')"
   ]
  },
  {
   "cell_type": "markdown",
   "metadata": {},
   "source": [
    "Considering that the missing data values make up approximatley **10.10%** of the data in either column, it would be negligent and unprofessional to simply remove all the rows that contain missing values. Removing the rows could significantly affect the accuracy of the conclusions and severely skew the results. The only plausible course of action to rectify this issue is to try and determine why the missing values are present in the data, and then search for a way to enter reasonable data for each row based on that other characteristics of each customer. The goal is to obtain values that replace the missing data and won't serverly skew the results.\n",
    "\n",
    "I will begin searching for a pattern between customers with missing data and other characteristics that are shared by all. After looking at which columns in the dataset could potentially have an effect on the customer not reporting their total income or days employed, I decided to look at the type of job the applicants hold and their age. \n",
    "\n",
    "The below code will apply the `value_counts()` method to the `'income_type'` column of the filtered dataset (dataset of applicants with missing values), and print the number of instances of each specific value. The output will give a good idea of which kinds of income types account for the customers without reported income or days employed."
   ]
  },
  {
   "cell_type": "code",
   "execution_count": 125,
   "metadata": {},
   "outputs": [
    {
     "data": {
      "text/plain": [
       "employee         1105\n",
       "business          508\n",
       "retiree           413\n",
       "civil servant     147\n",
       "entrepreneur        1\n",
       "Name: income_type, dtype: int64"
      ]
     },
     "execution_count": 125,
     "metadata": {},
     "output_type": "execute_result"
    }
   ],
   "source": [
    "# Let's investigate clients who do have data on identified characteristic and the column with the missing values\n",
    "# Chosen characteristic is income type\n",
    "\n",
    "filtered_data['income_type'].value_counts()"
   ]
  },
  {
   "cell_type": "markdown",
   "metadata": {},
   "source": [
    "Let's look at the distribution over the entire dataset and see how they compare."
   ]
  },
  {
   "cell_type": "code",
   "execution_count": 124,
   "metadata": {},
   "outputs": [
    {
     "data": {
      "text/plain": [
       "employee                       10961\n",
       "business                        5026\n",
       "retiree                         3792\n",
       "civil servant                   1445\n",
       "unemployed                         2\n",
       "entrepreneur                       2\n",
       "student                            1\n",
       "paternity / maternity leave        1\n",
       "Name: income_type, dtype: int64"
      ]
     },
     "execution_count": 124,
     "metadata": {},
     "output_type": "execute_result"
    }
   ],
   "source": [
    "data['income_type'].value_counts()"
   ]
  },
  {
   "cell_type": "markdown",
   "metadata": {},
   "source": [
    "As can be seen, the distribution of income types in the filtered data is on par with the distribution of income types across the entire dataset.\n",
    "\n",
    "Customers who earn an income as an employee account for **1105** rows with missing data. Customers who run a business account for **508** rows with missing data. Retirees account for **413** rows with missing data. Civil servants account for **147** rows with missing data. Lastly, entrepreneurs account for only **1** row with missing data.\n",
    "\n",
    "As can be seen, missing values appear in rows across 5 income types. A large majority of the missing values belong to customers with either `'employee'`, `'business'`, or `'retiree'` income types, with a lesser amount belonging to customers with `'civil servant'` income types. Because the rows with missing values are distributed across multiple income types with no obvious relation to each other, I cannot conclude that there is pattern between the missing values and the income type of a customer.\n",
    "\n",
    "Since I could not determine that there was a pattern involving the income type of a customer and the reasoning for missing values in the `'days_employed'` and `'total_income'` columns, I will look at the filtered dataset as it relates to the age of the customers. \n",
    "\n",
    "The below code applies the `value_counts()` method to the `'dob_years'` column of the filtered dataset. The `'dob_years'` column contains the age of the customers as an integer datatype."
   ]
  },
  {
   "cell_type": "markdown",
   "metadata": {},
   "source": [
    "<div class=\"alert alert-block alert-success\">\n",
    "<b>Reviewer's comment v1</b> Well done"
   ]
  },
  {
   "cell_type": "code",
   "execution_count": 9,
   "metadata": {},
   "outputs": [
    {
     "data": {
      "text/plain": [
       "34    69\n",
       "40    66\n",
       "42    65\n",
       "31    65\n",
       "35    64\n",
       "36    63\n",
       "47    59\n",
       "41    59\n",
       "30    58\n",
       "28    57\n",
       "58    56\n",
       "57    56\n",
       "54    55\n",
       "56    54\n",
       "38    54\n",
       "52    53\n",
       "37    53\n",
       "33    51\n",
       "50    51\n",
       "39    51\n",
       "29    50\n",
       "43    50\n",
       "49    50\n",
       "51    50\n",
       "45    50\n",
       "46    48\n",
       "55    48\n",
       "48    46\n",
       "44    44\n",
       "53    44\n",
       "60    39\n",
       "62    38\n",
       "61    38\n",
       "64    37\n",
       "32    37\n",
       "23    36\n",
       "27    36\n",
       "26    35\n",
       "59    34\n",
       "63    29\n",
       "25    23\n",
       "24    21\n",
       "66    20\n",
       "65    20\n",
       "21    18\n",
       "22    17\n",
       "67    16\n",
       "0     10\n",
       "68     9\n",
       "71     5\n",
       "20     5\n",
       "69     5\n",
       "70     3\n",
       "72     2\n",
       "19     1\n",
       "73     1\n",
       "Name: dob_years, dtype: int64"
      ]
     },
     "execution_count": 9,
     "metadata": {},
     "output_type": "execute_result"
    }
   ],
   "source": [
    "# Let's investigate clients who do have data on identified characteristic and the column with the missing values\n",
    "# Chosen characteristic is age\n",
    "\n",
    "filtered_data['dob_years'].sort_values().value_counts()"
   ]
  },
  {
   "cell_type": "markdown",
   "metadata": {},
   "source": [
    "Rows with missing values seem to appear at an equivalent frequency across all ages, except for very young (19-22) or very old (65+) customers. There does not seem to be a pattern between the customers with missing data and their ages. \n",
    "\n",
    "**Conclusions**\n",
    "\n",
    "Because there was no pattern correlating either the customers' age or income type with why there is missing data, I must accept that the missing values amongst the customers is random. It's quite a coincidence that for every missing value in either the `'days_employed'` column or the `'total_income'` column that there is also a missing value in the other column, as well. Looking at how the number of missing values is equal in either column indicates that the missind data is the result of a technical error, and not user error. Regardless, while I will move forward with curating and transforming the data in the next section, I will treat the missing data values in both columns as random incidents where information was not entered or not recorded.\n",
    "\n",
    "When moving onto transforming the current dataset to one with fully usable data, I will keep in mind that the missing data was accidental and in no way correlates to any other characteristic of the applicants. Since I was not able to find any patterns between the missing values and any other characteristics, I plan to determine which values need to be replaced, and which can be discarded, if any. For the values that need to be replaced, which at this point in time I assume are the missing values in the `'days_employed'` and `'total_income'` columns, I calculate the respective values for each column as determined by each rows particular characteristics. For the `'days_employed'` column, I expect to used each applicants age and/or education to determine the number of days they've been employed. For the `'total_income'` column I expect to utilize each applicant's income type, age, and/or education to calculate an accurate mean or median income value to replace the missing values with.\n",
    "\n",
    "For the retirees, all the rows should have their missing values changed to the medians, except for any outliers.  There is a 24-year-old that is claiming to be a retiree.  Honestly, that row should just be removed, as it is an outlier and probably not condusive to this report.\n",
    "\n",
    "- go down each column of the dataset to view the data values\n",
    "- check for duplicates\n",
    "- dheck for implicit duplicates / registers\n",
    "- incorrect values that don't make any sense\n"
   ]
  },
  {
   "cell_type": "markdown",
   "metadata": {},
   "source": [
    "## Data transformation\n",
    "\n",
    "In this seciton, each column in the provided dataset will be examined for any questionable or incorrect data. We already know which columns contain missing data values, so now I will be looking for implicit duplicates and incorrect values that don't make logical sense within their respective columns. At the end, I will check for obvious duplicate rows within the entire dataset. Transforming the the data will be done by reviewing each column individually and adjusting data values as needed on a case by case basis.\n"
   ]
  },
  {
   "cell_type": "markdown",
   "metadata": {},
   "source": [
    "### Looking through the values in each column of the dataset"
   ]
  },
  {
   "cell_type": "markdown",
   "metadata": {},
   "source": [
    "We will begin with examining the `'education'` column, as shown below."
   ]
  },
  {
   "cell_type": "markdown",
   "metadata": {},
   "source": [
    "#### Examining the `'education'` column"
   ]
  },
  {
   "cell_type": "code",
   "execution_count": 10,
   "metadata": {},
   "outputs": [
    {
     "data": {
      "text/plain": [
       "array([\"BACHELOR'S DEGREE\", \"Bachelor's Degree\", 'GRADUATE DEGREE',\n",
       "       'Graduate Degree', 'PRIMARY EDUCATION', 'Primary Education',\n",
       "       'SECONDARY EDUCATION', 'SOME COLLEGE', 'Secondary Education',\n",
       "       'Some College', \"bachelor's degree\", 'graduate degree',\n",
       "       'primary education', 'secondary education', 'some college'],\n",
       "      dtype=object)"
      ]
     },
     "execution_count": 10,
     "metadata": {},
     "output_type": "execute_result"
    }
   ],
   "source": [
    "# Let's see all values in education column to check if and what spellings will need to be fixed\n",
    "data['education'].sort_values().unique()"
   ]
  },
  {
   "cell_type": "markdown",
   "metadata": {},
   "source": [
    "From the printed list of unique values contained in the `'education'` column, there are a total of **15** unique values, however some are implicit duplicates. Of the **15** unique values in the `'education column'`, there are only **5** actual unique values, but each value appears in **3** different variations in the column. Python identifies each different variation of the **5** actual values as a unique value.\n",
    "\n",
    "Actual unique values:\n",
    "- bachelor's degree\n",
    "- graduate degree\n",
    "- primary education\n",
    "- secondary education\n",
    "- some college\n",
    "\n",
    "It will be necessary to select a standardized and uniform way of formatting each of the **5** actual unique values, and then replace all other variations with that standard formatting.\n",
    "\n",
    "The code below uses the `replace()` method to replace the incorrect variations of each actual unique value in the `'educaton'` column with the correct and standard formatted variation. It is common practice to format all string values in all lowercase letters, which is what will be done for these values in the `'education'` column.\n"
   ]
  },
  {
   "cell_type": "code",
   "execution_count": 11,
   "metadata": {
    "scrolled": true
   },
   "outputs": [],
   "source": [
    "# Fix the registers if required\n",
    "\n",
    "data['education'] = data['education'].str.lower()\n",
    "\n",
    "\n",
    "# REALLY LENGTHY WAY OF DOING IT USING .replace():\n",
    "\n",
    "### Create lists of incorrect string values that attempt to represent the same thing. Everything will be lowercase.\n",
    "# incorrect_bachelors = [\"BACHELOR'S DEGREE\", \"Bachelor's Degree\"]\n",
    "# incorrect_graduate = ['GRADUATE DEGREE', 'Graduate Degree']\n",
    "# incorrect_primary = ['PRIMARY EDUCATION', 'Primary Education']\n",
    "# incorrect_secondary = ['SECONDARY EDUCATION', 'Secondary Education']\n",
    "# incorrect_some_college = ['SOME COLLEGE', 'Some College']\n",
    "\n",
    "### Create a function for automating the replacement of incorrect values with correct values:\n",
    "### The function will take 2 arguments: 'incorrect_names' and 'correct_names':\n",
    "# def correct_column_values(incorrect_names, correct_name):\n",
    "#     for incorrect_name in incorrect_names:\n",
    "#        data['education'] = data['education'].replace(incorrect_name, correct_name)\n",
    "#     return\n",
    "\n",
    "# incorrect_list = [incorrect_bachelors, incorrect_graduate, incorrect_primary, incorrect_secondary, incorrect_some_college]\n",
    "# correct_list = ['bachelor\\'s degree', 'graduate degree', 'primary education', 'secondary education', 'some college']\n",
    "\n",
    "# for i in range(0,5):\n",
    "#     correct_column_values(incorrect_list[i], correct_list[i])\n"
   ]
  },
  {
   "cell_type": "markdown",
   "metadata": {},
   "source": [
    "<div class=\"alert alert-block alert-success\">\n",
    "<b>Reviewer's comment v1</b> Dealed with not obvious duplicates!"
   ]
  },
  {
   "cell_type": "code",
   "execution_count": 12,
   "metadata": {},
   "outputs": [
    {
     "data": {
      "text/plain": [
       "array([\"bachelor's degree\", 'graduate degree', 'primary education',\n",
       "       'secondary education', 'some college'], dtype=object)"
      ]
     },
     "execution_count": 12,
     "metadata": {},
     "output_type": "execute_result"
    }
   ],
   "source": [
    "# Checking all the values in the column to make sure we fixed them\n",
    "data['education'].sort_values().unique()\n"
   ]
  },
  {
   "cell_type": "markdown",
   "metadata": {},
   "source": [
    "All the values in the `'education'` column have been standardized and made uniform. In layman's terms, the incorrect values have been replaced with correct values. As is shown, only the **5** actual unqiue values are returned when requesting the list of unique values in the `'education'` column, and they are all in lowercase letters."
   ]
  },
  {
   "cell_type": "markdown",
   "metadata": {},
   "source": [
    "#### Examining the `'children'` column"
   ]
  },
  {
   "cell_type": "code",
   "execution_count": 13,
   "metadata": {},
   "outputs": [
    {
     "data": {
      "text/plain": [
       "children\n",
       "-1        47\n",
       " 0     14149\n",
       " 1      4818\n",
       " 2      2055\n",
       " 3       330\n",
       " 4        41\n",
       " 5         9\n",
       " 20       76\n",
       "Name: family_status, dtype: int64"
      ]
     },
     "execution_count": 13,
     "metadata": {},
     "output_type": "execute_result"
    }
   ],
   "source": [
    "# Let's see the distribution of values in the `children` column\n",
    "data.groupby('children')['family_status'].count()"
   ]
  },
  {
   "cell_type": "markdown",
   "metadata": {},
   "source": [
    "The output from the above code block shows that there are **47** rows containing the value **-1**, and **76** rows containing the value **20**. The summation of the numbr of rows containing **-1** or **20** returns a total of **123** rows in the `'children'` column. These **123** rows contain questionable and most likely incorrect data. First, it is not possible to have **-1** children. Additionally, I find it hard to believe that **76** families have **20** children. The data values of **-1** could be technical errors that were incorrectly processed by the computer system. The data values of **20** could have been a typo on the customers' part, when they really meant to enter a value of **2**. However, 76 instances of such a typo seems high and somewhat unlikely. Chances are good that both the **-1** and **20** data values are a result of technical issues with the data collecting. \n",
    "\n",
    "The corresponding percentages of the incorrect data in the `'children'` column are as follows:"
   ]
  },
  {
   "cell_type": "code",
   "execution_count": 14,
   "metadata": {},
   "outputs": [
    {
     "name": "stdout",
     "output_type": "stream",
     "text": [
      "Percentage of rows that contain -1 or 20 children: 0.57%\n",
      "Percentage of rows that contain -1 children: 0.22%\n",
      "Percentage of rows that contain 20 children: 0.35%\n"
     ]
    }
   ],
   "source": [
    "print(f'Percentage of rows that contain -1 or 20 children: {123/len(data):.2%}')\n",
    "print(f'Percentage of rows that contain -1 children: {47/len(data):.2%}')\n",
    "print(f'Percentage of rows that contain 20 children: {76/len(data):.2%}')"
   ]
  },
  {
   "cell_type": "markdown",
   "metadata": {},
   "source": [
    "\n",
    "Because I cannot be sure if the **-1** values should be **1** values, or that the **20** values should be corrected to **2** values, I am inclined to delete the data. Especially when considering that these incorrect data values make up for a combined total of **0.57%** of the data in the `'children'` column, it's safe to remove the data without significantly influencing the trends in the data. With that said, I plan on changing the values of **-1** and **20** to **NaN**, and then dropping all rows that contain **NaN**. That will effectively remove the rows containing the incorrect data.\n",
    "\n",
    "**Note:** This is where I utilized the `numpy` library to replace values of **-1** and **20** to `NaN`. Then, I called the `dropna()` method, passing the `'children'` column as the argument so that all values of `NaN` were removed. This was a completely unecessary way of removing the data, as I could have just filtered out the specific rows with conditions. I would have returned the rows in the dataset whose values are NOT equivalent to **-1** or **20**.\n",
    "\n",
    "See the code block below for removal of the rows containing **-1** and **20** in the `'children'` column.\n"
   ]
  },
  {
   "cell_type": "markdown",
   "metadata": {},
   "source": [
    "<div class=\"alert alert-block alert-success\">\n",
    "<b>Reviewer's comment v1</b> Great that you have found the share of abnormal values! In fact, we could simply delete them"
   ]
  },
  {
   "cell_type": "code",
   "execution_count": 15,
   "metadata": {},
   "outputs": [
    {
     "data": {
      "text/plain": [
       "21402"
      ]
     },
     "execution_count": 15,
     "metadata": {},
     "output_type": "execute_result"
    }
   ],
   "source": [
    "# [fix the data based on your decision]\n",
    "# While I could have just filtered out the rows that contain -1 or 20 (as I did later on with age), I tried importing\n",
    "# the numpy library as np, and replacing -1 and 20 values with NaN. That way, I could just call the .dropna method\n",
    "# on the 'children' column and have the rows removed.\n",
    "\n",
    "data['children'] = data['children'].replace(-1, np.nan)\n",
    "data['children'] = data['children'].replace(20, np.nan)\n",
    "data = data.dropna(subset=['children'])\n",
    "\n",
    "# Outputting the length of the new data (or the number of rows in the new data)\n",
    "len(data)"
   ]
  },
  {
   "cell_type": "markdown",
   "metadata": {},
   "source": [
    "The above code block replaced **-1** and **20** values in the `'children'` column with `NaN`, and then removed all the rows that contained `NaN` in the `'children'` column. The change to the dataset can be seen by looking at the length of the dataset, which is now **21402** (**123** rows less than the initial **21525** rows)."
   ]
  },
  {
   "cell_type": "code",
   "execution_count": 16,
   "metadata": {},
   "outputs": [
    {
     "data": {
      "text/plain": [
       "array([0., 1., 2., 3., 4., 5.])"
      ]
     },
     "execution_count": 16,
     "metadata": {},
     "output_type": "execute_result"
    }
   ],
   "source": [
    "# Checking the `children` column again to make sure it's all fixed\n",
    "data['children'].sort_values().unique()"
   ]
  },
  {
   "cell_type": "markdown",
   "metadata": {},
   "source": [
    "Presto! There are no longer any cells containing the values **-1** or **20** in the `'children'` column.\n",
    "\n",
    "They only thing to consider here is that the numerical values in the `'children'` column have been converted to the `float` data type since I placed `NaN` in the column, which is of the `float` datatype, as well. If it is desired to avoid this data change to the `float` data type, then I could revise the removal of the **-1** and **20** values by simply filtering out those rows, and returning a filtered dataset back to the DataFrame, `data`. However, I do not mind having the values in the `'education'` column changed to the `float` data type at this time since no fractional values of children should have been recorded anyways. I will continue forward with examination of the dataset by looking at the `'days_employed'` column in the section below."
   ]
  },
  {
   "cell_type": "markdown",
   "metadata": {},
   "source": [
    "#### Examining the `'days_employed'` column\n",
    "\n",
    "The code block below prints the unique values in the `'days_employed'` column from low to high."
   ]
  },
  {
   "cell_type": "code",
   "execution_count": 17,
   "metadata": {},
   "outputs": [
    {
     "data": {
      "text/plain": [
       "array([-18388.94990057, -17615.56326563, -16593.47281726, ...,\n",
       "       401715.81174889, 401755.40047533,             nan])"
      ]
     },
     "execution_count": 17,
     "metadata": {},
     "output_type": "execute_result"
    }
   ],
   "source": [
    "# Find problematic data in `days_employed`, if they exist, and calculate the percentage\n",
    "data['days_employed'].sort_values().unique()"
   ]
  },
  {
   "cell_type": "markdown",
   "metadata": {},
   "source": [
    "The problematic issue is that a large portion of the values in the `'days_employed'` column are negative or missing [Nan]. The percentages are shown below."
   ]
  },
  {
   "cell_type": "code",
   "execution_count": 18,
   "metadata": {},
   "outputs": [
    {
     "name": "stdout",
     "output_type": "stream",
     "text": [
      "Percentage of values that are negative: 73.87%\n",
      "Percentage of values that are positive: 16.03%\n",
      "Percentage of values that are missing: 10.10%\n"
     ]
    }
   ],
   "source": [
    "print(f'Percentage of values that are negative: {data[data[\"days_employed\"] < 0][\"days_employed\"].count() / len(data):.2%}')\n",
    "print(f'Percentage of values that are positive: {data[data[\"days_employed\"] > 0][\"days_employed\"].count() / len(data):.2%}')\n",
    "print(f'Percentage of values that are missing: {data[\"days_employed\"].isna().sum() / len(data):.2%}')"
   ]
  },
  {
   "cell_type": "markdown",
   "metadata": {},
   "source": [
    "There are a lot of negative values in the `'days_employed'` column. I doubt that this was a mistake made by the customers, but rather a technical issue with the data recording. To resolve this issue, I will change all the negative values to positive values.\n",
    "\n",
    "Additionally, the long string of digits that come after the decimal is unecessary. The extra digits just crowds up the data and doesn't add any significant meaning to numerical values. No accuracy would be lost by rounding all the values in the `'days_employed'` column to whole days instead of fractional. This can be done by converting all values in the `'days_employed'` column to integers using the `astype()` method. However, since `NaN` values cannot be converted to an integer, and if left alone the column will remain as a `float` datatype, I will change the `NaN` values to **0**. Later on in this report the **0** values will be addressed by replacing them with mean or median values of data in the `'days_employed'` column. I have also already checked to ensure that no **0** values are present prior to replacing `NaN` with **0**. Thus, later on when correcting the data I will replace the all the **0** values in the `'days_employed'` column since they are placeholders for the `NaN` values.\n"
   ]
  },
  {
   "cell_type": "code",
   "execution_count": 19,
   "metadata": {},
   "outputs": [],
   "source": [
    "# Address the problematic values, if they exist\n",
    "# Taking all negative values in the 'days_employed' column and making them positive.\n",
    "data.loc[data['days_employed'] < 0, 'days_employed'] *= -1\n",
    "\n",
    "\n",
    "# Change the datatype from floats to integers using the astype() method. I first have to change NaN to 0.\n",
    "data['days_employed'] = data['days_employed'].fillna(0).astype(np.int64, copy=False, errors='ignore')\n",
    "\n",
    "# 0 values are now in place of the NaN values and the column datatype is int."
   ]
  },
  {
   "cell_type": "markdown",
   "metadata": {},
   "source": [
    "It should also be noted that some of these numbers seem astronomically high. When taking some of the higher number values in the column and converting them to years, the number of days employed comes out to hundreds of years! I have yet to come across anyone who has lived that long!\n",
    "\n",
    "For example, the maximum value in the `'days_employed'` column is: **401755.40047533**. Dividing that maximum number by **365** returns a value of approximately **1100** years! This certianly needs to be looked at and resolved!\n",
    "\n",
    "The below code block groups the data by age, and then find the mean value of days employed for customers that age. The result is then printed after converting the days to years by dividing the numbers by **365**."
   ]
  },
  {
   "cell_type": "code",
   "execution_count": 20,
   "metadata": {},
   "outputs": [
    {
     "data": {
      "text/plain": [
       "dob_years\n",
       "0     173\n",
       "19      1\n",
       "20      1\n",
       "21      1\n",
       "22      6\n",
       "23      1\n",
       "24      2\n",
       "25      2\n",
       "26      8\n",
       "27      9\n",
       "28      3\n",
       "29      3\n",
       "30      4\n",
       "31      5\n",
       "32      9\n",
       "33      8\n",
       "34     10\n",
       "35      6\n",
       "36     10\n",
       "37     14\n",
       "38     19\n",
       "39     13\n",
       "40     17\n",
       "41     15\n",
       "42     21\n",
       "43     23\n",
       "44     25\n",
       "45     29\n",
       "46     35\n",
       "47     34\n",
       "48     43\n",
       "49     64\n",
       "50    123\n",
       "51    167\n",
       "52    202\n",
       "53    234\n",
       "54    307\n",
       "55    371\n",
       "56    385\n",
       "57    469\n",
       "58    453\n",
       "59    579\n",
       "60    647\n",
       "61    604\n",
       "62    669\n",
       "63    716\n",
       "64    675\n",
       "65    706\n",
       "66    765\n",
       "67    786\n",
       "68    814\n",
       "69    870\n",
       "70    831\n",
       "71    833\n",
       "72    857\n",
       "73    752\n",
       "74    660\n",
       "75      4\n",
       "Name: days_employed, dtype: int64"
      ]
     },
     "execution_count": 20,
     "metadata": {},
     "output_type": "execute_result"
    }
   ],
   "source": [
    "# Print the mean number of days employed by age, but convereted to years\n",
    "(data.groupby('dob_years')['days_employed'].mean()/365).astype(np.int64)"
   ]
  },
  {
   "cell_type": "markdown",
   "metadata": {},
   "source": [
    "This is simply an observation. At this current time I do not know what to do with this issue seeing as half the data appears to be believeable while the other half does not.\n",
    "\n",
    "The below code block prints the values contained in the `'days_employed'` column to show that no negative values are present, and that all the values have been converted to integers."
   ]
  },
  {
   "cell_type": "code",
   "execution_count": 21,
   "metadata": {},
   "outputs": [
    {
     "name": "stdout",
     "output_type": "stream",
     "text": [
      "0          8437\n",
      "1          4024\n",
      "2          5623\n",
      "3          4124\n",
      "4        340266\n",
      "          ...  \n",
      "21520      4529\n",
      "21521    343937\n",
      "21522      2113\n",
      "21523      3112\n",
      "21524      1984\n",
      "Name: days_employed, Length: 21402, dtype: int64\n"
     ]
    }
   ],
   "source": [
    "# Check the result - make sure it's fixed\n",
    "print(data['days_employed'])\n"
   ]
  },
  {
   "cell_type": "markdown",
   "metadata": {},
   "source": [
    "#### Examining the `'dob_years'` column"
   ]
  },
  {
   "cell_type": "markdown",
   "metadata": {},
   "source": [
    "Let's now examine each customer's age."
   ]
  },
  {
   "cell_type": "code",
   "execution_count": 22,
   "metadata": {
    "scrolled": true
   },
   "outputs": [
    {
     "data": {
      "text/plain": [
       "array([ 0, 19, 20, 21, 22, 23, 24, 25, 26, 27, 28, 29, 30, 31, 32, 33, 34,\n",
       "       35, 36, 37, 38, 39, 40, 41, 42, 43, 44, 45, 46, 47, 48, 49, 50, 51,\n",
       "       52, 53, 54, 55, 56, 57, 58, 59, 60, 61, 62, 63, 64, 65, 66, 67, 68,\n",
       "       69, 70, 71, 72, 73, 74, 75])"
      ]
     },
     "execution_count": 22,
     "metadata": {},
     "output_type": "execute_result"
    }
   ],
   "source": [
    "# Check the `dob_years` for suspicious values and count the percentage\n",
    "data['dob_years'].sort_values().unique()\n"
   ]
  },
  {
   "cell_type": "markdown",
   "metadata": {},
   "source": [
    "If someone is **0-years-old** then they would be a baby, and they would not have a loan. The **0** value in this column is faulty and needs to be dealt with."
   ]
  },
  {
   "cell_type": "code",
   "execution_count": 23,
   "metadata": {},
   "outputs": [
    {
     "data": {
      "text/plain": [
       "children            100\n",
       "days_employed       100\n",
       "dob_years           100\n",
       "education           100\n",
       "education_id        100\n",
       "family_status       100\n",
       "family_status_id    100\n",
       "gender              100\n",
       "income_type         100\n",
       "debt                100\n",
       "total_income         90\n",
       "purpose             100\n",
       "dtype: int64"
      ]
     },
     "execution_count": 23,
     "metadata": {},
     "output_type": "execute_result"
    }
   ],
   "source": [
    "zero_age_data = data[data['dob_years'] == 0].count()\n",
    "zero_age_data\n",
    "# There are 100 rows of 0-aged people. That is a very insignificant amount of data, and since I have no way \n",
    "# of telling what age to replace the missing data with, I will just remove the data."
   ]
  },
  {
   "cell_type": "code",
   "execution_count": 24,
   "metadata": {},
   "outputs": [
    {
     "name": "stdout",
     "output_type": "stream",
     "text": [
      "Percentage of 'dob_years' values that are equal to zero: 0.47%\n"
     ]
    }
   ],
   "source": [
    "# print the percentage of values that 0 makes up\n",
    "\n",
    "print(f'Percentage of \\'dob_years\\' values that are equal to zero: {((data[data[\"dob_years\"] == 0][\"gender\"].count()) / len(data)):.2%}')\n"
   ]
  },
  {
   "cell_type": "markdown",
   "metadata": {},
   "source": [
    "There are only 100 rows in the entire dataset where the value in the `'dob_years'` column, which is equivalent to the age of the customer, is **0**. A value of **0** in the column accounts for only **0.47%** of data in the entire column. Because the size of incorrect data is so small, and because I have no accurate way to fill the missing values in with a good representation of the customers' age, I will simply remove the data."
   ]
  },
  {
   "cell_type": "code",
   "execution_count": 25,
   "metadata": {},
   "outputs": [
    {
     "name": "stdout",
     "output_type": "stream",
     "text": [
      "21402\n",
      "21302\n"
     ]
    }
   ],
   "source": [
    "print(len(data))\n",
    "# Storing a new DataFrame into 'data' that doesn't include rows that contain 'dob_years' values equal to 0.\n",
    "data = data[data['dob_years'] != 0]\n",
    "print(len(data))"
   ]
  },
  {
   "cell_type": "markdown",
   "metadata": {},
   "source": [
    "As can be seen, any row with **0** in the `'dob_years'` column has been filtered out. The above code block removed **100** rows, bringing the total count of rows in the dataset to **21302** rows."
   ]
  },
  {
   "cell_type": "code",
   "execution_count": 26,
   "metadata": {},
   "outputs": [
    {
     "data": {
      "text/plain": [
       "array([19, 20, 21, 22, 23, 24, 25, 26, 27, 28, 29, 30, 31, 32, 33, 34, 35,\n",
       "       36, 37, 38, 39, 40, 41, 42, 43, 44, 45, 46, 47, 48, 49, 50, 51, 52,\n",
       "       53, 54, 55, 56, 57, 58, 59, 60, 61, 62, 63, 64, 65, 66, 67, 68, 69,\n",
       "       70, 71, 72, 73, 74, 75])"
      ]
     },
     "execution_count": 26,
     "metadata": {},
     "output_type": "execute_result"
    }
   ],
   "source": [
    "# Check the result - make sure it's fixed\n",
    "data['dob_years'].sort_values().unique()"
   ]
  },
  {
   "cell_type": "markdown",
   "metadata": {},
   "source": [
    "Looking at the array of unique values in the `'dob_years'` column, no **0** value is present. Success!"
   ]
  },
  {
   "cell_type": "markdown",
   "metadata": {},
   "source": [
    "#### Examining the `'family_status'` column"
   ]
  },
  {
   "cell_type": "code",
   "execution_count": 27,
   "metadata": {},
   "outputs": [
    {
     "data": {
      "text/plain": [
       "array(['civil partnership', 'divorced', 'married', 'unmarried',\n",
       "       'widow / widower'], dtype=object)"
      ]
     },
     "execution_count": 27,
     "metadata": {},
     "output_type": "execute_result"
    }
   ],
   "source": [
    "# Let's see the values for the column\n",
    "data['family_status'].sort_values().unique()\n"
   ]
  },
  {
   "cell_type": "markdown",
   "metadata": {},
   "source": [
    "Initially, it does not look like there are any errors with the data values in the `'family_status'` column. All registers make sense, and there are no mispellings or capital letters. It may be wise to get rid of the `'/'` in `'widow / widower'`, but I am okay with it remaining as-is. The only thing I can see is that a civil partnership is most likely seen as the same thing as married in the eyes of the bank, and being divorced or a widow/widower may been seen as equivalent to unmarried from a financial point of view. I am going to let these values be, and later on in the report I will categorize the rows based on what I've just stated, prior to final interpretation of the data.\n",
    "\n",
    "One of the hypotheses posed at the beginning of this report was the being married or unmarried has an effect on one's ability to pay back their loan. In order to get a good determination of that, I want to group all the family status values into the two categories of `'married'` and `'unmarried'`. But, instead of modifying the colum's values, as is shown in the commented code below, I will just wait to categorize the data at a later time in this report."
   ]
  },
  {
   "cell_type": "code",
   "execution_count": 28,
   "metadata": {},
   "outputs": [],
   "source": [
    "# Address the problematic values in `family_status`, if they exist\n",
    "# In terms of finances, a 'civil partnership' is equivalent to being 'married'\n",
    "    # Thus, change 'civil partnership' to 'married'\n",
    "    \n",
    "#data['family_status'] = data['family_status'].replace('civil partnership', 'married')\n",
    "#data['family_status'] = data['family_status'].replace('widow / widower', 'unmarried')\n",
    "#data['family_status'] = data['family_status'].replace('divorced', 'unmarried')\n"
   ]
  },
  {
   "cell_type": "code",
   "execution_count": 29,
   "metadata": {},
   "outputs": [
    {
     "data": {
      "text/plain": [
       "array(['civil partnership', 'divorced', 'married', 'unmarried',\n",
       "       'widow / widower'], dtype=object)"
      ]
     },
     "execution_count": 29,
     "metadata": {},
     "output_type": "execute_result"
    }
   ],
   "source": [
    "# Check the result - make sure it's fixed\n",
    "data['family_status'].sort_values().unique()"
   ]
  },
  {
   "cell_type": "markdown",
   "metadata": {},
   "source": [
    "No changes were made to the `'family_status'` column. The unique values remain the same."
   ]
  },
  {
   "cell_type": "markdown",
   "metadata": {},
   "source": [
    "<div class=\"alert alert-block alert-success\">\n",
    "<b>Reviewer's comment v1</b> Correct"
   ]
  },
  {
   "cell_type": "markdown",
   "metadata": {},
   "source": [
    "#### Examining the `'gender'` column"
   ]
  },
  {
   "cell_type": "code",
   "execution_count": 30,
   "metadata": {},
   "outputs": [
    {
     "data": {
      "text/plain": [
       "F      14083\n",
       "M       7218\n",
       "XNA        1\n",
       "Name: gender, dtype: int64"
      ]
     },
     "execution_count": 30,
     "metadata": {},
     "output_type": "execute_result"
    }
   ],
   "source": [
    "# Let's see the values in the column\n",
    "# data['gender'].sort_values().unique()\n",
    "\n",
    "# Let's see the number of instances for each of these unique values.\n",
    "data['gender'].value_counts()"
   ]
  },
  {
   "cell_type": "markdown",
   "metadata": {},
   "source": [
    "The unique gender values are `'F'`, `'M'`, and `'XNA'`. `'XNA'` is unusable data. There is only 1 instance of `'XNA'`, but since I cannot make a definitive decision as to whether the respondent is `'M'` or `'F'`, I will remove the row from the dataset with the following code blocks."
   ]
  },
  {
   "cell_type": "code",
   "execution_count": 31,
   "metadata": {},
   "outputs": [],
   "source": [
    "# Address the problematic values, if they exist\n",
    "data = data[data['gender'] != 'XNA']"
   ]
  },
  {
   "cell_type": "code",
   "execution_count": 32,
   "metadata": {},
   "outputs": [
    {
     "data": {
      "text/plain": [
       "array(['F', 'M'], dtype=object)"
      ]
     },
     "execution_count": 32,
     "metadata": {},
     "output_type": "execute_result"
    }
   ],
   "source": [
    "# Check the result - make sure it's fixed\n",
    "data['gender'].sort_values().unique()\n"
   ]
  },
  {
   "cell_type": "markdown",
   "metadata": {},
   "source": [
    "The `'XNA'` value has been removed from the `'gender'` column, and now only `'M'` and `'F'` remain as unique values."
   ]
  },
  {
   "cell_type": "markdown",
   "metadata": {},
   "source": [
    "<div class=\"alert alert-block alert-success\">\n",
    "<b>Reviewer's comment v1</b> Great that you have found this abnormality!"
   ]
  },
  {
   "cell_type": "markdown",
   "metadata": {},
   "source": [
    "#### Examining the `'income_type'` column"
   ]
  },
  {
   "cell_type": "code",
   "execution_count": 33,
   "metadata": {},
   "outputs": [
    {
     "data": {
      "text/plain": [
       "array(['business', 'civil servant', 'employee', 'entrepreneur',\n",
       "       'paternity / maternity leave', 'retiree', 'student', 'unemployed'],\n",
       "      dtype=object)"
      ]
     },
     "execution_count": 33,
     "metadata": {},
     "output_type": "execute_result"
    }
   ],
   "source": [
    "# Let's see the values in the column\n",
    "data['income_type'].sort_values().unique()\n"
   ]
  },
  {
   "cell_type": "markdown",
   "metadata": {},
   "source": [
    "I do not see any issues with the values in the `'income_type'` column. I was considering simplifying the values in the column by categorizing them, but I realize that the values are useful as they currently stand. Please ignore the commented code below. There are no issues with this column, and therefore no further action is needed on the `'income_type'` column."
   ]
  },
  {
   "cell_type": "code",
   "execution_count": 34,
   "metadata": {},
   "outputs": [],
   "source": [
    "# Address the problematic values, if they exist\n",
    "# business and entrepreneur are the same thing.\n",
    "# People on paternity/maternity leave are still employees and are getting paid\n",
    "# Civil servant is just a category within employee. They get paid a salary.\n",
    "# Combine business and entrepreneurs\n",
    "# Combine employee and paternity/maternity leave\n",
    "# student and unemployed mean the same thing\n",
    "# The only type of employement should be unemployed, employee, retired, entreprenuer.\n",
    "\n",
    "#data['income_type'] = data['income_type'].replace('business', 'entrepreneur')\n",
    "#data['income_type'] = data['income_type'].replace('paternity / maternity leave', 'employee')\n",
    "#data['income_type'] = data['income_type'].replace('civil servant', 'employee')\n",
    "#data['income_type'] = data['income_type'].replace('student', 'unemployed')\n"
   ]
  },
  {
   "cell_type": "code",
   "execution_count": 35,
   "metadata": {},
   "outputs": [
    {
     "data": {
      "text/plain": [
       "array(['business', 'civil servant', 'employee', 'entrepreneur',\n",
       "       'paternity / maternity leave', 'retiree', 'student', 'unemployed'],\n",
       "      dtype=object)"
      ]
     },
     "execution_count": 35,
     "metadata": {},
     "output_type": "execute_result"
    }
   ],
   "source": [
    "# Check the result - make sure it's fixed\n",
    "data['income_type'].sort_values().unique()\n"
   ]
  },
  {
   "cell_type": "markdown",
   "metadata": {},
   "source": [
    "No changes were made to the `'income_type'` column. The unique values remain the same."
   ]
  },
  {
   "cell_type": "markdown",
   "metadata": {},
   "source": [
    "#### Checking for duplicates"
   ]
  },
  {
   "cell_type": "markdown",
   "metadata": {},
   "source": [
    "Now that the columns in the dataset have been examined and any questionable data has been fixed or removed (aside from the missing values), the dataset needs to be checked for any obvious duplicates. First, the total number of duplicates will be counted in the code block below."
   ]
  },
  {
   "cell_type": "code",
   "execution_count": 36,
   "metadata": {},
   "outputs": [
    {
     "data": {
      "text/plain": [
       "71"
      ]
     },
     "execution_count": 36,
     "metadata": {},
     "output_type": "execute_result"
    }
   ],
   "source": [
    "# Checking duplicates\n",
    "data.duplicated().sum()\n"
   ]
  },
  {
   "cell_type": "markdown",
   "metadata": {},
   "source": [
    "There appears to be **71** duplicate rows. The next code block will drop them from the dataset using the `drop_duplicates()` method."
   ]
  },
  {
   "cell_type": "code",
   "execution_count": 37,
   "metadata": {},
   "outputs": [],
   "source": [
    "# Address the duplicates, if they exist\n",
    "# Drop all duplicate rows from the dataset\n",
    "data = data.drop_duplicates().reset_index(drop=True)"
   ]
  },
  {
   "cell_type": "code",
   "execution_count": 38,
   "metadata": {},
   "outputs": [
    {
     "data": {
      "text/plain": [
       "0"
      ]
     },
     "execution_count": 38,
     "metadata": {},
     "output_type": "execute_result"
    }
   ],
   "source": [
    "# Last check whether we have any duplicates. Output should be zero.\n",
    "data.duplicated().sum()"
   ]
  },
  {
   "cell_type": "markdown",
   "metadata": {},
   "source": [
    "<div class=\"alert alert-block alert-success\">\n",
    "<b>Reviewer's comment v1</b> Managed all duplicates!"
   ]
  },
  {
   "cell_type": "markdown",
   "metadata": {},
   "source": [
    "No duplicates exist in the dataset anymore."
   ]
  },
  {
   "cell_type": "code",
   "execution_count": 39,
   "metadata": {},
   "outputs": [
    {
     "name": "stdout",
     "output_type": "stream",
     "text": [
      "Size of the dataset: 21230 x 12\n"
     ]
    }
   ],
   "source": [
    "# Check the size of the dataset that you now have after your first manipulations with it\n",
    "new_table_size = data.shape\n",
    "print(f'Size of the dataset: {new_table_size[0]} x {new_table_size[1]}')"
   ]
  },
  {
   "cell_type": "code",
   "execution_count": 40,
   "metadata": {},
   "outputs": [
    {
     "name": "stdout",
     "output_type": "stream",
     "text": [
      "The percent of rows removed: 1.37%\n"
     ]
    }
   ],
   "source": [
    "# Determine the percentages for rows removed and for data values removed:\n",
    "# table_size is size of the original dataset\n",
    "# new_table_size is the new size of the dataset\n",
    "\n",
    "row_percent = (table_size[0] - new_table_size[0]) / table_size[0]\n",
    "\n",
    "print(f'The percent of rows removed: {row_percent:.2%}')\n"
   ]
  },
  {
   "cell_type": "markdown",
   "metadata": {},
   "source": [
    "\n",
    "The dataset has changed to a table of **21230** rows and **12** columns. A total of **295** rows were removed. That means that **1.37%** of rows were removed, which is the same as saying that **1.37%** of data was removed from the entire dataset.\n"
   ]
  },
  {
   "cell_type": "markdown",
   "metadata": {},
   "source": [
    "<div class=\"alert alert-block alert-success\">\n",
    "<b>Reviewer's comment v1</b> You work like a true analyst and check every column of df"
   ]
  },
  {
   "cell_type": "markdown",
   "metadata": {},
   "source": [
    "## Working with missing values"
   ]
  },
  {
   "cell_type": "markdown",
   "metadata": {},
   "source": [
    "### Restoring missing values in `total_income`"
   ]
  },
  {
   "cell_type": "markdown",
   "metadata": {},
   "source": [
    "\n",
    "As was determined in Section 2, Task 1, columns `'days_employed'` and `'total_income'` contain missing values. It should not be forgotten that in order to change the datatype in the `'days_employed'` column all the `NaN` values in the column were replaced with **0**. That allowed the `astype()` method to be applied to the column to convert all values to the integer `(int)` datatype.\n",
    "\n",
    "Restoring the missing values in both columns will involve determining which characteristics have an impact on the missing values, decide which of the the mean or median values give a more accurate reading, and then replace the missing values with new data.\n",
    "\n",
    "Beginning with the `'total_income'` column, it must be decided which other customer characteristics have an impact on the salary that a customer makes. It's pretty easy to link the type of income or job a customer has to salary that they bring home. So, the `'income_type'` column will be called upon to help get data for the mean and/or median values. Additionally, it is my opinion that a person's age and education can have an effect on salary. By age I really mean experience, since usually people are more experienced the older they get. That is not always the case though. Since there are still incorrect **0** values in the `'days_employed'` column, I will call upon the `'dob_years'` column to influence the data analysis for restoring the missing values in the `'total_income'` column. Additionally, the `'education'` column will be utilized since workers with higher education are usually compensated more handsomely.\n",
    "\n",
    "Factors that affect values in `'total_income'`\n",
    " - age \n",
    " - income type\n",
    " - education\n",
    " \n",
    "Before getting started on computing the mean and median values, it would be helpful to categorize the customers into groups based on their age. The age range in the current data is between 19 and 74 years-old, which means there are a lot of rows in our datatables if they are grouped by individual ages. To condense the datatables so that they are visually easier to comprehend, the current data will be categorized into 6 age brackets, as defined in the list below:\n",
    "\n",
    "Age Brackets:\n",
    "- Younger than 22 (factor in college students and young professionals)\n",
    "- Between 22 and 30 (young professionals)\n",
    "- Between 30 and 40\n",
    "- Between 40 and 50\n",
    "- Between 50 and 60\n",
    "- Older than 60 (senior citizen)\n",
    "\n",
    "\n"
   ]
  },
  {
   "cell_type": "markdown",
   "metadata": {},
   "source": [
    "The code block below contains a function that outputs the mean and median values based on the age brackets that are passed to the function via the list `age_range_limits`. Currently in the list are **0**, **22**, **30**, **40**, **50**, **60**, and **80**, which when passed to the function will output the mean and median values for customers who are categorized between those age limits. \n",
    "\n",
    "The function works by pulling the rows in the dataset that belong to customers who are older than the lower age limit, but younger than the upper age limit. Then both the mean and median values are computed for the `'total_income'` columns, and they are returned by the function.\n",
    "\n",
    "I spent some time adding more elements, removing some elements, and changing the sizes of the categorical bins, but in the end there was no sequnce that truly seemed to provide a significantly more accurate prediction of the mean and median total income. So, I will maintain the current age limits that are stored in `age_range_limits`. I chose **0-22** to account for university students or early career starters, and **22-30** to account for young professionals. For ages **30 - 60**, there really doesn't appear to be a significance difference in mean and medain income values. They very well could have been grouped into one bin under one label wihtout significantly changing the output at the end, but it was nice and clean to break the remaining age brackets up by decades. Thus, **30-60** are split into different categories based on the decade of life that the customer is in. Once the customer reaches the age of **60**, I have deemed them a senior citizen."
   ]
  },
  {
   "cell_type": "code",
   "execution_count": 44,
   "metadata": {},
   "outputs": [
    {
     "name": "stdout",
     "output_type": "stream",
     "text": [
      "                  Mean        Median\n",
      "Age: 0 - 22:   $21652.64   $19321.44\n",
      "Age: 22 - 30:   $25760.35   $23000.17\n",
      "Age: 30 - 40:   $28314.53   $24699.58\n",
      "Age: 40 - 50:   $28575.43   $24772.38\n",
      "Age: 50 - 60:   $25807.71   $22195.85\n",
      "Age: 60 - 80:   $23015.44   $19732.95\n"
     ]
    }
   ],
   "source": [
    "# Determine the best age ranges for age categories\n",
    "\n",
    "age_range_limits = [0, 22, 30, 40, 50, 60, 80]\n",
    "\n",
    "income_statistics = []\n",
    "\n",
    "def mean_and_median(data, age1, age2):\n",
    "    \"\"\"Determine mean and median income for age range between age1 and age2\"\"\"\n",
    "    age_range_mean = data[(data['dob_years'] >= age1) & (data['dob_years'] < age2)]['total_income'].mean()\n",
    "    age_range_median = data[(data['dob_years'] >= age1) & (data['dob_years'] < age2)]['total_income'].median()\n",
    "\n",
    "    return round(age_range_mean,2), round(age_range_median,2)\n",
    "\n",
    "for i in range(0,len(age_range_limits)-1):\n",
    "    age_mean, age_median = mean_and_median(data, age_range_limits[i], age_range_limits[i+1])\n",
    "    income_statistics.append([age_mean, age_median])\n",
    "\n",
    "\n",
    "i=0\n",
    "print('                  Mean        Median')\n",
    "for element in income_statistics:\n",
    "    print(f'Age: {age_range_limits[i]} - {age_range_limits[i+1]}:   ${element[0]}   ${element[1]}')\n",
    "    i+=1"
   ]
  },
  {
   "cell_type": "markdown",
   "metadata": {},
   "source": [
    "Using the function above, I passed various sequences of age bracket limits to see if any age brackets resulted in more precise data, however all means and medians are relatively similar across the board. Thus, I will move forward with the age brackets proposed.\n",
    "\n",
    "Because income values can have such a large range depending on age bracket, I will use the median values instead of the mean values to ensure that I always get a good reading on what the middle of the pack is making in terms of salary.\n",
    "\n",
    "The below code block provides a function that returns an age bracket label, as a string, based on the age of the customer. This function categorizes the customers in the dataset into age brackets based on their numerical age in the `'dob_years'` column."
   ]
  },
  {
   "cell_type": "code",
   "execution_count": 46,
   "metadata": {},
   "outputs": [],
   "source": [
    "# Let's write a function that calculates the age category\n",
    "def age_func(age):\n",
    "    \"\"\"This function will pass back a total_income value based on the age\"\"\"\n",
    "    if age < 22:\n",
    "        return 'student or early career'\n",
    "    if 22 <= age < 30:\n",
    "        return 'twenties'\n",
    "    if 30 <= age < 40:\n",
    "        return 'thirties'\n",
    "    if 40 <= age < 50:\n",
    "        return 'forties'\n",
    "    if 50 <= age < 60:\n",
    "        return 'fifties'\n",
    "    return 'senior citizen'\n",
    "    "
   ]
  },
  {
   "cell_type": "markdown",
   "metadata": {},
   "source": [
    "<div class=\"alert alert-block alert-success\">\n",
    "<b>Reviewer's comment v1</b> Great!"
   ]
  },
  {
   "cell_type": "markdown",
   "metadata": {},
   "source": [
    "Below is a test cell to ensure the function works. The ages of **18**, **26**, **35**, **45**, **55**, and **65** are passed to the function, and it is expected that the correct labels or categories will be returned for each age."
   ]
  },
  {
   "cell_type": "code",
   "execution_count": 51,
   "metadata": {},
   "outputs": [
    {
     "name": "stdout",
     "output_type": "stream",
     "text": [
      "student or early career\n",
      "twenties\n",
      "thirties\n",
      "forties\n",
      "fifties\n",
      "senior citizen\n"
     ]
    }
   ],
   "source": [
    "# Test if the function works\n",
    "age=[18,26,35,45, 55, 65]\n",
    "try:\n",
    "    for element in age:\n",
    "        print(age_func(element))\n",
    "except:\n",
    "    print('fail')\n",
    "    "
   ]
  },
  {
   "cell_type": "markdown",
   "metadata": {},
   "source": [
    "As expected, the correct label or category was returned for each age that was passed to the function.\n",
    "\n",
    "Now that we have a working function that categorizes the customers into age brackets, it's time to apply the function to the entire dataset. The below code block utilizes the `apply()` method to the `'dob_years'` column in the dataset, which is basically passing each customer's age to the function, where a age bracket category will be returned and stored into the new column, `'age_category'`."
   ]
  },
  {
   "cell_type": "code",
   "execution_count": 52,
   "metadata": {},
   "outputs": [],
   "source": [
    "# Creating new column based on function\n",
    "data['age_category'] = data['dob_years'].apply(age_func)"
   ]
  },
  {
   "cell_type": "markdown",
   "metadata": {},
   "source": [
    " Let's see what the data looks like now."
   ]
  },
  {
   "cell_type": "code",
   "execution_count": 53,
   "metadata": {},
   "outputs": [
    {
     "name": "stdout",
     "output_type": "stream",
     "text": [
      "   children  days_employed  dob_years            education  education_id  \\\n",
      "0       1.0           8437         42    bachelor's degree             0   \n",
      "1       1.0           4024         36  secondary education             1   \n",
      "2       0.0           5623         33  secondary education             1   \n",
      "3       3.0           4124         32  secondary education             1   \n",
      "4       0.0         340266         53  secondary education             1   \n",
      "5       0.0            926         27    bachelor's degree             0   \n",
      "6       0.0           2879         43    bachelor's degree             0   \n",
      "7       0.0            152         50  secondary education             1   \n",
      "8       2.0           6929         35    bachelor's degree             0   \n",
      "9       0.0           2188         41  secondary education             1   \n",
      "\n",
      "       family_status  family_status_id gender income_type  debt  total_income  \\\n",
      "0            married                 0      F    employee     0     40620.102   \n",
      "1            married                 0      F    employee     0     17932.802   \n",
      "2            married                 0      M    employee     0     23341.752   \n",
      "3            married                 0      M    employee     0     42820.568   \n",
      "4  civil partnership                 1      F     retiree     0     25378.572   \n",
      "5  civil partnership                 1      M    business     0     40922.170   \n",
      "6            married                 0      F    business     0     38484.156   \n",
      "7            married                 0      M    employee     0     21731.829   \n",
      "8  civil partnership                 1      F    employee     0     15337.093   \n",
      "9            married                 0      M    employee     0     23108.150   \n",
      "\n",
      "                               purpose age_category  \n",
      "0                purchase of the house      forties  \n",
      "1                         car purchase     thirties  \n",
      "2                purchase of the house     thirties  \n",
      "3              supplementary education     thirties  \n",
      "4                    to have a wedding      fifties  \n",
      "5                purchase of the house     twenties  \n",
      "6                 housing transactions      forties  \n",
      "7                            education      fifties  \n",
      "8                     having a wedding     thirties  \n",
      "9  purchase of the house for my family      forties  \n"
     ]
    }
   ],
   "source": [
    "# Checking how values in the new column\n",
    "print(data.head(10))\n"
   ]
  },
  {
   "cell_type": "markdown",
   "metadata": {},
   "source": [
    "The `'age_category'` has successfully been created and added to the datatable. Now we are all set to use the current data to calculate the mean and median values based on various customer characteristics, and then decide the stipulations for replacing the missing data.\n",
    "\n",
    "For the missing values in the `'total_income'` column, the factors that affect a person's salary are most likely to be their income type (or job), their education level, and probably their work experience. Thus, we will use the `'income_type'` column to check the type of job each customer holds, and the `'education'` column to check what type of education they have. It would have been nice to use the `'days_employed'` column to see what kind of experience each customer has, but since there are missing values in that column, we will utilize the customers' age by checking the value in the `'dob_years'` column.\n",
    "\n",
    "Below is code "
   ]
  },
  {
   "cell_type": "code",
   "execution_count": null,
   "metadata": {},
   "outputs": [],
   "source": [
    "# Create a table without missing values and print a few of its rows to make sure it looks fine\n",
    "# filtered_data = data.dropna()\n",
    "# filtered_data.head()\n",
    "# I didn't really use this suggested filtered table...as will be seen later on...so it's all commented out."
   ]
  },
  {
   "cell_type": "markdown",
   "metadata": {},
   "source": [
    "The below code blocks output various pivot tables comparing the total income for customers of various ages based on their income type and education. The first pivot table returns the number of customers that meet all 3 unique characteristics. The second and third pivot tables output the mean and median income values for customers that meet all 3 unique characteristics. Let's look at the values and see if we can determine which values would be better suited for replacing the missing values."
   ]
  },
  {
   "cell_type": "code",
   "execution_count": 126,
   "metadata": {},
   "outputs": [
    {
     "data": {
      "text/html": [
       "<div>\n",
       "<style scoped>\n",
       "    .dataframe tbody tr th:only-of-type {\n",
       "        vertical-align: middle;\n",
       "    }\n",
       "\n",
       "    .dataframe tbody tr th {\n",
       "        vertical-align: top;\n",
       "    }\n",
       "\n",
       "    .dataframe thead tr th {\n",
       "        text-align: left;\n",
       "    }\n",
       "\n",
       "    .dataframe thead tr:last-of-type th {\n",
       "        text-align: right;\n",
       "    }\n",
       "</style>\n",
       "<table border=\"1\" class=\"dataframe\">\n",
       "  <thead>\n",
       "    <tr>\n",
       "      <th>income_type</th>\n",
       "      <th colspan=\"4\" halign=\"left\">business</th>\n",
       "      <th colspan=\"5\" halign=\"left\">civil servant</th>\n",
       "      <th>employee</th>\n",
       "      <th>...</th>\n",
       "      <th>paternity / maternity leave</th>\n",
       "      <th colspan=\"5\" halign=\"left\">retiree</th>\n",
       "      <th>student</th>\n",
       "      <th colspan=\"2\" halign=\"left\">unemployed</th>\n",
       "      <th>All</th>\n",
       "    </tr>\n",
       "    <tr>\n",
       "      <th>education</th>\n",
       "      <th>bachelor's degree</th>\n",
       "      <th>primary education</th>\n",
       "      <th>secondary education</th>\n",
       "      <th>some college</th>\n",
       "      <th>bachelor's degree</th>\n",
       "      <th>graduate degree</th>\n",
       "      <th>primary education</th>\n",
       "      <th>secondary education</th>\n",
       "      <th>some college</th>\n",
       "      <th>bachelor's degree</th>\n",
       "      <th>...</th>\n",
       "      <th>secondary education</th>\n",
       "      <th>bachelor's degree</th>\n",
       "      <th>graduate degree</th>\n",
       "      <th>primary education</th>\n",
       "      <th>secondary education</th>\n",
       "      <th>some college</th>\n",
       "      <th>bachelor's degree</th>\n",
       "      <th>bachelor's degree</th>\n",
       "      <th>secondary education</th>\n",
       "      <th></th>\n",
       "    </tr>\n",
       "    <tr>\n",
       "      <th>age_category</th>\n",
       "      <th></th>\n",
       "      <th></th>\n",
       "      <th></th>\n",
       "      <th></th>\n",
       "      <th></th>\n",
       "      <th></th>\n",
       "      <th></th>\n",
       "      <th></th>\n",
       "      <th></th>\n",
       "      <th></th>\n",
       "      <th></th>\n",
       "      <th></th>\n",
       "      <th></th>\n",
       "      <th></th>\n",
       "      <th></th>\n",
       "      <th></th>\n",
       "      <th></th>\n",
       "      <th></th>\n",
       "      <th></th>\n",
       "      <th></th>\n",
       "      <th></th>\n",
       "    </tr>\n",
       "  </thead>\n",
       "  <tbody>\n",
       "    <tr>\n",
       "      <td>fifties</td>\n",
       "      <td>247.0</td>\n",
       "      <td>4.0</td>\n",
       "      <td>575.0</td>\n",
       "      <td>18.0</td>\n",
       "      <td>72.0</td>\n",
       "      <td>NaN</td>\n",
       "      <td>2.0</td>\n",
       "      <td>184.0</td>\n",
       "      <td>NaN</td>\n",
       "      <td>304.0</td>\n",
       "      <td>...</td>\n",
       "      <td>NaN</td>\n",
       "      <td>254.0</td>\n",
       "      <td>NaN</td>\n",
       "      <td>32.0</td>\n",
       "      <td>1368.0</td>\n",
       "      <td>18.0</td>\n",
       "      <td>NaN</td>\n",
       "      <td>NaN</td>\n",
       "      <td>NaN</td>\n",
       "      <td>4631</td>\n",
       "    </tr>\n",
       "    <tr>\n",
       "      <td>forties</td>\n",
       "      <td>469.0</td>\n",
       "      <td>7.0</td>\n",
       "      <td>930.0</td>\n",
       "      <td>48.0</td>\n",
       "      <td>143.0</td>\n",
       "      <td>NaN</td>\n",
       "      <td>1.0</td>\n",
       "      <td>287.0</td>\n",
       "      <td>8.0</td>\n",
       "      <td>609.0</td>\n",
       "      <td>...</td>\n",
       "      <td>NaN</td>\n",
       "      <td>28.0</td>\n",
       "      <td>NaN</td>\n",
       "      <td>3.0</td>\n",
       "      <td>106.0</td>\n",
       "      <td>3.0</td>\n",
       "      <td>NaN</td>\n",
       "      <td>1.0</td>\n",
       "      <td>NaN</td>\n",
       "      <td>5318</td>\n",
       "    </tr>\n",
       "    <tr>\n",
       "      <td>senior citizen</td>\n",
       "      <td>57.0</td>\n",
       "      <td>NaN</td>\n",
       "      <td>104.0</td>\n",
       "      <td>4.0</td>\n",
       "      <td>24.0</td>\n",
       "      <td>NaN</td>\n",
       "      <td>1.0</td>\n",
       "      <td>36.0</td>\n",
       "      <td>NaN</td>\n",
       "      <td>71.0</td>\n",
       "      <td>...</td>\n",
       "      <td>NaN</td>\n",
       "      <td>280.0</td>\n",
       "      <td>2.0</td>\n",
       "      <td>63.0</td>\n",
       "      <td>1574.0</td>\n",
       "      <td>20.0</td>\n",
       "      <td>NaN</td>\n",
       "      <td>NaN</td>\n",
       "      <td>NaN</td>\n",
       "      <td>2491</td>\n",
       "    </tr>\n",
       "    <tr>\n",
       "      <td>student or early career</td>\n",
       "      <td>14.0</td>\n",
       "      <td>NaN</td>\n",
       "      <td>30.0</td>\n",
       "      <td>13.0</td>\n",
       "      <td>4.0</td>\n",
       "      <td>NaN</td>\n",
       "      <td>NaN</td>\n",
       "      <td>4.0</td>\n",
       "      <td>2.0</td>\n",
       "      <td>15.0</td>\n",
       "      <td>...</td>\n",
       "      <td>NaN</td>\n",
       "      <td>NaN</td>\n",
       "      <td>NaN</td>\n",
       "      <td>NaN</td>\n",
       "      <td>NaN</td>\n",
       "      <td>NaN</td>\n",
       "      <td>NaN</td>\n",
       "      <td>NaN</td>\n",
       "      <td>NaN</td>\n",
       "      <td>175</td>\n",
       "    </tr>\n",
       "    <tr>\n",
       "      <td>thirties</td>\n",
       "      <td>628.0</td>\n",
       "      <td>13.0</td>\n",
       "      <td>907.0</td>\n",
       "      <td>82.0</td>\n",
       "      <td>191.0</td>\n",
       "      <td>1.0</td>\n",
       "      <td>3.0</td>\n",
       "      <td>239.0</td>\n",
       "      <td>19.0</td>\n",
       "      <td>793.0</td>\n",
       "      <td>...</td>\n",
       "      <td>1.0</td>\n",
       "      <td>5.0</td>\n",
       "      <td>NaN</td>\n",
       "      <td>1.0</td>\n",
       "      <td>28.0</td>\n",
       "      <td>NaN</td>\n",
       "      <td>NaN</td>\n",
       "      <td>NaN</td>\n",
       "      <td>1.0</td>\n",
       "      <td>5625</td>\n",
       "    </tr>\n",
       "    <tr>\n",
       "      <td>twenties</td>\n",
       "      <td>351.0</td>\n",
       "      <td>6.0</td>\n",
       "      <td>405.0</td>\n",
       "      <td>114.0</td>\n",
       "      <td>109.0</td>\n",
       "      <td>NaN</td>\n",
       "      <td>1.0</td>\n",
       "      <td>91.0</td>\n",
       "      <td>23.0</td>\n",
       "      <td>519.0</td>\n",
       "      <td>...</td>\n",
       "      <td>NaN</td>\n",
       "      <td>1.0</td>\n",
       "      <td>NaN</td>\n",
       "      <td>NaN</td>\n",
       "      <td>6.0</td>\n",
       "      <td>NaN</td>\n",
       "      <td>1.0</td>\n",
       "      <td>NaN</td>\n",
       "      <td>NaN</td>\n",
       "      <td>2990</td>\n",
       "    </tr>\n",
       "    <tr>\n",
       "      <td>All</td>\n",
       "      <td>1766.0</td>\n",
       "      <td>30.0</td>\n",
       "      <td>2951.0</td>\n",
       "      <td>279.0</td>\n",
       "      <td>543.0</td>\n",
       "      <td>1.0</td>\n",
       "      <td>8.0</td>\n",
       "      <td>841.0</td>\n",
       "      <td>52.0</td>\n",
       "      <td>2311.0</td>\n",
       "      <td>...</td>\n",
       "      <td>1.0</td>\n",
       "      <td>568.0</td>\n",
       "      <td>2.0</td>\n",
       "      <td>99.0</td>\n",
       "      <td>3082.0</td>\n",
       "      <td>41.0</td>\n",
       "      <td>1.0</td>\n",
       "      <td>1.0</td>\n",
       "      <td>1.0</td>\n",
       "      <td>21230</td>\n",
       "    </tr>\n",
       "  </tbody>\n",
       "</table>\n",
       "<p>7 rows × 25 columns</p>\n",
       "</div>"
      ],
      "text/plain": [
       "income_type                      business                    \\\n",
       "education               bachelor's degree primary education   \n",
       "age_category                                                  \n",
       "fifties                             247.0               4.0   \n",
       "forties                             469.0               7.0   \n",
       "senior citizen                       57.0               NaN   \n",
       "student or early career              14.0               NaN   \n",
       "thirties                            628.0              13.0   \n",
       "twenties                            351.0               6.0   \n",
       "All                                1766.0              30.0   \n",
       "\n",
       "income_type                                                  civil servant  \\\n",
       "education               secondary education some college bachelor's degree   \n",
       "age_category                                                                 \n",
       "fifties                               575.0         18.0              72.0   \n",
       "forties                               930.0         48.0             143.0   \n",
       "senior citizen                        104.0          4.0              24.0   \n",
       "student or early career                30.0         13.0               4.0   \n",
       "thirties                              907.0         82.0             191.0   \n",
       "twenties                              405.0        114.0             109.0   \n",
       "All                                  2951.0        279.0             543.0   \n",
       "\n",
       "income_type                                                                    \\\n",
       "education               graduate degree primary education secondary education   \n",
       "age_category                                                                    \n",
       "fifties                             NaN               2.0               184.0   \n",
       "forties                             NaN               1.0               287.0   \n",
       "senior citizen                      NaN               1.0                36.0   \n",
       "student or early career             NaN               NaN                 4.0   \n",
       "thirties                            1.0               3.0               239.0   \n",
       "twenties                            NaN               1.0                91.0   \n",
       "All                                 1.0               8.0               841.0   \n",
       "\n",
       "income_type                                   employee  ...  \\\n",
       "education               some college bachelor's degree  ...   \n",
       "age_category                                            ...   \n",
       "fifties                          NaN             304.0  ...   \n",
       "forties                          8.0             609.0  ...   \n",
       "senior citizen                   NaN              71.0  ...   \n",
       "student or early career          2.0              15.0  ...   \n",
       "thirties                        19.0             793.0  ...   \n",
       "twenties                        23.0             519.0  ...   \n",
       "All                             52.0            2311.0  ...   \n",
       "\n",
       "income_type             paternity / maternity leave           retiree  \\\n",
       "education                       secondary education bachelor's degree   \n",
       "age_category                                                            \n",
       "fifties                                         NaN             254.0   \n",
       "forties                                         NaN              28.0   \n",
       "senior citizen                                  NaN             280.0   \n",
       "student or early career                         NaN               NaN   \n",
       "thirties                                        1.0               5.0   \n",
       "twenties                                        NaN               1.0   \n",
       "All                                             1.0             568.0   \n",
       "\n",
       "income_type                                                                    \\\n",
       "education               graduate degree primary education secondary education   \n",
       "age_category                                                                    \n",
       "fifties                             NaN              32.0              1368.0   \n",
       "forties                             NaN               3.0               106.0   \n",
       "senior citizen                      2.0              63.0              1574.0   \n",
       "student or early career             NaN               NaN                 NaN   \n",
       "thirties                            NaN               1.0                28.0   \n",
       "twenties                            NaN               NaN                 6.0   \n",
       "All                                 2.0              99.0              3082.0   \n",
       "\n",
       "income_type                                    student        unemployed  \\\n",
       "education               some college bachelor's degree bachelor's degree   \n",
       "age_category                                                               \n",
       "fifties                         18.0               NaN               NaN   \n",
       "forties                          3.0               NaN               1.0   \n",
       "senior citizen                  20.0               NaN               NaN   \n",
       "student or early career          NaN               NaN               NaN   \n",
       "thirties                         NaN               NaN               NaN   \n",
       "twenties                         NaN               1.0               NaN   \n",
       "All                             41.0               1.0               1.0   \n",
       "\n",
       "income_type                                    All  \n",
       "education               secondary education         \n",
       "age_category                                        \n",
       "fifties                                 NaN   4631  \n",
       "forties                                 NaN   5318  \n",
       "senior citizen                          NaN   2491  \n",
       "student or early career                 NaN    175  \n",
       "thirties                                1.0   5625  \n",
       "twenties                                NaN   2990  \n",
       "All                                     1.0  21230  \n",
       "\n",
       "[7 rows x 25 columns]"
      ]
     },
     "execution_count": 126,
     "metadata": {},
     "output_type": "execute_result"
    }
   ],
   "source": [
    "# Code for pivot table with age x income_type\n",
    "\n",
    "data.pivot_table(index='age_category', columns=['income_type','education'], values='total_income', aggfunc='count', margins=True)"
   ]
  },
  {
   "cell_type": "markdown",
   "metadata": {},
   "source": [
    "The below code block outputs a pivot table of the **mean** total incomes based on age, income type, and education."
   ]
  },
  {
   "cell_type": "code",
   "execution_count": 67,
   "metadata": {},
   "outputs": [
    {
     "data": {
      "text/html": [
       "<div>\n",
       "<style scoped>\n",
       "    .dataframe tbody tr th:only-of-type {\n",
       "        vertical-align: middle;\n",
       "    }\n",
       "\n",
       "    .dataframe tbody tr th {\n",
       "        vertical-align: top;\n",
       "    }\n",
       "\n",
       "    .dataframe thead tr th {\n",
       "        text-align: left;\n",
       "    }\n",
       "\n",
       "    .dataframe thead tr:last-of-type th {\n",
       "        text-align: right;\n",
       "    }\n",
       "</style>\n",
       "<table border=\"1\" class=\"dataframe\">\n",
       "  <thead>\n",
       "    <tr>\n",
       "      <th>income_type</th>\n",
       "      <th colspan=\"4\" halign=\"left\">business</th>\n",
       "      <th colspan=\"5\" halign=\"left\">civil servant</th>\n",
       "      <th>employee</th>\n",
       "      <th>...</th>\n",
       "      <th>entrepreneur</th>\n",
       "      <th>paternity / maternity leave</th>\n",
       "      <th colspan=\"5\" halign=\"left\">retiree</th>\n",
       "      <th>student</th>\n",
       "      <th colspan=\"2\" halign=\"left\">unemployed</th>\n",
       "    </tr>\n",
       "    <tr>\n",
       "      <th>education</th>\n",
       "      <th>bachelor's degree</th>\n",
       "      <th>primary education</th>\n",
       "      <th>secondary education</th>\n",
       "      <th>some college</th>\n",
       "      <th>bachelor's degree</th>\n",
       "      <th>graduate degree</th>\n",
       "      <th>primary education</th>\n",
       "      <th>secondary education</th>\n",
       "      <th>some college</th>\n",
       "      <th>bachelor's degree</th>\n",
       "      <th>...</th>\n",
       "      <th>bachelor's degree</th>\n",
       "      <th>secondary education</th>\n",
       "      <th>bachelor's degree</th>\n",
       "      <th>graduate degree</th>\n",
       "      <th>primary education</th>\n",
       "      <th>secondary education</th>\n",
       "      <th>some college</th>\n",
       "      <th>bachelor's degree</th>\n",
       "      <th>bachelor's degree</th>\n",
       "      <th>secondary education</th>\n",
       "    </tr>\n",
       "    <tr>\n",
       "      <th>age_category</th>\n",
       "      <th></th>\n",
       "      <th></th>\n",
       "      <th></th>\n",
       "      <th></th>\n",
       "      <th></th>\n",
       "      <th></th>\n",
       "      <th></th>\n",
       "      <th></th>\n",
       "      <th></th>\n",
       "      <th></th>\n",
       "      <th></th>\n",
       "      <th></th>\n",
       "      <th></th>\n",
       "      <th></th>\n",
       "      <th></th>\n",
       "      <th></th>\n",
       "      <th></th>\n",
       "      <th></th>\n",
       "      <th></th>\n",
       "      <th></th>\n",
       "      <th></th>\n",
       "    </tr>\n",
       "  </thead>\n",
       "  <tbody>\n",
       "    <tr>\n",
       "      <td>student or early career</td>\n",
       "      <td>27720.387000</td>\n",
       "      <td>NaN</td>\n",
       "      <td>22112.422160</td>\n",
       "      <td>20597.451583</td>\n",
       "      <td>26753.562250</td>\n",
       "      <td>NaN</td>\n",
       "      <td>NaN</td>\n",
       "      <td>24736.358333</td>\n",
       "      <td>16711.844500</td>\n",
       "      <td>23170.305583</td>\n",
       "      <td>...</td>\n",
       "      <td>NaN</td>\n",
       "      <td>NaN</td>\n",
       "      <td>NaN</td>\n",
       "      <td>NaN</td>\n",
       "      <td>NaN</td>\n",
       "      <td>NaN</td>\n",
       "      <td>NaN</td>\n",
       "      <td>NaN</td>\n",
       "      <td>NaN</td>\n",
       "      <td>NaN</td>\n",
       "    </tr>\n",
       "    <tr>\n",
       "      <td>twenties</td>\n",
       "      <td>32427.943975</td>\n",
       "      <td>30460.981833</td>\n",
       "      <td>26320.015124</td>\n",
       "      <td>28601.369327</td>\n",
       "      <td>27750.336382</td>\n",
       "      <td>NaN</td>\n",
       "      <td>30563.3830</td>\n",
       "      <td>22539.109532</td>\n",
       "      <td>21679.555286</td>\n",
       "      <td>27833.561499</td>\n",
       "      <td>...</td>\n",
       "      <td>79866.103</td>\n",
       "      <td>NaN</td>\n",
       "      <td>34394.128000</td>\n",
       "      <td>NaN</td>\n",
       "      <td>NaN</td>\n",
       "      <td>12273.351200</td>\n",
       "      <td>NaN</td>\n",
       "      <td>15712.26</td>\n",
       "      <td>NaN</td>\n",
       "      <td>NaN</td>\n",
       "    </tr>\n",
       "    <tr>\n",
       "      <td>thirties</td>\n",
       "      <td>39220.047065</td>\n",
       "      <td>25068.715417</td>\n",
       "      <td>29215.250968</td>\n",
       "      <td>32345.849595</td>\n",
       "      <td>32040.193301</td>\n",
       "      <td>17822.757</td>\n",
       "      <td>21150.6960</td>\n",
       "      <td>24580.395462</td>\n",
       "      <td>32407.862250</td>\n",
       "      <td>30912.335162</td>\n",
       "      <td>...</td>\n",
       "      <td>NaN</td>\n",
       "      <td>8612.661</td>\n",
       "      <td>35371.215800</td>\n",
       "      <td>NaN</td>\n",
       "      <td>14138.866000</td>\n",
       "      <td>20850.593087</td>\n",
       "      <td>NaN</td>\n",
       "      <td>NaN</td>\n",
       "      <td>NaN</td>\n",
       "      <td>9593.119</td>\n",
       "    </tr>\n",
       "    <tr>\n",
       "      <td>forties</td>\n",
       "      <td>41289.203678</td>\n",
       "      <td>25941.415857</td>\n",
       "      <td>30091.546744</td>\n",
       "      <td>40047.354364</td>\n",
       "      <td>33570.712562</td>\n",
       "      <td>NaN</td>\n",
       "      <td>78410.7740</td>\n",
       "      <td>25667.360252</td>\n",
       "      <td>37458.604714</td>\n",
       "      <td>31745.745551</td>\n",
       "      <td>...</td>\n",
       "      <td>NaN</td>\n",
       "      <td>NaN</td>\n",
       "      <td>39936.767038</td>\n",
       "      <td>NaN</td>\n",
       "      <td>15708.433000</td>\n",
       "      <td>24394.253585</td>\n",
       "      <td>13485.433000</td>\n",
       "      <td>NaN</td>\n",
       "      <td>32435.602</td>\n",
       "      <td>NaN</td>\n",
       "    </tr>\n",
       "    <tr>\n",
       "      <td>fifties</td>\n",
       "      <td>42869.702488</td>\n",
       "      <td>25171.059000</td>\n",
       "      <td>28000.570854</td>\n",
       "      <td>34081.208000</td>\n",
       "      <td>31480.677952</td>\n",
       "      <td>NaN</td>\n",
       "      <td>12709.2755</td>\n",
       "      <td>23853.669463</td>\n",
       "      <td>NaN</td>\n",
       "      <td>33478.155363</td>\n",
       "      <td>...</td>\n",
       "      <td>NaN</td>\n",
       "      <td>NaN</td>\n",
       "      <td>25596.714311</td>\n",
       "      <td>NaN</td>\n",
       "      <td>17414.988200</td>\n",
       "      <td>21747.822556</td>\n",
       "      <td>19487.096600</td>\n",
       "      <td>NaN</td>\n",
       "      <td>NaN</td>\n",
       "      <td>NaN</td>\n",
       "    </tr>\n",
       "    <tr>\n",
       "      <td>senior citizen</td>\n",
       "      <td>39806.817377</td>\n",
       "      <td>NaN</td>\n",
       "      <td>28008.797289</td>\n",
       "      <td>32607.246000</td>\n",
       "      <td>35901.530300</td>\n",
       "      <td>NaN</td>\n",
       "      <td>NaN</td>\n",
       "      <td>25679.477912</td>\n",
       "      <td>NaN</td>\n",
       "      <td>30894.509576</td>\n",
       "      <td>...</td>\n",
       "      <td>NaN</td>\n",
       "      <td>NaN</td>\n",
       "      <td>27413.936322</td>\n",
       "      <td>28334.215</td>\n",
       "      <td>18139.344967</td>\n",
       "      <td>20324.837787</td>\n",
       "      <td>25987.356353</td>\n",
       "      <td>NaN</td>\n",
       "      <td>NaN</td>\n",
       "      <td>NaN</td>\n",
       "    </tr>\n",
       "  </tbody>\n",
       "</table>\n",
       "<p>6 rows × 24 columns</p>\n",
       "</div>"
      ],
      "text/plain": [
       "income_type                      business                    \\\n",
       "education               bachelor's degree primary education   \n",
       "age_category                                                  \n",
       "student or early career      27720.387000               NaN   \n",
       "twenties                     32427.943975      30460.981833   \n",
       "thirties                     39220.047065      25068.715417   \n",
       "forties                      41289.203678      25941.415857   \n",
       "fifties                      42869.702488      25171.059000   \n",
       "senior citizen               39806.817377               NaN   \n",
       "\n",
       "income_type                                                   civil servant  \\\n",
       "education               secondary education  some college bachelor's degree   \n",
       "age_category                                                                  \n",
       "student or early career        22112.422160  20597.451583      26753.562250   \n",
       "twenties                       26320.015124  28601.369327      27750.336382   \n",
       "thirties                       29215.250968  32345.849595      32040.193301   \n",
       "forties                        30091.546744  40047.354364      33570.712562   \n",
       "fifties                        28000.570854  34081.208000      31480.677952   \n",
       "senior citizen                 28008.797289  32607.246000      35901.530300   \n",
       "\n",
       "income_type                                                                    \\\n",
       "education               graduate degree primary education secondary education   \n",
       "age_category                                                                    \n",
       "student or early career             NaN               NaN        24736.358333   \n",
       "twenties                            NaN        30563.3830        22539.109532   \n",
       "thirties                      17822.757        21150.6960        24580.395462   \n",
       "forties                             NaN        78410.7740        25667.360252   \n",
       "fifties                             NaN        12709.2755        23853.669463   \n",
       "senior citizen                      NaN               NaN        25679.477912   \n",
       "\n",
       "income_type                                    employee  ...  \\\n",
       "education                some college bachelor's degree  ...   \n",
       "age_category                                             ...   \n",
       "student or early career  16711.844500      23170.305583  ...   \n",
       "twenties                 21679.555286      27833.561499  ...   \n",
       "thirties                 32407.862250      30912.335162  ...   \n",
       "forties                  37458.604714      31745.745551  ...   \n",
       "fifties                           NaN      33478.155363  ...   \n",
       "senior citizen                    NaN      30894.509576  ...   \n",
       "\n",
       "income_type                  entrepreneur paternity / maternity leave  \\\n",
       "education               bachelor's degree         secondary education   \n",
       "age_category                                                            \n",
       "student or early career               NaN                         NaN   \n",
       "twenties                        79866.103                         NaN   \n",
       "thirties                              NaN                    8612.661   \n",
       "forties                               NaN                         NaN   \n",
       "fifties                               NaN                         NaN   \n",
       "senior citizen                        NaN                         NaN   \n",
       "\n",
       "income_type                       retiree                                    \\\n",
       "education               bachelor's degree graduate degree primary education   \n",
       "age_category                                                                  \n",
       "student or early career               NaN             NaN               NaN   \n",
       "twenties                     34394.128000             NaN               NaN   \n",
       "thirties                     35371.215800             NaN      14138.866000   \n",
       "forties                      39936.767038             NaN      15708.433000   \n",
       "fifties                      25596.714311             NaN      17414.988200   \n",
       "senior citizen               27413.936322       28334.215      18139.344967   \n",
       "\n",
       "income_type                                                         student  \\\n",
       "education               secondary education  some college bachelor's degree   \n",
       "age_category                                                                  \n",
       "student or early career                 NaN           NaN               NaN   \n",
       "twenties                       12273.351200           NaN          15712.26   \n",
       "thirties                       20850.593087           NaN               NaN   \n",
       "forties                        24394.253585  13485.433000               NaN   \n",
       "fifties                        21747.822556  19487.096600               NaN   \n",
       "senior citizen                 20324.837787  25987.356353               NaN   \n",
       "\n",
       "income_type                    unemployed                      \n",
       "education               bachelor's degree secondary education  \n",
       "age_category                                                   \n",
       "student or early career               NaN                 NaN  \n",
       "twenties                              NaN                 NaN  \n",
       "thirties                              NaN            9593.119  \n",
       "forties                         32435.602                 NaN  \n",
       "fifties                               NaN                 NaN  \n",
       "senior citizen                        NaN                 NaN  \n",
       "\n",
       "[6 rows x 24 columns]"
      ]
     },
     "execution_count": 67,
     "metadata": {},
     "output_type": "execute_result"
    }
   ],
   "source": [
    "data_test = data.pivot_table(index='age_category', columns = ['income_type','education'], values='total_income', aggfunc='mean', margins=False)\n",
    "data_test = data_test.reindex(['student or early career', 'twenties', 'thirties', 'forties', 'fifties', 'senior citizen'])\n",
    "data_test"
   ]
  },
  {
   "cell_type": "markdown",
   "metadata": {},
   "source": [
    "The below code block outputs a pivot table of the **median** total income based on age, income type, and education."
   ]
  },
  {
   "cell_type": "code",
   "execution_count": 65,
   "metadata": {
    "scrolled": true
   },
   "outputs": [
    {
     "data": {
      "text/html": [
       "<div>\n",
       "<style scoped>\n",
       "    .dataframe tbody tr th:only-of-type {\n",
       "        vertical-align: middle;\n",
       "    }\n",
       "\n",
       "    .dataframe tbody tr th {\n",
       "        vertical-align: top;\n",
       "    }\n",
       "\n",
       "    .dataframe thead tr th {\n",
       "        text-align: left;\n",
       "    }\n",
       "\n",
       "    .dataframe thead tr:last-of-type th {\n",
       "        text-align: right;\n",
       "    }\n",
       "</style>\n",
       "<table border=\"1\" class=\"dataframe\">\n",
       "  <thead>\n",
       "    <tr>\n",
       "      <th>income_type</th>\n",
       "      <th colspan=\"4\" halign=\"left\">business</th>\n",
       "      <th colspan=\"5\" halign=\"left\">civil servant</th>\n",
       "      <th>employee</th>\n",
       "      <th>...</th>\n",
       "      <th>entrepreneur</th>\n",
       "      <th>paternity / maternity leave</th>\n",
       "      <th colspan=\"5\" halign=\"left\">retiree</th>\n",
       "      <th>student</th>\n",
       "      <th colspan=\"2\" halign=\"left\">unemployed</th>\n",
       "    </tr>\n",
       "    <tr>\n",
       "      <th>education</th>\n",
       "      <th>bachelor's degree</th>\n",
       "      <th>primary education</th>\n",
       "      <th>secondary education</th>\n",
       "      <th>some college</th>\n",
       "      <th>bachelor's degree</th>\n",
       "      <th>graduate degree</th>\n",
       "      <th>primary education</th>\n",
       "      <th>secondary education</th>\n",
       "      <th>some college</th>\n",
       "      <th>bachelor's degree</th>\n",
       "      <th>...</th>\n",
       "      <th>bachelor's degree</th>\n",
       "      <th>secondary education</th>\n",
       "      <th>bachelor's degree</th>\n",
       "      <th>graduate degree</th>\n",
       "      <th>primary education</th>\n",
       "      <th>secondary education</th>\n",
       "      <th>some college</th>\n",
       "      <th>bachelor's degree</th>\n",
       "      <th>bachelor's degree</th>\n",
       "      <th>secondary education</th>\n",
       "    </tr>\n",
       "    <tr>\n",
       "      <th>age_category</th>\n",
       "      <th></th>\n",
       "      <th></th>\n",
       "      <th></th>\n",
       "      <th></th>\n",
       "      <th></th>\n",
       "      <th></th>\n",
       "      <th></th>\n",
       "      <th></th>\n",
       "      <th></th>\n",
       "      <th></th>\n",
       "      <th></th>\n",
       "      <th></th>\n",
       "      <th></th>\n",
       "      <th></th>\n",
       "      <th></th>\n",
       "      <th></th>\n",
       "      <th></th>\n",
       "      <th></th>\n",
       "      <th></th>\n",
       "      <th></th>\n",
       "      <th></th>\n",
       "    </tr>\n",
       "  </thead>\n",
       "  <tbody>\n",
       "    <tr>\n",
       "      <td>student or early career</td>\n",
       "      <td>20981.7865</td>\n",
       "      <td>NaN</td>\n",
       "      <td>21475.2990</td>\n",
       "      <td>17737.729</td>\n",
       "      <td>21477.3160</td>\n",
       "      <td>NaN</td>\n",
       "      <td>NaN</td>\n",
       "      <td>21361.730</td>\n",
       "      <td>16711.8445</td>\n",
       "      <td>20830.3315</td>\n",
       "      <td>...</td>\n",
       "      <td>NaN</td>\n",
       "      <td>NaN</td>\n",
       "      <td>NaN</td>\n",
       "      <td>NaN</td>\n",
       "      <td>NaN</td>\n",
       "      <td>NaN</td>\n",
       "      <td>NaN</td>\n",
       "      <td>NaN</td>\n",
       "      <td>NaN</td>\n",
       "      <td>NaN</td>\n",
       "    </tr>\n",
       "    <tr>\n",
       "      <td>twenties</td>\n",
       "      <td>28390.1920</td>\n",
       "      <td>24210.196</td>\n",
       "      <td>23939.7895</td>\n",
       "      <td>26658.012</td>\n",
       "      <td>24483.1205</td>\n",
       "      <td>NaN</td>\n",
       "      <td>30563.3830</td>\n",
       "      <td>22352.273</td>\n",
       "      <td>21983.2560</td>\n",
       "      <td>24237.3580</td>\n",
       "      <td>...</td>\n",
       "      <td>79866.103</td>\n",
       "      <td>NaN</td>\n",
       "      <td>34394.1280</td>\n",
       "      <td>NaN</td>\n",
       "      <td>NaN</td>\n",
       "      <td>12807.0710</td>\n",
       "      <td>NaN</td>\n",
       "      <td>15712.26</td>\n",
       "      <td>NaN</td>\n",
       "      <td>NaN</td>\n",
       "    </tr>\n",
       "    <tr>\n",
       "      <td>thirties</td>\n",
       "      <td>32639.6155</td>\n",
       "      <td>20030.226</td>\n",
       "      <td>26225.8565</td>\n",
       "      <td>29985.268</td>\n",
       "      <td>27956.2445</td>\n",
       "      <td>17822.757</td>\n",
       "      <td>21150.6960</td>\n",
       "      <td>20834.434</td>\n",
       "      <td>30672.7180</td>\n",
       "      <td>26773.8850</td>\n",
       "      <td>...</td>\n",
       "      <td>NaN</td>\n",
       "      <td>8612.661</td>\n",
       "      <td>30117.8830</td>\n",
       "      <td>NaN</td>\n",
       "      <td>14138.8660</td>\n",
       "      <td>18495.7740</td>\n",
       "      <td>NaN</td>\n",
       "      <td>NaN</td>\n",
       "      <td>NaN</td>\n",
       "      <td>9593.119</td>\n",
       "    </tr>\n",
       "    <tr>\n",
       "      <td>forties</td>\n",
       "      <td>34592.0450</td>\n",
       "      <td>27929.098</td>\n",
       "      <td>26132.9210</td>\n",
       "      <td>35282.094</td>\n",
       "      <td>28425.4810</td>\n",
       "      <td>NaN</td>\n",
       "      <td>78410.7740</td>\n",
       "      <td>22450.766</td>\n",
       "      <td>26587.6740</td>\n",
       "      <td>27497.5880</td>\n",
       "      <td>...</td>\n",
       "      <td>NaN</td>\n",
       "      <td>NaN</td>\n",
       "      <td>31828.7485</td>\n",
       "      <td>NaN</td>\n",
       "      <td>15708.4330</td>\n",
       "      <td>22263.9860</td>\n",
       "      <td>8199.590</td>\n",
       "      <td>NaN</td>\n",
       "      <td>32435.602</td>\n",
       "      <td>NaN</td>\n",
       "    </tr>\n",
       "    <tr>\n",
       "      <td>fifties</td>\n",
       "      <td>35415.7710</td>\n",
       "      <td>23066.131</td>\n",
       "      <td>24449.6465</td>\n",
       "      <td>33073.763</td>\n",
       "      <td>28366.5680</td>\n",
       "      <td>NaN</td>\n",
       "      <td>12709.2755</td>\n",
       "      <td>21256.299</td>\n",
       "      <td>NaN</td>\n",
       "      <td>27471.9360</td>\n",
       "      <td>...</td>\n",
       "      <td>NaN</td>\n",
       "      <td>NaN</td>\n",
       "      <td>22805.7985</td>\n",
       "      <td>NaN</td>\n",
       "      <td>17104.9250</td>\n",
       "      <td>18805.1185</td>\n",
       "      <td>17973.623</td>\n",
       "      <td>NaN</td>\n",
       "      <td>NaN</td>\n",
       "      <td>NaN</td>\n",
       "    </tr>\n",
       "    <tr>\n",
       "      <td>senior citizen</td>\n",
       "      <td>30985.7500</td>\n",
       "      <td>NaN</td>\n",
       "      <td>26577.4840</td>\n",
       "      <td>37146.535</td>\n",
       "      <td>29551.2285</td>\n",
       "      <td>NaN</td>\n",
       "      <td>NaN</td>\n",
       "      <td>22756.936</td>\n",
       "      <td>NaN</td>\n",
       "      <td>27969.0405</td>\n",
       "      <td>...</td>\n",
       "      <td>NaN</td>\n",
       "      <td>NaN</td>\n",
       "      <td>23126.7990</td>\n",
       "      <td>28334.215</td>\n",
       "      <td>16348.0735</td>\n",
       "      <td>17893.5080</td>\n",
       "      <td>21109.130</td>\n",
       "      <td>NaN</td>\n",
       "      <td>NaN</td>\n",
       "      <td>NaN</td>\n",
       "    </tr>\n",
       "  </tbody>\n",
       "</table>\n",
       "<p>6 rows × 24 columns</p>\n",
       "</div>"
      ],
      "text/plain": [
       "income_type                      business                    \\\n",
       "education               bachelor's degree primary education   \n",
       "age_category                                                  \n",
       "student or early career        20981.7865               NaN   \n",
       "twenties                       28390.1920         24210.196   \n",
       "thirties                       32639.6155         20030.226   \n",
       "forties                        34592.0450         27929.098   \n",
       "fifties                        35415.7710         23066.131   \n",
       "senior citizen                 30985.7500               NaN   \n",
       "\n",
       "income_type                                                  civil servant  \\\n",
       "education               secondary education some college bachelor's degree   \n",
       "age_category                                                                 \n",
       "student or early career          21475.2990    17737.729        21477.3160   \n",
       "twenties                         23939.7895    26658.012        24483.1205   \n",
       "thirties                         26225.8565    29985.268        27956.2445   \n",
       "forties                          26132.9210    35282.094        28425.4810   \n",
       "fifties                          24449.6465    33073.763        28366.5680   \n",
       "senior citizen                   26577.4840    37146.535        29551.2285   \n",
       "\n",
       "income_type                                                                    \\\n",
       "education               graduate degree primary education secondary education   \n",
       "age_category                                                                    \n",
       "student or early career             NaN               NaN           21361.730   \n",
       "twenties                            NaN        30563.3830           22352.273   \n",
       "thirties                      17822.757        21150.6960           20834.434   \n",
       "forties                             NaN        78410.7740           22450.766   \n",
       "fifties                             NaN        12709.2755           21256.299   \n",
       "senior citizen                      NaN               NaN           22756.936   \n",
       "\n",
       "income_type                                   employee  ...      entrepreneur  \\\n",
       "education               some college bachelor's degree  ... bachelor's degree   \n",
       "age_category                                            ...                     \n",
       "student or early career   16711.8445        20830.3315  ...               NaN   \n",
       "twenties                  21983.2560        24237.3580  ...         79866.103   \n",
       "thirties                  30672.7180        26773.8850  ...               NaN   \n",
       "forties                   26587.6740        27497.5880  ...               NaN   \n",
       "fifties                          NaN        27471.9360  ...               NaN   \n",
       "senior citizen                   NaN        27969.0405  ...               NaN   \n",
       "\n",
       "income_type             paternity / maternity leave           retiree  \\\n",
       "education                       secondary education bachelor's degree   \n",
       "age_category                                                            \n",
       "student or early career                         NaN               NaN   \n",
       "twenties                                        NaN        34394.1280   \n",
       "thirties                                   8612.661        30117.8830   \n",
       "forties                                         NaN        31828.7485   \n",
       "fifties                                         NaN        22805.7985   \n",
       "senior citizen                                  NaN        23126.7990   \n",
       "\n",
       "income_type                                                                    \\\n",
       "education               graduate degree primary education secondary education   \n",
       "age_category                                                                    \n",
       "student or early career             NaN               NaN                 NaN   \n",
       "twenties                            NaN               NaN          12807.0710   \n",
       "thirties                            NaN        14138.8660          18495.7740   \n",
       "forties                             NaN        15708.4330          22263.9860   \n",
       "fifties                             NaN        17104.9250          18805.1185   \n",
       "senior citizen                28334.215        16348.0735          17893.5080   \n",
       "\n",
       "income_type                                    student        unemployed  \\\n",
       "education               some college bachelor's degree bachelor's degree   \n",
       "age_category                                                               \n",
       "student or early career          NaN               NaN               NaN   \n",
       "twenties                         NaN          15712.26               NaN   \n",
       "thirties                         NaN               NaN               NaN   \n",
       "forties                     8199.590               NaN         32435.602   \n",
       "fifties                    17973.623               NaN               NaN   \n",
       "senior citizen             21109.130               NaN               NaN   \n",
       "\n",
       "income_type                                  \n",
       "education               secondary education  \n",
       "age_category                                 \n",
       "student or early career                 NaN  \n",
       "twenties                                NaN  \n",
       "thirties                           9593.119  \n",
       "forties                                 NaN  \n",
       "fifties                                 NaN  \n",
       "senior citizen                          NaN  \n",
       "\n",
       "[6 rows x 24 columns]"
      ]
     },
     "execution_count": 65,
     "metadata": {},
     "output_type": "execute_result"
    }
   ],
   "source": [
    "# Look at the median values for income based on your identified factors\n",
    "#data.groupby('age_category')['total_income'].median()\n",
    "#data.groupby(['age_category', 'income_type'])['total_income'].median()\n",
    "#data.groupby(['age_category', 'income_type', 'education'])['total_income'].median()\n",
    "data_test = data.pivot_table(index='age_category', columns = ['income_type','education'], values='total_income', aggfunc='median', margins=False)\n",
    "data_test = data_test.reindex(['student or early career', 'twenties', 'thirties', 'forties', 'fifties', 'senior citizen'])\n",
    "data_test"
   ]
  },
  {
   "cell_type": "markdown",
   "metadata": {},
   "source": [
    "Let's look at the median income by income type, just for comparison\n"
   ]
  },
  {
   "cell_type": "code",
   "execution_count": 127,
   "metadata": {},
   "outputs": [
    {
     "data": {
      "text/html": [
       "<div>\n",
       "<style scoped>\n",
       "    .dataframe tbody tr th:only-of-type {\n",
       "        vertical-align: middle;\n",
       "    }\n",
       "\n",
       "    .dataframe tbody tr th {\n",
       "        vertical-align: top;\n",
       "    }\n",
       "\n",
       "    .dataframe thead th {\n",
       "        text-align: right;\n",
       "    }\n",
       "</style>\n",
       "<table border=\"1\" class=\"dataframe\">\n",
       "  <thead>\n",
       "    <tr style=\"text-align: right;\">\n",
       "      <th></th>\n",
       "      <th>total_income</th>\n",
       "    </tr>\n",
       "    <tr>\n",
       "      <th>income_type</th>\n",
       "      <th></th>\n",
       "    </tr>\n",
       "  </thead>\n",
       "  <tbody>\n",
       "    <tr>\n",
       "      <td>business</td>\n",
       "      <td>27192.33400</td>\n",
       "    </tr>\n",
       "    <tr>\n",
       "      <td>civil servant</td>\n",
       "      <td>23708.23200</td>\n",
       "    </tr>\n",
       "    <tr>\n",
       "      <td>employee</td>\n",
       "      <td>22221.93550</td>\n",
       "    </tr>\n",
       "    <tr>\n",
       "      <td>entrepreneur</td>\n",
       "      <td>50814.13425</td>\n",
       "    </tr>\n",
       "    <tr>\n",
       "      <td>paternity / maternity leave</td>\n",
       "      <td>8612.66100</td>\n",
       "    </tr>\n",
       "    <tr>\n",
       "      <td>retiree</td>\n",
       "      <td>18805.11850</td>\n",
       "    </tr>\n",
       "    <tr>\n",
       "      <td>student</td>\n",
       "      <td>15712.26000</td>\n",
       "    </tr>\n",
       "    <tr>\n",
       "      <td>unemployed</td>\n",
       "      <td>21014.36050</td>\n",
       "    </tr>\n",
       "  </tbody>\n",
       "</table>\n",
       "</div>"
      ],
      "text/plain": [
       "                             total_income\n",
       "income_type                              \n",
       "business                      27192.33400\n",
       "civil servant                 23708.23200\n",
       "employee                      22221.93550\n",
       "entrepreneur                  50814.13425\n",
       "paternity / maternity leave    8612.66100\n",
       "retiree                       18805.11850\n",
       "student                       15712.26000\n",
       "unemployed                    21014.36050"
      ]
     },
     "execution_count": 127,
     "metadata": {},
     "output_type": "execute_result"
    }
   ],
   "source": [
    "data_test = data.pivot_table(index='income_type', values='total_income', aggfunc='median', margins=False)\n",
    "data_test"
   ]
  },
  {
   "cell_type": "markdown",
   "metadata": {},
   "source": [
    "The median values in the pivot tables seem to be more mild than the values in the mean values. Additionally, there seem to be some large ranges of income for each age range. Given the fact that there are outliers in the data, I will be using the median income values to fill in the missing data. Comparing the median income values by income type with the mean values in the income pivot table also shows enough differences between the two that I feel more confindent in the median values returning more accurate data."
   ]
  },
  {
   "cell_type": "markdown",
   "metadata": {},
   "source": [
    "The below code block contains a function that I created for determining the median value of total income based on each row's specific characteristics. When called, the function receives a row and then obtains any rows in the entire dataset that have the same age category, income type, and education as the row that was passed as an arugment. The function then calculates the median total income value amongst all the rows that share the same age category, income type, and education, and returns that value. If there is an issue with executing the code for any row, the `except` branch will be executed which will just return `None`."
   ]
  },
  {
   "cell_type": "code",
   "execution_count": 71,
   "metadata": {},
   "outputs": [],
   "source": [
    "#  Write a function that we will use for filling in missing values\n",
    "# Based on the age group that the row falls in, fill in their income with the mean value as long as there are no crazy outliers\n",
    "\n",
    "def calculate_income(row):\n",
    "    \"\"\"\"\"\"\n",
    "   \n",
    "    age = row['age_category']\n",
    "    job = row['income_type']\n",
    "    education = row['education']\n",
    "    try:\n",
    "        median_value = data[(data['age_category'] == age) &(data['income_type'] == job) & (data['education'] == education)]['total_income'].median()\n",
    "        return median_value\n",
    "    except:\n",
    "        return\n",
    "        \n",
    "    #changed from return...to store as the total\n",
    "#This function is correct. It returns the median value for each row based on age, income type, education"
   ]
  },
  {
   "cell_type": "markdown",
   "metadata": {},
   "source": [
    "Let's see if it works by passing the function the below test row! The total_income listed in the row is **6000**, so we'll see if it's changed after we run the block!"
   ]
  },
  {
   "cell_type": "code",
   "execution_count": 72,
   "metadata": {},
   "outputs": [
    {
     "data": {
      "text/plain": [
       "children                            0\n",
       "days_employed                     874\n",
       "dob_years                          26\n",
       "education           bachelor's degree\n",
       "education_id                        4\n",
       "family_status               unmarried\n",
       "family_status_id                    0\n",
       "gender                              M\n",
       "income_type                  employee\n",
       "debt                                0\n",
       "total_income                  24237.4\n",
       "purpose                           car\n",
       "age_category                 twenties\n",
       "dtype: object"
      ]
     },
     "execution_count": 72,
     "metadata": {},
     "output_type": "execute_result"
    }
   ],
   "source": [
    "# Check if it works\n",
    "columns = ['children', 'days_employed', 'dob_years', 'education', 'education_id', 'family_status', 'family_status_id', 'gender', 'income_type', 'debt', 'total_income', 'purpose', 'age_category']\n",
    "row = [0, 874, 26, \"bachelor's degree\", 4, \"unmarried\", 0, \"M\", \"employee\", 0, 6000, 'car', 'twenties']\n",
    "test = pd.Series(row, columns)\n",
    "test['total_income'] = calculate_income(test)\n",
    "test\n"
   ]
  },
  {
   "cell_type": "markdown",
   "metadata": {},
   "source": [
    "As can be seen, the value for the test row in the `'total_income'` column is now **24237.4**! The function created a dataset of all the rows that matched the same age category, income type, and education as the test row, and then returned the median income value. The returned median income value was then stored into the `'total_income'` cell for that row.\n",
    "\n",
    "Now that we know the function works, let's apply to all the rows in the dataset that are missing values in the `'total_income'` column. See the code block below."
   ]
  },
  {
   "cell_type": "code",
   "execution_count": 153,
   "metadata": {},
   "outputs": [],
   "source": [
    "# Apply it to every row\n",
    "# I only want to apply it rows where the data is missing....\n",
    "\n",
    "data.loc[data['total_income'].isna(),'total_income'] = data[data['total_income'].isna()].apply(calculate_income, axis=1)\n"
   ]
  },
  {
   "cell_type": "markdown",
   "metadata": {},
   "source": [
    "We got a warning saying that the 'Mean of empty slice return np.nanmean'. That must mean that one or more values was not able to calculate a median value since the only values in the dataset were `NaN`. This is most likley due to a row or two tha has such a unique combination of values from the age category, income type, and education that they were the only rows filtered into the dataset in the function. Thus, the function couldn't calculate a median total income since the only income value was missing! Let's check to see if this hypothesis is correct by checking to see if any missing values remain in the `'total_income'` column."
   ]
  },
  {
   "cell_type": "code",
   "execution_count": 74,
   "metadata": {},
   "outputs": [
    {
     "data": {
      "text/html": [
       "<div>\n",
       "<style scoped>\n",
       "    .dataframe tbody tr th:only-of-type {\n",
       "        vertical-align: middle;\n",
       "    }\n",
       "\n",
       "    .dataframe tbody tr th {\n",
       "        vertical-align: top;\n",
       "    }\n",
       "\n",
       "    .dataframe thead th {\n",
       "        text-align: right;\n",
       "    }\n",
       "</style>\n",
       "<table border=\"1\" class=\"dataframe\">\n",
       "  <thead>\n",
       "    <tr style=\"text-align: right;\">\n",
       "      <th></th>\n",
       "      <th>children</th>\n",
       "      <th>days_employed</th>\n",
       "      <th>dob_years</th>\n",
       "      <th>education</th>\n",
       "      <th>education_id</th>\n",
       "      <th>family_status</th>\n",
       "      <th>family_status_id</th>\n",
       "      <th>gender</th>\n",
       "      <th>income_type</th>\n",
       "      <th>debt</th>\n",
       "      <th>total_income</th>\n",
       "      <th>purpose</th>\n",
       "      <th>age_category</th>\n",
       "    </tr>\n",
       "  </thead>\n",
       "  <tbody>\n",
       "    <tr>\n",
       "      <td>5880</td>\n",
       "      <td>0.0</td>\n",
       "      <td>0</td>\n",
       "      <td>58</td>\n",
       "      <td>bachelor's degree</td>\n",
       "      <td>0</td>\n",
       "      <td>married</td>\n",
       "      <td>0</td>\n",
       "      <td>M</td>\n",
       "      <td>entrepreneur</td>\n",
       "      <td>0</td>\n",
       "      <td>NaN</td>\n",
       "      <td>buy residential real estate</td>\n",
       "      <td>fifties</td>\n",
       "    </tr>\n",
       "    <tr>\n",
       "      <td>8055</td>\n",
       "      <td>0.0</td>\n",
       "      <td>0</td>\n",
       "      <td>64</td>\n",
       "      <td>primary education</td>\n",
       "      <td>3</td>\n",
       "      <td>civil partnership</td>\n",
       "      <td>1</td>\n",
       "      <td>F</td>\n",
       "      <td>civil servant</td>\n",
       "      <td>0</td>\n",
       "      <td>NaN</td>\n",
       "      <td>to have a wedding</td>\n",
       "      <td>senior citizen</td>\n",
       "    </tr>\n",
       "  </tbody>\n",
       "</table>\n",
       "</div>"
      ],
      "text/plain": [
       "      children  days_employed  dob_years          education  education_id  \\\n",
       "5880       0.0              0         58  bachelor's degree             0   \n",
       "8055       0.0              0         64  primary education             3   \n",
       "\n",
       "          family_status  family_status_id gender    income_type  debt  \\\n",
       "5880            married                 0      M   entrepreneur     0   \n",
       "8055  civil partnership                 1      F  civil servant     0   \n",
       "\n",
       "      total_income                      purpose    age_category  \n",
       "5880           NaN  buy residential real estate         fifties  \n",
       "8055           NaN            to have a wedding  senior citizen  "
      ]
     },
     "execution_count": 74,
     "metadata": {},
     "output_type": "execute_result"
    }
   ],
   "source": [
    "# Check if we got any errors\n",
    "data[data['total_income'].isna()]"
   ]
  },
  {
   "cell_type": "markdown",
   "metadata": {},
   "source": [
    "Two missing values still remain in the `'total_income'` column, and it looks like their characteristics are fairly unique. Instead of simply removing these rows (since that may harm the accuracy of the results), I will run the two rows through the function again, but change how many characteristics are used for obtaining the dataset. I will dorp the requirement for the rows in the dataset to have a matching education, and will only require that their age category and income type match the values in the argument row.  Run the code block below to apply the modified function to the rows in the dataset that have missing values in the `'total_income'` column (the 2 rows shown above)."
   ]
  },
  {
   "cell_type": "code",
   "execution_count": 75,
   "metadata": {},
   "outputs": [],
   "source": [
    "def calculate_income_second_filter(row):\n",
    "    \"\"\"\"\"\"\n",
    "   \n",
    "    age = row['age_category']\n",
    "    job = row['income_type']\n",
    "    try:\n",
    "        median_value = data[data['age_category'] == age]['total_income'].median()\n",
    "        return median_value\n",
    "    except:\n",
    "        return np.nan\n",
    "\n",
    "data.loc[data['total_income'].isna(),'total_income'] = data[data['total_income'].isna()].apply(calculate_income_second_filter, axis=1)"
   ]
  },
  {
   "cell_type": "markdown",
   "metadata": {},
   "source": [
    "Now let's see if we still having missing values in the `'total_income'` column."
   ]
  },
  {
   "cell_type": "code",
   "execution_count": 76,
   "metadata": {},
   "outputs": [
    {
     "data": {
      "text/html": [
       "<div>\n",
       "<style scoped>\n",
       "    .dataframe tbody tr th:only-of-type {\n",
       "        vertical-align: middle;\n",
       "    }\n",
       "\n",
       "    .dataframe tbody tr th {\n",
       "        vertical-align: top;\n",
       "    }\n",
       "\n",
       "    .dataframe thead th {\n",
       "        text-align: right;\n",
       "    }\n",
       "</style>\n",
       "<table border=\"1\" class=\"dataframe\">\n",
       "  <thead>\n",
       "    <tr style=\"text-align: right;\">\n",
       "      <th></th>\n",
       "      <th>children</th>\n",
       "      <th>days_employed</th>\n",
       "      <th>dob_years</th>\n",
       "      <th>education</th>\n",
       "      <th>education_id</th>\n",
       "      <th>family_status</th>\n",
       "      <th>family_status_id</th>\n",
       "      <th>gender</th>\n",
       "      <th>income_type</th>\n",
       "      <th>debt</th>\n",
       "      <th>total_income</th>\n",
       "      <th>purpose</th>\n",
       "      <th>age_category</th>\n",
       "    </tr>\n",
       "  </thead>\n",
       "  <tbody>\n",
       "  </tbody>\n",
       "</table>\n",
       "</div>"
      ],
      "text/plain": [
       "Empty DataFrame\n",
       "Columns: [children, days_employed, dob_years, education, education_id, family_status, family_status_id, gender, income_type, debt, total_income, purpose, age_category]\n",
       "Index: []"
      ]
     },
     "execution_count": 76,
     "metadata": {},
     "output_type": "execute_result"
    }
   ],
   "source": [
    "data[data['total_income'].isna()]"
   ]
  },
  {
   "cell_type": "markdown",
   "metadata": {},
   "source": [
    "The above code block returned an empty table! There are no rows in the dataset that have missing values in the `'total_income'` column!\n",
    "\n",
    "This can be confirmed by looking a the number of non-null values in the `'totatl_income'` column, which can be done by applying the `info()` method to the dataset."
   ]
  },
  {
   "cell_type": "code",
   "execution_count": 81,
   "metadata": {},
   "outputs": [
    {
     "name": "stdout",
     "output_type": "stream",
     "text": [
      "<class 'pandas.core.frame.DataFrame'>\n",
      "RangeIndex: 21230 entries, 0 to 21229\n",
      "Data columns (total 13 columns):\n",
      "children            21230 non-null float64\n",
      "days_employed       21230 non-null int64\n",
      "dob_years           21230 non-null int64\n",
      "education           21230 non-null object\n",
      "education_id        21230 non-null int64\n",
      "family_status       21230 non-null object\n",
      "family_status_id    21230 non-null int64\n",
      "gender              21230 non-null object\n",
      "income_type         21230 non-null object\n",
      "debt                21230 non-null int64\n",
      "total_income        21230 non-null float64\n",
      "purpose             21230 non-null object\n",
      "age_category        21230 non-null object\n",
      "dtypes: float64(2), int64(5), object(6)\n",
      "memory usage: 2.1+ MB\n"
     ]
    }
   ],
   "source": [
    "# Checking the number of entries in the columns\n",
    "data.info()\n"
   ]
  },
  {
   "cell_type": "markdown",
   "metadata": {},
   "source": [
    "There are no more null values in the `'total_income'` column. There are now only missing values in the `'days_employed'` column. Remember that the missing values in the `'days_employed'` column have been changed to **0**'s, which is why they don't appear as non-null values. I will address those next."
   ]
  },
  {
   "cell_type": "markdown",
   "metadata": {},
   "source": [
    "<div class=\"alert alert-block alert-success\">\n",
    "<b>Reviewer's comment v1</b> The calculations are correct"
   ]
  },
  {
   "cell_type": "markdown",
   "metadata": {},
   "source": [
    "###  Restoring values in `days_employed`"
   ]
  },
  {
   "cell_type": "markdown",
   "metadata": {},
   "source": [
    "\n",
    "Now we want to replace the missing values in the `'days_employed'` column with more accurate values that won't skew the results of the data. The factors that affect the values in the `'days_employed'` column are the customer's age and income type (or job). I chose to use the customer's income type to help determine the right median value since a student could be 21 or 22 and still have never been employed. I don't want that to throw off data for the customers that started their careers earlier at the age of 18 or 19.\n",
    "\n",
    "Let's go ahead and look at the mean and median values for the days employed by age and income type."
   ]
  },
  {
   "cell_type": "code",
   "execution_count": 135,
   "metadata": {},
   "outputs": [
    {
     "name": "stdout",
     "output_type": "stream",
     "text": [
      "dob_years  income_type  \n",
      "19         business            524.6\n",
      "           civil servant       509.0\n",
      "           employee            675.0\n",
      "20         business            479.2\n",
      "           civil servant       645.0\n",
      "                              ...   \n",
      "73         retiree          313357.9\n",
      "74         business           1729.0\n",
      "           employee           6682.0\n",
      "           retiree          359790.5\n",
      "75         civil servant      1678.0\n",
      "Name: days_employed, Length: 216, dtype: float64\n"
     ]
    }
   ],
   "source": [
    "data.groupby(['dob_years'])['days_employed'].sum() / data.groupby('dob_years')['days_employed'].count()\n",
    "\n",
    "print(round(data.groupby(['dob_years','income_type'])['days_employed'].mean(),1))"
   ]
  },
  {
   "cell_type": "code",
   "execution_count": 136,
   "metadata": {},
   "outputs": [
    {
     "name": "stdout",
     "output_type": "stream",
     "text": [
      "dob_years  income_type  \n",
      "19         business            695.0\n",
      "           civil servant       509.0\n",
      "           employee            794.5\n",
      "20         business            452.0\n",
      "           civil servant       645.0\n",
      "                              ...   \n",
      "73         retiree          364291.0\n",
      "74         business           1729.0\n",
      "           employee           6682.0\n",
      "           retiree          358742.0\n",
      "75         civil servant      1678.0\n",
      "Name: days_employed, Length: 216, dtype: float64\n"
     ]
    }
   ],
   "source": [
    "print(data.groupby(['dob_years', 'income_type'])['days_employed'].median())"
   ]
  },
  {
   "cell_type": "markdown",
   "metadata": {},
   "source": [
    "The mean and median values have similar outputs, so it doesn't really matter which one is used. For consistency sake, I will use the median values to replace the missing data. The process will largely mirror what was done for the `'total_income'` column."
   ]
  },
  {
   "cell_type": "code",
   "execution_count": 137,
   "metadata": {},
   "outputs": [],
   "source": [
    "#SCRATCH CODE\n",
    "\n",
    "# Distribution of `days_employed` means based on your identified parameters\n",
    "\n",
    "# total_ret = data[data['income_type'] == 'retiree']['days_employed'].sum()\n",
    "# number_of_ret = data[data['income_type'] == 'retiree']['days_employed'].count()\n",
    "# avg_day_employed_ret = total_ret / number_of_ret\n",
    "# total_ret_min = data[data['income_type'] == 'retiree']['days_employed'].min()\n",
    "# total_ret_max = data[data['income_type'] == 'retiree']['days_employed'].max()\n",
    "\n",
    "# print(f'The minimum number of days worked for a retiree is {round(total_ret_min,2)} days.')\n",
    "# print(f'The maximum number of days worked for a retiree is {round(total_ret_max,2)} days.')\n",
    "# print(f'The average number of days worked for a retiree is {round(avg_day_employed_ret,2)} days.')"
   ]
  },
  {
   "cell_type": "markdown",
   "metadata": {},
   "source": [
    "The below code block contains a function with will calculate the median days employed for each row based on its particular characteristics. The characteristics that are used are the age and income type of the customer. So, the `'age_category'` and `'income_type'` columns will be used to store variable inside the function. The function will then pull data that match the same age and income type values, at which point the median days empoloyed value will be calculated and returned."
   ]
  },
  {
   "cell_type": "code",
   "execution_count": 138,
   "metadata": {},
   "outputs": [],
   "source": [
    "# Let's write a function that calculates means or medians (depending on your decision) based on your identified parameter\n",
    "# The identified parameter is the age of the applicant. The age can give a good determination of what the median value\n",
    "# of the days_employed\n",
    "\n",
    "def median_days_employed_by_age(row):\n",
    "    \"\"\"\"\"\"\n",
    "    age = row['age_category']\n",
    "    job = row['income_type']\n",
    "    \n",
    "    med_value = data[(data['age_category'] == age) & (data['income_type'] == job)]['days_employed'].median()\n",
    "    return med_value\n",
    "    \n",
    "    #data_by_age = data[data['dob_years'] == age]\n",
    "    #return data_by_age.groupby(['dob_years'])['days_employed'].median()\n"
   ]
  },
  {
   "cell_type": "markdown",
   "metadata": {},
   "source": [
    "Let's test the function by passing it the test row below. The initial days employed value is **684**. Let's see if that changes at all!"
   ]
  },
  {
   "cell_type": "code",
   "execution_count": 143,
   "metadata": {},
   "outputs": [
    {
     "data": {
      "text/plain": [
       "children                            0\n",
       "days_employed                     935\n",
       "dob_years                          26\n",
       "education           bachelor's degree\n",
       "education_id                        4\n",
       "family_status               unmarried\n",
       "family_status_id                    0\n",
       "gender                              M\n",
       "income_type                  employee\n",
       "debt                                0\n",
       "total_income                     6000\n",
       "purpose                           car\n",
       "age_category                 twenties\n",
       "dtype: object"
      ]
     },
     "execution_count": 143,
     "metadata": {},
     "output_type": "execute_result"
    }
   ],
   "source": [
    "# Check that the function works\n",
    "\n",
    "row = [0, 684, 26, \"bachelor's degree\", 4, \"unmarried\", 0, \"M\", \"employee\", 0, 6000, 'car', 'twenties']\n",
    "columns = ['children', 'days_employed', 'dob_years', 'education', 'education_id', 'family_status', 'family_status_id', 'gender', 'income_type', 'debt', 'total_income', 'purpose', 'age_category']\n",
    "test = pd.Series(row, columns)\n",
    "test['days_employed'] = median_days_employed_by_age(test)\n",
    "test\n"
   ]
  },
  {
   "cell_type": "markdown",
   "metadata": {},
   "source": [
    "The value in the `'days_employed'` column changed from **684** to **935**. The function works! Now let's apply the function to all the rows in the dataset where the value in the `'days_employed'` column is qual to zero.\n",
    "\n",
    "**NOTE:** The missing values were converted from `NaN` to zeros earlier in this report."
   ]
  },
  {
   "cell_type": "code",
   "execution_count": 141,
   "metadata": {},
   "outputs": [],
   "source": [
    "# Apply function to the income_type\n",
    "# APPARENTLY I AM SUPPOSED OT USE THIS ON THE INCOME_TYPE\n",
    "\n",
    "data.loc[data['days_employed'] == 0, 'days_employed'] = data[data['days_employed'] == 0].apply(median_days_employed_by_age, axis=1)\n"
   ]
  },
  {
   "cell_type": "markdown",
   "metadata": {},
   "source": [
    "Let's see if the function worked. There should be no rows where the `'days_employed'` value is equal to zero."
   ]
  },
  {
   "cell_type": "code",
   "execution_count": 142,
   "metadata": {},
   "outputs": [
    {
     "data": {
      "text/html": [
       "<div>\n",
       "<style scoped>\n",
       "    .dataframe tbody tr th:only-of-type {\n",
       "        vertical-align: middle;\n",
       "    }\n",
       "\n",
       "    .dataframe tbody tr th {\n",
       "        vertical-align: top;\n",
       "    }\n",
       "\n",
       "    .dataframe thead th {\n",
       "        text-align: right;\n",
       "    }\n",
       "</style>\n",
       "<table border=\"1\" class=\"dataframe\">\n",
       "  <thead>\n",
       "    <tr style=\"text-align: right;\">\n",
       "      <th></th>\n",
       "      <th>children</th>\n",
       "      <th>days_employed</th>\n",
       "      <th>dob_years</th>\n",
       "      <th>education</th>\n",
       "      <th>education_id</th>\n",
       "      <th>family_status</th>\n",
       "      <th>family_status_id</th>\n",
       "      <th>gender</th>\n",
       "      <th>income_type</th>\n",
       "      <th>debt</th>\n",
       "      <th>total_income</th>\n",
       "      <th>purpose</th>\n",
       "      <th>age_category</th>\n",
       "      <th>children_category</th>\n",
       "      <th>purpose_category</th>\n",
       "      <th>income_level</th>\n",
       "    </tr>\n",
       "  </thead>\n",
       "  <tbody>\n",
       "    <tr>\n",
       "      <td>5880</td>\n",
       "      <td>0.0</td>\n",
       "      <td>0.0</td>\n",
       "      <td>58</td>\n",
       "      <td>bachelor's degree</td>\n",
       "      <td>0</td>\n",
       "      <td>married</td>\n",
       "      <td>0</td>\n",
       "      <td>M</td>\n",
       "      <td>entrepreneur</td>\n",
       "      <td>0</td>\n",
       "      <td>21762.1655</td>\n",
       "      <td>buy residential real estate</td>\n",
       "      <td>fifties</td>\n",
       "      <td>No children</td>\n",
       "      <td>property</td>\n",
       "      <td>$20K - $30K</td>\n",
       "    </tr>\n",
       "  </tbody>\n",
       "</table>\n",
       "</div>"
      ],
      "text/plain": [
       "      children  days_employed  dob_years          education  education_id  \\\n",
       "5880       0.0            0.0         58  bachelor's degree             0   \n",
       "\n",
       "     family_status  family_status_id gender   income_type  debt  total_income  \\\n",
       "5880       married                 0      M  entrepreneur     0    21762.1655   \n",
       "\n",
       "                          purpose age_category children_category  \\\n",
       "5880  buy residential real estate      fifties       No children   \n",
       "\n",
       "     purpose_category income_level  \n",
       "5880         property  $20K - $30K  "
      ]
     },
     "execution_count": 142,
     "metadata": {},
     "output_type": "execute_result"
    }
   ],
   "source": [
    "# Check if function worked\n",
    "data[data['days_employed'] == 0]\n"
   ]
  },
  {
   "cell_type": "markdown",
   "metadata": {},
   "source": [
    "That pesky entrepreneur! There seems to be one customer who has a very unique set of characteristics. Let's do what we did when working with the remaining missing values in the `'total_income'` column and pass it through a secondary function. Below is a code block that contains the same function as before, but only checks for rows that contain the same `'age_category'` value for populating the dataset."
   ]
  },
  {
   "cell_type": "code",
   "execution_count": 145,
   "metadata": {},
   "outputs": [],
   "source": [
    "# Replacing missing values\n",
    "def median_days_employed_by_age_second_filter(row):\n",
    "    \"\"\"\"\"\"\n",
    "    age = row['age_category']\n",
    "    job = row['income_type']\n",
    "    \n",
    "    med_value = data[data['age_category'] == age]['days_employed'].median()\n",
    "    return med_value\n",
    "    \n",
    "data.loc[data['days_employed'] == 0, 'days_employed'] = data[data['days_employed'] == 0].apply(median_days_employed_by_age_second_filter, axis=1)\n"
   ]
  },
  {
   "cell_type": "markdown",
   "metadata": {},
   "source": [
    "Let's check again to see if the missing value remains."
   ]
  },
  {
   "cell_type": "code",
   "execution_count": 146,
   "metadata": {},
   "outputs": [
    {
     "data": {
      "text/html": [
       "<div>\n",
       "<style scoped>\n",
       "    .dataframe tbody tr th:only-of-type {\n",
       "        vertical-align: middle;\n",
       "    }\n",
       "\n",
       "    .dataframe tbody tr th {\n",
       "        vertical-align: top;\n",
       "    }\n",
       "\n",
       "    .dataframe thead th {\n",
       "        text-align: right;\n",
       "    }\n",
       "</style>\n",
       "<table border=\"1\" class=\"dataframe\">\n",
       "  <thead>\n",
       "    <tr style=\"text-align: right;\">\n",
       "      <th></th>\n",
       "      <th>children</th>\n",
       "      <th>days_employed</th>\n",
       "      <th>dob_years</th>\n",
       "      <th>education</th>\n",
       "      <th>education_id</th>\n",
       "      <th>family_status</th>\n",
       "      <th>family_status_id</th>\n",
       "      <th>gender</th>\n",
       "      <th>income_type</th>\n",
       "      <th>debt</th>\n",
       "      <th>total_income</th>\n",
       "      <th>purpose</th>\n",
       "      <th>age_category</th>\n",
       "      <th>children_category</th>\n",
       "      <th>purpose_category</th>\n",
       "      <th>income_level</th>\n",
       "    </tr>\n",
       "  </thead>\n",
       "  <tbody>\n",
       "  </tbody>\n",
       "</table>\n",
       "</div>"
      ],
      "text/plain": [
       "Empty DataFrame\n",
       "Columns: [children, days_employed, dob_years, education, education_id, family_status, family_status_id, gender, income_type, debt, total_income, purpose, age_category, children_category, purpose_category, income_level]\n",
       "Index: []"
      ]
     },
     "execution_count": 146,
     "metadata": {},
     "output_type": "execute_result"
    }
   ],
   "source": [
    "data[data['days_employed'] == 0]"
   ]
  },
  {
   "cell_type": "markdown",
   "metadata": {},
   "source": [
    "An empty table was returned! There are no longer any missing values in the `'days_empoloyed'` column! Now let's check the entire dataset by simply calling the `info()` method."
   ]
  },
  {
   "cell_type": "code",
   "execution_count": 147,
   "metadata": {},
   "outputs": [
    {
     "name": "stdout",
     "output_type": "stream",
     "text": [
      "<class 'pandas.core.frame.DataFrame'>\n",
      "RangeIndex: 21230 entries, 0 to 21229\n",
      "Data columns (total 16 columns):\n",
      "children             21230 non-null float64\n",
      "days_employed        21230 non-null float64\n",
      "dob_years            21230 non-null int64\n",
      "education            21230 non-null object\n",
      "education_id         21230 non-null int64\n",
      "family_status        21230 non-null object\n",
      "family_status_id     21230 non-null int64\n",
      "gender               21230 non-null object\n",
      "income_type          21230 non-null object\n",
      "debt                 21230 non-null int64\n",
      "total_income         21230 non-null float64\n",
      "purpose              21230 non-null object\n",
      "age_category         21230 non-null object\n",
      "children_category    21230 non-null object\n",
      "purpose_category     21230 non-null object\n",
      "income_level         21230 non-null object\n",
      "dtypes: float64(3), int64(4), object(9)\n",
      "memory usage: 2.6+ MB\n"
     ]
    }
   ],
   "source": [
    "# Check the entries in all columns - make sure we fixed all missing values\n",
    "data.info()"
   ]
  },
  {
   "cell_type": "markdown",
   "metadata": {},
   "source": [
    "There are no longer any null values in the dataset, and all columns contain the same number of non-null values. Now that we have an entirely useful dataset, it's time to move on to categorizing the data"
   ]
  },
  {
   "cell_type": "markdown",
   "metadata": {},
   "source": [
    "<div class=\"alert alert-block alert-success\">\n",
    "<b>Reviewer's comment v1</b> You conducted a great analysis"
   ]
  },
  {
   "cell_type": "markdown",
   "metadata": {},
   "source": [
    "## Categorization of data\n",
    "\n",
    "### Text Columns\n",
    "\n",
    "#### The `'children'` column\n",
    "\n",
    "With all the missing values replaced, it is now time to categorize the data to assist with displaying the information in an easy to understand manner. From looking at the hypotheses again, the columns that the `'debt'` values will be compared again are `'children'`, `'family_status'`, `'total_income'`, and `'purpose'`. To simply the data so that the final tables will be more easily understood, the values in each column will be categorized into smaller groups.\n",
    "\n",
    "Let's first look at the `'children'` column, which contains values in the range of **0-5**."
   ]
  },
  {
   "cell_type": "code",
   "execution_count": 84,
   "metadata": {},
   "outputs": [
    {
     "data": {
      "text/plain": [
       "array([1., 0., 3., 2., 4., 5.])"
      ]
     },
     "execution_count": 84,
     "metadata": {},
     "output_type": "execute_result"
    }
   ],
   "source": [
    "data['children'].unique()"
   ]
  },
  {
   "cell_type": "markdown",
   "metadata": {},
   "source": [
    "Because the hypothesis as to whether having children has any impact on a customer's ability to repay a loan on-time, I will categorize the data into either having kids or not having kids. Any row with a value in the `'children'` column that is equal to zero will be placed into the `'No children'` category, and any rows with values greater than zero will be placed into the `'Children'` category. The category labels will be stored into a new column called `'children_category'`. This will allow us to easily see how customers with and without kids were able to handle repaying their loans.\n",
    "\n",
    "The function below takes the value in the `'children'` column of each row in the dataset and determines which category to place it in."
   ]
  },
  {
   "cell_type": "code",
   "execution_count": 85,
   "metadata": {},
   "outputs": [],
   "source": [
    "# labeling children column as having kids or not having kids\n",
    "\n",
    "def kids_categ(child):\n",
    "    \"\"\"\"\"\"\n",
    "    if child == 0:\n",
    "        return 'No children'\n",
    "    return 'Children'\n",
    "\n",
    "data['children_category'] = data['children'].apply(kids_categ)\n"
   ]
  },
  {
   "cell_type": "markdown",
   "metadata": {},
   "source": [
    "Let's look at the new column, `'children_category'`, that was created for storing the category labels in."
   ]
  },
  {
   "cell_type": "code",
   "execution_count": 86,
   "metadata": {},
   "outputs": [
    {
     "data": {
      "text/plain": [
       "0           Children\n",
       "1           Children\n",
       "2        No children\n",
       "3           Children\n",
       "4        No children\n",
       "            ...     \n",
       "21225       Children\n",
       "21226    No children\n",
       "21227       Children\n",
       "21228       Children\n",
       "21229       Children\n",
       "Name: children_category, Length: 21230, dtype: object"
      ]
     },
     "execution_count": 86,
     "metadata": {},
     "output_type": "execute_result"
    }
   ],
   "source": [
    "data['children_category']"
   ]
  },
  {
   "cell_type": "markdown",
   "metadata": {},
   "source": [
    "As can be seen, the function worked correctly and now the data is categorized into either having `'Children'` or having `'No children'`.\n",
    "\n",
    "#### The `'purpose'` column\n",
    "\n",
    "One of the hypotheses is that different types of loan purposes have an impact on one's ability to repay a loan. So, let's take a look at the various kinds of loan purposes stored in the column."
   ]
  },
  {
   "cell_type": "code",
   "execution_count": 88,
   "metadata": {},
   "outputs": [
    {
     "data": {
      "text/plain": [
       "array(['purchase of the house', 'car purchase', 'supplementary education',\n",
       "       'to have a wedding', 'housing transactions', 'education',\n",
       "       'having a wedding', 'purchase of the house for my family',\n",
       "       'buy real estate', 'buy commercial real estate',\n",
       "       'buy residential real estate', 'construction of own property',\n",
       "       'property', 'building a property', 'buying a second-hand car',\n",
       "       'buying my own car', 'transactions with commercial real estate',\n",
       "       'building a real estate', 'housing',\n",
       "       'transactions with my real estate', 'cars', 'to become educated',\n",
       "       'second-hand car purchase', 'getting an education', 'car',\n",
       "       'wedding ceremony', 'to get a supplementary education',\n",
       "       'purchase of my own house', 'real estate transactions',\n",
       "       'getting higher education', 'to own a car', 'purchase of a car',\n",
       "       'profile education', 'university education',\n",
       "       'buying property for renting out', 'to buy a car',\n",
       "       'housing renovation', 'going to university'], dtype=object)"
      ]
     },
     "execution_count": 88,
     "metadata": {},
     "output_type": "execute_result"
    }
   ],
   "source": [
    "# Print the values for your selected data for categorization\n",
    "data['purpose'].unique()\n",
    "\n",
    "# Property - keyword: house / property / housing / estate\n",
    "# education - keyword: education / educated / university\n",
    "# car - keyword: car / \n",
    "# wedding - keyword: wedding"
   ]
  },
  {
   "cell_type": "markdown",
   "metadata": {},
   "source": [
    "That's a lot of unique values! However if you read over them, they all fall into 4 distinct categories.\n",
    "- loan for a car\n",
    "- loan for a wedding\n",
    "- loan for an education\n",
    "- loan for property\n",
    "\n",
    "Since there are really on 4 distince purposes for customer's getting a loan, I will go ahead and categorize the data as such. Now, there are a lot of string values that are different from each other in the `'purpose'` column. In order to save time and be efficient, I have selected a few keywords that show up in every string that relate to a certain category. That way, if the keyword appears in a string, I know exactly which category it belongs in. Take a look at the function below that checks if 'car', 'wedding', 'educat', 'university', or 'property' appear in the string, and then categorizes the string based on the keyword."
   ]
  },
  {
   "cell_type": "code",
   "execution_count": 116,
   "metadata": {},
   "outputs": [],
   "source": [
    "# Let's write a function to categorize the data based on common topics\n",
    "\n",
    "def purpose_categ(purpose):\n",
    "    ''' '''\n",
    "    if 'car' in purpose:\n",
    "        return 'car'\n",
    "    if 'wedding' in purpose:\n",
    "        return 'wedding'\n",
    "    if 'educat' in purpose or 'university' in purpose:\n",
    "        return 'education'\n",
    "    return 'property'"
   ]
  },
  {
   "cell_type": "markdown",
   "metadata": {},
   "source": [
    "Let's apply this function to the `'purpose'` column in the dataset, and then let's store the category labels in a new column called `'purpose_category'`."
   ]
  },
  {
   "cell_type": "code",
   "execution_count": 117,
   "metadata": {},
   "outputs": [],
   "source": [
    "# Create a column with the categories and count the values for them\n",
    "data['purpose_category'] = data['purpose'].apply(purpose_categ)\n"
   ]
  },
  {
   "cell_type": "markdown",
   "metadata": {},
   "source": [
    "Let's look at the new column that was created!"
   ]
  },
  {
   "cell_type": "code",
   "execution_count": 118,
   "metadata": {},
   "outputs": [
    {
     "data": {
      "text/plain": [
       "0         property\n",
       "1              car\n",
       "2         property\n",
       "3        education\n",
       "4          wedding\n",
       "           ...    \n",
       "21225     property\n",
       "21226          car\n",
       "21227     property\n",
       "21228          car\n",
       "21229          car\n",
       "Name: purpose_category, Length: 21230, dtype: object"
      ]
     },
     "execution_count": 118,
     "metadata": {},
     "output_type": "execute_result"
    }
   ],
   "source": [
    "# Looking through all the numerical data in your selected column for categorization\n",
    "data['purpose_category']\n",
    "#data[data['purpose_category'].isna()]"
   ]
  },
  {
   "cell_type": "markdown",
   "metadata": {},
   "source": [
    "### Numerical Columns\n",
    "\n",
    "#### The `'total_income'` column\n",
    "\n",
    "One hypothesis asks if the income level of the customers has any effect on their ability to repay the loan. The `'total_income'` has thousands of unique income values that would take days to analyze. To simplify things, let's categorize the values in the `'total_income'` column into income level brackets. I've decided to divide the total income values into brackets by tens of thousands. So, the brackets limits will be 10K, 20K, 30K,...80K, 90K, 100K+. The function below will take an income level and place it in one of the provided categories."
   ]
  },
  {
   "cell_type": "code",
   "execution_count": 94,
   "metadata": {},
   "outputs": [],
   "source": [
    "# Creating function for categorizing into different numerical groups based on ranges\n",
    "\n",
    "\n",
    "def income_level(income):\n",
    "    \"\"\"\"\"\"\n",
    "    \n",
    "    if income < 10_000:\n",
    "        return 'less than $10K'\n",
    "    if 10_000 <= income < 20_000:\n",
    "        return '$10K - $20K'\n",
    "    if 20_000 <= income < 30_000:\n",
    "        return '$20K - $30K'\n",
    "    if 30_000 <= income < 40_000:\n",
    "        return '$30K - $40K'\n",
    "    if 40_000 <= income < 50_000:\n",
    "        return '$40K - $50K'\n",
    "    if 50_000 <= income < 60_000:\n",
    "        return '$50K - $60K'\n",
    "    if 60_000 <= income < 70_000:\n",
    "        return '$60K - $70K'\n",
    "    if 70_000 <= income < 80_000:\n",
    "        return '$70K - $80K'\n",
    "    if 80_000 <= income < 90_000:\n",
    "        return '$80K - $90K'\n",
    "    if 90_000 <= income < 100_000:\n",
    "        return '$90K - $100K'\n",
    "    return '$100K+'\n"
   ]
  },
  {
   "cell_type": "markdown",
   "metadata": {},
   "source": [
    "Let's apply the function to the `'total_income'` column and store the category labels into a new column called `'income_level'`."
   ]
  },
  {
   "cell_type": "code",
   "execution_count": 95,
   "metadata": {},
   "outputs": [],
   "source": [
    "# Creating column with categories\n",
    "data['income_level'] = data['total_income'].apply(income_level)"
   ]
  },
  {
   "cell_type": "markdown",
   "metadata": {},
   "source": [
    "Now let's see how many row or income value are in each income category."
   ]
  },
  {
   "cell_type": "code",
   "execution_count": 97,
   "metadata": {
    "scrolled": true
   },
   "outputs": [
    {
     "data": {
      "text/plain": [
       "income_level\n",
       "$100K+              99\n",
       "$10K - $20K       6714\n",
       "$20K - $30K       7579\n",
       "$30K - $40K       3238\n",
       "$40K - $50K       1469\n",
       "$50K - $60K        645\n",
       "$60K - $70K        292\n",
       "$70K - $80K        155\n",
       "$80K - $90K         83\n",
       "$90K - $100K        40\n",
       "less than $10K     916\n",
       "dtype: int64"
      ]
     },
     "execution_count": 97,
     "metadata": {},
     "output_type": "execute_result"
    }
   ],
   "source": [
    "# Count each categories values to see the distribution\n",
    "count = data.groupby('income_level').size()\n",
    "count"
   ]
  },
  {
   "cell_type": "markdown",
   "metadata": {},
   "source": [
    "<div class=\"alert alert-block alert-success\">\n",
    "<b>Reviewer's comment v1</b> Great job on data categorization. It will help to answer questions below"
   ]
  },
  {
   "cell_type": "markdown",
   "metadata": {},
   "source": [
    "## Checking the Hypotheses\n",
    "\n",
    "With the data curated and categorized for final analysis, let's check each hypothesis individually to see if it holds any merit."
   ]
  },
  {
   "cell_type": "markdown",
   "metadata": {},
   "source": [
    "**Is there a correlation between having children and paying back on time?**\n",
    "\n",
    "To see if having children has any affect on a customer's ability to repay a loan, let's look at how many rows there are for each category that have defaulted or not defaulted on their loan. I will utilize the `value_counts()` method to display the data desired."
   ]
  },
  {
   "cell_type": "code",
   "execution_count": 108,
   "metadata": {},
   "outputs": [
    {
     "data": {
      "text/plain": [
       "children_category  debt\n",
       "Children           0        6543\n",
       "                   1         666\n",
       "No children        0       12963\n",
       "                   1        1058\n",
       "Name: debt, dtype: int64"
      ]
     },
     "execution_count": 108,
     "metadata": {},
     "output_type": "execute_result"
    }
   ],
   "source": [
    "# Checking children data by looking at the children category\n",
    "\n",
    "data.groupby('children_category')['debt'].value_counts()\n"
   ]
  },
  {
   "cell_type": "markdown",
   "metadata": {},
   "source": [
    "A total of **666** customers with children defaulted on their loans while **6543** did not. A total of **1058** customers without children defaulted on their loans while **12963** did not. While this data is a good start, it doesn't give us a great comparison since the ratio of customers without children and with children is basically 2:1. To get a better idea of the affect having or not have children has on one's ability to repay a loan, let's look at the default rates as percentages."
   ]
  },
  {
   "cell_type": "code",
   "execution_count": 109,
   "metadata": {},
   "outputs": [
    {
     "name": "stdout",
     "output_type": "stream",
     "text": [
      "The percent of customers without kids that default:   9.24%\n",
      "The percent of customers with kids that default:   7.55%\n"
     ]
    }
   ],
   "source": [
    "total = data.groupby('children_category')['debt'].sum()\n",
    "count = data.groupby('children_category')['debt'].count()\n",
    "\n",
    "default_percentage_children = total/count\n",
    "print(f'The percent of customers without kids that default:   {default_percentage_children[0]:.2%}')\n",
    "print(f'The percent of customers with kids that default:   {default_percentage_children[1]:.2%}')"
   ]
  },
  {
   "cell_type": "markdown",
   "metadata": {},
   "source": [
    "Now it can clearly be seen that customers without children default on their loans at a higher rate than customers who have children. This may be because cusotmers with children have to budget better, or maybe those with children are a little bit older and more experienced when it comes to finances.\n",
    "\n",
    "To get a better idea of how the number of children affect a customer's ability to repay their loan, let's look at default rates of customer's based on the number of children the have."
   ]
  },
  {
   "cell_type": "code",
   "execution_count": 110,
   "metadata": {},
   "outputs": [
    {
     "name": "stdout",
     "output_type": "stream",
     "text": [
      "Default rate by # of children:\n",
      "0 children:   7.5%\n",
      "1 children:   9.2%\n",
      "2 children:   9.5%\n",
      "3 children:   8.2%\n",
      "4 children:   9.8%\n",
      "5 children:   0.0%\n"
     ]
    }
   ],
   "source": [
    "# Check the children data and paying back on time\n",
    "\n",
    "#print(data.groupby('children')['debt'].sum())\n",
    "\n",
    "\n",
    "# Calculating default-rate based on the number of children\n",
    "total = data.groupby('children')['debt'].sum()\n",
    "count =data. groupby('children')['debt'].count()\n",
    "percentage = total / count\n",
    "i=0\n",
    "print('Default rate by # of children:')\n",
    "for row in percentage:\n",
    "    print(f'{i} children:   {row:.1%}')\n",
    "    i += 1\n"
   ]
  },
  {
   "cell_type": "markdown",
   "metadata": {},
   "source": [
    "When it comes to default rates for customers who have children, there is no significant difference based on the actual number of children that they have. However, it's worth noting that families with 5 children had a default rate of **0.0%**. This is most likely due to the fact that being financially able to support 5 children probably means the family is relatively savvy when it comes to budgeting, and never fall behind on payments. But for families with **1-4** children, the default rates were relatively the same\n",
    "\n",
    "The bank is better off loaning to a family with children, especially if they have 5 children. However, each customer, regardless of whether they have children, has a chance of defaulting that is less than **10%**, which seems pretty safe to me."
   ]
  },
  {
   "cell_type": "markdown",
   "metadata": {},
   "source": [
    "<div class=\"alert alert-block alert-success\">\n",
    "<b>Reviewer's comment v1</b> Correct"
   ]
  },
  {
   "cell_type": "markdown",
   "metadata": {},
   "source": [
    "**Is there a correlation between family status and paying back on time?**\n",
    "\n",
    "Let's look at the default rates of customers based on their marital status."
   ]
  },
  {
   "cell_type": "code",
   "execution_count": 112,
   "metadata": {},
   "outputs": [
    {
     "name": "stdout",
     "output_type": "stream",
     "text": [
      "Default rate by family status:\n",
      "widow / widower:   6.6%\n",
      "divorced:   7.1%\n",
      "married:   7.6%\n",
      "civil partnership:   9.3%\n",
      "unmarried:   9.8%\n"
     ]
    }
   ],
   "source": [
    "# Check the family status data and paying back on time\n",
    "data.groupby('family_status')['debt'].sum()\n",
    "\n",
    "columns = ['widow / widower', 'divorced', 'married', 'civil partnership', 'unmarried']\n",
    "\n",
    "# Calculating default-rate based on family status\n",
    "total = data.groupby('family_status')['debt'].sum()\n",
    "count = data.groupby('family_status')['debt'].count()\n",
    "percentage = (total / count)\n",
    "percentage = percentage.sort_values()\n",
    "\n",
    "i=0\n",
    "print('Default rate by family status:')\n",
    "for row in percentage:\n",
    "    print(f'{columns[i]}:   {row:.1%}')\n",
    "    i += 1\n"
   ]
  },
  {
   "cell_type": "markdown",
   "metadata": {},
   "source": [
    "From the default rates shown above, it would appear that customers who are unmarried have the most difficulty staying up-to-date on their loans. Unmarried customers default on a loan **9.8%** of the time. On the contrary, widows/widowers and divorced customers tend to have an easier time paying back their loans on-time, as they only have a default rate of **6.6%** and **7.1%**, respectively. Married customers are somewhat in the middle, as they have a default rate of **7.6%**.\n",
    "\n",
    "In general, it's riskier to loan to a customer who has never been married. It's relatively safer to loan to a customer who is legally and financially bound to another person. It is the safest to loan to someone who was previously married, regardless of the reasoning behind it."
   ]
  },
  {
   "cell_type": "markdown",
   "metadata": {},
   "source": [
    "**Is there a correlation between income level and paying back on time?**\n",
    "\n",
    "Let's look at the default rates of each income level. The code block below will output the percentages of debt holders for each income level."
   ]
  },
  {
   "cell_type": "code",
   "execution_count": 113,
   "metadata": {},
   "outputs": [
    {
     "name": "stdout",
     "output_type": "stream",
     "text": [
      "Customers who make $90K - $100K default on loans 5.00% of the time\n",
      "Customers who make $70K - $80K default on loans 5.16% of the time\n",
      "Customers who make $60K - $70K default on loans 5.48% of the time\n",
      "Customers who make $100K+ default on loans 6.06% of the time\n",
      "Customers who make less than $10K default on loans 6.33% of the time\n",
      "Customers who make $40K - $50K default on loans 6.88% of the time\n",
      "Customers who make $80K - $90K default on loans 7.23% of the time\n",
      "Customers who make $30K - $40K default on loans 7.63% of the time\n",
      "Customers who make $50K - $60K default on loans 8.37% of the time\n",
      "Customers who make $20K - $30K default on loans 8.56% of the time\n",
      "Customers who make $10K - $20K default on loans 8.59% of the time\n"
     ]
    }
   ],
   "source": [
    "# Check the income level data and paying back on time\n",
    "\n",
    "total = data.groupby('income_level')['debt'].sum()\n",
    "total\n",
    "\n",
    "count = data.groupby('income_level').size()\n",
    "count\n",
    "\n",
    "# Calculating default-rate based on income level\n",
    "percentages = (total/count).sort_values()\n",
    "headers = ['$90K - $100K', '$70K - $80K', '$60K - $70K', '$100K+', 'less than $10K', '$40K - $50K', '$80K - $90K', '$30K - $40K', '$50K - $60K', '$20K - $30K', '$10K - $20K']\n",
    "i=0\n",
    "for elem in percentages:\n",
    "    print(f'Customers who make {headers[i]} default on loans {elem:.2%} of the time')\n",
    "    i += 1"
   ]
  },
  {
   "cell_type": "markdown",
   "metadata": {},
   "source": [
    "Since I've sorted the default rates in ascending order, it is relatively easy to see which income levels default the least and which default the most. As is probably expected, customers in the upper third of income levels have a far lower default rate than customers who are in the lower third of income level. Those in the lower third income level have a tendency to default on their loans approximately 3% more of the time. What is maybe a little shocking is that customers with over $100K in income don't have the lowest default rate. They default approximately 6% of the time, which is roughly 1% higher than the lowest default rate."
   ]
  },
  {
   "cell_type": "markdown",
   "metadata": {},
   "source": [
    "**How do different loan purposes affect on-time loan repayment?**\n",
    "\n",
    "Let's look at the default rates of customers based on their reasoning for obtaining a loan."
   ]
  },
  {
   "cell_type": "code",
   "execution_count": 114,
   "metadata": {},
   "outputs": [
    {
     "data": {
      "text/plain": [
       "purpose\n",
       "education                                   32\n",
       "purchase of my own house                    34\n",
       "housing renovation                          35\n",
       "buying a second-hand car                    35\n",
       "getting an education                        36\n",
       "supplementary education                     38\n",
       "to become educated                          39\n",
       "university education                        40\n",
       "car                                         41\n",
       "construction of own property                41\n",
       "buy residential real estate                 41\n",
       "property                                    41\n",
       "car purchase                                42\n",
       "buy real estate                             43\n",
       "to buy a car                                43\n",
       "going to university                         43\n",
       "profile education                           44\n",
       "cars                                        44\n",
       "purchase of the house for my family         45\n",
       "to own a car                                45\n",
       "housing                                     46\n",
       "getting higher education                    46\n",
       "buying my own car                           46\n",
       "buy commercial real estate                  46\n",
       "purchase of the house                       47\n",
       "housing transactions                        47\n",
       "building a real estate                      48\n",
       "purchase of a car                           50\n",
       "transactions with my real estate            50\n",
       "to get a supplementary education            51\n",
       "second-hand car purchase                    51\n",
       "buying property for renting out             52\n",
       "transactions with commercial real estate    52\n",
       "building a property                         54\n",
       "real estate transactions                    55\n",
       "to have a wedding                           57\n",
       "having a wedding                            61\n",
       "wedding ceremony                            63\n",
       "Name: debt, dtype: int64"
      ]
     },
     "execution_count": 114,
     "metadata": {},
     "output_type": "execute_result"
    }
   ],
   "source": [
    "# Check the percentages for default rate for each credit purpose and analyze them\n",
    "data.groupby('purpose')['debt'].sum().sort_values()\n"
   ]
  },
  {
   "cell_type": "code",
   "execution_count": 122,
   "metadata": {},
   "outputs": [
    {
     "name": "stdout",
     "output_type": "stream",
     "text": [
      "Default rate by purpose of the loan:\n",
      "car:   9.3%\n",
      "education:   9.3%\n",
      "property:   7.3%\n",
      "wedding:   7.9%\n"
     ]
    }
   ],
   "source": [
    "# Check the purpose for the loan and paying back on time\n",
    "\n",
    "# Calculating default-rate based on the loan purpose\n",
    "total = data.groupby('purpose_category')['debt'].sum()\n",
    "count =data. groupby('purpose_category')['debt'].count()\n",
    "percentage = total / count\n",
    "columns = ['car', 'education', 'property', 'wedding']\n",
    "i=0\n",
    "print('Default rate by purpose of the loan:')\n",
    "for row in percentage:\n",
    "    print(f'{columns[i]}:   {row:.1%}')\n",
    "    i += 1\n"
   ]
  },
  {
   "cell_type": "markdown",
   "metadata": {},
   "source": [
    "Just over 9% of people who got a loan for a new car or to further their education defaulted on their loans. A little over 7% of people who got a loan to buy a house or property or finance their wedding defaulted on their loans. While it's safer to loan to a customer who is looking to finance a new house or a wedding, I don't see a significant risk in loaning to customers who want to buy a new car or further their education. In my opinion, 7% and 9% are similar enough that I can conclude that the reasoning behind a loan has no significant effect on the customer's ability to pay their loan on-time."
   ]
  },
  {
   "cell_type": "markdown",
   "metadata": {},
   "source": [
    "<div class=\"alert alert-block alert-success\">\n",
    "<b>Reviewer's comment v1</b> Well done!"
   ]
  },
  {
   "cell_type": "markdown",
   "metadata": {},
   "source": [
    "**Conclusion**\n",
    "\n",
    "After categorizing the data and displaying the default rates for various characteristics, I can say that income level and family status seem to be the two characteristics that affect a customer's ability to repay the loan on-time. The more money a customer makes, the more likely they are to keep up with their payements. The less money someone makes, the less likely they are to keep up with their payements, but it's not overly risky. Being unmarried is somewhat of a red flag, and involves a little more risk for the bank to take on. However customers that are married, widowed, or divorced, there is not a significant risk to defaulting on their loans. Again, it should be mentioned that loaning to a customer who has 5 children has been shown to have almost no risk, but that is solely based off this sample size of data. While the above characteristics did affect loan payments and default rates differently, I still don't think any default rates were significant enough to deny someone a loan."
   ]
  },
  {
   "cell_type": "markdown",
   "metadata": {},
   "source": [
    "# General Conclusion \n",
    "\n",
    "At the beginning of this study/report the dataset I was provided has missing values, incorrect values, and duplicates. Through various methods, I was able to obtain clean and concise data that would not result in skewed data. I went through each column to find missing values and incorrect data. The incorrect data was either removed altogether or edited so that it benefited the rest of the data (changing registers to all lowercase). \n",
    "\n",
    "Deciding to remove values took the most critical thining, and it was insightful to see that not all the data made sense. A large majority of the values in the `'days_employed'` column were negative, which would have inhibited any accurate calculations or displays of data for that column. In the end, it was required to change all the negative values to positive values. It was also necessary to remove the age of 0 from the `'dob_years'` column since no baby should have had a loan. The values of -1 and 20 were removed from the `'children'` column since the values were either impossible or unlikely. Lastly, the value of 'XNA' was removed from the `'gender'` column since it did not add value to the data. All these data values were removed due to being illogical and not appearing frequently enough to seriously skew the data if they were removed.\n",
    "\n",
    "Duplicates were removed using the drop_duplicates() method. That part of the data transformation was fairly easy and straightforward. There were 71 duplicates in the dataset, and then 0 after they were dropped.\n",
    "\n",
    "Finally, missing values were filled in with median values in the total_income and days_employed columns based on each customer's other characteristics. Missing values appeared in both the `'total_income'` column and the `'days_employed'` column, which would prove to be fairly important columns to have fully useful data in. The data contained missing data likely due to technical error, though it could be possible that the customers had not wished to share their income and starte date. It is highly unlikely that they would have been approved a loan without that kind of information though. Thus, I'll toss it up as a technical error.\n",
    "\n",
    "Once the dataset had been transformed into a table with entirely useful data, I decided to categorize the data to assist in interpretation of the data as it related to the hypotheses that were posed at the beginning.\n",
    "\n",
    "In the end, it was determined that customers without children defaulted on their loans at a higher rate than customers who did have children. Customers with children defaulted at a rate of **9.24%**, and customer without children defaulted at a rate of **7.55%**. The bank should not that customers with 5 children had a default rate of zero.\n",
    "\n",
    "When looking at the marital status of customers, it was determined that unmarried customers were the riskiest to loan to. The reasoning behind this is unkown, but most likely due to irresponsiblity and/or only one income. Unmarried customers defaulted at a rate of **9.8%**, which is pretty significant. Customers in civil partnerships were close behind unmarried customers with a default rate of **9.3**%. Married customers defaulted at a rate of **7.6%**, while divored and widow/widowers defaulted at a rate of **7.1%** and **6.6%**, respectively. A bank takes on more risk to finance an unmarried customer or a customer who is in a civil partnership. However customers who are married, divorced, or widowed tend to be much safer options for loans.\n",
    "\n",
    "The affect that income range has on a customer's ability to repay their loan is pretty much as expected. The higher a customers income is the more likely they will be able to make on-time payments on their loan. The opposite is true for for customers on the lower end of the income level range. Customers who made less than 50K tended to default on thier loans at a rate of 8%-9%, while customers who made over 60K tended to default on their loans less than 6 percent of the time. The higher the income of the customer, the less risky it is for the bank to approve them for a loan. It should be noted that customers making over $100K did not have the lowest default rate, but rather were on the higher end close at 6%.\n",
    "\n",
    "Finally, it was concluded that the purpose of the loan has very little effect on the customer's ability to repay their loan on-time. The default ranges were between roughly 7% and 9%. However, customers who were financing a house or wedding were less likely to default on their loans. Whereas, the opposite is true for customers wanting to finance a car or further their education.\n"
   ]
  },
  {
   "cell_type": "markdown",
   "metadata": {},
   "source": [
    "<div class=\"alert alert-success\">\n",
    "<b>Reviewer's comment v1:</b>\n",
    "    \n",
    "Thanks for the final conclusion! You conducted great research."
   ]
  }
 ],
 "metadata": {
  "ExecuteTimeLog": [
   {
    "duration": 2741,
    "start_time": "2021-10-21T01:08:49.480Z"
   },
   {
    "duration": 52,
    "start_time": "2021-10-21T01:08:53.315Z"
   },
   {
    "duration": 49,
    "start_time": "2021-10-21T01:08:57.432Z"
   },
   {
    "duration": 70,
    "start_time": "2021-10-21T01:09:07.706Z"
   },
   {
    "duration": 635,
    "start_time": "2022-01-29T04:59:17.986Z"
   },
   {
    "duration": 3,
    "start_time": "2022-01-29T05:00:43.785Z"
   },
   {
    "duration": 20,
    "start_time": "2022-01-29T05:01:01.352Z"
   },
   {
    "duration": 11,
    "start_time": "2022-01-29T05:01:18.121Z"
   },
   {
    "duration": 19,
    "start_time": "2022-01-29T05:01:57.593Z"
   },
   {
    "duration": 23,
    "start_time": "2022-01-29T05:02:17.149Z"
   },
   {
    "duration": 338,
    "start_time": "2022-01-29T19:23:50.552Z"
   },
   {
    "duration": 713,
    "start_time": "2022-01-29T19:23:56.352Z"
   },
   {
    "duration": 4,
    "start_time": "2022-01-29T19:23:57.067Z"
   },
   {
    "duration": 25,
    "start_time": "2022-01-29T19:23:57.073Z"
   },
   {
    "duration": 11,
    "start_time": "2022-01-29T19:23:57.100Z"
   },
   {
    "duration": 19,
    "start_time": "2022-01-29T19:23:57.113Z"
   },
   {
    "duration": 31,
    "start_time": "2022-01-29T19:23:57.917Z"
   },
   {
    "duration": 3,
    "start_time": "2022-01-29T19:23:57.950Z"
   },
   {
    "duration": 14,
    "start_time": "2022-01-29T19:23:57.955Z"
   },
   {
    "duration": 15,
    "start_time": "2022-01-29T19:23:57.971Z"
   },
   {
    "duration": 20,
    "start_time": "2022-01-29T19:23:57.990Z"
   },
   {
    "duration": 20,
    "start_time": "2022-01-29T19:23:58.011Z"
   },
   {
    "duration": 3,
    "start_time": "2022-01-29T19:23:58.032Z"
   },
   {
    "duration": 6,
    "start_time": "2022-01-29T19:23:58.038Z"
   },
   {
    "duration": 28,
    "start_time": "2022-01-29T19:23:58.046Z"
   },
   {
    "duration": 11,
    "start_time": "2022-01-29T19:23:58.077Z"
   },
   {
    "duration": 4,
    "start_time": "2022-01-29T19:23:58.090Z"
   },
   {
    "duration": 9,
    "start_time": "2022-01-29T19:23:58.098Z"
   },
   {
    "duration": 9,
    "start_time": "2022-01-29T19:23:58.108Z"
   },
   {
    "duration": 9,
    "start_time": "2022-01-29T19:23:58.118Z"
   },
   {
    "duration": 7,
    "start_time": "2022-01-29T19:23:58.129Z"
   },
   {
    "duration": 8,
    "start_time": "2022-01-29T19:23:58.138Z"
   },
   {
    "duration": 8,
    "start_time": "2022-01-29T19:23:58.148Z"
   },
   {
    "duration": 8,
    "start_time": "2022-01-29T19:23:58.158Z"
   },
   {
    "duration": 9,
    "start_time": "2022-01-29T19:23:58.168Z"
   },
   {
    "duration": 14,
    "start_time": "2022-01-29T19:23:58.179Z"
   },
   {
    "duration": 9,
    "start_time": "2022-01-29T19:23:58.195Z"
   },
   {
    "duration": 11,
    "start_time": "2022-01-29T19:23:58.207Z"
   },
   {
    "duration": 19,
    "start_time": "2022-01-29T19:23:58.220Z"
   },
   {
    "duration": 19,
    "start_time": "2022-01-29T19:23:58.241Z"
   },
   {
    "duration": 16,
    "start_time": "2022-01-29T19:23:58.262Z"
   },
   {
    "duration": 10,
    "start_time": "2022-01-29T19:23:58.282Z"
   },
   {
    "duration": 7,
    "start_time": "2022-01-29T19:23:58.298Z"
   },
   {
    "duration": 10,
    "start_time": "2022-01-29T19:23:58.308Z"
   },
   {
    "duration": 8,
    "start_time": "2022-01-29T19:23:58.319Z"
   },
   {
    "duration": 9,
    "start_time": "2022-01-29T19:23:58.329Z"
   },
   {
    "duration": 9,
    "start_time": "2022-01-29T19:23:58.339Z"
   },
   {
    "duration": 11,
    "start_time": "2022-01-29T19:23:58.350Z"
   },
   {
    "duration": 23,
    "start_time": "2022-01-29T19:23:58.363Z"
   },
   {
    "duration": 11,
    "start_time": "2022-01-29T19:23:58.392Z"
   },
   {
    "duration": 19,
    "start_time": "2022-01-29T19:23:58.404Z"
   },
   {
    "duration": 26,
    "start_time": "2022-01-29T19:23:58.424Z"
   },
   {
    "duration": 16,
    "start_time": "2022-01-29T19:23:58.452Z"
   },
   {
    "duration": 25,
    "start_time": "2022-01-29T19:23:58.469Z"
   },
   {
    "duration": 17,
    "start_time": "2022-01-29T19:23:58.495Z"
   },
   {
    "duration": 15,
    "start_time": "2022-01-29T19:23:58.514Z"
   },
   {
    "duration": 17,
    "start_time": "2022-01-29T19:23:58.531Z"
   },
   {
    "duration": 16,
    "start_time": "2022-01-29T19:23:58.549Z"
   },
   {
    "duration": 23,
    "start_time": "2022-01-29T19:23:58.566Z"
   },
   {
    "duration": 16,
    "start_time": "2022-01-29T19:23:58.593Z"
   },
   {
    "duration": 16,
    "start_time": "2022-01-29T19:23:58.610Z"
   },
   {
    "duration": 16,
    "start_time": "2022-01-29T19:23:58.627Z"
   },
   {
    "duration": 7,
    "start_time": "2022-01-29T19:23:58.644Z"
   },
   {
    "duration": 11,
    "start_time": "2022-01-29T19:23:58.652Z"
   },
   {
    "duration": 16,
    "start_time": "2022-01-29T19:23:58.665Z"
   },
   {
    "duration": 12,
    "start_time": "2022-01-29T19:23:58.683Z"
   },
   {
    "duration": 17,
    "start_time": "2022-01-29T19:23:58.699Z"
   },
   {
    "duration": 14,
    "start_time": "2022-01-29T19:23:58.718Z"
   },
   {
    "duration": 13,
    "start_time": "2022-01-29T19:23:58.734Z"
   },
   {
    "duration": 8,
    "start_time": "2022-01-29T19:23:58.748Z"
   },
   {
    "duration": 8,
    "start_time": "2022-01-29T19:23:58.757Z"
   },
   {
    "duration": 11,
    "start_time": "2022-01-29T19:23:58.767Z"
   },
   {
    "duration": 10,
    "start_time": "2022-01-29T19:23:58.779Z"
   },
   {
    "duration": 8,
    "start_time": "2022-01-29T19:23:58.790Z"
   },
   {
    "duration": 9,
    "start_time": "2022-01-29T19:23:58.799Z"
   },
   {
    "duration": 9,
    "start_time": "2022-01-29T19:23:58.809Z"
   },
   {
    "duration": 8,
    "start_time": "2022-01-29T19:23:58.820Z"
   },
   {
    "duration": 8,
    "start_time": "2022-01-29T19:23:58.830Z"
   },
   {
    "duration": 8,
    "start_time": "2022-01-29T19:23:58.840Z"
   },
   {
    "duration": 9,
    "start_time": "2022-01-29T19:23:58.849Z"
   },
   {
    "duration": 9,
    "start_time": "2022-01-29T19:23:58.859Z"
   },
   {
    "duration": 21,
    "start_time": "2022-01-29T19:23:58.869Z"
   },
   {
    "duration": 4,
    "start_time": "2022-01-29T19:23:58.898Z"
   },
   {
    "duration": 7,
    "start_time": "2022-01-29T19:23:58.905Z"
   },
   {
    "duration": 11,
    "start_time": "2022-01-29T19:23:58.914Z"
   },
   {
    "duration": 7,
    "start_time": "2022-01-29T19:23:58.926Z"
   },
   {
    "duration": 7,
    "start_time": "2022-01-29T19:23:58.935Z"
   },
   {
    "duration": 20,
    "start_time": "2022-01-29T19:24:49.090Z"
   },
   {
    "duration": 9,
    "start_time": "2022-01-29T19:29:37.823Z"
   },
   {
    "duration": 10,
    "start_time": "2022-01-29T19:30:10.614Z"
   },
   {
    "duration": 364,
    "start_time": "2022-01-29T19:30:27.729Z"
   },
   {
    "duration": 9,
    "start_time": "2022-01-29T19:31:10.830Z"
   },
   {
    "duration": 311,
    "start_time": "2022-01-29T19:32:13.394Z"
   },
   {
    "duration": 109,
    "start_time": "2022-01-29T19:32:23.439Z"
   },
   {
    "duration": 11,
    "start_time": "2022-01-29T19:32:37.957Z"
   },
   {
    "duration": -352,
    "start_time": "2022-01-29T19:36:10.157Z"
   },
   {
    "duration": 8248,
    "start_time": "2022-01-29T19:36:20.785Z"
   },
   {
    "duration": 689,
    "start_time": "2022-01-29T19:36:47.139Z"
   },
   {
    "duration": 3,
    "start_time": "2022-01-29T19:36:47.829Z"
   },
   {
    "duration": 18,
    "start_time": "2022-01-29T19:36:47.834Z"
   },
   {
    "duration": 9,
    "start_time": "2022-01-29T19:36:47.853Z"
   },
   {
    "duration": 23,
    "start_time": "2022-01-29T19:36:47.864Z"
   },
   {
    "duration": 7425,
    "start_time": "2022-01-29T19:36:47.888Z"
   },
   {
    "duration": -304,
    "start_time": "2022-01-29T19:36:55.622Z"
   },
   {
    "duration": -307,
    "start_time": "2022-01-29T19:36:55.626Z"
   },
   {
    "duration": -310,
    "start_time": "2022-01-29T19:36:55.630Z"
   },
   {
    "duration": -311,
    "start_time": "2022-01-29T19:36:55.632Z"
   },
   {
    "duration": -313,
    "start_time": "2022-01-29T19:36:55.635Z"
   },
   {
    "duration": -314,
    "start_time": "2022-01-29T19:36:55.638Z"
   },
   {
    "duration": -315,
    "start_time": "2022-01-29T19:36:55.640Z"
   },
   {
    "duration": -548,
    "start_time": "2022-01-29T19:36:55.874Z"
   },
   {
    "duration": -567,
    "start_time": "2022-01-29T19:36:55.894Z"
   },
   {
    "duration": -569,
    "start_time": "2022-01-29T19:36:55.896Z"
   },
   {
    "duration": -571,
    "start_time": "2022-01-29T19:36:55.899Z"
   },
   {
    "duration": -573,
    "start_time": "2022-01-29T19:36:55.901Z"
   },
   {
    "duration": -575,
    "start_time": "2022-01-29T19:36:55.904Z"
   },
   {
    "duration": -576,
    "start_time": "2022-01-29T19:36:55.906Z"
   },
   {
    "duration": -577,
    "start_time": "2022-01-29T19:36:55.907Z"
   },
   {
    "duration": -578,
    "start_time": "2022-01-29T19:36:55.909Z"
   },
   {
    "duration": -579,
    "start_time": "2022-01-29T19:36:55.911Z"
   },
   {
    "duration": -581,
    "start_time": "2022-01-29T19:36:55.913Z"
   },
   {
    "duration": -581,
    "start_time": "2022-01-29T19:36:55.914Z"
   },
   {
    "duration": -583,
    "start_time": "2022-01-29T19:36:55.916Z"
   },
   {
    "duration": -585,
    "start_time": "2022-01-29T19:36:55.919Z"
   },
   {
    "duration": -586,
    "start_time": "2022-01-29T19:36:55.921Z"
   },
   {
    "duration": -588,
    "start_time": "2022-01-29T19:36:55.923Z"
   },
   {
    "duration": -595,
    "start_time": "2022-01-29T19:36:55.931Z"
   },
   {
    "duration": -596,
    "start_time": "2022-01-29T19:36:55.933Z"
   },
   {
    "duration": -598,
    "start_time": "2022-01-29T19:36:55.935Z"
   },
   {
    "duration": -600,
    "start_time": "2022-01-29T19:36:55.938Z"
   },
   {
    "duration": -601,
    "start_time": "2022-01-29T19:36:55.940Z"
   },
   {
    "duration": -602,
    "start_time": "2022-01-29T19:36:55.942Z"
   },
   {
    "duration": -604,
    "start_time": "2022-01-29T19:36:55.944Z"
   },
   {
    "duration": -605,
    "start_time": "2022-01-29T19:36:55.946Z"
   },
   {
    "duration": -605,
    "start_time": "2022-01-29T19:36:55.948Z"
   },
   {
    "duration": -606,
    "start_time": "2022-01-29T19:36:55.950Z"
   },
   {
    "duration": -607,
    "start_time": "2022-01-29T19:36:55.952Z"
   },
   {
    "duration": -609,
    "start_time": "2022-01-29T19:36:55.954Z"
   },
   {
    "duration": -610,
    "start_time": "2022-01-29T19:36:55.956Z"
   },
   {
    "duration": -744,
    "start_time": "2022-01-29T19:36:56.091Z"
   },
   {
    "duration": -772,
    "start_time": "2022-01-29T19:36:56.120Z"
   },
   {
    "duration": -848,
    "start_time": "2022-01-29T19:36:56.197Z"
   },
   {
    "duration": -869,
    "start_time": "2022-01-29T19:36:56.219Z"
   },
   {
    "duration": -870,
    "start_time": "2022-01-29T19:36:56.221Z"
   },
   {
    "duration": -872,
    "start_time": "2022-01-29T19:36:56.223Z"
   },
   {
    "duration": -872,
    "start_time": "2022-01-29T19:36:56.225Z"
   },
   {
    "duration": -873,
    "start_time": "2022-01-29T19:36:56.227Z"
   },
   {
    "duration": -874,
    "start_time": "2022-01-29T19:36:56.229Z"
   },
   {
    "duration": -875,
    "start_time": "2022-01-29T19:36:56.231Z"
   },
   {
    "duration": -876,
    "start_time": "2022-01-29T19:36:56.233Z"
   },
   {
    "duration": -878,
    "start_time": "2022-01-29T19:36:56.235Z"
   },
   {
    "duration": -879,
    "start_time": "2022-01-29T19:36:56.237Z"
   },
   {
    "duration": -881,
    "start_time": "2022-01-29T19:36:56.239Z"
   },
   {
    "duration": -877,
    "start_time": "2022-01-29T19:36:56.249Z"
   },
   {
    "duration": -880,
    "start_time": "2022-01-29T19:36:56.252Z"
   },
   {
    "duration": -881,
    "start_time": "2022-01-29T19:36:56.254Z"
   },
   {
    "duration": -881,
    "start_time": "2022-01-29T19:36:56.255Z"
   },
   {
    "duration": -883,
    "start_time": "2022-01-29T19:36:56.258Z"
   },
   {
    "duration": -884,
    "start_time": "2022-01-29T19:36:56.260Z"
   },
   {
    "duration": -885,
    "start_time": "2022-01-29T19:36:56.262Z"
   },
   {
    "duration": -886,
    "start_time": "2022-01-29T19:36:56.264Z"
   },
   {
    "duration": -887,
    "start_time": "2022-01-29T19:36:56.266Z"
   },
   {
    "duration": -889,
    "start_time": "2022-01-29T19:36:56.268Z"
   },
   {
    "duration": -890,
    "start_time": "2022-01-29T19:36:56.270Z"
   },
   {
    "duration": -891,
    "start_time": "2022-01-29T19:36:56.272Z"
   },
   {
    "duration": -893,
    "start_time": "2022-01-29T19:36:56.274Z"
   },
   {
    "duration": -894,
    "start_time": "2022-01-29T19:36:56.276Z"
   },
   {
    "duration": -896,
    "start_time": "2022-01-29T19:36:56.279Z"
   },
   {
    "duration": 20,
    "start_time": "2022-01-29T19:37:25.497Z"
   },
   {
    "duration": 7713,
    "start_time": "2022-01-29T19:38:06.904Z"
   },
   {
    "duration": 8,
    "start_time": "2022-01-29T19:38:27.182Z"
   },
   {
    "duration": 1059,
    "start_time": "2022-01-29T19:38:56.251Z"
   },
   {
    "duration": 8,
    "start_time": "2022-01-29T19:40:00.549Z"
   },
   {
    "duration": 6,
    "start_time": "2022-01-29T19:40:11.095Z"
   },
   {
    "duration": 7,
    "start_time": "2022-01-29T19:40:37.925Z"
   },
   {
    "duration": 9,
    "start_time": "2022-01-29T19:49:45.859Z"
   },
   {
    "duration": 93,
    "start_time": "2022-01-29T19:50:19.444Z"
   },
   {
    "duration": 334,
    "start_time": "2022-01-29T19:50:29.725Z"
   },
   {
    "duration": 317,
    "start_time": "2022-01-29T19:51:01.781Z"
   },
   {
    "duration": 157,
    "start_time": "2022-01-29T19:51:56.538Z"
   },
   {
    "duration": 7,
    "start_time": "2022-01-29T19:52:09.932Z"
   },
   {
    "duration": 8,
    "start_time": "2022-01-29T19:53:42.228Z"
   },
   {
    "duration": 162,
    "start_time": "2022-01-29T19:54:08.685Z"
   },
   {
    "duration": 5,
    "start_time": "2022-01-29T19:54:13.387Z"
   },
   {
    "duration": 6,
    "start_time": "2022-01-29T19:54:31.396Z"
   },
   {
    "duration": 301,
    "start_time": "2022-01-29T19:56:41.109Z"
   },
   {
    "duration": 296,
    "start_time": "2022-01-29T19:57:03.408Z"
   },
   {
    "duration": 298,
    "start_time": "2022-01-29T19:57:10.436Z"
   },
   {
    "duration": 104,
    "start_time": "2022-01-29T19:57:18.141Z"
   },
   {
    "duration": 11,
    "start_time": "2022-01-29T19:57:29.204Z"
   },
   {
    "duration": 12,
    "start_time": "2022-01-29T19:57:38.692Z"
   },
   {
    "duration": 11,
    "start_time": "2022-01-29T19:57:48.765Z"
   },
   {
    "duration": 16,
    "start_time": "2022-01-29T19:57:53.419Z"
   },
   {
    "duration": 313,
    "start_time": "2022-01-29T19:58:21.078Z"
   },
   {
    "duration": 15,
    "start_time": "2022-01-29T19:58:36.664Z"
   },
   {
    "duration": 5,
    "start_time": "2022-01-29T19:58:59.435Z"
   },
   {
    "duration": 5,
    "start_time": "2022-01-29T19:59:59.607Z"
   },
   {
    "duration": 6,
    "start_time": "2022-01-29T20:00:14.351Z"
   },
   {
    "duration": 96,
    "start_time": "2022-01-29T20:00:37.164Z"
   },
   {
    "duration": 6,
    "start_time": "2022-01-29T20:00:48.149Z"
   },
   {
    "duration": 15,
    "start_time": "2022-01-29T20:00:53.621Z"
   },
   {
    "duration": 15,
    "start_time": "2022-01-29T20:01:15.988Z"
   },
   {
    "duration": 103,
    "start_time": "2022-01-29T20:01:40.982Z"
   },
   {
    "duration": 507,
    "start_time": "2022-01-29T20:01:44.990Z"
   },
   {
    "duration": 14,
    "start_time": "2022-01-29T20:01:48.588Z"
   },
   {
    "duration": 307,
    "start_time": "2022-01-29T20:03:08.903Z"
   },
   {
    "duration": 102,
    "start_time": "2022-01-29T20:04:17.174Z"
   },
   {
    "duration": 10,
    "start_time": "2022-01-29T20:04:54.324Z"
   },
   {
    "duration": 11,
    "start_time": "2022-01-29T20:05:30.327Z"
   },
   {
    "duration": 11,
    "start_time": "2022-01-29T20:05:48.210Z"
   },
   {
    "duration": 10,
    "start_time": "2022-01-29T20:07:55.502Z"
   },
   {
    "duration": 7,
    "start_time": "2022-01-29T20:10:51.345Z"
   },
   {
    "duration": 6,
    "start_time": "2022-01-29T20:11:05.762Z"
   },
   {
    "duration": 8,
    "start_time": "2022-01-29T20:12:14.534Z"
   },
   {
    "duration": 6,
    "start_time": "2022-01-29T20:12:58.109Z"
   },
   {
    "duration": 15,
    "start_time": "2022-01-29T20:13:55.882Z"
   },
   {
    "duration": 13,
    "start_time": "2022-01-29T20:16:18.584Z"
   },
   {
    "duration": 26,
    "start_time": "2022-01-29T20:21:10.636Z"
   },
   {
    "duration": 25,
    "start_time": "2022-01-29T20:22:54.384Z"
   },
   {
    "duration": 25,
    "start_time": "2022-01-29T20:24:20.901Z"
   },
   {
    "duration": 25,
    "start_time": "2022-01-29T20:24:55.083Z"
   },
   {
    "duration": 6,
    "start_time": "2022-01-29T20:32:42.362Z"
   },
   {
    "duration": 23,
    "start_time": "2022-01-29T20:32:48.530Z"
   },
   {
    "duration": 24,
    "start_time": "2022-01-29T20:32:55.910Z"
   },
   {
    "duration": 368,
    "start_time": "2022-01-29T20:33:41.222Z"
   },
   {
    "duration": 313,
    "start_time": "2022-01-29T20:34:25.198Z"
   },
   {
    "duration": 4052,
    "start_time": "2022-01-29T20:34:40.545Z"
   },
   {
    "duration": 324,
    "start_time": "2022-01-29T20:34:59.907Z"
   },
   {
    "duration": 536,
    "start_time": "2022-01-29T20:35:08.807Z"
   },
   {
    "duration": 1407,
    "start_time": "2022-01-29T20:35:18.304Z"
   },
   {
    "duration": 20,
    "start_time": "2022-01-29T20:35:26.728Z"
   },
   {
    "duration": 129,
    "start_time": "2022-01-29T20:35:50.422Z"
   },
   {
    "duration": 19,
    "start_time": "2022-01-29T20:36:20.926Z"
   },
   {
    "duration": 19,
    "start_time": "2022-01-29T20:37:03.789Z"
   },
   {
    "duration": 18,
    "start_time": "2022-01-29T20:37:48.877Z"
   },
   {
    "duration": 17,
    "start_time": "2022-01-29T20:38:39.056Z"
   },
   {
    "duration": 17,
    "start_time": "2022-01-29T20:38:49.791Z"
   },
   {
    "duration": 19,
    "start_time": "2022-01-29T20:39:01.819Z"
   },
   {
    "duration": 18,
    "start_time": "2022-01-29T20:39:06.632Z"
   },
   {
    "duration": 18,
    "start_time": "2022-01-29T20:39:09.784Z"
   },
   {
    "duration": 18,
    "start_time": "2022-01-29T20:39:13.865Z"
   },
   {
    "duration": 17,
    "start_time": "2022-01-29T20:39:17.705Z"
   },
   {
    "duration": 14,
    "start_time": "2022-01-29T20:46:04.735Z"
   },
   {
    "duration": 12,
    "start_time": "2022-01-29T20:49:03.450Z"
   },
   {
    "duration": 314,
    "start_time": "2022-01-29T21:04:00.220Z"
   },
   {
    "duration": 310,
    "start_time": "2022-01-29T21:04:18.115Z"
   },
   {
    "duration": 33,
    "start_time": "2022-01-29T21:04:26.190Z"
   },
   {
    "duration": 34,
    "start_time": "2022-01-29T21:05:34.772Z"
   },
   {
    "duration": 17,
    "start_time": "2022-01-29T21:06:04.022Z"
   },
   {
    "duration": 16,
    "start_time": "2022-01-29T21:06:28.495Z"
   },
   {
    "duration": 13,
    "start_time": "2022-01-29T21:07:33.375Z"
   },
   {
    "duration": 7,
    "start_time": "2022-01-29T21:08:29.041Z"
   },
   {
    "duration": 11,
    "start_time": "2022-01-29T21:13:12.397Z"
   },
   {
    "duration": 13,
    "start_time": "2022-01-29T21:14:26.533Z"
   },
   {
    "duration": 114,
    "start_time": "2022-01-29T21:16:47.038Z"
   },
   {
    "duration": 10,
    "start_time": "2022-01-29T21:16:50.967Z"
   },
   {
    "duration": 12,
    "start_time": "2022-01-29T21:17:58.353Z"
   },
   {
    "duration": 12,
    "start_time": "2022-01-29T21:18:04.594Z"
   },
   {
    "duration": 21,
    "start_time": "2022-01-29T21:28:50.667Z"
   },
   {
    "duration": 5,
    "start_time": "2022-01-29T21:34:02.530Z"
   },
   {
    "duration": 15,
    "start_time": "2022-01-29T21:35:24.800Z"
   },
   {
    "duration": 15,
    "start_time": "2022-01-29T21:36:27.703Z"
   },
   {
    "duration": 296,
    "start_time": "2022-01-29T21:36:43.859Z"
   },
   {
    "duration": 5,
    "start_time": "2022-01-29T21:36:51.800Z"
   },
   {
    "duration": 8,
    "start_time": "2022-01-29T21:38:31.442Z"
   },
   {
    "duration": 6,
    "start_time": "2022-01-29T21:38:38.807Z"
   },
   {
    "duration": 16,
    "start_time": "2022-01-29T21:39:02.279Z"
   },
   {
    "duration": 300,
    "start_time": "2022-01-29T21:39:31.381Z"
   },
   {
    "duration": 331,
    "start_time": "2022-01-29T21:40:08.545Z"
   },
   {
    "duration": 6,
    "start_time": "2022-01-29T21:40:16.747Z"
   },
   {
    "duration": 6,
    "start_time": "2022-01-29T21:44:50.378Z"
   },
   {
    "duration": 32,
    "start_time": "2022-01-29T21:44:58.167Z"
   },
   {
    "duration": 538,
    "start_time": "2022-01-29T21:45:30.077Z"
   },
   {
    "duration": 23,
    "start_time": "2022-01-29T21:45:47.195Z"
   },
   {
    "duration": 11,
    "start_time": "2022-01-29T21:46:00.174Z"
   },
   {
    "duration": 9,
    "start_time": "2022-01-29T21:48:01.512Z"
   },
   {
    "duration": 328,
    "start_time": "2022-01-29T21:48:24.347Z"
   },
   {
    "duration": 312,
    "start_time": "2022-01-29T21:48:51.482Z"
   },
   {
    "duration": 6,
    "start_time": "2022-01-29T21:49:00.019Z"
   },
   {
    "duration": 320,
    "start_time": "2022-01-29T21:49:02.239Z"
   },
   {
    "duration": 5,
    "start_time": "2022-01-29T21:49:44.527Z"
   },
   {
    "duration": 333,
    "start_time": "2022-01-29T21:49:51.500Z"
   },
   {
    "duration": 29,
    "start_time": "2022-01-29T21:50:17.170Z"
   },
   {
    "duration": 7,
    "start_time": "2022-01-29T21:50:34.149Z"
   },
   {
    "duration": 5,
    "start_time": "2022-01-29T21:50:45.613Z"
   },
   {
    "duration": 7,
    "start_time": "2022-01-29T21:50:48.214Z"
   },
   {
    "duration": 5,
    "start_time": "2022-01-29T21:50:53.229Z"
   },
   {
    "duration": 6,
    "start_time": "2022-01-29T21:50:55.541Z"
   },
   {
    "duration": 664,
    "start_time": "2022-01-29T21:51:19.337Z"
   },
   {
    "duration": 4,
    "start_time": "2022-01-29T21:51:20.002Z"
   },
   {
    "duration": 20,
    "start_time": "2022-01-29T21:51:20.007Z"
   },
   {
    "duration": 10,
    "start_time": "2022-01-29T21:51:20.030Z"
   },
   {
    "duration": 39,
    "start_time": "2022-01-29T21:51:20.041Z"
   },
   {
    "duration": 10,
    "start_time": "2022-01-29T21:51:20.082Z"
   },
   {
    "duration": 11,
    "start_time": "2022-01-29T21:51:20.094Z"
   },
   {
    "duration": 4,
    "start_time": "2022-01-29T21:51:20.107Z"
   },
   {
    "duration": 21,
    "start_time": "2022-01-29T21:51:20.113Z"
   },
   {
    "duration": 45,
    "start_time": "2022-01-29T21:51:20.136Z"
   },
   {
    "duration": 3,
    "start_time": "2022-01-29T21:51:20.183Z"
   },
   {
    "duration": 4,
    "start_time": "2022-01-29T21:51:20.188Z"
   },
   {
    "duration": 20,
    "start_time": "2022-01-29T21:51:20.194Z"
   },
   {
    "duration": 14,
    "start_time": "2022-01-29T21:51:20.216Z"
   },
   {
    "duration": 47,
    "start_time": "2022-01-29T21:51:20.231Z"
   },
   {
    "duration": 9,
    "start_time": "2022-01-29T21:51:20.280Z"
   },
   {
    "duration": 9,
    "start_time": "2022-01-29T21:51:20.291Z"
   },
   {
    "duration": 5,
    "start_time": "2022-01-29T21:51:20.301Z"
   },
   {
    "duration": 9,
    "start_time": "2022-01-29T21:51:20.308Z"
   },
   {
    "duration": 13,
    "start_time": "2022-01-29T21:51:20.318Z"
   },
   {
    "duration": 15,
    "start_time": "2022-01-29T21:51:20.333Z"
   },
   {
    "duration": 11,
    "start_time": "2022-01-29T21:51:20.349Z"
   },
   {
    "duration": 10,
    "start_time": "2022-01-29T21:51:20.361Z"
   },
   {
    "duration": 8,
    "start_time": "2022-01-29T21:51:20.373Z"
   },
   {
    "duration": 11,
    "start_time": "2022-01-29T21:51:20.383Z"
   },
   {
    "duration": 9,
    "start_time": "2022-01-29T21:51:20.396Z"
   },
   {
    "duration": 4,
    "start_time": "2022-01-29T21:51:20.409Z"
   },
   {
    "duration": 7,
    "start_time": "2022-01-29T21:51:20.415Z"
   },
   {
    "duration": 9,
    "start_time": "2022-01-29T21:51:20.423Z"
   },
   {
    "duration": 10,
    "start_time": "2022-01-29T21:51:20.433Z"
   },
   {
    "duration": 7,
    "start_time": "2022-01-29T21:51:20.444Z"
   },
   {
    "duration": 9,
    "start_time": "2022-01-29T21:51:20.452Z"
   },
   {
    "duration": 8,
    "start_time": "2022-01-29T21:51:20.462Z"
   },
   {
    "duration": 11,
    "start_time": "2022-01-29T21:51:20.471Z"
   },
   {
    "duration": 6,
    "start_time": "2022-01-29T21:51:20.484Z"
   },
   {
    "duration": 7,
    "start_time": "2022-01-29T21:51:20.492Z"
   },
   {
    "duration": 9,
    "start_time": "2022-01-29T21:51:20.500Z"
   },
   {
    "duration": 8,
    "start_time": "2022-01-29T21:51:20.510Z"
   },
   {
    "duration": 13,
    "start_time": "2022-01-29T21:51:20.519Z"
   },
   {
    "duration": 7,
    "start_time": "2022-01-29T21:51:20.534Z"
   },
   {
    "duration": 9,
    "start_time": "2022-01-29T21:51:20.542Z"
   },
   {
    "duration": 8,
    "start_time": "2022-01-29T21:51:20.552Z"
   },
   {
    "duration": 8,
    "start_time": "2022-01-29T21:51:20.561Z"
   },
   {
    "duration": 12,
    "start_time": "2022-01-29T21:51:20.570Z"
   },
   {
    "duration": 8,
    "start_time": "2022-01-29T21:51:20.584Z"
   },
   {
    "duration": 10,
    "start_time": "2022-01-29T21:51:20.593Z"
   },
   {
    "duration": 8,
    "start_time": "2022-01-29T21:51:20.604Z"
   },
   {
    "duration": 9,
    "start_time": "2022-01-29T21:51:20.614Z"
   },
   {
    "duration": 8,
    "start_time": "2022-01-29T21:51:20.624Z"
   },
   {
    "duration": 7,
    "start_time": "2022-01-29T21:51:20.634Z"
   },
   {
    "duration": 9,
    "start_time": "2022-01-29T21:51:20.642Z"
   },
   {
    "duration": 9,
    "start_time": "2022-01-29T21:51:20.652Z"
   },
   {
    "duration": 8,
    "start_time": "2022-01-29T21:51:20.662Z"
   },
   {
    "duration": 7,
    "start_time": "2022-01-29T21:51:20.672Z"
   },
   {
    "duration": 7,
    "start_time": "2022-01-29T21:51:20.682Z"
   },
   {
    "duration": 8,
    "start_time": "2022-01-29T21:51:20.690Z"
   },
   {
    "duration": 9,
    "start_time": "2022-01-29T21:51:20.699Z"
   },
   {
    "duration": 7,
    "start_time": "2022-01-29T21:51:20.710Z"
   },
   {
    "duration": 8,
    "start_time": "2022-01-29T21:51:20.718Z"
   },
   {
    "duration": 9,
    "start_time": "2022-01-29T21:51:20.727Z"
   },
   {
    "duration": 15,
    "start_time": "2022-01-29T21:51:20.737Z"
   },
   {
    "duration": 8,
    "start_time": "2022-01-29T21:51:20.753Z"
   },
   {
    "duration": 8,
    "start_time": "2022-01-29T21:51:20.763Z"
   },
   {
    "duration": 7,
    "start_time": "2022-01-29T21:51:20.773Z"
   },
   {
    "duration": 9,
    "start_time": "2022-01-29T21:51:20.782Z"
   },
   {
    "duration": 8,
    "start_time": "2022-01-29T21:51:20.793Z"
   },
   {
    "duration": 7,
    "start_time": "2022-01-29T21:51:20.802Z"
   },
   {
    "duration": 8,
    "start_time": "2022-01-29T21:51:20.811Z"
   },
   {
    "duration": 9,
    "start_time": "2022-01-29T21:51:20.820Z"
   },
   {
    "duration": 8,
    "start_time": "2022-01-29T21:51:20.830Z"
   },
   {
    "duration": 9,
    "start_time": "2022-01-29T21:51:20.839Z"
   },
   {
    "duration": 8,
    "start_time": "2022-01-29T21:51:20.850Z"
   },
   {
    "duration": 8,
    "start_time": "2022-01-29T21:51:20.859Z"
   },
   {
    "duration": 4,
    "start_time": "2022-01-29T21:52:02.205Z"
   },
   {
    "duration": 6,
    "start_time": "2022-01-29T21:52:40.571Z"
   },
   {
    "duration": 361,
    "start_time": "2022-01-29T21:52:46.788Z"
   },
   {
    "duration": 5,
    "start_time": "2022-01-29T21:52:52.812Z"
   },
   {
    "duration": 5,
    "start_time": "2022-01-29T21:52:59.517Z"
   },
   {
    "duration": 8,
    "start_time": "2022-01-29T21:53:07.492Z"
   },
   {
    "duration": 6,
    "start_time": "2022-01-29T21:54:43.432Z"
   },
   {
    "duration": 647,
    "start_time": "2022-01-29T21:54:57.639Z"
   },
   {
    "duration": 3,
    "start_time": "2022-01-29T21:54:58.288Z"
   },
   {
    "duration": 20,
    "start_time": "2022-01-29T21:54:58.292Z"
   },
   {
    "duration": 9,
    "start_time": "2022-01-29T21:54:58.313Z"
   },
   {
    "duration": 18,
    "start_time": "2022-01-29T21:54:58.324Z"
   },
   {
    "duration": 28,
    "start_time": "2022-01-29T21:54:58.344Z"
   },
   {
    "duration": 10,
    "start_time": "2022-01-29T21:54:58.373Z"
   },
   {
    "duration": 4,
    "start_time": "2022-01-29T21:54:58.385Z"
   },
   {
    "duration": 20,
    "start_time": "2022-01-29T21:54:58.391Z"
   },
   {
    "duration": 15,
    "start_time": "2022-01-29T21:54:58.413Z"
   },
   {
    "duration": 1,
    "start_time": "2022-01-29T21:54:58.429Z"
   },
   {
    "duration": 7,
    "start_time": "2022-01-29T21:54:58.432Z"
   },
   {
    "duration": 42,
    "start_time": "2022-01-29T21:54:58.440Z"
   },
   {
    "duration": 13,
    "start_time": "2022-01-29T21:54:58.483Z"
   },
   {
    "duration": 14,
    "start_time": "2022-01-29T21:54:58.497Z"
   },
   {
    "duration": 8,
    "start_time": "2022-01-29T21:54:58.512Z"
   },
   {
    "duration": 9,
    "start_time": "2022-01-29T21:54:58.521Z"
   },
   {
    "duration": 11,
    "start_time": "2022-01-29T21:54:58.531Z"
   },
   {
    "duration": 5,
    "start_time": "2022-01-29T21:54:58.543Z"
   },
   {
    "duration": 25,
    "start_time": "2022-01-29T21:54:58.550Z"
   },
   {
    "duration": 7,
    "start_time": "2022-01-29T21:54:58.576Z"
   },
   {
    "duration": 3,
    "start_time": "2022-01-29T21:54:58.585Z"
   },
   {
    "duration": 12,
    "start_time": "2022-01-29T21:54:58.590Z"
   },
   {
    "duration": 8,
    "start_time": "2022-01-29T21:54:58.604Z"
   },
   {
    "duration": 8,
    "start_time": "2022-01-29T21:54:58.613Z"
   },
   {
    "duration": 7,
    "start_time": "2022-01-29T21:54:58.622Z"
   },
   {
    "duration": 7,
    "start_time": "2022-01-29T21:54:58.633Z"
   },
   {
    "duration": 7,
    "start_time": "2022-01-29T21:54:58.642Z"
   },
   {
    "duration": 7,
    "start_time": "2022-01-29T21:54:58.650Z"
   },
   {
    "duration": 8,
    "start_time": "2022-01-29T21:54:58.659Z"
   },
   {
    "duration": 60,
    "start_time": "2022-01-29T21:54:58.668Z"
   },
   {
    "duration": 11,
    "start_time": "2022-01-29T21:54:58.729Z"
   },
   {
    "duration": 9,
    "start_time": "2022-01-29T21:54:58.742Z"
   },
   {
    "duration": 8,
    "start_time": "2022-01-29T21:54:58.752Z"
   },
   {
    "duration": 7,
    "start_time": "2022-01-29T21:54:58.762Z"
   },
   {
    "duration": 8,
    "start_time": "2022-01-29T21:54:58.771Z"
   },
   {
    "duration": 7,
    "start_time": "2022-01-29T21:54:58.781Z"
   },
   {
    "duration": 10,
    "start_time": "2022-01-29T21:54:58.789Z"
   },
   {
    "duration": 7,
    "start_time": "2022-01-29T21:54:58.801Z"
   },
   {
    "duration": 9,
    "start_time": "2022-01-29T21:54:58.810Z"
   },
   {
    "duration": 10,
    "start_time": "2022-01-29T21:54:58.820Z"
   },
   {
    "duration": 7,
    "start_time": "2022-01-29T21:54:58.832Z"
   },
   {
    "duration": 7,
    "start_time": "2022-01-29T21:54:58.840Z"
   },
   {
    "duration": 8,
    "start_time": "2022-01-29T21:54:58.848Z"
   },
   {
    "duration": 8,
    "start_time": "2022-01-29T21:54:58.857Z"
   },
   {
    "duration": 7,
    "start_time": "2022-01-29T21:54:58.866Z"
   },
   {
    "duration": 9,
    "start_time": "2022-01-29T21:54:58.875Z"
   },
   {
    "duration": 9,
    "start_time": "2022-01-29T21:54:58.885Z"
   },
   {
    "duration": 9,
    "start_time": "2022-01-29T21:54:58.895Z"
   },
   {
    "duration": 10,
    "start_time": "2022-01-29T21:54:58.905Z"
   },
   {
    "duration": 8,
    "start_time": "2022-01-29T21:54:58.917Z"
   },
   {
    "duration": 8,
    "start_time": "2022-01-29T21:54:58.926Z"
   },
   {
    "duration": 10,
    "start_time": "2022-01-29T21:54:58.935Z"
   },
   {
    "duration": 9,
    "start_time": "2022-01-29T21:54:58.946Z"
   },
   {
    "duration": 11,
    "start_time": "2022-01-29T21:54:58.957Z"
   },
   {
    "duration": 9,
    "start_time": "2022-01-29T21:54:58.970Z"
   },
   {
    "duration": 7,
    "start_time": "2022-01-29T21:54:58.980Z"
   },
   {
    "duration": 11,
    "start_time": "2022-01-29T21:54:58.988Z"
   },
   {
    "duration": 8,
    "start_time": "2022-01-29T21:54:59.001Z"
   },
   {
    "duration": 9,
    "start_time": "2022-01-29T21:54:59.010Z"
   },
   {
    "duration": 9,
    "start_time": "2022-01-29T21:54:59.020Z"
   },
   {
    "duration": 8,
    "start_time": "2022-01-29T21:54:59.030Z"
   },
   {
    "duration": 9,
    "start_time": "2022-01-29T21:54:59.039Z"
   },
   {
    "duration": 9,
    "start_time": "2022-01-29T21:54:59.049Z"
   },
   {
    "duration": 8,
    "start_time": "2022-01-29T21:54:59.059Z"
   },
   {
    "duration": 9,
    "start_time": "2022-01-29T21:54:59.069Z"
   },
   {
    "duration": 8,
    "start_time": "2022-01-29T21:54:59.079Z"
   },
   {
    "duration": 10,
    "start_time": "2022-01-29T21:54:59.088Z"
   },
   {
    "duration": 8,
    "start_time": "2022-01-29T21:54:59.099Z"
   },
   {
    "duration": 8,
    "start_time": "2022-01-29T21:54:59.109Z"
   },
   {
    "duration": 8,
    "start_time": "2022-01-29T21:54:59.118Z"
   },
   {
    "duration": 8,
    "start_time": "2022-01-29T21:54:59.127Z"
   },
   {
    "duration": 7,
    "start_time": "2022-01-29T21:54:59.137Z"
   },
   {
    "duration": 8,
    "start_time": "2022-01-29T21:54:59.146Z"
   },
   {
    "duration": 9,
    "start_time": "2022-01-29T21:57:58.265Z"
   },
   {
    "duration": 618,
    "start_time": "2022-01-29T21:58:27.458Z"
   },
   {
    "duration": 3,
    "start_time": "2022-01-29T21:58:28.078Z"
   },
   {
    "duration": 18,
    "start_time": "2022-01-29T21:58:28.083Z"
   },
   {
    "duration": 9,
    "start_time": "2022-01-29T21:58:28.103Z"
   },
   {
    "duration": 18,
    "start_time": "2022-01-29T21:58:28.113Z"
   },
   {
    "duration": 6,
    "start_time": "2022-01-29T21:58:28.133Z"
   },
   {
    "duration": 37,
    "start_time": "2022-01-29T21:58:28.140Z"
   },
   {
    "duration": 5,
    "start_time": "2022-01-29T21:58:28.178Z"
   },
   {
    "duration": 25,
    "start_time": "2022-01-29T21:58:28.185Z"
   },
   {
    "duration": 18,
    "start_time": "2022-01-29T21:58:28.212Z"
   },
   {
    "duration": 2,
    "start_time": "2022-01-29T21:58:28.231Z"
   },
   {
    "duration": 6,
    "start_time": "2022-01-29T21:58:28.234Z"
   },
   {
    "duration": 43,
    "start_time": "2022-01-29T21:58:28.241Z"
   },
   {
    "duration": 14,
    "start_time": "2022-01-29T21:58:28.286Z"
   },
   {
    "duration": 14,
    "start_time": "2022-01-29T21:58:28.301Z"
   },
   {
    "duration": 6,
    "start_time": "2022-01-29T21:58:28.317Z"
   },
   {
    "duration": 15,
    "start_time": "2022-01-29T21:58:28.324Z"
   },
   {
    "duration": 12,
    "start_time": "2022-01-29T22:00:37.192Z"
   },
   {
    "duration": 11,
    "start_time": "2022-01-29T22:01:22.227Z"
   },
   {
    "duration": 10,
    "start_time": "2022-01-29T22:02:06.107Z"
   },
   {
    "duration": 96,
    "start_time": "2022-01-29T22:06:05.598Z"
   },
   {
    "duration": 3,
    "start_time": "2022-01-29T22:06:14.222Z"
   },
   {
    "duration": 3,
    "start_time": "2022-01-29T22:06:21.547Z"
   },
   {
    "duration": 3,
    "start_time": "2022-01-29T22:07:08.972Z"
   },
   {
    "duration": 26,
    "start_time": "2022-01-29T22:10:08.997Z"
   },
   {
    "duration": 13,
    "start_time": "2022-01-29T22:10:19.193Z"
   },
   {
    "duration": 374,
    "start_time": "2022-01-29T22:10:57.719Z"
   },
   {
    "duration": 10,
    "start_time": "2022-01-29T22:11:43.672Z"
   },
   {
    "duration": 11,
    "start_time": "2022-01-29T22:12:30.470Z"
   },
   {
    "duration": 6,
    "start_time": "2022-01-29T22:12:38.691Z"
   },
   {
    "duration": 5,
    "start_time": "2022-01-29T22:12:42.644Z"
   },
   {
    "duration": 570,
    "start_time": "2022-01-29T22:13:01.909Z"
   },
   {
    "duration": 3,
    "start_time": "2022-01-29T22:13:02.481Z"
   },
   {
    "duration": 17,
    "start_time": "2022-01-29T22:13:02.487Z"
   },
   {
    "duration": 10,
    "start_time": "2022-01-29T22:13:02.506Z"
   },
   {
    "duration": 17,
    "start_time": "2022-01-29T22:13:02.518Z"
   },
   {
    "duration": 7,
    "start_time": "2022-01-29T22:13:02.537Z"
   },
   {
    "duration": 11,
    "start_time": "2022-01-29T22:13:02.572Z"
   },
   {
    "duration": 5,
    "start_time": "2022-01-29T22:13:02.584Z"
   },
   {
    "duration": 21,
    "start_time": "2022-01-29T22:13:02.592Z"
   },
   {
    "duration": 16,
    "start_time": "2022-01-29T22:13:02.615Z"
   },
   {
    "duration": 2,
    "start_time": "2022-01-29T22:13:02.632Z"
   },
   {
    "duration": 3,
    "start_time": "2022-01-29T22:13:02.635Z"
   },
   {
    "duration": 14,
    "start_time": "2022-01-29T22:13:02.672Z"
   },
   {
    "duration": 14,
    "start_time": "2022-01-29T22:13:02.687Z"
   },
   {
    "duration": 14,
    "start_time": "2022-01-29T22:13:02.702Z"
   },
   {
    "duration": 6,
    "start_time": "2022-01-29T22:13:02.717Z"
   },
   {
    "duration": 13,
    "start_time": "2022-01-29T22:13:02.725Z"
   },
   {
    "duration": 4,
    "start_time": "2022-01-29T22:13:11.836Z"
   },
   {
    "duration": 13,
    "start_time": "2022-01-29T22:13:16.255Z"
   },
   {
    "duration": 6,
    "start_time": "2022-01-29T22:13:23.259Z"
   },
   {
    "duration": 397,
    "start_time": "2022-01-29T22:15:40.144Z"
   },
   {
    "duration": 41,
    "start_time": "2022-01-29T22:16:30.076Z"
   },
   {
    "duration": 10,
    "start_time": "2022-01-29T22:16:41.874Z"
   },
   {
    "duration": 10,
    "start_time": "2022-01-29T22:16:45.098Z"
   },
   {
    "duration": 7,
    "start_time": "2022-01-29T22:17:36.306Z"
   },
   {
    "duration": 7,
    "start_time": "2022-01-29T22:17:39.410Z"
   },
   {
    "duration": 636,
    "start_time": "2022-01-29T22:17:56.263Z"
   },
   {
    "duration": 3,
    "start_time": "2022-01-29T22:17:56.901Z"
   },
   {
    "duration": 20,
    "start_time": "2022-01-29T22:17:56.906Z"
   },
   {
    "duration": 10,
    "start_time": "2022-01-29T22:17:56.927Z"
   },
   {
    "duration": 39,
    "start_time": "2022-01-29T22:17:56.938Z"
   },
   {
    "duration": 6,
    "start_time": "2022-01-29T22:17:56.979Z"
   },
   {
    "duration": 10,
    "start_time": "2022-01-29T22:17:56.987Z"
   },
   {
    "duration": 5,
    "start_time": "2022-01-29T22:17:56.998Z"
   },
   {
    "duration": 22,
    "start_time": "2022-01-29T22:17:57.005Z"
   },
   {
    "duration": 51,
    "start_time": "2022-01-29T22:17:57.028Z"
   },
   {
    "duration": 2,
    "start_time": "2022-01-29T22:17:57.080Z"
   },
   {
    "duration": 4,
    "start_time": "2022-01-29T22:17:57.083Z"
   },
   {
    "duration": 14,
    "start_time": "2022-01-29T22:17:57.089Z"
   },
   {
    "duration": 13,
    "start_time": "2022-01-29T22:17:57.104Z"
   },
   {
    "duration": 15,
    "start_time": "2022-01-29T22:17:57.118Z"
   },
   {
    "duration": 8,
    "start_time": "2022-01-29T22:17:57.134Z"
   },
   {
    "duration": 33,
    "start_time": "2022-01-29T22:17:57.143Z"
   },
   {
    "duration": 3,
    "start_time": "2022-01-29T22:18:01.840Z"
   },
   {
    "duration": 8,
    "start_time": "2022-01-29T22:18:11.637Z"
   },
   {
    "duration": 7,
    "start_time": "2022-01-29T22:18:15.074Z"
   },
   {
    "duration": 9,
    "start_time": "2022-01-29T22:18:39.555Z"
   },
   {
    "duration": 8,
    "start_time": "2022-01-29T22:18:50.777Z"
   },
   {
    "duration": 344,
    "start_time": "2022-01-29T22:18:57.556Z"
   },
   {
    "duration": 6,
    "start_time": "2022-01-29T22:19:05.057Z"
   },
   {
    "duration": 6,
    "start_time": "2022-01-29T22:19:27.319Z"
   },
   {
    "duration": 6,
    "start_time": "2022-01-29T22:19:33.054Z"
   },
   {
    "duration": 10,
    "start_time": "2022-01-29T22:19:36.663Z"
   },
   {
    "duration": 5,
    "start_time": "2022-01-29T22:19:37.565Z"
   },
   {
    "duration": 9,
    "start_time": "2022-01-29T22:20:47.423Z"
   },
   {
    "duration": 6,
    "start_time": "2022-01-29T22:20:50.320Z"
   },
   {
    "duration": 10,
    "start_time": "2022-01-29T22:22:01.900Z"
   },
   {
    "duration": 7,
    "start_time": "2022-01-29T22:22:04.290Z"
   },
   {
    "duration": 11,
    "start_time": "2022-01-29T22:22:19.328Z"
   },
   {
    "duration": 304,
    "start_time": "2022-01-29T22:22:49.025Z"
   },
   {
    "duration": 9,
    "start_time": "2022-01-29T22:22:57.080Z"
   },
   {
    "duration": 10,
    "start_time": "2022-01-29T22:23:14.153Z"
   },
   {
    "duration": 12,
    "start_time": "2022-01-29T22:23:22.673Z"
   },
   {
    "duration": 606,
    "start_time": "2022-01-29T22:23:42.485Z"
   },
   {
    "duration": 3,
    "start_time": "2022-01-29T22:23:43.093Z"
   },
   {
    "duration": 20,
    "start_time": "2022-01-29T22:23:43.098Z"
   },
   {
    "duration": 10,
    "start_time": "2022-01-29T22:23:43.120Z"
   },
   {
    "duration": 18,
    "start_time": "2022-01-29T22:23:43.132Z"
   },
   {
    "duration": 24,
    "start_time": "2022-01-29T22:23:43.152Z"
   },
   {
    "duration": 12,
    "start_time": "2022-01-29T22:23:43.178Z"
   },
   {
    "duration": 6,
    "start_time": "2022-01-29T22:23:43.192Z"
   },
   {
    "duration": 28,
    "start_time": "2022-01-29T22:23:43.199Z"
   },
   {
    "duration": 44,
    "start_time": "2022-01-29T22:23:43.229Z"
   },
   {
    "duration": 1,
    "start_time": "2022-01-29T22:23:43.275Z"
   },
   {
    "duration": 5,
    "start_time": "2022-01-29T22:23:43.278Z"
   },
   {
    "duration": 17,
    "start_time": "2022-01-29T22:23:43.284Z"
   },
   {
    "duration": 14,
    "start_time": "2022-01-29T22:23:43.302Z"
   },
   {
    "duration": 20,
    "start_time": "2022-01-29T22:23:43.317Z"
   },
   {
    "duration": 7,
    "start_time": "2022-01-29T22:23:43.338Z"
   },
   {
    "duration": 32,
    "start_time": "2022-01-29T22:23:43.346Z"
   },
   {
    "duration": 3,
    "start_time": "2022-01-29T22:23:43.380Z"
   },
   {
    "duration": 11,
    "start_time": "2022-01-29T22:23:46.206Z"
   },
   {
    "duration": 6,
    "start_time": "2022-01-29T22:26:22.651Z"
   },
   {
    "duration": 11,
    "start_time": "2022-01-29T22:29:37.954Z"
   },
   {
    "duration": 93,
    "start_time": "2022-01-29T22:29:55.218Z"
   },
   {
    "duration": 347,
    "start_time": "2022-01-29T22:29:58.663Z"
   },
   {
    "duration": 9,
    "start_time": "2022-01-29T22:30:15.112Z"
   },
   {
    "duration": 105,
    "start_time": "2022-01-29T22:30:22.067Z"
   },
   {
    "duration": 111,
    "start_time": "2022-01-29T22:30:27.998Z"
   },
   {
    "duration": 10,
    "start_time": "2022-01-29T22:30:30.549Z"
   },
   {
    "duration": 7,
    "start_time": "2022-01-29T22:30:45.475Z"
   },
   {
    "duration": 6,
    "start_time": "2022-01-29T22:30:55.147Z"
   },
   {
    "duration": 102,
    "start_time": "2022-01-29T22:31:14.619Z"
   },
   {
    "duration": 6,
    "start_time": "2022-01-29T22:31:27.778Z"
   },
   {
    "duration": 6,
    "start_time": "2022-01-29T22:31:42.794Z"
   },
   {
    "duration": 9,
    "start_time": "2022-01-29T22:32:08.295Z"
   },
   {
    "duration": 9,
    "start_time": "2022-01-29T22:32:27.484Z"
   },
   {
    "duration": 759,
    "start_time": "2022-01-29T22:33:01.993Z"
   },
   {
    "duration": 780,
    "start_time": "2022-01-29T22:33:31.943Z"
   },
   {
    "duration": 9,
    "start_time": "2022-01-29T22:33:56.739Z"
   },
   {
    "duration": 8,
    "start_time": "2022-01-29T22:34:11.418Z"
   },
   {
    "duration": 9,
    "start_time": "2022-01-29T22:34:44.488Z"
   },
   {
    "duration": 7,
    "start_time": "2022-01-29T22:38:51.505Z"
   },
   {
    "duration": 4,
    "start_time": "2022-01-29T22:39:05.861Z"
   },
   {
    "duration": 8,
    "start_time": "2022-01-29T22:42:35.627Z"
   },
   {
    "duration": 4,
    "start_time": "2022-01-29T22:42:39.023Z"
   },
   {
    "duration": 560,
    "start_time": "2022-01-29T22:42:55.822Z"
   },
   {
    "duration": 3,
    "start_time": "2022-01-29T22:42:56.384Z"
   },
   {
    "duration": 21,
    "start_time": "2022-01-29T22:42:56.389Z"
   },
   {
    "duration": 10,
    "start_time": "2022-01-29T22:42:56.412Z"
   },
   {
    "duration": 18,
    "start_time": "2022-01-29T22:42:56.424Z"
   },
   {
    "duration": 7,
    "start_time": "2022-01-29T22:42:56.443Z"
   },
   {
    "duration": 27,
    "start_time": "2022-01-29T22:42:56.451Z"
   },
   {
    "duration": 4,
    "start_time": "2022-01-29T22:42:56.480Z"
   },
   {
    "duration": 22,
    "start_time": "2022-01-29T22:42:56.486Z"
   },
   {
    "duration": 15,
    "start_time": "2022-01-29T22:42:56.509Z"
   },
   {
    "duration": 2,
    "start_time": "2022-01-29T22:42:56.526Z"
   },
   {
    "duration": 8,
    "start_time": "2022-01-29T22:42:56.529Z"
   },
   {
    "duration": 46,
    "start_time": "2022-01-29T22:42:56.539Z"
   },
   {
    "duration": 17,
    "start_time": "2022-01-29T22:42:56.586Z"
   },
   {
    "duration": 14,
    "start_time": "2022-01-29T22:42:56.604Z"
   },
   {
    "duration": 6,
    "start_time": "2022-01-29T22:42:56.619Z"
   },
   {
    "duration": 11,
    "start_time": "2022-01-29T22:42:56.627Z"
   },
   {
    "duration": 32,
    "start_time": "2022-01-29T22:42:56.640Z"
   },
   {
    "duration": 11,
    "start_time": "2022-01-29T22:42:56.674Z"
   },
   {
    "duration": 6,
    "start_time": "2022-01-29T22:42:56.687Z"
   },
   {
    "duration": 9,
    "start_time": "2022-01-29T22:42:56.695Z"
   },
   {
    "duration": 10,
    "start_time": "2022-01-29T22:43:00.049Z"
   },
   {
    "duration": 4,
    "start_time": "2022-01-29T22:43:04.920Z"
   },
   {
    "duration": 9,
    "start_time": "2022-01-29T22:43:13.326Z"
   },
   {
    "duration": 4,
    "start_time": "2022-01-29T22:43:17.265Z"
   },
   {
    "duration": 5,
    "start_time": "2022-01-29T22:44:16.871Z"
   },
   {
    "duration": 6,
    "start_time": "2022-01-29T22:44:36.478Z"
   },
   {
    "duration": 14,
    "start_time": "2022-01-29T22:46:09.596Z"
   },
   {
    "duration": 13,
    "start_time": "2022-01-29T22:46:34.400Z"
   },
   {
    "duration": 14,
    "start_time": "2022-01-29T22:46:55.571Z"
   },
   {
    "duration": 15,
    "start_time": "2022-01-29T22:47:49.736Z"
   },
   {
    "duration": 13,
    "start_time": "2022-01-29T22:47:55.351Z"
   },
   {
    "duration": 11,
    "start_time": "2022-01-29T22:49:07.603Z"
   },
   {
    "duration": 406,
    "start_time": "2022-01-29T22:49:26.466Z"
   },
   {
    "duration": 583,
    "start_time": "2022-01-29T22:49:34.899Z"
   },
   {
    "duration": 17,
    "start_time": "2022-01-29T22:49:44.752Z"
   },
   {
    "duration": 29,
    "start_time": "2022-01-29T22:50:08.696Z"
   },
   {
    "duration": 13,
    "start_time": "2022-01-29T22:50:20.906Z"
   },
   {
    "duration": 5,
    "start_time": "2022-01-29T23:41:10.360Z"
   },
   {
    "duration": 5,
    "start_time": "2022-01-29T23:42:38.737Z"
   },
   {
    "duration": 5,
    "start_time": "2022-01-29T23:42:59.309Z"
   },
   {
    "duration": 112,
    "start_time": "2022-01-29T23:43:05.836Z"
   },
   {
    "duration": 5,
    "start_time": "2022-01-29T23:43:23.656Z"
   },
   {
    "duration": 5,
    "start_time": "2022-01-29T23:43:39.976Z"
   },
   {
    "duration": 6,
    "start_time": "2022-01-29T23:43:50.199Z"
   },
   {
    "duration": 6,
    "start_time": "2022-01-29T23:44:03.116Z"
   },
   {
    "duration": 9,
    "start_time": "2022-01-29T23:44:42.578Z"
   },
   {
    "duration": 13,
    "start_time": "2022-01-29T23:45:32.276Z"
   },
   {
    "duration": 113,
    "start_time": "2022-01-29T23:45:57.357Z"
   },
   {
    "duration": 5,
    "start_time": "2022-01-29T23:46:05.242Z"
   },
   {
    "duration": 4,
    "start_time": "2022-01-29T23:46:23.922Z"
   },
   {
    "duration": 4,
    "start_time": "2022-01-29T23:47:19.997Z"
   },
   {
    "duration": 15,
    "start_time": "2022-01-29T23:47:39.126Z"
   },
   {
    "duration": 14,
    "start_time": "2022-01-29T23:49:14.284Z"
   },
   {
    "duration": 14,
    "start_time": "2022-01-29T23:49:19.836Z"
   },
   {
    "duration": 13,
    "start_time": "2022-01-29T23:49:30.540Z"
   },
   {
    "duration": 3,
    "start_time": "2022-01-29T23:49:37.312Z"
   },
   {
    "duration": 3,
    "start_time": "2022-01-29T23:55:25.326Z"
   },
   {
    "duration": 315,
    "start_time": "2022-01-30T00:00:01.188Z"
   },
   {
    "duration": 14,
    "start_time": "2022-01-30T00:00:47.121Z"
   },
   {
    "duration": 13,
    "start_time": "2022-01-30T00:00:56.563Z"
   },
   {
    "duration": 11,
    "start_time": "2022-01-30T00:02:05.769Z"
   },
   {
    "duration": 5,
    "start_time": "2022-01-30T00:02:47.338Z"
   },
   {
    "duration": 8,
    "start_time": "2022-01-30T00:03:01.407Z"
   },
   {
    "duration": 7,
    "start_time": "2022-01-30T00:03:30.224Z"
   },
   {
    "duration": 7,
    "start_time": "2022-01-30T00:10:05.020Z"
   },
   {
    "duration": -303,
    "start_time": "2022-01-30T00:11:30.260Z"
   },
   {
    "duration": 8,
    "start_time": "2022-01-30T00:11:57.261Z"
   },
   {
    "duration": 21,
    "start_time": "2022-01-30T00:12:44.830Z"
   },
   {
    "duration": 7,
    "start_time": "2022-01-30T00:14:17.708Z"
   },
   {
    "duration": 307,
    "start_time": "2022-01-30T00:15:59.101Z"
   },
   {
    "duration": 11,
    "start_time": "2022-01-30T00:17:46.934Z"
   },
   {
    "duration": 7,
    "start_time": "2022-01-30T00:18:03.798Z"
   },
   {
    "duration": 6,
    "start_time": "2022-01-30T00:18:46.823Z"
   },
   {
    "duration": 11,
    "start_time": "2022-01-30T00:19:10.819Z"
   },
   {
    "duration": 622,
    "start_time": "2022-01-30T00:19:27.207Z"
   },
   {
    "duration": 4,
    "start_time": "2022-01-30T00:19:27.830Z"
   },
   {
    "duration": 17,
    "start_time": "2022-01-30T00:19:27.836Z"
   },
   {
    "duration": 9,
    "start_time": "2022-01-30T00:19:27.855Z"
   },
   {
    "duration": 17,
    "start_time": "2022-01-30T00:19:27.866Z"
   },
   {
    "duration": 6,
    "start_time": "2022-01-30T00:19:27.884Z"
   },
   {
    "duration": 11,
    "start_time": "2022-01-30T00:19:27.891Z"
   },
   {
    "duration": 5,
    "start_time": "2022-01-30T00:19:27.903Z"
   },
   {
    "duration": 27,
    "start_time": "2022-01-30T00:19:27.910Z"
   },
   {
    "duration": 42,
    "start_time": "2022-01-30T00:19:27.938Z"
   },
   {
    "duration": 2,
    "start_time": "2022-01-30T00:19:27.981Z"
   },
   {
    "duration": 3,
    "start_time": "2022-01-30T00:19:27.985Z"
   },
   {
    "duration": 16,
    "start_time": "2022-01-30T00:19:27.990Z"
   },
   {
    "duration": 14,
    "start_time": "2022-01-30T00:19:28.008Z"
   },
   {
    "duration": 17,
    "start_time": "2022-01-30T00:19:28.024Z"
   },
   {
    "duration": 29,
    "start_time": "2022-01-30T00:19:28.043Z"
   },
   {
    "duration": 11,
    "start_time": "2022-01-30T00:19:28.074Z"
   },
   {
    "duration": 3,
    "start_time": "2022-01-30T00:19:28.087Z"
   },
   {
    "duration": 15,
    "start_time": "2022-01-30T00:19:28.091Z"
   },
   {
    "duration": 7,
    "start_time": "2022-01-30T00:19:28.108Z"
   },
   {
    "duration": 10,
    "start_time": "2022-01-30T00:19:28.116Z"
   },
   {
    "duration": 9,
    "start_time": "2022-01-30T00:19:28.128Z"
   },
   {
    "duration": 33,
    "start_time": "2022-01-30T00:19:28.139Z"
   },
   {
    "duration": 3,
    "start_time": "2022-01-30T00:19:28.174Z"
   },
   {
    "duration": 10,
    "start_time": "2022-01-30T00:19:28.179Z"
   },
   {
    "duration": 21,
    "start_time": "2022-01-30T00:19:28.190Z"
   },
   {
    "duration": 22,
    "start_time": "2022-01-30T00:19:39.723Z"
   },
   {
    "duration": 8,
    "start_time": "2022-01-30T00:19:42.402Z"
   },
   {
    "duration": 15,
    "start_time": "2022-01-30T00:19:46.152Z"
   },
   {
    "duration": 10,
    "start_time": "2022-01-30T00:20:05.530Z"
   },
   {
    "duration": 646,
    "start_time": "2022-01-30T00:20:22.338Z"
   },
   {
    "duration": 4,
    "start_time": "2022-01-30T00:20:22.985Z"
   },
   {
    "duration": 20,
    "start_time": "2022-01-30T00:20:22.991Z"
   },
   {
    "duration": 10,
    "start_time": "2022-01-30T00:20:23.012Z"
   },
   {
    "duration": 19,
    "start_time": "2022-01-30T00:20:23.023Z"
   },
   {
    "duration": 30,
    "start_time": "2022-01-30T00:20:23.044Z"
   },
   {
    "duration": 11,
    "start_time": "2022-01-30T00:20:23.076Z"
   },
   {
    "duration": 5,
    "start_time": "2022-01-30T00:20:23.089Z"
   },
   {
    "duration": 22,
    "start_time": "2022-01-30T00:20:23.096Z"
   },
   {
    "duration": 17,
    "start_time": "2022-01-30T00:20:23.120Z"
   },
   {
    "duration": 1,
    "start_time": "2022-01-30T00:20:23.139Z"
   },
   {
    "duration": 30,
    "start_time": "2022-01-30T00:20:23.142Z"
   },
   {
    "duration": 15,
    "start_time": "2022-01-30T00:20:23.174Z"
   },
   {
    "duration": 13,
    "start_time": "2022-01-30T00:20:23.190Z"
   },
   {
    "duration": 16,
    "start_time": "2022-01-30T00:20:23.205Z"
   },
   {
    "duration": 7,
    "start_time": "2022-01-30T00:20:23.222Z"
   },
   {
    "duration": 12,
    "start_time": "2022-01-30T00:20:23.230Z"
   },
   {
    "duration": 29,
    "start_time": "2022-01-30T00:20:23.244Z"
   },
   {
    "duration": 11,
    "start_time": "2022-01-30T00:20:23.275Z"
   },
   {
    "duration": 6,
    "start_time": "2022-01-30T00:20:23.287Z"
   },
   {
    "duration": 9,
    "start_time": "2022-01-30T00:20:23.295Z"
   },
   {
    "duration": 8,
    "start_time": "2022-01-30T00:20:23.305Z"
   },
   {
    "duration": 7,
    "start_time": "2022-01-30T00:20:23.316Z"
   },
   {
    "duration": 5,
    "start_time": "2022-01-30T00:20:23.325Z"
   },
   {
    "duration": 12,
    "start_time": "2022-01-30T00:20:23.331Z"
   },
   {
    "duration": 43,
    "start_time": "2022-01-30T00:20:23.344Z"
   },
   {
    "duration": 6,
    "start_time": "2022-01-30T00:20:23.389Z"
   },
   {
    "duration": 15,
    "start_time": "2022-01-30T00:20:26.199Z"
   },
   {
    "duration": 6,
    "start_time": "2022-01-30T00:20:31.928Z"
   },
   {
    "duration": 6,
    "start_time": "2022-01-30T00:20:53.169Z"
   },
   {
    "duration": 365,
    "start_time": "2022-01-30T00:22:28.677Z"
   },
   {
    "duration": 359,
    "start_time": "2022-01-30T00:22:40.273Z"
   },
   {
    "duration": 4,
    "start_time": "2022-01-30T00:22:47.652Z"
   },
   {
    "duration": 11,
    "start_time": "2022-01-30T00:23:07.817Z"
   },
   {
    "duration": 11,
    "start_time": "2022-01-30T00:24:02.218Z"
   },
   {
    "duration": 333,
    "start_time": "2022-01-30T00:25:26.967Z"
   },
   {
    "duration": 616,
    "start_time": "2022-01-30T00:25:31.477Z"
   },
   {
    "duration": 3,
    "start_time": "2022-01-30T00:25:32.095Z"
   },
   {
    "duration": 18,
    "start_time": "2022-01-30T00:25:32.100Z"
   },
   {
    "duration": 9,
    "start_time": "2022-01-30T00:25:32.120Z"
   },
   {
    "duration": 17,
    "start_time": "2022-01-30T00:25:32.131Z"
   },
   {
    "duration": 25,
    "start_time": "2022-01-30T00:25:32.150Z"
   },
   {
    "duration": 12,
    "start_time": "2022-01-30T00:25:32.177Z"
   },
   {
    "duration": 4,
    "start_time": "2022-01-30T00:25:32.192Z"
   },
   {
    "duration": 21,
    "start_time": "2022-01-30T00:25:32.198Z"
   },
   {
    "duration": 16,
    "start_time": "2022-01-30T00:25:32.220Z"
   },
   {
    "duration": 2,
    "start_time": "2022-01-30T00:25:32.237Z"
   },
   {
    "duration": 1,
    "start_time": "2022-01-30T00:25:32.272Z"
   },
   {
    "duration": 14,
    "start_time": "2022-01-30T00:25:32.275Z"
   },
   {
    "duration": 14,
    "start_time": "2022-01-30T00:25:32.290Z"
   },
   {
    "duration": 18,
    "start_time": "2022-01-30T00:25:32.306Z"
   },
   {
    "duration": 6,
    "start_time": "2022-01-30T00:25:32.326Z"
   },
   {
    "duration": 11,
    "start_time": "2022-01-30T00:25:32.334Z"
   },
   {
    "duration": 4,
    "start_time": "2022-01-30T00:25:32.371Z"
   },
   {
    "duration": 12,
    "start_time": "2022-01-30T00:25:32.376Z"
   },
   {
    "duration": 5,
    "start_time": "2022-01-30T00:25:32.390Z"
   },
   {
    "duration": 10,
    "start_time": "2022-01-30T00:25:32.396Z"
   },
   {
    "duration": 8,
    "start_time": "2022-01-30T00:25:32.408Z"
   },
   {
    "duration": 6,
    "start_time": "2022-01-30T00:25:32.418Z"
   },
   {
    "duration": 6,
    "start_time": "2022-01-30T00:25:32.426Z"
   },
   {
    "duration": 12,
    "start_time": "2022-01-30T00:25:32.433Z"
   },
   {
    "duration": 44,
    "start_time": "2022-01-30T00:25:32.446Z"
   },
   {
    "duration": 7,
    "start_time": "2022-01-30T00:25:32.491Z"
   },
   {
    "duration": 6,
    "start_time": "2022-01-30T00:25:32.499Z"
   },
   {
    "duration": 4,
    "start_time": "2022-01-30T00:25:39.830Z"
   },
   {
    "duration": 14,
    "start_time": "2022-01-30T00:25:46.693Z"
   },
   {
    "duration": 8,
    "start_time": "2022-01-30T00:29:09.607Z"
   },
   {
    "duration": 9,
    "start_time": "2022-01-30T00:29:57.813Z"
   },
   {
    "duration": 9,
    "start_time": "2022-01-30T00:30:34.669Z"
   },
   {
    "duration": 11,
    "start_time": "2022-01-30T00:30:38.932Z"
   },
   {
    "duration": 15,
    "start_time": "2022-01-30T00:31:23.810Z"
   },
   {
    "duration": 12,
    "start_time": "2022-01-30T00:32:12.583Z"
   },
   {
    "duration": 14,
    "start_time": "2022-01-30T00:32:20.338Z"
   },
   {
    "duration": 15,
    "start_time": "2022-01-30T00:33:38.287Z"
   },
   {
    "duration": 11,
    "start_time": "2022-01-30T00:34:48.320Z"
   },
   {
    "duration": 11,
    "start_time": "2022-01-30T00:34:55.221Z"
   },
   {
    "duration": 2,
    "start_time": "2022-01-30T00:35:54.836Z"
   },
   {
    "duration": 10,
    "start_time": "2022-01-30T00:36:17.837Z"
   },
   {
    "duration": 11,
    "start_time": "2022-01-30T00:36:21.154Z"
   },
   {
    "duration": 11,
    "start_time": "2022-01-30T00:36:23.861Z"
   },
   {
    "duration": 10,
    "start_time": "2022-01-30T00:36:28.236Z"
   },
   {
    "duration": 10,
    "start_time": "2022-01-30T00:36:31.608Z"
   },
   {
    "duration": 7,
    "start_time": "2022-01-30T00:36:38.670Z"
   },
   {
    "duration": 7,
    "start_time": "2022-01-30T00:36:43.226Z"
   },
   {
    "duration": 10,
    "start_time": "2022-01-30T00:37:09.998Z"
   },
   {
    "duration": 11,
    "start_time": "2022-01-30T00:37:31.211Z"
   },
   {
    "duration": 11,
    "start_time": "2022-01-30T00:38:38.431Z"
   },
   {
    "duration": 9,
    "start_time": "2022-01-30T00:39:11.673Z"
   },
   {
    "duration": 11,
    "start_time": "2022-01-30T00:39:20.273Z"
   },
   {
    "duration": 11,
    "start_time": "2022-01-30T00:39:40.278Z"
   },
   {
    "duration": 10,
    "start_time": "2022-01-30T00:39:44.488Z"
   },
   {
    "duration": 341,
    "start_time": "2022-01-30T00:42:30.312Z"
   },
   {
    "duration": 588,
    "start_time": "2022-01-30T00:42:35.201Z"
   },
   {
    "duration": 3,
    "start_time": "2022-01-30T00:42:35.791Z"
   },
   {
    "duration": 22,
    "start_time": "2022-01-30T00:42:35.796Z"
   },
   {
    "duration": 11,
    "start_time": "2022-01-30T00:42:35.820Z"
   },
   {
    "duration": 18,
    "start_time": "2022-01-30T00:42:35.832Z"
   },
   {
    "duration": 21,
    "start_time": "2022-01-30T00:42:35.852Z"
   },
   {
    "duration": 11,
    "start_time": "2022-01-30T00:42:35.875Z"
   },
   {
    "duration": 5,
    "start_time": "2022-01-30T00:42:35.887Z"
   },
   {
    "duration": 23,
    "start_time": "2022-01-30T00:42:35.894Z"
   },
   {
    "duration": 17,
    "start_time": "2022-01-30T00:42:35.919Z"
   },
   {
    "duration": 2,
    "start_time": "2022-01-30T00:42:35.937Z"
   },
   {
    "duration": 2,
    "start_time": "2022-01-30T00:42:35.972Z"
   },
   {
    "duration": 16,
    "start_time": "2022-01-30T00:42:35.975Z"
   },
   {
    "duration": 14,
    "start_time": "2022-01-30T00:42:35.993Z"
   },
   {
    "duration": 17,
    "start_time": "2022-01-30T00:42:36.009Z"
   },
   {
    "duration": 6,
    "start_time": "2022-01-30T00:42:36.027Z"
   },
   {
    "duration": 37,
    "start_time": "2022-01-30T00:42:36.035Z"
   },
   {
    "duration": 3,
    "start_time": "2022-01-30T00:42:36.074Z"
   },
   {
    "duration": 12,
    "start_time": "2022-01-30T00:42:36.078Z"
   },
   {
    "duration": 8,
    "start_time": "2022-01-30T00:42:36.092Z"
   },
   {
    "duration": 9,
    "start_time": "2022-01-30T00:42:36.102Z"
   },
   {
    "duration": 8,
    "start_time": "2022-01-30T00:42:36.113Z"
   },
   {
    "duration": 8,
    "start_time": "2022-01-30T00:42:36.123Z"
   },
   {
    "duration": 40,
    "start_time": "2022-01-30T00:42:36.132Z"
   },
   {
    "duration": 8,
    "start_time": "2022-01-30T00:42:36.174Z"
   },
   {
    "duration": 20,
    "start_time": "2022-01-30T00:42:36.183Z"
   },
   {
    "duration": 7,
    "start_time": "2022-01-30T00:42:36.206Z"
   },
   {
    "duration": 7,
    "start_time": "2022-01-30T00:42:39.161Z"
   },
   {
    "duration": 8,
    "start_time": "2022-01-30T00:42:53.587Z"
   },
   {
    "duration": 8,
    "start_time": "2022-01-30T00:43:07.049Z"
   },
   {
    "duration": 7,
    "start_time": "2022-01-30T00:43:23.619Z"
   },
   {
    "duration": 111,
    "start_time": "2022-01-30T00:43:50.464Z"
   },
   {
    "duration": 308,
    "start_time": "2022-01-30T00:43:53.764Z"
   },
   {
    "duration": 300,
    "start_time": "2022-01-30T00:44:12.080Z"
   },
   {
    "duration": 8,
    "start_time": "2022-01-30T00:44:18.792Z"
   },
   {
    "duration": 7,
    "start_time": "2022-01-30T00:44:24.216Z"
   },
   {
    "duration": 701,
    "start_time": "2022-01-30T00:45:03.512Z"
   },
   {
    "duration": 308,
    "start_time": "2022-01-30T00:45:12.402Z"
   },
   {
    "duration": 16,
    "start_time": "2022-01-30T00:45:28.810Z"
   },
   {
    "duration": 329,
    "start_time": "2022-01-30T00:45:54.646Z"
   },
   {
    "duration": 22,
    "start_time": "2022-01-30T00:53:06.736Z"
   },
   {
    "duration": 21,
    "start_time": "2022-01-30T00:56:00.884Z"
   },
   {
    "duration": 97,
    "start_time": "2022-01-30T00:56:24.727Z"
   },
   {
    "duration": 23,
    "start_time": "2022-01-30T00:56:45.289Z"
   },
   {
    "duration": 21,
    "start_time": "2022-01-30T00:57:02.518Z"
   },
   {
    "duration": 17,
    "start_time": "2022-01-30T00:57:50.043Z"
   },
   {
    "duration": 16,
    "start_time": "2022-01-30T00:58:21.660Z"
   },
   {
    "duration": 17,
    "start_time": "2022-01-30T01:14:19.155Z"
   },
   {
    "duration": 18,
    "start_time": "2022-01-30T01:14:22.831Z"
   },
   {
    "duration": 17,
    "start_time": "2022-01-30T01:14:28.459Z"
   },
   {
    "duration": 10,
    "start_time": "2022-01-30T01:17:35.309Z"
   },
   {
    "duration": 9,
    "start_time": "2022-01-30T01:17:49.154Z"
   },
   {
    "duration": 333,
    "start_time": "2022-01-30T01:18:20.542Z"
   },
   {
    "duration": 8,
    "start_time": "2022-01-30T01:18:39.759Z"
   },
   {
    "duration": 17,
    "start_time": "2022-01-30T01:21:03.019Z"
   },
   {
    "duration": 20,
    "start_time": "2022-01-30T01:22:16.672Z"
   },
   {
    "duration": 14,
    "start_time": "2022-01-30T01:22:18.396Z"
   },
   {
    "duration": 14,
    "start_time": "2022-01-30T01:22:28.909Z"
   },
   {
    "duration": 17,
    "start_time": "2022-01-30T01:22:35.456Z"
   },
   {
    "duration": 598,
    "start_time": "2022-01-30T01:23:13.481Z"
   },
   {
    "duration": 4,
    "start_time": "2022-01-30T01:23:14.080Z"
   },
   {
    "duration": 18,
    "start_time": "2022-01-30T01:23:14.085Z"
   },
   {
    "duration": 9,
    "start_time": "2022-01-30T01:23:14.104Z"
   },
   {
    "duration": 17,
    "start_time": "2022-01-30T01:23:14.115Z"
   },
   {
    "duration": 6,
    "start_time": "2022-01-30T01:23:14.133Z"
   },
   {
    "duration": 36,
    "start_time": "2022-01-30T01:23:14.141Z"
   },
   {
    "duration": 5,
    "start_time": "2022-01-30T01:23:14.179Z"
   },
   {
    "duration": 19,
    "start_time": "2022-01-30T01:23:14.186Z"
   },
   {
    "duration": 17,
    "start_time": "2022-01-30T01:23:14.207Z"
   },
   {
    "duration": 9,
    "start_time": "2022-01-30T01:23:14.225Z"
   },
   {
    "duration": 3,
    "start_time": "2022-01-30T01:23:14.235Z"
   },
   {
    "duration": 8,
    "start_time": "2022-01-30T01:23:14.239Z"
   },
   {
    "duration": 15,
    "start_time": "2022-01-30T01:23:14.272Z"
   },
   {
    "duration": 15,
    "start_time": "2022-01-30T01:23:14.288Z"
   },
   {
    "duration": 15,
    "start_time": "2022-01-30T01:23:14.305Z"
   },
   {
    "duration": 7,
    "start_time": "2022-01-30T01:23:14.321Z"
   },
   {
    "duration": 12,
    "start_time": "2022-01-30T01:23:14.329Z"
   },
   {
    "duration": 32,
    "start_time": "2022-01-30T01:23:14.342Z"
   },
   {
    "duration": 10,
    "start_time": "2022-01-30T01:23:14.376Z"
   },
   {
    "duration": 6,
    "start_time": "2022-01-30T01:23:14.387Z"
   },
   {
    "duration": 9,
    "start_time": "2022-01-30T01:23:14.395Z"
   },
   {
    "duration": 8,
    "start_time": "2022-01-30T01:23:14.407Z"
   },
   {
    "duration": 7,
    "start_time": "2022-01-30T01:23:14.416Z"
   },
   {
    "duration": 5,
    "start_time": "2022-01-30T01:23:14.425Z"
   },
   {
    "duration": 10,
    "start_time": "2022-01-30T01:23:14.432Z"
   },
   {
    "duration": 43,
    "start_time": "2022-01-30T01:23:14.444Z"
   },
   {
    "duration": 7,
    "start_time": "2022-01-30T01:23:14.488Z"
   },
   {
    "duration": 6,
    "start_time": "2022-01-30T01:23:14.496Z"
   },
   {
    "duration": 6,
    "start_time": "2022-01-30T01:23:14.503Z"
   },
   {
    "duration": 24,
    "start_time": "2022-01-30T01:23:14.510Z"
   },
   {
    "duration": 2,
    "start_time": "2022-01-30T01:23:14.536Z"
   },
   {
    "duration": 8,
    "start_time": "2022-01-30T01:23:14.540Z"
   },
   {
    "duration": 33,
    "start_time": "2022-01-30T01:23:14.549Z"
   },
   {
    "duration": 7,
    "start_time": "2022-01-30T01:23:19.105Z"
   },
   {
    "duration": 15,
    "start_time": "2022-01-30T01:23:20.729Z"
   },
   {
    "duration": 6,
    "start_time": "2022-01-30T01:27:38.299Z"
   },
   {
    "duration": 13,
    "start_time": "2022-01-30T01:27:40.056Z"
   },
   {
    "duration": 31,
    "start_time": "2022-01-30T01:29:04.713Z"
   },
   {
    "duration": 27,
    "start_time": "2022-01-30T01:29:55.559Z"
   },
   {
    "duration": 109,
    "start_time": "2022-01-30T01:30:11.284Z"
   },
   {
    "duration": 102,
    "start_time": "2022-01-30T01:30:18.974Z"
   },
   {
    "duration": 30,
    "start_time": "2022-01-30T01:30:27.022Z"
   },
   {
    "duration": 37,
    "start_time": "2022-01-30T01:31:09.928Z"
   },
   {
    "duration": 12,
    "start_time": "2022-01-30T01:31:13.525Z"
   },
   {
    "duration": 25,
    "start_time": "2022-01-30T01:31:20.788Z"
   },
   {
    "duration": 14,
    "start_time": "2022-01-30T01:31:23.549Z"
   },
   {
    "duration": 343,
    "start_time": "2022-01-30T01:32:20.274Z"
   },
   {
    "duration": 3,
    "start_time": "2022-01-30T01:33:38.717Z"
   },
   {
    "duration": 595,
    "start_time": "2022-01-30T01:38:06.992Z"
   },
   {
    "duration": 3,
    "start_time": "2022-01-30T01:38:07.589Z"
   },
   {
    "duration": 20,
    "start_time": "2022-01-30T01:38:07.593Z"
   },
   {
    "duration": 10,
    "start_time": "2022-01-30T01:38:07.614Z"
   },
   {
    "duration": 17,
    "start_time": "2022-01-30T01:38:07.625Z"
   },
   {
    "duration": 5,
    "start_time": "2022-01-30T01:38:07.644Z"
   },
   {
    "duration": 10,
    "start_time": "2022-01-30T01:38:07.672Z"
   },
   {
    "duration": 7,
    "start_time": "2022-01-30T01:38:07.683Z"
   },
   {
    "duration": 15,
    "start_time": "2022-01-30T01:38:07.692Z"
   },
   {
    "duration": 15,
    "start_time": "2022-01-30T01:38:07.709Z"
   },
   {
    "duration": 9,
    "start_time": "2022-01-30T01:38:07.725Z"
   },
   {
    "duration": 7,
    "start_time": "2022-01-30T01:38:07.735Z"
   },
   {
    "duration": 2,
    "start_time": "2022-01-30T01:38:07.772Z"
   },
   {
    "duration": 16,
    "start_time": "2022-01-30T01:38:07.775Z"
   },
   {
    "duration": 14,
    "start_time": "2022-01-30T01:38:07.792Z"
   },
   {
    "duration": 15,
    "start_time": "2022-01-30T01:38:07.807Z"
   },
   {
    "duration": 6,
    "start_time": "2022-01-30T01:38:07.824Z"
   },
   {
    "duration": 39,
    "start_time": "2022-01-30T01:38:07.832Z"
   },
   {
    "duration": 3,
    "start_time": "2022-01-30T01:38:07.873Z"
   },
   {
    "duration": 14,
    "start_time": "2022-01-30T01:38:07.878Z"
   },
   {
    "duration": 5,
    "start_time": "2022-01-30T01:38:07.893Z"
   },
   {
    "duration": 9,
    "start_time": "2022-01-30T01:38:07.900Z"
   },
   {
    "duration": 9,
    "start_time": "2022-01-30T01:38:07.911Z"
   },
   {
    "duration": 5,
    "start_time": "2022-01-30T01:38:07.922Z"
   },
   {
    "duration": 7,
    "start_time": "2022-01-30T01:38:07.929Z"
   },
   {
    "duration": 36,
    "start_time": "2022-01-30T01:38:07.937Z"
   },
   {
    "duration": 18,
    "start_time": "2022-01-30T01:38:07.977Z"
   },
   {
    "duration": 7,
    "start_time": "2022-01-30T01:38:07.998Z"
   },
   {
    "duration": 7,
    "start_time": "2022-01-30T01:38:08.006Z"
   },
   {
    "duration": 6,
    "start_time": "2022-01-30T01:38:08.015Z"
   },
   {
    "duration": 18,
    "start_time": "2022-01-30T01:38:08.023Z"
   },
   {
    "duration": 3,
    "start_time": "2022-01-30T01:38:08.042Z"
   },
   {
    "duration": 26,
    "start_time": "2022-01-30T01:38:08.046Z"
   },
   {
    "duration": 18,
    "start_time": "2022-01-30T01:38:08.073Z"
   },
   {
    "duration": 5,
    "start_time": "2022-01-30T01:38:08.092Z"
   },
   {
    "duration": 15,
    "start_time": "2022-01-30T01:38:08.099Z"
   },
   {
    "duration": 15,
    "start_time": "2022-01-30T01:38:08.115Z"
   },
   {
    "duration": 4,
    "start_time": "2022-01-30T01:38:08.131Z"
   },
   {
    "duration": 9,
    "start_time": "2022-01-30T01:38:08.136Z"
   },
   {
    "duration": 27,
    "start_time": "2022-01-30T01:38:08.146Z"
   },
   {
    "duration": 23,
    "start_time": "2022-01-30T01:38:08.174Z"
   },
   {
    "duration": 13,
    "start_time": "2022-01-30T01:38:08.199Z"
   },
   {
    "duration": 3,
    "start_time": "2022-01-30T01:38:08.213Z"
   },
   {
    "duration": 12,
    "start_time": "2022-01-30T01:38:08.217Z"
   },
   {
    "duration": 8,
    "start_time": "2022-01-30T01:38:08.230Z"
   },
   {
    "duration": 16,
    "start_time": "2022-01-30T01:38:08.239Z"
   },
   {
    "duration": 19,
    "start_time": "2022-01-30T01:38:08.256Z"
   },
   {
    "duration": 9,
    "start_time": "2022-01-30T01:38:08.277Z"
   },
   {
    "duration": 8,
    "start_time": "2022-01-30T01:38:08.287Z"
   },
   {
    "duration": 11,
    "start_time": "2022-01-30T01:38:08.297Z"
   },
   {
    "duration": 5,
    "start_time": "2022-01-30T01:38:08.310Z"
   },
   {
    "duration": 12,
    "start_time": "2022-01-30T01:38:08.316Z"
   },
   {
    "duration": 8566,
    "start_time": "2022-01-30T01:38:08.330Z"
   },
   {
    "duration": -214,
    "start_time": "2022-01-30T01:38:17.112Z"
   },
   {
    "duration": -227,
    "start_time": "2022-01-30T01:38:17.127Z"
   },
   {
    "duration": -229,
    "start_time": "2022-01-30T01:38:17.130Z"
   },
   {
    "duration": -231,
    "start_time": "2022-01-30T01:38:17.133Z"
   },
   {
    "duration": -242,
    "start_time": "2022-01-30T01:38:17.146Z"
   },
   {
    "duration": -245,
    "start_time": "2022-01-30T01:38:17.150Z"
   },
   {
    "duration": -256,
    "start_time": "2022-01-30T01:38:17.162Z"
   },
   {
    "duration": -257,
    "start_time": "2022-01-30T01:38:17.165Z"
   },
   {
    "duration": -259,
    "start_time": "2022-01-30T01:38:17.168Z"
   },
   {
    "duration": -262,
    "start_time": "2022-01-30T01:38:17.172Z"
   },
   {
    "duration": -273,
    "start_time": "2022-01-30T01:38:17.185Z"
   },
   {
    "duration": -276,
    "start_time": "2022-01-30T01:38:17.189Z"
   },
   {
    "duration": -279,
    "start_time": "2022-01-30T01:38:17.193Z"
   },
   {
    "duration": -290,
    "start_time": "2022-01-30T01:38:17.206Z"
   },
   {
    "duration": -291,
    "start_time": "2022-01-30T01:38:17.209Z"
   },
   {
    "duration": -294,
    "start_time": "2022-01-30T01:38:17.213Z"
   },
   {
    "duration": -304,
    "start_time": "2022-01-30T01:38:17.224Z"
   },
   {
    "duration": -308,
    "start_time": "2022-01-30T01:38:17.228Z"
   },
   {
    "duration": -310,
    "start_time": "2022-01-30T01:38:17.231Z"
   },
   {
    "duration": -361,
    "start_time": "2022-01-30T01:38:17.283Z"
   },
   {
    "duration": -391,
    "start_time": "2022-01-30T01:38:17.314Z"
   },
   {
    "duration": -393,
    "start_time": "2022-01-30T01:38:17.317Z"
   },
   {
    "duration": -396,
    "start_time": "2022-01-30T01:38:17.320Z"
   },
   {
    "duration": -398,
    "start_time": "2022-01-30T01:38:17.323Z"
   },
   {
    "duration": -400,
    "start_time": "2022-01-30T01:38:17.326Z"
   },
   {
    "duration": -402,
    "start_time": "2022-01-30T01:38:17.329Z"
   },
   {
    "duration": -404,
    "start_time": "2022-01-30T01:38:17.332Z"
   },
   {
    "duration": -407,
    "start_time": "2022-01-30T01:38:17.335Z"
   },
   {
    "duration": -409,
    "start_time": "2022-01-30T01:38:17.338Z"
   },
   {
    "duration": -411,
    "start_time": "2022-01-30T01:38:17.341Z"
   },
   {
    "duration": -413,
    "start_time": "2022-01-30T01:38:17.344Z"
   },
   {
    "duration": 106,
    "start_time": "2022-01-30T01:41:25.646Z"
   },
   {
    "duration": 4,
    "start_time": "2022-01-30T01:41:30.941Z"
   },
   {
    "duration": 4,
    "start_time": "2022-01-30T01:42:03.577Z"
   },
   {
    "duration": 3,
    "start_time": "2022-01-30T01:42:17.728Z"
   },
   {
    "duration": 6,
    "start_time": "2022-01-30T01:52:03.505Z"
   },
   {
    "duration": 14,
    "start_time": "2022-01-30T01:52:18.114Z"
   },
   {
    "duration": 6,
    "start_time": "2022-01-30T01:53:00.529Z"
   },
   {
    "duration": 16,
    "start_time": "2022-01-30T01:53:02.067Z"
   },
   {
    "duration": 8,
    "start_time": "2022-01-30T01:57:43.554Z"
   },
   {
    "duration": 14,
    "start_time": "2022-01-30T01:57:45.688Z"
   },
   {
    "duration": 9,
    "start_time": "2022-01-30T01:58:46.039Z"
   },
   {
    "duration": 7,
    "start_time": "2022-01-30T01:58:48.597Z"
   },
   {
    "duration": 14,
    "start_time": "2022-01-30T01:59:33.201Z"
   },
   {
    "duration": 23,
    "start_time": "2022-01-30T02:00:01.997Z"
   },
   {
    "duration": 13,
    "start_time": "2022-01-30T02:00:03.843Z"
   },
   {
    "duration": 14,
    "start_time": "2022-01-30T02:00:05.929Z"
   },
   {
    "duration": 3,
    "start_time": "2022-01-30T02:00:10.206Z"
   },
   {
    "duration": 3,
    "start_time": "2022-01-30T02:00:18.098Z"
   },
   {
    "duration": 4,
    "start_time": "2022-01-30T02:00:25.256Z"
   },
   {
    "duration": 3,
    "start_time": "2022-01-30T02:00:35.274Z"
   },
   {
    "duration": 3,
    "start_time": "2022-01-30T02:00:44.054Z"
   },
   {
    "duration": 14,
    "start_time": "2022-01-30T02:02:19.153Z"
   },
   {
    "duration": 9,
    "start_time": "2022-01-30T02:02:46.038Z"
   },
   {
    "duration": 626,
    "start_time": "2022-01-30T02:03:06.052Z"
   },
   {
    "duration": 4,
    "start_time": "2022-01-30T02:03:09.904Z"
   },
   {
    "duration": 18,
    "start_time": "2022-01-30T02:03:18.216Z"
   },
   {
    "duration": 10,
    "start_time": "2022-01-30T02:03:46.434Z"
   },
   {
    "duration": 18,
    "start_time": "2022-01-30T02:03:58.129Z"
   },
   {
    "duration": 19,
    "start_time": "2022-01-30T02:04:35.787Z"
   },
   {
    "duration": 20,
    "start_time": "2022-01-30T02:04:40.527Z"
   },
   {
    "duration": 6,
    "start_time": "2022-01-30T02:06:51.797Z"
   },
   {
    "duration": 11,
    "start_time": "2022-01-30T02:10:20.969Z"
   },
   {
    "duration": 5,
    "start_time": "2022-01-30T02:12:07.828Z"
   },
   {
    "duration": 17,
    "start_time": "2022-01-30T02:13:06.509Z"
   },
   {
    "duration": 9,
    "start_time": "2022-01-30T02:13:16.701Z"
   },
   {
    "duration": 10,
    "start_time": "2022-01-30T02:16:41.703Z"
   },
   {
    "duration": 22,
    "start_time": "2022-01-30T02:17:07.843Z"
   },
   {
    "duration": 22,
    "start_time": "2022-01-30T02:18:09.277Z"
   },
   {
    "duration": 18,
    "start_time": "2022-01-30T02:19:38.389Z"
   },
   {
    "duration": 21,
    "start_time": "2022-01-30T02:19:57.209Z"
   },
   {
    "duration": 20,
    "start_time": "2022-01-30T02:20:18.376Z"
   },
   {
    "duration": 22,
    "start_time": "2022-01-30T02:21:52.779Z"
   },
   {
    "duration": 23,
    "start_time": "2022-01-30T02:22:06.871Z"
   },
   {
    "duration": 7,
    "start_time": "2022-01-30T02:22:14.214Z"
   },
   {
    "duration": 7,
    "start_time": "2022-01-30T02:22:17.175Z"
   },
   {
    "duration": 628,
    "start_time": "2022-01-30T02:24:16.754Z"
   },
   {
    "duration": 4,
    "start_time": "2022-01-30T02:24:17.383Z"
   },
   {
    "duration": 18,
    "start_time": "2022-01-30T02:24:17.389Z"
   },
   {
    "duration": 9,
    "start_time": "2022-01-30T02:24:17.409Z"
   },
   {
    "duration": 18,
    "start_time": "2022-01-30T02:24:17.420Z"
   },
   {
    "duration": 31,
    "start_time": "2022-01-30T02:24:17.440Z"
   },
   {
    "duration": 11,
    "start_time": "2022-01-30T02:24:17.473Z"
   },
   {
    "duration": 5,
    "start_time": "2022-01-30T02:24:17.485Z"
   },
   {
    "duration": 17,
    "start_time": "2022-01-30T02:24:17.492Z"
   },
   {
    "duration": 16,
    "start_time": "2022-01-30T02:24:17.511Z"
   },
   {
    "duration": 31,
    "start_time": "2022-01-30T02:24:20.785Z"
   },
   {
    "duration": 10,
    "start_time": "2022-01-30T02:24:30.141Z"
   },
   {
    "duration": 19,
    "start_time": "2022-01-30T02:24:33.411Z"
   },
   {
    "duration": 8,
    "start_time": "2022-01-30T02:26:13.916Z"
   },
   {
    "duration": 363,
    "start_time": "2022-01-30T02:26:39.555Z"
   },
   {
    "duration": 23,
    "start_time": "2022-01-30T02:27:19.059Z"
   },
   {
    "duration": 652,
    "start_time": "2022-01-30T02:27:41.255Z"
   },
   {
    "duration": 4,
    "start_time": "2022-01-30T02:27:41.908Z"
   },
   {
    "duration": 17,
    "start_time": "2022-01-30T02:27:41.914Z"
   },
   {
    "duration": 9,
    "start_time": "2022-01-30T02:27:41.932Z"
   },
   {
    "duration": 31,
    "start_time": "2022-01-30T02:27:41.942Z"
   },
   {
    "duration": 6,
    "start_time": "2022-01-30T02:27:41.974Z"
   },
   {
    "duration": 12,
    "start_time": "2022-01-30T02:27:41.982Z"
   },
   {
    "duration": 4,
    "start_time": "2022-01-30T02:27:41.996Z"
   },
   {
    "duration": 16,
    "start_time": "2022-01-30T02:27:42.002Z"
   },
   {
    "duration": 16,
    "start_time": "2022-01-30T02:27:42.019Z"
   },
   {
    "duration": 39,
    "start_time": "2022-01-30T02:27:42.036Z"
   },
   {
    "duration": 24,
    "start_time": "2022-01-30T02:27:47.635Z"
   },
   {
    "duration": 25,
    "start_time": "2022-01-30T02:28:53.114Z"
   },
   {
    "duration": 20,
    "start_time": "2022-01-30T02:29:01.561Z"
   },
   {
    "duration": 392,
    "start_time": "2022-01-30T02:29:21.214Z"
   },
   {
    "duration": 25,
    "start_time": "2022-01-30T02:29:36.087Z"
   },
   {
    "duration": 20,
    "start_time": "2022-01-30T02:29:52.724Z"
   },
   {
    "duration": 7,
    "start_time": "2022-01-30T02:30:08.009Z"
   },
   {
    "duration": 10,
    "start_time": "2022-01-30T02:31:33.164Z"
   },
   {
    "duration": 11,
    "start_time": "2022-01-30T02:32:45.198Z"
   },
   {
    "duration": 11,
    "start_time": "2022-01-30T02:33:04.229Z"
   },
   {
    "duration": 13,
    "start_time": "2022-01-30T02:33:12.241Z"
   },
   {
    "duration": 105,
    "start_time": "2022-01-30T02:34:54.290Z"
   },
   {
    "duration": 13,
    "start_time": "2022-01-30T02:34:58.618Z"
   },
   {
    "duration": 14,
    "start_time": "2022-01-30T02:35:12.779Z"
   },
   {
    "duration": 14,
    "start_time": "2022-01-30T02:35:21.675Z"
   },
   {
    "duration": 15,
    "start_time": "2022-01-30T02:35:29.129Z"
   },
   {
    "duration": 14,
    "start_time": "2022-01-30T02:35:42.613Z"
   },
   {
    "duration": 327,
    "start_time": "2022-01-30T02:39:12.006Z"
   },
   {
    "duration": 23,
    "start_time": "2022-01-30T02:39:28.820Z"
   },
   {
    "duration": 24,
    "start_time": "2022-01-30T02:39:33.485Z"
   },
   {
    "duration": 19,
    "start_time": "2022-01-30T02:39:39.807Z"
   },
   {
    "duration": 24,
    "start_time": "2022-01-30T02:40:29.369Z"
   },
   {
    "duration": 19,
    "start_time": "2022-01-30T02:40:37.330Z"
   },
   {
    "duration": 564,
    "start_time": "2022-01-30T02:41:35.427Z"
   },
   {
    "duration": 4,
    "start_time": "2022-01-30T02:41:35.992Z"
   },
   {
    "duration": 21,
    "start_time": "2022-01-30T02:41:35.998Z"
   },
   {
    "duration": 10,
    "start_time": "2022-01-30T02:41:36.021Z"
   },
   {
    "duration": 18,
    "start_time": "2022-01-30T02:41:36.032Z"
   },
   {
    "duration": 24,
    "start_time": "2022-01-30T02:41:36.052Z"
   },
   {
    "duration": 11,
    "start_time": "2022-01-30T02:41:36.077Z"
   },
   {
    "duration": 4,
    "start_time": "2022-01-30T02:41:36.090Z"
   },
   {
    "duration": 17,
    "start_time": "2022-01-30T02:41:36.096Z"
   },
   {
    "duration": 16,
    "start_time": "2022-01-30T02:41:36.115Z"
   },
   {
    "duration": 15,
    "start_time": "2022-01-30T02:41:46.987Z"
   },
   {
    "duration": 25,
    "start_time": "2022-01-30T02:41:49.697Z"
   },
   {
    "duration": 19,
    "start_time": "2022-01-30T02:41:59.257Z"
   },
   {
    "duration": 13,
    "start_time": "2022-01-30T02:43:46.132Z"
   },
   {
    "duration": 9,
    "start_time": "2022-01-30T02:45:00.881Z"
   },
   {
    "duration": 14,
    "start_time": "2022-01-30T02:46:25.452Z"
   },
   {
    "duration": 18,
    "start_time": "2022-01-30T02:46:28.399Z"
   },
   {
    "duration": 9,
    "start_time": "2022-01-30T02:49:33.400Z"
   },
   {
    "duration": 12,
    "start_time": "2022-01-30T02:49:59.177Z"
   },
   {
    "duration": 12,
    "start_time": "2022-01-30T02:50:07.619Z"
   },
   {
    "duration": 129,
    "start_time": "2022-01-30T02:50:47.192Z"
   },
   {
    "duration": 12,
    "start_time": "2022-01-30T02:50:55.246Z"
   },
   {
    "duration": 596,
    "start_time": "2022-01-30T02:51:14.285Z"
   },
   {
    "duration": 3,
    "start_time": "2022-01-30T02:51:14.883Z"
   },
   {
    "duration": 20,
    "start_time": "2022-01-30T02:51:14.889Z"
   },
   {
    "duration": 10,
    "start_time": "2022-01-30T02:51:14.910Z"
   },
   {
    "duration": 18,
    "start_time": "2022-01-30T02:51:14.921Z"
   },
   {
    "duration": 33,
    "start_time": "2022-01-30T02:51:14.940Z"
   },
   {
    "duration": 12,
    "start_time": "2022-01-30T02:51:14.974Z"
   },
   {
    "duration": 5,
    "start_time": "2022-01-30T02:51:14.987Z"
   },
   {
    "duration": 17,
    "start_time": "2022-01-30T02:51:14.994Z"
   },
   {
    "duration": 18,
    "start_time": "2022-01-30T02:51:15.013Z"
   },
   {
    "duration": 47,
    "start_time": "2022-01-30T02:51:15.033Z"
   },
   {
    "duration": 12,
    "start_time": "2022-01-30T02:51:33.956Z"
   },
   {
    "duration": -304,
    "start_time": "2022-01-30T02:51:58.663Z"
   },
   {
    "duration": 319,
    "start_time": "2022-01-30T02:51:59.842Z"
   },
   {
    "duration": 114,
    "start_time": "2022-01-30T02:52:20.187Z"
   },
   {
    "duration": 298,
    "start_time": "2022-01-30T02:52:28.355Z"
   },
   {
    "duration": 12,
    "start_time": "2022-01-30T02:52:39.789Z"
   },
   {
    "duration": 14,
    "start_time": "2022-01-30T02:52:44.426Z"
   },
   {
    "duration": 11,
    "start_time": "2022-01-30T02:52:50.608Z"
   },
   {
    "duration": 19,
    "start_time": "2022-01-30T02:53:14.102Z"
   },
   {
    "duration": 19,
    "start_time": "2022-01-30T02:53:29.355Z"
   },
   {
    "duration": 11,
    "start_time": "2022-01-30T02:53:36.903Z"
   },
   {
    "duration": 7,
    "start_time": "2022-01-30T02:53:40.255Z"
   },
   {
    "duration": 5,
    "start_time": "2022-01-30T02:53:42.782Z"
   },
   {
    "duration": 12,
    "start_time": "2022-01-30T02:54:05.240Z"
   },
   {
    "duration": 14,
    "start_time": "2022-01-30T02:54:20.262Z"
   },
   {
    "duration": 12,
    "start_time": "2022-01-30T02:55:34.054Z"
   },
   {
    "duration": 312,
    "start_time": "2022-01-30T03:00:03.640Z"
   },
   {
    "duration": 4,
    "start_time": "2022-01-30T03:00:07.821Z"
   },
   {
    "duration": 655,
    "start_time": "2022-01-30T03:00:10.112Z"
   },
   {
    "duration": 3,
    "start_time": "2022-01-30T03:00:52.775Z"
   },
   {
    "duration": 619,
    "start_time": "2022-01-30T03:00:55.733Z"
   },
   {
    "duration": 3,
    "start_time": "2022-01-30T03:01:19.419Z"
   },
   {
    "duration": 3,
    "start_time": "2022-01-30T03:01:23.472Z"
   },
   {
    "duration": 3,
    "start_time": "2022-01-30T03:01:32.770Z"
   },
   {
    "duration": 2,
    "start_time": "2022-01-30T03:02:39.487Z"
   },
   {
    "duration": 299,
    "start_time": "2022-01-30T03:05:27.080Z"
   },
   {
    "duration": 3,
    "start_time": "2022-01-30T03:05:30.550Z"
   },
   {
    "duration": 3,
    "start_time": "2022-01-30T03:05:32.444Z"
   },
   {
    "duration": 9,
    "start_time": "2022-01-30T03:07:09.390Z"
   },
   {
    "duration": 595,
    "start_time": "2022-01-30T04:11:04.728Z"
   },
   {
    "duration": 4,
    "start_time": "2022-01-30T04:11:49.599Z"
   },
   {
    "duration": 20,
    "start_time": "2022-01-30T04:11:53.166Z"
   },
   {
    "duration": 10,
    "start_time": "2022-01-30T04:14:50.132Z"
   },
   {
    "duration": 19,
    "start_time": "2022-01-30T04:15:10.910Z"
   },
   {
    "duration": 22,
    "start_time": "2022-01-30T04:16:14.213Z"
   },
   {
    "duration": 18,
    "start_time": "2022-01-30T04:16:15.967Z"
   },
   {
    "duration": 7,
    "start_time": "2022-01-30T04:25:13.978Z"
   },
   {
    "duration": 12,
    "start_time": "2022-01-30T04:28:52.382Z"
   },
   {
    "duration": 5,
    "start_time": "2022-01-30T04:29:21.019Z"
   },
   {
    "duration": 18,
    "start_time": "2022-01-30T04:34:17.658Z"
   },
   {
    "duration": 22,
    "start_time": "2022-01-30T04:36:39.015Z"
   },
   {
    "duration": 24,
    "start_time": "2022-01-30T04:36:47.294Z"
   },
   {
    "duration": 461,
    "start_time": "2022-01-30T04:37:49.851Z"
   },
   {
    "duration": 21,
    "start_time": "2022-01-30T04:37:58.304Z"
   },
   {
    "duration": 20,
    "start_time": "2022-01-30T04:38:56.364Z"
   },
   {
    "duration": 23,
    "start_time": "2022-01-30T04:39:45.853Z"
   },
   {
    "duration": 22,
    "start_time": "2022-01-30T04:41:21.515Z"
   },
   {
    "duration": 25,
    "start_time": "2022-01-30T04:41:51.232Z"
   },
   {
    "duration": 94,
    "start_time": "2022-01-30T04:42:42.958Z"
   },
   {
    "duration": 23,
    "start_time": "2022-01-30T04:42:47.137Z"
   },
   {
    "duration": 5,
    "start_time": "2022-01-30T04:43:50.033Z"
   },
   {
    "duration": 23,
    "start_time": "2022-01-30T04:43:58.321Z"
   },
   {
    "duration": 17,
    "start_time": "2022-01-30T04:47:35.809Z"
   },
   {
    "duration": 23,
    "start_time": "2022-01-30T04:48:37.268Z"
   },
   {
    "duration": 26,
    "start_time": "2022-01-30T04:48:55.461Z"
   },
   {
    "duration": 17,
    "start_time": "2022-01-30T04:50:43.443Z"
   },
   {
    "duration": 18,
    "start_time": "2022-01-30T04:51:03.308Z"
   },
   {
    "duration": 18,
    "start_time": "2022-01-30T04:51:19.805Z"
   },
   {
    "duration": 17,
    "start_time": "2022-01-30T04:51:31.655Z"
   },
   {
    "duration": 14,
    "start_time": "2022-01-30T04:54:37.933Z"
   },
   {
    "duration": 16,
    "start_time": "2022-01-30T05:00:27.418Z"
   },
   {
    "duration": 15,
    "start_time": "2022-01-30T05:00:29.925Z"
   },
   {
    "duration": 7,
    "start_time": "2022-01-30T05:01:12.871Z"
   },
   {
    "duration": 12,
    "start_time": "2022-01-30T05:01:55.093Z"
   },
   {
    "duration": 3,
    "start_time": "2022-01-30T05:02:50.634Z"
   },
   {
    "duration": 12,
    "start_time": "2022-01-30T05:04:12.216Z"
   },
   {
    "duration": 10,
    "start_time": "2022-01-30T05:05:02.607Z"
   },
   {
    "duration": 9,
    "start_time": "2022-01-30T05:06:06.500Z"
   },
   {
    "duration": 9,
    "start_time": "2022-01-30T05:06:30.687Z"
   },
   {
    "duration": 6,
    "start_time": "2022-01-30T05:07:34.157Z"
   },
   {
    "duration": 9,
    "start_time": "2022-01-30T05:08:27.277Z"
   },
   {
    "duration": 9,
    "start_time": "2022-01-30T05:11:44.692Z"
   },
   {
    "duration": 4,
    "start_time": "2022-01-30T05:11:46.512Z"
   },
   {
    "duration": 7,
    "start_time": "2022-01-30T05:12:00.673Z"
   },
   {
    "duration": 20,
    "start_time": "2022-01-30T05:12:12.921Z"
   },
   {
    "duration": 7,
    "start_time": "2022-01-30T05:12:23.739Z"
   },
   {
    "duration": 6,
    "start_time": "2022-01-30T05:13:56.297Z"
   },
   {
    "duration": 6,
    "start_time": "2022-01-30T05:14:44.696Z"
   },
   {
    "duration": 136,
    "start_time": "2022-01-30T05:15:14.077Z"
   },
   {
    "duration": 5,
    "start_time": "2022-01-30T05:15:26.869Z"
   },
   {
    "duration": 4,
    "start_time": "2022-01-30T05:16:01.767Z"
   },
   {
    "duration": 5,
    "start_time": "2022-01-30T05:16:13.923Z"
   },
   {
    "duration": 9,
    "start_time": "2022-01-30T05:18:53.313Z"
   },
   {
    "duration": 8,
    "start_time": "2022-01-30T05:19:08.807Z"
   },
   {
    "duration": 4,
    "start_time": "2022-01-30T05:19:13.145Z"
   },
   {
    "duration": 14,
    "start_time": "2022-01-30T05:19:40.526Z"
   },
   {
    "duration": 7,
    "start_time": "2022-01-30T05:21:54.351Z"
   },
   {
    "duration": 7,
    "start_time": "2022-01-30T05:23:41.283Z"
   },
   {
    "duration": 7,
    "start_time": "2022-01-30T05:23:44.457Z"
   },
   {
    "duration": 16,
    "start_time": "2022-01-30T05:24:02.932Z"
   },
   {
    "duration": 16,
    "start_time": "2022-01-30T05:24:09.128Z"
   },
   {
    "duration": 7,
    "start_time": "2022-01-30T05:24:19.016Z"
   },
   {
    "duration": 6,
    "start_time": "2022-01-30T05:24:35.910Z"
   },
   {
    "duration": 14,
    "start_time": "2022-01-30T05:24:38.057Z"
   },
   {
    "duration": 16,
    "start_time": "2022-01-30T05:24:49.016Z"
   },
   {
    "duration": 8,
    "start_time": "2022-01-30T05:24:53.566Z"
   },
   {
    "duration": 14,
    "start_time": "2022-01-30T05:24:55.759Z"
   },
   {
    "duration": 13,
    "start_time": "2022-01-30T05:25:09.455Z"
   },
   {
    "duration": 15,
    "start_time": "2022-01-30T05:25:43.509Z"
   },
   {
    "duration": 13,
    "start_time": "2022-01-30T05:25:45.473Z"
   },
   {
    "duration": 3,
    "start_time": "2022-01-30T05:25:52.457Z"
   },
   {
    "duration": 4,
    "start_time": "2022-01-30T05:25:58.884Z"
   },
   {
    "duration": 359,
    "start_time": "2022-01-30T19:00:49.599Z"
   },
   {
    "duration": 904,
    "start_time": "2022-01-30T19:00:55.316Z"
   },
   {
    "duration": 5,
    "start_time": "2022-01-30T19:00:56.223Z"
   },
   {
    "duration": 5,
    "start_time": "2022-01-30T19:00:58.157Z"
   },
   {
    "duration": 31,
    "start_time": "2022-01-30T19:01:00.562Z"
   },
   {
    "duration": 52,
    "start_time": "2022-01-30T19:03:28.324Z"
   },
   {
    "duration": 12,
    "start_time": "2022-01-30T19:03:46.865Z"
   },
   {
    "duration": 27,
    "start_time": "2022-01-30T19:04:07.980Z"
   },
   {
    "duration": 22,
    "start_time": "2022-01-30T19:04:35.342Z"
   },
   {
    "duration": 15,
    "start_time": "2022-01-30T19:06:26.137Z"
   },
   {
    "duration": 29,
    "start_time": "2022-01-30T19:06:28.047Z"
   },
   {
    "duration": 16,
    "start_time": "2022-01-30T19:07:39.417Z"
   },
   {
    "duration": 33,
    "start_time": "2022-01-30T19:08:20.921Z"
   },
   {
    "duration": 10,
    "start_time": "2022-01-30T19:08:27.946Z"
   },
   {
    "duration": 5,
    "start_time": "2022-01-30T19:16:11.604Z"
   },
   {
    "duration": 17,
    "start_time": "2022-01-30T19:17:44.044Z"
   },
   {
    "duration": 16,
    "start_time": "2022-01-30T19:17:56.080Z"
   },
   {
    "duration": 8,
    "start_time": "2022-01-30T19:18:07.055Z"
   },
   {
    "duration": 6,
    "start_time": "2022-01-30T19:18:13.489Z"
   },
   {
    "duration": 17,
    "start_time": "2022-01-30T19:18:15.532Z"
   },
   {
    "duration": 7,
    "start_time": "2022-01-30T19:18:17.721Z"
   },
   {
    "duration": 16,
    "start_time": "2022-01-30T19:18:24.818Z"
   },
   {
    "duration": 33,
    "start_time": "2022-01-30T19:28:09.417Z"
   },
   {
    "duration": 23,
    "start_time": "2022-01-30T19:40:05.031Z"
   },
   {
    "duration": 856,
    "start_time": "2022-01-30T19:40:27.912Z"
   },
   {
    "duration": 6,
    "start_time": "2022-01-30T19:40:30.559Z"
   },
   {
    "duration": 31,
    "start_time": "2022-01-30T19:40:34.154Z"
   },
   {
    "duration": 32,
    "start_time": "2022-01-30T19:40:43.463Z"
   },
   {
    "duration": 10,
    "start_time": "2022-01-30T19:40:49.729Z"
   },
   {
    "duration": 17,
    "start_time": "2022-01-30T19:41:02.957Z"
   },
   {
    "duration": 8,
    "start_time": "2022-01-30T19:41:08.660Z"
   },
   {
    "duration": 28,
    "start_time": "2022-01-30T19:41:13.042Z"
   },
   {
    "duration": 28,
    "start_time": "2022-01-30T19:41:17.838Z"
   },
   {
    "duration": 377,
    "start_time": "2022-01-30T19:41:20.417Z"
   },
   {
    "duration": 24,
    "start_time": "2022-01-30T19:42:13.334Z"
   },
   {
    "duration": 14,
    "start_time": "2022-01-30T19:42:17.580Z"
   },
   {
    "duration": 29,
    "start_time": "2022-01-30T19:42:20.040Z"
   },
   {
    "duration": 10,
    "start_time": "2022-01-30T19:42:25.634Z"
   },
   {
    "duration": 4,
    "start_time": "2022-01-30T19:42:29.881Z"
   },
   {
    "duration": 39,
    "start_time": "2022-01-30T19:42:33.769Z"
   },
   {
    "duration": 12,
    "start_time": "2022-01-30T19:42:42.041Z"
   },
   {
    "duration": 13,
    "start_time": "2022-01-30T19:42:47.417Z"
   },
   {
    "duration": 25,
    "start_time": "2022-01-30T19:42:57.351Z"
   },
   {
    "duration": 6,
    "start_time": "2022-01-30T19:43:00.250Z"
   },
   {
    "duration": 12,
    "start_time": "2022-01-30T19:43:18.047Z"
   },
   {
    "duration": 13,
    "start_time": "2022-01-30T19:43:21.329Z"
   },
   {
    "duration": 7,
    "start_time": "2022-01-30T19:44:58.259Z"
   },
   {
    "duration": 13,
    "start_time": "2022-01-30T19:45:03.973Z"
   },
   {
    "duration": 12,
    "start_time": "2022-01-30T19:46:04.129Z"
   },
   {
    "duration": 10,
    "start_time": "2022-01-30T19:46:12.402Z"
   },
   {
    "duration": 6,
    "start_time": "2022-01-30T19:47:43.208Z"
   },
   {
    "duration": 23,
    "start_time": "2022-01-30T19:48:43.875Z"
   },
   {
    "duration": 14,
    "start_time": "2022-01-30T19:48:47.728Z"
   },
   {
    "duration": 23,
    "start_time": "2022-01-30T19:48:50.547Z"
   },
   {
    "duration": 10,
    "start_time": "2022-01-30T19:48:54.239Z"
   },
   {
    "duration": 16,
    "start_time": "2022-01-30T19:48:59.414Z"
   },
   {
    "duration": 23,
    "start_time": "2022-01-30T19:49:01.516Z"
   },
   {
    "duration": 21,
    "start_time": "2022-01-30T19:49:11.687Z"
   },
   {
    "duration": 13,
    "start_time": "2022-01-30T19:49:14.716Z"
   },
   {
    "duration": 21,
    "start_time": "2022-01-30T19:49:17.073Z"
   },
   {
    "duration": 34,
    "start_time": "2022-01-30T19:55:15.925Z"
   },
   {
    "duration": 22,
    "start_time": "2022-01-30T19:55:19.179Z"
   },
   {
    "duration": 26,
    "start_time": "2022-01-30T19:55:23.715Z"
   },
   {
    "duration": 22,
    "start_time": "2022-01-30T19:55:26.492Z"
   },
   {
    "duration": 5,
    "start_time": "2022-01-30T19:55:32.807Z"
   },
   {
    "duration": 5,
    "start_time": "2022-01-30T19:55:35.732Z"
   },
   {
    "duration": 10,
    "start_time": "2022-01-30T20:03:48.116Z"
   },
   {
    "duration": 9,
    "start_time": "2022-01-30T20:04:06.819Z"
   },
   {
    "duration": 9,
    "start_time": "2022-01-30T20:04:53.942Z"
   },
   {
    "duration": 14,
    "start_time": "2022-01-30T20:05:17.492Z"
   },
   {
    "duration": 13,
    "start_time": "2022-01-30T20:05:28.473Z"
   },
   {
    "duration": 15,
    "start_time": "2022-01-30T20:05:43.205Z"
   },
   {
    "duration": 13,
    "start_time": "2022-01-30T20:06:36.881Z"
   },
   {
    "duration": 18,
    "start_time": "2022-01-30T20:07:22.558Z"
   },
   {
    "duration": 15,
    "start_time": "2022-01-30T20:08:54.108Z"
   },
   {
    "duration": 87,
    "start_time": "2022-01-30T20:09:55.381Z"
   },
   {
    "duration": 89,
    "start_time": "2022-01-30T20:09:59.197Z"
   },
   {
    "duration": 16,
    "start_time": "2022-01-30T20:10:19.247Z"
   },
   {
    "duration": 16,
    "start_time": "2022-01-30T20:10:33.296Z"
   },
   {
    "duration": 20,
    "start_time": "2022-01-30T20:10:44.835Z"
   },
   {
    "duration": 17,
    "start_time": "2022-01-30T20:10:55.093Z"
   },
   {
    "duration": 15,
    "start_time": "2022-01-30T20:11:04.477Z"
   },
   {
    "duration": 15,
    "start_time": "2022-01-30T20:11:12.705Z"
   },
   {
    "duration": 16,
    "start_time": "2022-01-30T20:11:18.164Z"
   },
   {
    "duration": 19,
    "start_time": "2022-01-30T20:11:22.147Z"
   },
   {
    "duration": 16,
    "start_time": "2022-01-30T20:11:25.920Z"
   },
   {
    "duration": 284,
    "start_time": "2022-01-30T20:17:31.025Z"
   },
   {
    "duration": 44,
    "start_time": "2022-01-30T20:22:15.045Z"
   },
   {
    "duration": 12,
    "start_time": "2022-01-30T20:22:22.001Z"
   },
   {
    "duration": 358,
    "start_time": "2022-01-30T20:23:07.587Z"
   },
   {
    "duration": 47,
    "start_time": "2022-01-30T20:23:16.776Z"
   },
   {
    "duration": 63,
    "start_time": "2022-01-30T20:24:07.647Z"
   },
   {
    "duration": 371,
    "start_time": "2022-01-30T20:24:48.745Z"
   },
   {
    "duration": 47,
    "start_time": "2022-01-30T20:25:52.290Z"
   },
   {
    "duration": 48,
    "start_time": "2022-01-30T20:25:56.093Z"
   },
   {
    "duration": 4,
    "start_time": "2022-01-30T20:27:49.218Z"
   },
   {
    "duration": 507,
    "start_time": "2022-01-30T20:35:20.114Z"
   },
   {
    "duration": 37,
    "start_time": "2022-01-30T20:35:30.141Z"
   },
   {
    "duration": 38,
    "start_time": "2022-01-30T20:36:22.083Z"
   },
   {
    "duration": 39,
    "start_time": "2022-01-30T20:36:56.524Z"
   },
   {
    "duration": 42,
    "start_time": "2022-01-30T20:38:06.951Z"
   },
   {
    "duration": 360,
    "start_time": "2022-01-30T20:38:45.006Z"
   },
   {
    "duration": 295,
    "start_time": "2022-01-30T20:38:51.480Z"
   },
   {
    "duration": 75,
    "start_time": "2022-01-30T20:40:24.173Z"
   },
   {
    "duration": 51,
    "start_time": "2022-01-30T20:40:43.126Z"
   },
   {
    "duration": 48,
    "start_time": "2022-01-30T20:41:11.828Z"
   },
   {
    "duration": 51,
    "start_time": "2022-01-30T20:41:35.522Z"
   },
   {
    "duration": 47,
    "start_time": "2022-01-30T20:41:54.785Z"
   },
   {
    "duration": 47,
    "start_time": "2022-01-30T20:43:52.695Z"
   },
   {
    "duration": 67,
    "start_time": "2022-01-30T20:44:34.437Z"
   },
   {
    "duration": 48,
    "start_time": "2022-01-30T20:44:38.403Z"
   },
   {
    "duration": 48,
    "start_time": "2022-01-30T20:44:43.338Z"
   },
   {
    "duration": 49,
    "start_time": "2022-01-30T20:44:48.018Z"
   },
   {
    "duration": 53,
    "start_time": "2022-01-30T20:45:01.527Z"
   },
   {
    "duration": 47,
    "start_time": "2022-01-30T20:45:05.015Z"
   },
   {
    "duration": 47,
    "start_time": "2022-01-30T20:45:51.377Z"
   },
   {
    "duration": 49,
    "start_time": "2022-01-30T20:46:03.369Z"
   },
   {
    "duration": 48,
    "start_time": "2022-01-30T20:46:10.413Z"
   },
   {
    "duration": 53,
    "start_time": "2022-01-30T20:46:15.760Z"
   },
   {
    "duration": 64,
    "start_time": "2022-01-30T20:46:25.075Z"
   },
   {
    "duration": 48,
    "start_time": "2022-01-30T20:46:38.666Z"
   },
   {
    "duration": 47,
    "start_time": "2022-01-30T20:47:02.100Z"
   },
   {
    "duration": 33,
    "start_time": "2022-01-30T20:47:55.772Z"
   },
   {
    "duration": 24,
    "start_time": "2022-01-30T20:48:29.797Z"
   },
   {
    "duration": 51,
    "start_time": "2022-01-30T20:48:42.049Z"
   },
   {
    "duration": 47,
    "start_time": "2022-01-30T20:49:10.343Z"
   },
   {
    "duration": 267,
    "start_time": "2022-01-30T20:55:10.470Z"
   },
   {
    "duration": 5,
    "start_time": "2022-01-30T20:55:29.115Z"
   },
   {
    "duration": 5,
    "start_time": "2022-01-30T20:55:30.695Z"
   },
   {
    "duration": 6,
    "start_time": "2022-01-30T20:55:39.527Z"
   },
   {
    "duration": 660,
    "start_time": "2022-01-30T20:58:05.689Z"
   },
   {
    "duration": 538,
    "start_time": "2022-01-30T20:58:34.936Z"
   },
   {
    "duration": 91,
    "start_time": "2022-01-30T20:59:08.283Z"
   },
   {
    "duration": 88,
    "start_time": "2022-01-30T20:59:11.935Z"
   },
   {
    "duration": 601,
    "start_time": "2022-01-30T20:59:19.702Z"
   },
   {
    "duration": 4449,
    "start_time": "2022-01-30T20:59:45.358Z"
   },
   {
    "duration": 255,
    "start_time": "2022-01-30T21:01:02.359Z"
   },
   {
    "duration": 543,
    "start_time": "2022-01-30T21:01:06.913Z"
   },
   {
    "duration": 5,
    "start_time": "2022-01-30T21:01:38.867Z"
   },
   {
    "duration": 565,
    "start_time": "2022-01-30T21:01:40.955Z"
   },
   {
    "duration": 6,
    "start_time": "2022-01-30T21:02:02.680Z"
   },
   {
    "duration": 90,
    "start_time": "2022-01-30T21:02:16.210Z"
   },
   {
    "duration": 268,
    "start_time": "2022-01-30T21:02:19.689Z"
   },
   {
    "duration": 7,
    "start_time": "2022-01-30T21:03:01.954Z"
   },
   {
    "duration": 6,
    "start_time": "2022-01-30T21:03:15.657Z"
   },
   {
    "duration": 3980,
    "start_time": "2022-01-30T21:03:50.003Z"
   },
   {
    "duration": 24,
    "start_time": "2022-01-30T21:04:34.280Z"
   },
   {
    "duration": 817,
    "start_time": "2022-01-30T21:05:49.411Z"
   },
   {
    "duration": 5,
    "start_time": "2022-01-30T21:05:50.231Z"
   },
   {
    "duration": 34,
    "start_time": "2022-01-30T21:05:50.239Z"
   },
   {
    "duration": 15,
    "start_time": "2022-01-30T21:05:50.277Z"
   },
   {
    "duration": 33,
    "start_time": "2022-01-30T21:05:50.295Z"
   },
   {
    "duration": 46,
    "start_time": "2022-01-30T21:05:50.330Z"
   },
   {
    "duration": 19,
    "start_time": "2022-01-30T21:05:50.378Z"
   },
   {
    "duration": 9,
    "start_time": "2022-01-30T21:05:50.402Z"
   },
   {
    "duration": 72,
    "start_time": "2022-01-30T21:05:50.416Z"
   },
   {
    "duration": 30,
    "start_time": "2022-01-30T21:05:50.491Z"
   },
   {
    "duration": 50,
    "start_time": "2022-01-30T21:05:50.524Z"
   },
   {
    "duration": 33,
    "start_time": "2022-01-30T21:05:50.576Z"
   },
   {
    "duration": 3,
    "start_time": "2022-01-30T21:05:50.611Z"
   },
   {
    "duration": 53,
    "start_time": "2022-01-30T21:05:50.616Z"
   },
   {
    "duration": 16,
    "start_time": "2022-01-30T21:05:50.671Z"
   },
   {
    "duration": 36,
    "start_time": "2022-01-30T21:05:50.690Z"
   },
   {
    "duration": 10,
    "start_time": "2022-01-30T21:05:50.729Z"
   },
   {
    "duration": 31,
    "start_time": "2022-01-30T21:05:50.741Z"
   },
   {
    "duration": 26,
    "start_time": "2022-01-30T21:05:50.774Z"
   },
   {
    "duration": 16,
    "start_time": "2022-01-30T21:05:50.802Z"
   },
   {
    "duration": 50,
    "start_time": "2022-01-30T21:05:50.820Z"
   },
   {
    "duration": 12,
    "start_time": "2022-01-30T21:05:50.873Z"
   },
   {
    "duration": 12,
    "start_time": "2022-01-30T21:05:50.891Z"
   },
   {
    "duration": 5,
    "start_time": "2022-01-30T21:05:50.907Z"
   },
   {
    "duration": 10,
    "start_time": "2022-01-30T21:05:50.915Z"
   },
   {
    "duration": 10,
    "start_time": "2022-01-30T21:05:50.970Z"
   },
   {
    "duration": 16,
    "start_time": "2022-01-30T21:05:50.982Z"
   },
   {
    "duration": 17,
    "start_time": "2022-01-30T21:05:51.001Z"
   },
   {
    "duration": 10,
    "start_time": "2022-01-30T21:05:51.021Z"
   },
   {
    "duration": 40,
    "start_time": "2022-01-30T21:05:51.034Z"
   },
   {
    "duration": 30,
    "start_time": "2022-01-30T21:05:51.077Z"
   },
   {
    "duration": 10,
    "start_time": "2022-01-30T21:05:51.109Z"
   },
   {
    "duration": 50,
    "start_time": "2022-01-30T21:05:51.121Z"
   },
   {
    "duration": 9,
    "start_time": "2022-01-30T21:05:51.173Z"
   },
   {
    "duration": 9,
    "start_time": "2022-01-30T21:05:51.185Z"
   },
   {
    "duration": 20,
    "start_time": "2022-01-30T21:05:51.197Z"
   },
   {
    "duration": 52,
    "start_time": "2022-01-30T21:05:51.219Z"
   },
   {
    "duration": 12,
    "start_time": "2022-01-30T21:05:51.273Z"
   },
   {
    "duration": 37,
    "start_time": "2022-01-30T21:05:51.287Z"
   },
   {
    "duration": 44,
    "start_time": "2022-01-30T21:05:51.326Z"
   },
   {
    "duration": 26,
    "start_time": "2022-01-30T21:05:51.373Z"
   },
   {
    "duration": 23,
    "start_time": "2022-01-30T21:05:51.401Z"
   },
   {
    "duration": 4,
    "start_time": "2022-01-30T21:05:51.427Z"
   },
   {
    "duration": 38,
    "start_time": "2022-01-30T21:05:51.434Z"
   },
   {
    "duration": 5,
    "start_time": "2022-01-30T21:05:51.475Z"
   },
   {
    "duration": 52,
    "start_time": "2022-01-30T21:05:51.482Z"
   },
   {
    "duration": 34,
    "start_time": "2022-01-30T21:05:51.536Z"
   },
   {
    "duration": 9,
    "start_time": "2022-01-30T21:05:51.572Z"
   },
   {
    "duration": 7605,
    "start_time": "2022-01-30T21:05:51.584Z"
   },
   {
    "duration": -170,
    "start_time": "2022-01-30T21:05:59.362Z"
   },
   {
    "duration": -172,
    "start_time": "2022-01-30T21:05:59.366Z"
   },
   {
    "duration": -175,
    "start_time": "2022-01-30T21:05:59.370Z"
   },
   {
    "duration": -176,
    "start_time": "2022-01-30T21:05:59.373Z"
   },
   {
    "duration": -178,
    "start_time": "2022-01-30T21:05:59.377Z"
   },
   {
    "duration": -180,
    "start_time": "2022-01-30T21:05:59.381Z"
   },
   {
    "duration": -182,
    "start_time": "2022-01-30T21:05:59.384Z"
   },
   {
    "duration": -185,
    "start_time": "2022-01-30T21:05:59.388Z"
   },
   {
    "duration": -187,
    "start_time": "2022-01-30T21:05:59.392Z"
   },
   {
    "duration": -189,
    "start_time": "2022-01-30T21:05:59.395Z"
   },
   {
    "duration": -191,
    "start_time": "2022-01-30T21:05:59.399Z"
   },
   {
    "duration": -193,
    "start_time": "2022-01-30T21:05:59.403Z"
   },
   {
    "duration": -194,
    "start_time": "2022-01-30T21:05:59.406Z"
   },
   {
    "duration": -359,
    "start_time": "2022-01-30T21:05:59.572Z"
   },
   {
    "duration": -360,
    "start_time": "2022-01-30T21:05:59.575Z"
   },
   {
    "duration": -362,
    "start_time": "2022-01-30T21:05:59.578Z"
   },
   {
    "duration": -362,
    "start_time": "2022-01-30T21:05:59.582Z"
   },
   {
    "duration": -372,
    "start_time": "2022-01-30T21:05:59.593Z"
   },
   {
    "duration": -373,
    "start_time": "2022-01-30T21:05:59.596Z"
   },
   {
    "duration": -375,
    "start_time": "2022-01-30T21:05:59.600Z"
   },
   {
    "duration": -376,
    "start_time": "2022-01-30T21:05:59.603Z"
   },
   {
    "duration": -379,
    "start_time": "2022-01-30T21:05:59.607Z"
   },
   {
    "duration": -381,
    "start_time": "2022-01-30T21:05:59.610Z"
   },
   {
    "duration": -383,
    "start_time": "2022-01-30T21:05:59.614Z"
   },
   {
    "duration": -349,
    "start_time": "2022-01-30T21:05:59.618Z"
   },
   {
    "duration": -350,
    "start_time": "2022-01-30T21:05:59.621Z"
   },
   {
    "duration": -353,
    "start_time": "2022-01-30T21:05:59.625Z"
   },
   {
    "duration": -355,
    "start_time": "2022-01-30T21:05:59.629Z"
   },
   {
    "duration": -357,
    "start_time": "2022-01-30T21:05:59.632Z"
   },
   {
    "duration": -358,
    "start_time": "2022-01-30T21:05:59.635Z"
   },
   {
    "duration": -372,
    "start_time": "2022-01-30T21:05:59.651Z"
   },
   {
    "duration": 7,
    "start_time": "2022-01-30T21:06:57.372Z"
   },
   {
    "duration": 4122,
    "start_time": "2022-01-30T21:07:17.204Z"
   },
   {
    "duration": 571,
    "start_time": "2022-01-30T21:07:59.794Z"
   },
   {
    "duration": 7,
    "start_time": "2022-01-30T21:09:20.770Z"
   },
   {
    "duration": 7,
    "start_time": "2022-01-30T21:09:30.602Z"
   },
   {
    "duration": 124,
    "start_time": "2022-01-30T21:09:39.261Z"
   },
   {
    "duration": 7,
    "start_time": "2022-01-30T21:09:42.476Z"
   },
   {
    "duration": 8,
    "start_time": "2022-01-30T21:09:49.070Z"
   },
   {
    "duration": 8,
    "start_time": "2022-01-30T21:10:02.258Z"
   },
   {
    "duration": 299,
    "start_time": "2022-01-30T21:12:32.673Z"
   },
   {
    "duration": 531,
    "start_time": "2022-01-30T21:12:41.120Z"
   },
   {
    "duration": 4,
    "start_time": "2022-01-30T21:13:18.739Z"
   },
   {
    "duration": 13,
    "start_time": "2022-01-30T21:13:28.679Z"
   },
   {
    "duration": 553,
    "start_time": "2022-01-30T21:13:42.431Z"
   },
   {
    "duration": 334,
    "start_time": "2022-01-30T21:15:22.381Z"
   },
   {
    "duration": -155,
    "start_time": "2022-01-30T21:16:00.543Z"
   },
   {
    "duration": 8069,
    "start_time": "2022-01-30T21:16:07.568Z"
   },
   {
    "duration": 6,
    "start_time": "2022-01-30T21:16:31.032Z"
   },
   {
    "duration": 534,
    "start_time": "2022-01-30T21:17:21.084Z"
   },
   {
    "duration": 8063,
    "start_time": "2022-01-30T21:18:02.540Z"
   },
   {
    "duration": 5,
    "start_time": "2022-01-30T21:18:10.605Z"
   },
   {
    "duration": 9,
    "start_time": "2022-01-30T21:19:01.165Z"
   },
   {
    "duration": 32,
    "start_time": "2022-01-30T21:19:30.227Z"
   },
   {
    "duration": 5,
    "start_time": "2022-01-30T21:20:39.203Z"
   },
   {
    "duration": 8039,
    "start_time": "2022-01-30T21:20:44.627Z"
   },
   {
    "duration": 5,
    "start_time": "2022-01-30T21:20:54.166Z"
   },
   {
    "duration": 31,
    "start_time": "2022-01-30T21:21:00.308Z"
   },
   {
    "duration": 72,
    "start_time": "2022-01-30T21:21:10.581Z"
   },
   {
    "duration": 7,
    "start_time": "2022-01-30T21:22:16.944Z"
   },
   {
    "duration": 336,
    "start_time": "2022-01-30T21:22:43.873Z"
   },
   {
    "duration": 272,
    "start_time": "2022-01-30T21:24:02.013Z"
   },
   {
    "duration": 267,
    "start_time": "2022-01-30T21:24:37.964Z"
   },
   {
    "duration": 277,
    "start_time": "2022-01-30T21:24:50.761Z"
   },
   {
    "duration": 1275,
    "start_time": "2022-01-30T21:27:44.134Z"
   },
   {
    "duration": 333,
    "start_time": "2022-01-30T21:27:54.853Z"
   },
   {
    "duration": 1134,
    "start_time": "2022-01-30T21:28:14.220Z"
   },
   {
    "duration": 1053,
    "start_time": "2022-01-30T21:28:58.939Z"
   },
   {
    "duration": 275,
    "start_time": "2022-01-30T21:29:04.982Z"
   },
   {
    "duration": 1163,
    "start_time": "2022-01-30T21:29:13.736Z"
   },
   {
    "duration": 1049,
    "start_time": "2022-01-30T21:29:47.451Z"
   },
   {
    "duration": 732,
    "start_time": "2022-01-30T21:30:22.778Z"
   },
   {
    "duration": 32,
    "start_time": "2022-01-30T21:30:56.547Z"
   },
   {
    "duration": 17,
    "start_time": "2022-01-31T00:46:01.919Z"
   },
   {
    "duration": 5,
    "start_time": "2022-01-31T00:46:17.258Z"
   },
   {
    "duration": 31,
    "start_time": "2022-01-31T00:46:26.923Z"
   },
   {
    "duration": 14,
    "start_time": "2022-01-31T00:47:07.140Z"
   },
   {
    "duration": 15,
    "start_time": "2022-01-31T00:47:24.716Z"
   },
   {
    "duration": 6,
    "start_time": "2022-01-31T00:47:29.201Z"
   },
   {
    "duration": 1353,
    "start_time": "2022-01-31T00:47:31.260Z"
   },
   {
    "duration": 15,
    "start_time": "2022-01-31T00:47:33.120Z"
   },
   {
    "duration": 1309,
    "start_time": "2022-01-31T00:47:43.781Z"
   },
   {
    "duration": 15,
    "start_time": "2022-01-31T00:47:45.627Z"
   },
   {
    "duration": 1291,
    "start_time": "2022-01-31T00:47:51.631Z"
   },
   {
    "duration": 824,
    "start_time": "2022-01-31T00:48:27.555Z"
   },
   {
    "duration": 5,
    "start_time": "2022-01-31T00:48:28.381Z"
   },
   {
    "duration": 32,
    "start_time": "2022-01-31T00:48:28.388Z"
   },
   {
    "duration": 15,
    "start_time": "2022-01-31T00:48:28.422Z"
   },
   {
    "duration": 60,
    "start_time": "2022-01-31T00:48:28.439Z"
   },
   {
    "duration": 9,
    "start_time": "2022-01-31T00:48:28.501Z"
   },
   {
    "duration": 16,
    "start_time": "2022-01-31T00:48:28.512Z"
   },
   {
    "duration": 41,
    "start_time": "2022-01-31T00:48:28.532Z"
   },
   {
    "duration": 28,
    "start_time": "2022-01-31T00:48:28.576Z"
   },
   {
    "duration": 25,
    "start_time": "2022-01-31T00:48:28.606Z"
   },
   {
    "duration": 47,
    "start_time": "2022-01-31T00:48:28.634Z"
   },
   {
    "duration": 33,
    "start_time": "2022-01-31T00:48:28.683Z"
   },
   {
    "duration": 2,
    "start_time": "2022-01-31T00:48:28.719Z"
   },
   {
    "duration": 56,
    "start_time": "2022-01-31T00:48:28.724Z"
   },
   {
    "duration": 14,
    "start_time": "2022-01-31T00:48:28.782Z"
   },
   {
    "duration": 32,
    "start_time": "2022-01-31T00:48:28.799Z"
   },
   {
    "duration": 8,
    "start_time": "2022-01-31T00:48:28.833Z"
   },
   {
    "duration": 29,
    "start_time": "2022-01-31T00:48:28.844Z"
   },
   {
    "duration": 17,
    "start_time": "2022-01-31T00:48:28.876Z"
   },
   {
    "duration": 15,
    "start_time": "2022-01-31T00:48:28.895Z"
   },
   {
    "duration": 9,
    "start_time": "2022-01-31T00:48:28.913Z"
   },
   {
    "duration": 56,
    "start_time": "2022-01-31T00:48:28.924Z"
   },
   {
    "duration": 12,
    "start_time": "2022-01-31T00:48:28.985Z"
   },
   {
    "duration": 5,
    "start_time": "2022-01-31T00:48:29.000Z"
   },
   {
    "duration": 11,
    "start_time": "2022-01-31T00:48:29.007Z"
   },
   {
    "duration": 9,
    "start_time": "2022-01-31T00:48:29.020Z"
   },
   {
    "duration": 43,
    "start_time": "2022-01-31T00:48:29.031Z"
   },
   {
    "duration": 18,
    "start_time": "2022-01-31T00:48:29.076Z"
   },
   {
    "duration": 9,
    "start_time": "2022-01-31T00:48:29.096Z"
   },
   {
    "duration": 6,
    "start_time": "2022-01-31T00:48:29.107Z"
   },
   {
    "duration": 56,
    "start_time": "2022-01-31T00:48:29.115Z"
   },
   {
    "duration": 10,
    "start_time": "2022-01-31T00:48:29.173Z"
   },
   {
    "duration": 29,
    "start_time": "2022-01-31T00:48:29.185Z"
   },
   {
    "duration": 10,
    "start_time": "2022-01-31T00:48:29.216Z"
   },
   {
    "duration": 41,
    "start_time": "2022-01-31T00:48:29.228Z"
   },
   {
    "duration": 20,
    "start_time": "2022-01-31T00:48:29.272Z"
   },
   {
    "duration": 21,
    "start_time": "2022-01-31T00:48:29.294Z"
   },
   {
    "duration": 11,
    "start_time": "2022-01-31T00:48:29.318Z"
   },
   {
    "duration": 57,
    "start_time": "2022-01-31T00:48:29.331Z"
   },
   {
    "duration": 25,
    "start_time": "2022-01-31T00:48:29.391Z"
   },
   {
    "duration": 58,
    "start_time": "2022-01-31T00:48:29.419Z"
   },
   {
    "duration": 28,
    "start_time": "2022-01-31T00:48:29.479Z"
   },
   {
    "duration": 5,
    "start_time": "2022-01-31T00:48:29.510Z"
   },
   {
    "duration": 18,
    "start_time": "2022-01-31T00:48:29.518Z"
   },
   {
    "duration": 8,
    "start_time": "2022-01-31T00:48:29.539Z"
   },
   {
    "duration": 50,
    "start_time": "2022-01-31T00:48:29.570Z"
   },
   {
    "duration": 5,
    "start_time": "2022-01-31T00:48:29.622Z"
   },
   {
    "duration": 5,
    "start_time": "2022-01-31T00:48:31.394Z"
   },
   {
    "duration": 17,
    "start_time": "2022-01-31T00:48:34.937Z"
   },
   {
    "duration": 6778,
    "start_time": "2022-01-31T00:48:41.507Z"
   },
   {
    "duration": 11,
    "start_time": "2022-01-31T00:49:03.948Z"
   },
   {
    "duration": 15,
    "start_time": "2022-01-31T00:49:23.405Z"
   },
   {
    "duration": 12,
    "start_time": "2022-01-31T00:49:32.802Z"
   },
   {
    "duration": 31,
    "start_time": "2022-01-31T00:50:28.332Z"
   },
   {
    "duration": 355,
    "start_time": "2022-01-31T00:55:18.669Z"
   },
   {
    "duration": 5,
    "start_time": "2022-01-31T00:55:35.107Z"
   },
   {
    "duration": 5,
    "start_time": "2022-01-31T00:55:37.510Z"
   },
   {
    "duration": 33,
    "start_time": "2022-01-31T00:56:06.271Z"
   },
   {
    "duration": 5,
    "start_time": "2022-01-31T01:00:19.669Z"
   },
   {
    "duration": 5,
    "start_time": "2022-01-31T01:00:42.544Z"
   },
   {
    "duration": 6,
    "start_time": "2022-01-31T01:00:49.925Z"
   },
   {
    "duration": 10,
    "start_time": "2022-01-31T01:00:55.092Z"
   },
   {
    "duration": 18,
    "start_time": "2022-01-31T01:01:41.071Z"
   },
   {
    "duration": 20,
    "start_time": "2022-01-31T01:01:47.433Z"
   },
   {
    "duration": 22,
    "start_time": "2022-01-31T01:02:05.772Z"
   },
   {
    "duration": 845,
    "start_time": "2022-01-31T01:02:19.344Z"
   },
   {
    "duration": 4,
    "start_time": "2022-01-31T01:02:20.191Z"
   },
   {
    "duration": 33,
    "start_time": "2022-01-31T01:02:20.198Z"
   },
   {
    "duration": 14,
    "start_time": "2022-01-31T01:02:20.234Z"
   },
   {
    "duration": 47,
    "start_time": "2022-01-31T01:02:20.255Z"
   },
   {
    "duration": 9,
    "start_time": "2022-01-31T01:02:20.304Z"
   },
   {
    "duration": 19,
    "start_time": "2022-01-31T01:02:20.315Z"
   },
   {
    "duration": 37,
    "start_time": "2022-01-31T01:02:20.336Z"
   },
   {
    "duration": 28,
    "start_time": "2022-01-31T01:02:20.377Z"
   },
   {
    "duration": 61,
    "start_time": "2022-01-31T01:02:20.408Z"
   },
   {
    "duration": 14,
    "start_time": "2022-01-31T01:02:20.472Z"
   },
   {
    "duration": 31,
    "start_time": "2022-01-31T01:02:20.488Z"
   },
   {
    "duration": 2,
    "start_time": "2022-01-31T01:02:20.522Z"
   },
   {
    "duration": 59,
    "start_time": "2022-01-31T01:02:20.527Z"
   },
   {
    "duration": 14,
    "start_time": "2022-01-31T01:02:20.588Z"
   },
   {
    "duration": 31,
    "start_time": "2022-01-31T01:02:20.604Z"
   },
   {
    "duration": 33,
    "start_time": "2022-01-31T01:02:20.637Z"
   },
   {
    "duration": 4,
    "start_time": "2022-01-31T01:02:20.672Z"
   },
   {
    "duration": 20,
    "start_time": "2022-01-31T01:02:20.678Z"
   },
   {
    "duration": 16,
    "start_time": "2022-01-31T01:02:20.700Z"
   },
   {
    "duration": 11,
    "start_time": "2022-01-31T01:02:20.718Z"
   },
   {
    "duration": 13,
    "start_time": "2022-01-31T01:02:20.770Z"
   },
   {
    "duration": 13,
    "start_time": "2022-01-31T01:02:20.785Z"
   },
   {
    "duration": 5,
    "start_time": "2022-01-31T01:02:20.801Z"
   },
   {
    "duration": 11,
    "start_time": "2022-01-31T01:02:20.808Z"
   },
   {
    "duration": 50,
    "start_time": "2022-01-31T01:02:20.821Z"
   },
   {
    "duration": 6,
    "start_time": "2022-01-31T01:02:20.876Z"
   },
   {
    "duration": 18,
    "start_time": "2022-01-31T01:02:20.885Z"
   },
   {
    "duration": 9,
    "start_time": "2022-01-31T01:02:20.905Z"
   },
   {
    "duration": 5,
    "start_time": "2022-01-31T01:02:20.917Z"
   },
   {
    "duration": 59,
    "start_time": "2022-01-31T01:02:20.924Z"
   },
   {
    "duration": 10,
    "start_time": "2022-01-31T01:02:20.986Z"
   },
   {
    "duration": 26,
    "start_time": "2022-01-31T01:02:20.999Z"
   },
   {
    "duration": 10,
    "start_time": "2022-01-31T01:02:21.028Z"
   },
   {
    "duration": 10,
    "start_time": "2022-01-31T01:02:21.070Z"
   },
   {
    "duration": 24,
    "start_time": "2022-01-31T01:02:21.082Z"
   },
   {
    "duration": 22,
    "start_time": "2022-01-31T01:02:21.109Z"
   },
   {
    "duration": 45,
    "start_time": "2022-01-31T01:02:21.133Z"
   },
   {
    "duration": 26,
    "start_time": "2022-01-31T01:02:21.181Z"
   },
   {
    "duration": 23,
    "start_time": "2022-01-31T01:02:21.210Z"
   },
   {
    "duration": 54,
    "start_time": "2022-01-31T01:02:21.235Z"
   },
   {
    "duration": 22,
    "start_time": "2022-01-31T01:02:21.291Z"
   },
   {
    "duration": 4,
    "start_time": "2022-01-31T01:02:21.316Z"
   },
   {
    "duration": 7,
    "start_time": "2022-01-31T01:02:21.322Z"
   },
   {
    "duration": 39,
    "start_time": "2022-01-31T01:02:21.331Z"
   },
   {
    "duration": 47,
    "start_time": "2022-01-31T01:02:21.372Z"
   },
   {
    "duration": 5,
    "start_time": "2022-01-31T01:02:21.422Z"
   },
   {
    "duration": 9,
    "start_time": "2022-01-31T01:02:21.429Z"
   },
   {
    "duration": 38,
    "start_time": "2022-01-31T01:02:21.441Z"
   },
   {
    "duration": 12,
    "start_time": "2022-01-31T01:02:21.482Z"
   },
   {
    "duration": 37,
    "start_time": "2022-01-31T01:02:21.496Z"
   },
   {
    "duration": 3,
    "start_time": "2022-01-31T01:02:21.535Z"
   },
   {
    "duration": 7,
    "start_time": "2022-01-31T01:02:21.569Z"
   },
   {
    "duration": 5,
    "start_time": "2022-01-31T01:02:21.579Z"
   },
   {
    "duration": 5,
    "start_time": "2022-01-31T01:02:25.015Z"
   },
   {
    "duration": 5,
    "start_time": "2022-01-31T01:02:26.762Z"
   },
   {
    "duration": 21,
    "start_time": "2022-01-31T01:02:29.071Z"
   },
   {
    "duration": 9,
    "start_time": "2022-01-31T01:02:51.573Z"
   },
   {
    "duration": 7,
    "start_time": "2022-01-31T01:03:03.257Z"
   },
   {
    "duration": 7,
    "start_time": "2022-01-31T01:03:08.794Z"
   },
   {
    "duration": 11,
    "start_time": "2022-01-31T01:03:22.971Z"
   },
   {
    "duration": 5162,
    "start_time": "2022-01-31T01:03:39.021Z"
   },
   {
    "duration": 11,
    "start_time": "2022-01-31T01:03:56.874Z"
   },
   {
    "duration": 377,
    "start_time": "2022-01-31T01:04:08.581Z"
   },
   {
    "duration": 25,
    "start_time": "2022-01-31T01:04:13.794Z"
   },
   {
    "duration": 11,
    "start_time": "2022-01-31T01:04:55.000Z"
   },
   {
    "duration": 5,
    "start_time": "2022-01-31T01:05:08.496Z"
   },
   {
    "duration": 6,
    "start_time": "2022-01-31T01:05:10.347Z"
   },
   {
    "duration": 11,
    "start_time": "2022-01-31T01:05:12.878Z"
   },
   {
    "duration": 10,
    "start_time": "2022-01-31T01:05:32.339Z"
   },
   {
    "duration": 10,
    "start_time": "2022-01-31T01:06:28.389Z"
   },
   {
    "duration": 11,
    "start_time": "2022-01-31T01:08:20.751Z"
   },
   {
    "duration": 3915,
    "start_time": "2022-01-31T01:08:35.820Z"
   },
   {
    "duration": 3485,
    "start_time": "2022-01-31T01:08:53.593Z"
   },
   {
    "duration": 3699,
    "start_time": "2022-01-31T01:09:29.438Z"
   },
   {
    "duration": 816,
    "start_time": "2022-01-31T01:10:58.231Z"
   },
   {
    "duration": 5,
    "start_time": "2022-01-31T01:10:59.049Z"
   },
   {
    "duration": 33,
    "start_time": "2022-01-31T01:10:59.057Z"
   },
   {
    "duration": 14,
    "start_time": "2022-01-31T01:10:59.093Z"
   },
   {
    "duration": 62,
    "start_time": "2022-01-31T01:10:59.110Z"
   },
   {
    "duration": 9,
    "start_time": "2022-01-31T01:10:59.175Z"
   },
   {
    "duration": 19,
    "start_time": "2022-01-31T01:10:59.186Z"
   },
   {
    "duration": 7,
    "start_time": "2022-01-31T01:10:59.209Z"
   },
   {
    "duration": 73,
    "start_time": "2022-01-31T01:10:59.220Z"
   },
   {
    "duration": 28,
    "start_time": "2022-01-31T01:10:59.296Z"
   },
   {
    "duration": 43,
    "start_time": "2022-01-31T01:10:59.326Z"
   },
   {
    "duration": 35,
    "start_time": "2022-01-31T01:10:59.372Z"
   },
   {
    "duration": 3,
    "start_time": "2022-01-31T01:10:59.409Z"
   },
   {
    "duration": 63,
    "start_time": "2022-01-31T01:10:59.415Z"
   },
   {
    "duration": 14,
    "start_time": "2022-01-31T01:10:59.480Z"
   },
   {
    "duration": 34,
    "start_time": "2022-01-31T01:10:59.496Z"
   },
   {
    "duration": 9,
    "start_time": "2022-01-31T01:10:59.532Z"
   },
   {
    "duration": 6,
    "start_time": "2022-01-31T01:10:59.570Z"
   },
   {
    "duration": 19,
    "start_time": "2022-01-31T01:10:59.578Z"
   },
   {
    "duration": 16,
    "start_time": "2022-01-31T01:10:59.599Z"
   },
   {
    "duration": 53,
    "start_time": "2022-01-31T01:10:59.618Z"
   },
   {
    "duration": 13,
    "start_time": "2022-01-31T01:10:59.673Z"
   },
   {
    "duration": 9,
    "start_time": "2022-01-31T01:10:59.692Z"
   },
   {
    "duration": 6,
    "start_time": "2022-01-31T01:10:59.705Z"
   },
   {
    "duration": 10,
    "start_time": "2022-01-31T01:10:59.713Z"
   },
   {
    "duration": 51,
    "start_time": "2022-01-31T01:10:59.725Z"
   },
   {
    "duration": 7,
    "start_time": "2022-01-31T01:10:59.780Z"
   },
   {
    "duration": 14,
    "start_time": "2022-01-31T01:10:59.789Z"
   },
   {
    "duration": 12,
    "start_time": "2022-01-31T01:10:59.806Z"
   },
   {
    "duration": 50,
    "start_time": "2022-01-31T01:10:59.821Z"
   },
   {
    "duration": 27,
    "start_time": "2022-01-31T01:10:59.873Z"
   },
   {
    "duration": 10,
    "start_time": "2022-01-31T01:10:59.903Z"
   },
   {
    "duration": 34,
    "start_time": "2022-01-31T01:10:59.915Z"
   },
   {
    "duration": 21,
    "start_time": "2022-01-31T01:10:59.952Z"
   },
   {
    "duration": 20,
    "start_time": "2022-01-31T01:10:59.976Z"
   },
   {
    "duration": 29,
    "start_time": "2022-01-31T01:10:59.999Z"
   },
   {
    "duration": 21,
    "start_time": "2022-01-31T01:11:00.030Z"
   },
   {
    "duration": 25,
    "start_time": "2022-01-31T01:11:00.053Z"
   },
   {
    "duration": 28,
    "start_time": "2022-01-31T01:11:00.080Z"
   },
   {
    "duration": 27,
    "start_time": "2022-01-31T01:11:00.110Z"
   },
   {
    "duration": 45,
    "start_time": "2022-01-31T01:11:00.140Z"
   },
   {
    "duration": 24,
    "start_time": "2022-01-31T01:11:00.187Z"
   },
   {
    "duration": 5,
    "start_time": "2022-01-31T01:11:00.213Z"
   },
   {
    "duration": 10,
    "start_time": "2022-01-31T01:11:00.220Z"
   },
   {
    "duration": 9,
    "start_time": "2022-01-31T01:11:00.232Z"
   },
   {
    "duration": 71,
    "start_time": "2022-01-31T01:11:00.243Z"
   },
   {
    "duration": 5,
    "start_time": "2022-01-31T01:11:00.316Z"
   },
   {
    "duration": 11,
    "start_time": "2022-01-31T01:11:00.323Z"
   },
   {
    "duration": 43,
    "start_time": "2022-01-31T01:11:00.337Z"
   },
   {
    "duration": 12,
    "start_time": "2022-01-31T01:11:00.382Z"
   },
   {
    "duration": 39,
    "start_time": "2022-01-31T01:11:00.397Z"
   },
   {
    "duration": 3,
    "start_time": "2022-01-31T01:11:00.438Z"
   },
   {
    "duration": 32,
    "start_time": "2022-01-31T01:11:00.443Z"
   },
   {
    "duration": 8,
    "start_time": "2022-01-31T01:11:00.477Z"
   },
   {
    "duration": 5,
    "start_time": "2022-01-31T01:11:03.056Z"
   },
   {
    "duration": 5,
    "start_time": "2022-01-31T01:11:05.358Z"
   },
   {
    "duration": 349,
    "start_time": "2022-01-31T01:11:08.216Z"
   },
   {
    "duration": 41,
    "start_time": "2022-01-31T01:11:35.341Z"
   },
   {
    "duration": 42,
    "start_time": "2022-01-31T01:11:45.898Z"
   },
   {
    "duration": 43,
    "start_time": "2022-01-31T01:12:01.170Z"
   },
   {
    "duration": 15,
    "start_time": "2022-01-31T01:12:30.273Z"
   },
   {
    "duration": 17,
    "start_time": "2022-01-31T01:13:28.463Z"
   },
   {
    "duration": 15,
    "start_time": "2022-01-31T01:14:10.930Z"
   },
   {
    "duration": 21,
    "start_time": "2022-01-31T01:15:11.480Z"
   },
   {
    "duration": 289,
    "start_time": "2022-01-31T01:18:18.386Z"
   },
   {
    "duration": 276,
    "start_time": "2022-01-31T01:18:29.501Z"
   },
   {
    "duration": 280,
    "start_time": "2022-01-31T01:18:35.877Z"
   },
   {
    "duration": 6,
    "start_time": "2022-01-31T01:18:58.784Z"
   },
   {
    "duration": 54,
    "start_time": "2022-01-31T01:19:03.525Z"
   },
   {
    "duration": 86,
    "start_time": "2022-01-31T01:19:29.802Z"
   },
   {
    "duration": 11,
    "start_time": "2022-01-31T01:20:07.879Z"
   },
   {
    "duration": 15,
    "start_time": "2022-01-31T01:23:39.289Z"
   },
   {
    "duration": 4,
    "start_time": "2022-01-31T01:31:59.988Z"
   },
   {
    "duration": 30,
    "start_time": "2022-01-31T01:33:35.897Z"
   },
   {
    "duration": 4,
    "start_time": "2022-01-31T01:34:00.425Z"
   },
   {
    "duration": 9621,
    "start_time": "2022-01-31T01:34:02.916Z"
   },
   {
    "duration": 4,
    "start_time": "2022-01-31T01:34:18.441Z"
   },
   {
    "duration": 42,
    "start_time": "2022-01-31T01:34:20.972Z"
   },
   {
    "duration": 4,
    "start_time": "2022-01-31T01:34:43.483Z"
   },
   {
    "duration": 29,
    "start_time": "2022-01-31T01:34:45.130Z"
   },
   {
    "duration": 4,
    "start_time": "2022-01-31T01:34:53.573Z"
   },
   {
    "duration": 55,
    "start_time": "2022-01-31T01:35:41.686Z"
   },
   {
    "duration": 30,
    "start_time": "2022-01-31T01:35:47.444Z"
   },
   {
    "duration": 31,
    "start_time": "2022-01-31T01:35:50.522Z"
   },
   {
    "duration": 10,
    "start_time": "2022-01-31T01:38:25.665Z"
   },
   {
    "duration": 10,
    "start_time": "2022-01-31T01:38:44.198Z"
   },
   {
    "duration": 3,
    "start_time": "2022-01-31T01:39:30.945Z"
   },
   {
    "duration": 8,
    "start_time": "2022-01-31T01:44:19.273Z"
   },
   {
    "duration": 9,
    "start_time": "2022-01-31T01:45:29.544Z"
   },
   {
    "duration": 6,
    "start_time": "2022-01-31T01:47:45.666Z"
   },
   {
    "duration": 24,
    "start_time": "2022-01-31T01:47:47.702Z"
   },
   {
    "duration": 10,
    "start_time": "2022-01-31T01:48:04.279Z"
   },
   {
    "duration": 814,
    "start_time": "2022-01-31T01:48:28.907Z"
   },
   {
    "duration": 5,
    "start_time": "2022-01-31T01:48:29.724Z"
   },
   {
    "duration": 47,
    "start_time": "2022-01-31T01:48:29.733Z"
   },
   {
    "duration": 18,
    "start_time": "2022-01-31T01:48:29.783Z"
   },
   {
    "duration": 32,
    "start_time": "2022-01-31T01:48:29.803Z"
   },
   {
    "duration": 39,
    "start_time": "2022-01-31T01:48:29.837Z"
   },
   {
    "duration": 17,
    "start_time": "2022-01-31T01:48:29.878Z"
   },
   {
    "duration": 7,
    "start_time": "2022-01-31T01:48:29.898Z"
   },
   {
    "duration": 67,
    "start_time": "2022-01-31T01:48:29.909Z"
   },
   {
    "duration": 27,
    "start_time": "2022-01-31T01:48:29.979Z"
   },
   {
    "duration": 14,
    "start_time": "2022-01-31T01:48:30.009Z"
   },
   {
    "duration": 71,
    "start_time": "2022-01-31T01:48:30.026Z"
   },
   {
    "duration": 3,
    "start_time": "2022-01-31T01:48:30.099Z"
   },
   {
    "duration": 47,
    "start_time": "2022-01-31T01:48:30.104Z"
   },
   {
    "duration": 16,
    "start_time": "2022-01-31T01:48:30.154Z"
   },
   {
    "duration": 32,
    "start_time": "2022-01-31T01:48:30.172Z"
   },
   {
    "duration": 13,
    "start_time": "2022-01-31T01:48:30.207Z"
   },
   {
    "duration": 5,
    "start_time": "2022-01-31T01:48:30.223Z"
   },
   {
    "duration": 51,
    "start_time": "2022-01-31T01:48:30.231Z"
   },
   {
    "duration": 15,
    "start_time": "2022-01-31T01:48:30.285Z"
   },
   {
    "duration": 10,
    "start_time": "2022-01-31T01:48:30.303Z"
   },
   {
    "duration": 13,
    "start_time": "2022-01-31T01:48:30.315Z"
   },
   {
    "duration": 44,
    "start_time": "2022-01-31T01:48:30.330Z"
   },
   {
    "duration": 7,
    "start_time": "2022-01-31T01:48:30.376Z"
   },
   {
    "duration": 11,
    "start_time": "2022-01-31T01:48:30.385Z"
   },
   {
    "duration": 20,
    "start_time": "2022-01-31T01:48:30.398Z"
   },
   {
    "duration": 11,
    "start_time": "2022-01-31T01:48:30.423Z"
   },
   {
    "duration": 40,
    "start_time": "2022-01-31T01:48:30.438Z"
   },
   {
    "duration": 12,
    "start_time": "2022-01-31T01:48:30.481Z"
   },
   {
    "duration": 21,
    "start_time": "2022-01-31T01:48:30.496Z"
   },
   {
    "duration": 6,
    "start_time": "2022-01-31T01:48:30.519Z"
   },
   {
    "duration": 64,
    "start_time": "2022-01-31T01:48:30.527Z"
   },
   {
    "duration": 9,
    "start_time": "2022-01-31T01:48:30.594Z"
   },
   {
    "duration": 11,
    "start_time": "2022-01-31T01:48:30.606Z"
   },
   {
    "duration": 52,
    "start_time": "2022-01-31T01:48:30.619Z"
   },
   {
    "duration": 20,
    "start_time": "2022-01-31T01:48:30.673Z"
   },
   {
    "duration": 11,
    "start_time": "2022-01-31T01:48:30.696Z"
   },
   {
    "duration": 25,
    "start_time": "2022-01-31T01:48:32.263Z"
   },
   {
    "duration": 23,
    "start_time": "2022-01-31T01:48:42.919Z"
   },
   {
    "duration": 26,
    "start_time": "2022-01-31T01:48:47.096Z"
   },
   {
    "duration": 22,
    "start_time": "2022-01-31T01:48:48.662Z"
   },
   {
    "duration": 5,
    "start_time": "2022-01-31T01:48:50.538Z"
   },
   {
    "duration": 5,
    "start_time": "2022-01-31T01:48:52.397Z"
   },
   {
    "duration": 5,
    "start_time": "2022-01-31T01:50:08.934Z"
   },
   {
    "duration": 14,
    "start_time": "2022-01-31T01:51:48.602Z"
   },
   {
    "duration": 63,
    "start_time": "2022-01-31T01:52:00.681Z"
   },
   {
    "duration": 24,
    "start_time": "2022-01-31T01:52:00.748Z"
   },
   {
    "duration": 31,
    "start_time": "2022-01-31T01:52:00.776Z"
   },
   {
    "duration": 69,
    "start_time": "2022-01-31T01:52:00.811Z"
   },
   {
    "duration": 34,
    "start_time": "2022-01-31T01:52:00.883Z"
   },
   {
    "duration": 10,
    "start_time": "2022-01-31T01:52:00.919Z"
   },
   {
    "duration": 56,
    "start_time": "2022-01-31T01:52:00.931Z"
   },
   {
    "duration": 10,
    "start_time": "2022-01-31T01:52:00.990Z"
   },
   {
    "duration": 66,
    "start_time": "2022-01-31T01:52:01.006Z"
   },
   {
    "duration": 32,
    "start_time": "2022-01-31T01:52:01.077Z"
   },
   {
    "duration": 18,
    "start_time": "2022-01-31T01:52:01.112Z"
   },
   {
    "duration": 70,
    "start_time": "2022-01-31T01:52:01.133Z"
   },
   {
    "duration": 4,
    "start_time": "2022-01-31T01:52:01.206Z"
   },
   {
    "duration": 61,
    "start_time": "2022-01-31T01:52:01.213Z"
   },
   {
    "duration": 16,
    "start_time": "2022-01-31T01:52:01.277Z"
   },
   {
    "duration": 35,
    "start_time": "2022-01-31T01:52:01.297Z"
   },
   {
    "duration": 39,
    "start_time": "2022-01-31T01:52:01.335Z"
   },
   {
    "duration": 14,
    "start_time": "2022-01-31T01:52:01.377Z"
   },
   {
    "duration": 37,
    "start_time": "2022-01-31T01:52:01.394Z"
   },
   {
    "duration": 43,
    "start_time": "2022-01-31T01:52:01.434Z"
   },
   {
    "duration": 17,
    "start_time": "2022-01-31T01:52:01.481Z"
   },
   {
    "duration": 27,
    "start_time": "2022-01-31T01:52:01.501Z"
   },
   {
    "duration": 18,
    "start_time": "2022-01-31T01:52:01.530Z"
   },
   {
    "duration": 11,
    "start_time": "2022-01-31T01:52:01.551Z"
   },
   {
    "duration": 15,
    "start_time": "2022-01-31T01:52:01.570Z"
   },
   {
    "duration": 10,
    "start_time": "2022-01-31T01:52:01.587Z"
   },
   {
    "duration": 6,
    "start_time": "2022-01-31T01:52:01.603Z"
   },
   {
    "duration": 20,
    "start_time": "2022-01-31T01:52:01.612Z"
   },
   {
    "duration": 36,
    "start_time": "2022-01-31T01:52:01.635Z"
   },
   {
    "duration": 21,
    "start_time": "2022-01-31T01:52:01.673Z"
   },
   {
    "duration": 12,
    "start_time": "2022-01-31T01:52:01.697Z"
   },
   {
    "duration": 25,
    "start_time": "2022-01-31T01:52:01.712Z"
   },
   {
    "duration": 38,
    "start_time": "2022-01-31T01:52:01.739Z"
   },
   {
    "duration": 11,
    "start_time": "2022-01-31T01:52:01.780Z"
   },
   {
    "duration": 22,
    "start_time": "2022-01-31T01:52:01.794Z"
   },
   {
    "duration": 52,
    "start_time": "2022-01-31T01:52:01.819Z"
   },
   {
    "duration": 10,
    "start_time": "2022-01-31T01:52:01.873Z"
   },
   {
    "duration": 26,
    "start_time": "2022-01-31T01:52:01.886Z"
   },
   {
    "duration": 22,
    "start_time": "2022-01-31T01:52:01.915Z"
   },
   {
    "duration": 52,
    "start_time": "2022-01-31T01:52:01.939Z"
   },
   {
    "duration": 23,
    "start_time": "2022-01-31T01:52:01.993Z"
   },
   {
    "duration": 5,
    "start_time": "2022-01-31T01:52:02.018Z"
   },
   {
    "duration": 6,
    "start_time": "2022-01-31T01:52:02.025Z"
   },
   {
    "duration": 40,
    "start_time": "2022-01-31T01:52:02.033Z"
   },
   {
    "duration": 47,
    "start_time": "2022-01-31T01:52:02.075Z"
   },
   {
    "duration": 5,
    "start_time": "2022-01-31T01:52:02.124Z"
   },
   {
    "duration": 7,
    "start_time": "2022-01-31T01:52:02.131Z"
   },
   {
    "duration": 14,
    "start_time": "2022-01-31T01:52:02.171Z"
   },
   {
    "duration": 15,
    "start_time": "2022-01-31T01:52:02.187Z"
   },
   {
    "duration": 66,
    "start_time": "2022-01-31T01:52:02.205Z"
   },
   {
    "duration": 4,
    "start_time": "2022-01-31T01:52:02.273Z"
   },
   {
    "duration": 5,
    "start_time": "2022-01-31T01:52:02.279Z"
   },
   {
    "duration": 6,
    "start_time": "2022-01-31T01:52:02.286Z"
   },
   {
    "duration": 10,
    "start_time": "2022-01-31T01:52:02.294Z"
   },
   {
    "duration": 70,
    "start_time": "2022-01-31T01:52:02.306Z"
   },
   {
    "duration": 12,
    "start_time": "2022-01-31T01:52:02.379Z"
   },
   {
    "duration": 16,
    "start_time": "2022-01-31T01:52:02.394Z"
   },
   {
    "duration": 14,
    "start_time": "2022-01-31T01:52:02.412Z"
   },
   {
    "duration": 40,
    "start_time": "2022-01-31T01:52:02.429Z"
   },
   {
    "duration": 17,
    "start_time": "2022-01-31T01:52:02.472Z"
   },
   {
    "duration": 21,
    "start_time": "2022-01-31T01:52:02.491Z"
   },
   {
    "duration": 4,
    "start_time": "2022-01-31T01:52:02.515Z"
   },
   {
    "duration": 16,
    "start_time": "2022-01-31T01:52:08.835Z"
   },
   {
    "duration": 4,
    "start_time": "2022-01-31T01:52:59.046Z"
   },
   {
    "duration": 22,
    "start_time": "2022-01-31T01:53:37.856Z"
   },
   {
    "duration": 27,
    "start_time": "2022-01-31T01:53:46.310Z"
   },
   {
    "duration": 6,
    "start_time": "2022-01-31T01:55:53.788Z"
   },
   {
    "duration": 19,
    "start_time": "2022-01-31T01:56:11.421Z"
   },
   {
    "duration": 20,
    "start_time": "2022-01-31T01:56:20.318Z"
   },
   {
    "duration": 20,
    "start_time": "2022-01-31T01:56:42.340Z"
   },
   {
    "duration": 18,
    "start_time": "2022-01-31T01:58:14.099Z"
   },
   {
    "duration": 20,
    "start_time": "2022-01-31T01:58:49.910Z"
   },
   {
    "duration": 104,
    "start_time": "2022-01-31T02:00:05.126Z"
   },
   {
    "duration": 89,
    "start_time": "2022-01-31T02:00:19.347Z"
   },
   {
    "duration": 9,
    "start_time": "2022-01-31T02:00:21.598Z"
   },
   {
    "duration": 10,
    "start_time": "2022-01-31T02:00:33.494Z"
   },
   {
    "duration": 13,
    "start_time": "2022-01-31T02:01:32.981Z"
   },
   {
    "duration": 14,
    "start_time": "2022-01-31T02:01:50.919Z"
   },
   {
    "duration": 19,
    "start_time": "2022-01-31T02:02:08.928Z"
   },
   {
    "duration": 14,
    "start_time": "2022-01-31T02:02:30.522Z"
   },
   {
    "duration": 26,
    "start_time": "2022-01-31T02:02:47.376Z"
   },
   {
    "duration": 13,
    "start_time": "2022-01-31T02:02:50.512Z"
   },
   {
    "duration": 26,
    "start_time": "2022-01-31T02:04:15.066Z"
   },
   {
    "duration": 10,
    "start_time": "2022-01-31T02:07:46.703Z"
   },
   {
    "duration": 973,
    "start_time": "2022-01-31T02:09:13.934Z"
   },
   {
    "duration": 270,
    "start_time": "2022-01-31T02:09:25.020Z"
   },
   {
    "duration": 263,
    "start_time": "2022-01-31T02:09:53.732Z"
   },
   {
    "duration": 292,
    "start_time": "2022-01-31T02:10:28.970Z"
   },
   {
    "duration": 256,
    "start_time": "2022-01-31T02:10:58.397Z"
   },
   {
    "duration": 810,
    "start_time": "2022-01-31T02:12:43.967Z"
   },
   {
    "duration": 680,
    "start_time": "2022-01-31T02:13:02.937Z"
   },
   {
    "duration": 671,
    "start_time": "2022-01-31T02:13:28.045Z"
   },
   {
    "duration": 701,
    "start_time": "2022-01-31T02:14:04.528Z"
   },
   {
    "duration": 100,
    "start_time": "2022-01-31T02:14:31.721Z"
   },
   {
    "duration": 258,
    "start_time": "2022-01-31T02:14:35.474Z"
   },
   {
    "duration": 281,
    "start_time": "2022-01-31T02:15:05.644Z"
   },
   {
    "duration": 277,
    "start_time": "2022-01-31T02:15:28.313Z"
   },
   {
    "duration": 313,
    "start_time": "2022-01-31T02:16:14.530Z"
   },
   {
    "duration": 255,
    "start_time": "2022-01-31T02:17:11.294Z"
   },
   {
    "duration": 273,
    "start_time": "2022-01-31T02:17:27.898Z"
   },
   {
    "duration": 265,
    "start_time": "2022-01-31T02:17:55.766Z"
   },
   {
    "duration": 293,
    "start_time": "2022-01-31T02:18:29.688Z"
   },
   {
    "duration": 288,
    "start_time": "2022-01-31T02:18:35.808Z"
   },
   {
    "duration": 261,
    "start_time": "2022-01-31T02:18:53.268Z"
   },
   {
    "duration": 265,
    "start_time": "2022-01-31T02:19:46.239Z"
   },
   {
    "duration": 865,
    "start_time": "2022-01-31T02:20:12.470Z"
   },
   {
    "duration": 6,
    "start_time": "2022-01-31T02:20:13.338Z"
   },
   {
    "duration": 43,
    "start_time": "2022-01-31T02:20:13.348Z"
   },
   {
    "duration": 16,
    "start_time": "2022-01-31T02:20:13.395Z"
   },
   {
    "duration": 63,
    "start_time": "2022-01-31T02:20:13.414Z"
   },
   {
    "duration": 11,
    "start_time": "2022-01-31T02:20:13.480Z"
   },
   {
    "duration": 19,
    "start_time": "2022-01-31T02:20:13.494Z"
   },
   {
    "duration": 8,
    "start_time": "2022-01-31T02:20:13.516Z"
   },
   {
    "duration": 34,
    "start_time": "2022-01-31T02:20:13.574Z"
   },
   {
    "duration": 61,
    "start_time": "2022-01-31T02:20:13.613Z"
   },
   {
    "duration": 13,
    "start_time": "2022-01-31T02:20:13.676Z"
   },
   {
    "duration": 33,
    "start_time": "2022-01-31T02:20:13.691Z"
   },
   {
    "duration": 3,
    "start_time": "2022-01-31T02:20:13.726Z"
   },
   {
    "duration": 56,
    "start_time": "2022-01-31T02:20:13.733Z"
   },
   {
    "duration": 15,
    "start_time": "2022-01-31T02:20:13.791Z"
   },
   {
    "duration": 32,
    "start_time": "2022-01-31T02:20:13.808Z"
   },
   {
    "duration": 34,
    "start_time": "2022-01-31T02:20:13.842Z"
   },
   {
    "duration": 6,
    "start_time": "2022-01-31T02:20:13.878Z"
   },
   {
    "duration": 20,
    "start_time": "2022-01-31T02:20:13.887Z"
   },
   {
    "duration": 17,
    "start_time": "2022-01-31T02:20:13.909Z"
   },
   {
    "duration": 49,
    "start_time": "2022-01-31T02:20:13.928Z"
   },
   {
    "duration": 13,
    "start_time": "2022-01-31T02:20:13.980Z"
   },
   {
    "duration": 14,
    "start_time": "2022-01-31T02:20:13.996Z"
   },
   {
    "duration": 5,
    "start_time": "2022-01-31T02:20:14.013Z"
   },
   {
    "duration": 50,
    "start_time": "2022-01-31T02:20:14.021Z"
   },
   {
    "duration": 13,
    "start_time": "2022-01-31T02:20:14.074Z"
   },
   {
    "duration": 6,
    "start_time": "2022-01-31T02:20:14.093Z"
   },
   {
    "duration": 19,
    "start_time": "2022-01-31T02:20:14.102Z"
   },
   {
    "duration": 8,
    "start_time": "2022-01-31T02:20:14.124Z"
   },
   {
    "duration": 21,
    "start_time": "2022-01-31T02:20:14.170Z"
   },
   {
    "duration": 6,
    "start_time": "2022-01-31T02:20:14.193Z"
   },
   {
    "duration": 25,
    "start_time": "2022-01-31T02:20:14.201Z"
   },
   {
    "duration": 46,
    "start_time": "2022-01-31T02:20:14.229Z"
   },
   {
    "duration": 11,
    "start_time": "2022-01-31T02:20:14.278Z"
   },
   {
    "duration": 22,
    "start_time": "2022-01-31T02:20:14.292Z"
   },
   {
    "duration": 58,
    "start_time": "2022-01-31T02:20:14.317Z"
   },
   {
    "duration": 10,
    "start_time": "2022-01-31T02:20:14.378Z"
   },
   {
    "duration": 37,
    "start_time": "2022-01-31T02:20:14.390Z"
   },
   {
    "duration": 49,
    "start_time": "2022-01-31T02:20:14.429Z"
   },
   {
    "duration": 25,
    "start_time": "2022-01-31T02:20:14.480Z"
   },
   {
    "duration": 20,
    "start_time": "2022-01-31T02:20:14.508Z"
   },
   {
    "duration": 4,
    "start_time": "2022-01-31T02:20:14.531Z"
   },
   {
    "duration": 5,
    "start_time": "2022-01-31T02:20:14.570Z"
   },
   {
    "duration": 5,
    "start_time": "2022-01-31T02:20:14.577Z"
   },
   {
    "duration": 46,
    "start_time": "2022-01-31T02:20:14.584Z"
   },
   {
    "duration": 37,
    "start_time": "2022-01-31T02:20:14.632Z"
   },
   {
    "duration": 12,
    "start_time": "2022-01-31T02:20:14.672Z"
   },
   {
    "duration": 20,
    "start_time": "2022-01-31T02:20:14.686Z"
   },
   {
    "duration": 14,
    "start_time": "2022-01-31T02:20:14.709Z"
   },
   {
    "duration": 53,
    "start_time": "2022-01-31T02:20:14.726Z"
   },
   {
    "duration": 13,
    "start_time": "2022-01-31T02:20:19.190Z"
   },
   {
    "duration": 32,
    "start_time": "2022-01-31T02:20:53.212Z"
   },
   {
    "duration": 55,
    "start_time": "2022-01-31T02:23:01.547Z"
   },
   {
    "duration": 53,
    "start_time": "2022-01-31T02:23:20.143Z"
   },
   {
    "duration": 20,
    "start_time": "2022-01-31T02:23:48.366Z"
   },
   {
    "duration": 54,
    "start_time": "2022-01-31T02:23:55.122Z"
   },
   {
    "duration": 63,
    "start_time": "2022-01-31T02:24:54.837Z"
   },
   {
    "duration": 53,
    "start_time": "2022-01-31T02:25:06.746Z"
   },
   {
    "duration": 30,
    "start_time": "2022-01-31T02:27:49.388Z"
   },
   {
    "duration": 53,
    "start_time": "2022-01-31T02:27:55.164Z"
   },
   {
    "duration": 300,
    "start_time": "2022-01-31T23:58:02.037Z"
   },
   {
    "duration": 246,
    "start_time": "2022-01-31T23:58:03.791Z"
   },
   {
    "duration": 855,
    "start_time": "2022-01-31T23:58:07.771Z"
   },
   {
    "duration": 5,
    "start_time": "2022-01-31T23:58:09.706Z"
   },
   {
    "duration": 32,
    "start_time": "2022-01-31T23:58:11.617Z"
   },
   {
    "duration": 15,
    "start_time": "2022-01-31T23:58:14.137Z"
   },
   {
    "duration": 31,
    "start_time": "2022-02-01T00:04:35.159Z"
   },
   {
    "duration": 18,
    "start_time": "2022-02-01T00:28:03.540Z"
   },
   {
    "duration": 272,
    "start_time": "2022-02-01T00:38:23.110Z"
   },
   {
    "duration": 12,
    "start_time": "2022-02-01T00:38:29.827Z"
   },
   {
    "duration": 17,
    "start_time": "2022-02-01T00:38:32.655Z"
   },
   {
    "duration": 227,
    "start_time": "2022-02-01T00:38:35.524Z"
   },
   {
    "duration": 8,
    "start_time": "2022-02-01T00:39:10.313Z"
   },
   {
    "duration": 8,
    "start_time": "2022-02-01T00:54:19.242Z"
   },
   {
    "duration": 8,
    "start_time": "2022-02-01T00:55:43.052Z"
   },
   {
    "duration": 10,
    "start_time": "2022-02-01T00:57:12.126Z"
   },
   {
    "duration": 10,
    "start_time": "2022-02-01T00:58:03.174Z"
   },
   {
    "duration": 304,
    "start_time": "2022-02-01T00:59:07.042Z"
   },
   {
    "duration": 10,
    "start_time": "2022-02-01T00:59:22.484Z"
   },
   {
    "duration": 4,
    "start_time": "2022-02-01T01:08:47.250Z"
   },
   {
    "duration": 11,
    "start_time": "2022-02-01T04:14:31.229Z"
   },
   {
    "duration": 21,
    "start_time": "2022-02-01T04:44:18.098Z"
   },
   {
    "duration": 14,
    "start_time": "2022-02-01T04:51:11.409Z"
   },
   {
    "duration": 28,
    "start_time": "2022-02-01T04:51:13.183Z"
   },
   {
    "duration": 9,
    "start_time": "2022-02-01T04:52:32.936Z"
   },
   {
    "duration": 5,
    "start_time": "2022-02-01T05:02:28.638Z"
   },
   {
    "duration": 18,
    "start_time": "2022-02-01T05:08:35.798Z"
   },
   {
    "duration": 17,
    "start_time": "2022-02-01T05:09:19.985Z"
   },
   {
    "duration": 8,
    "start_time": "2022-02-01T05:09:55.902Z"
   },
   {
    "duration": 10,
    "start_time": "2022-02-01T05:12:34.974Z"
   },
   {
    "duration": 8,
    "start_time": "2022-02-01T05:12:41.261Z"
   },
   {
    "duration": 10,
    "start_time": "2022-02-01T05:16:28.585Z"
   },
   {
    "duration": 6,
    "start_time": "2022-02-01T05:16:38.827Z"
   },
   {
    "duration": 10,
    "start_time": "2022-02-01T05:17:01.136Z"
   },
   {
    "duration": 12,
    "start_time": "2022-02-01T05:20:13.236Z"
   },
   {
    "duration": 257,
    "start_time": "2022-02-01T05:23:28.137Z"
   },
   {
    "duration": 264,
    "start_time": "2022-02-01T05:24:18.369Z"
   },
   {
    "duration": 9,
    "start_time": "2022-02-01T05:25:15.975Z"
   },
   {
    "duration": 7,
    "start_time": "2022-02-01T05:25:19.470Z"
   },
   {
    "duration": 250,
    "start_time": "2022-02-01T05:25:40.920Z"
   },
   {
    "duration": 10,
    "start_time": "2022-02-01T05:25:47.203Z"
   },
   {
    "duration": 231,
    "start_time": "2022-02-01T05:26:11.011Z"
   },
   {
    "duration": 6,
    "start_time": "2022-02-01T05:26:18.785Z"
   },
   {
    "duration": 12,
    "start_time": "2022-02-01T05:26:46.388Z"
   },
   {
    "duration": 10,
    "start_time": "2022-02-01T05:27:56.947Z"
   },
   {
    "duration": 7,
    "start_time": "2022-02-01T05:27:58.781Z"
   },
   {
    "duration": 8,
    "start_time": "2022-02-01T05:28:22.482Z"
   },
   {
    "duration": 6,
    "start_time": "2022-02-01T05:28:24.145Z"
   },
   {
    "duration": 10,
    "start_time": "2022-02-01T05:29:20.162Z"
   },
   {
    "duration": 6,
    "start_time": "2022-02-01T05:29:28.923Z"
   },
   {
    "duration": 9,
    "start_time": "2022-02-01T05:30:45.066Z"
   },
   {
    "duration": 30,
    "start_time": "2022-02-01T05:32:38.232Z"
   },
   {
    "duration": 12,
    "start_time": "2022-02-01T05:32:57.895Z"
   },
   {
    "duration": 23,
    "start_time": "2022-02-01T05:33:00.478Z"
   },
   {
    "duration": 24,
    "start_time": "2022-02-01T05:33:13.201Z"
   },
   {
    "duration": 25,
    "start_time": "2022-02-01T05:33:15.113Z"
   },
   {
    "duration": 4,
    "start_time": "2022-02-01T05:33:18.474Z"
   },
   {
    "duration": 5,
    "start_time": "2022-02-01T05:33:20.397Z"
   },
   {
    "duration": 631,
    "start_time": "2022-02-01T23:55:51.525Z"
   },
   {
    "duration": 3,
    "start_time": "2022-02-01T23:55:52.158Z"
   },
   {
    "duration": 22,
    "start_time": "2022-02-01T23:55:52.163Z"
   },
   {
    "duration": 10,
    "start_time": "2022-02-01T23:55:52.187Z"
   },
   {
    "duration": 21,
    "start_time": "2022-02-01T23:55:52.198Z"
   },
   {
    "duration": 37,
    "start_time": "2022-02-01T23:55:52.221Z"
   },
   {
    "duration": 13,
    "start_time": "2022-02-01T23:55:52.261Z"
   },
   {
    "duration": 5,
    "start_time": "2022-02-01T23:55:52.276Z"
   },
   {
    "duration": 3,
    "start_time": "2022-02-01T23:55:52.284Z"
   },
   {
    "duration": 7,
    "start_time": "2022-02-01T23:55:52.289Z"
   },
   {
    "duration": 15,
    "start_time": "2022-02-01T23:55:52.298Z"
   },
   {
    "duration": 46,
    "start_time": "2022-02-01T23:55:52.315Z"
   },
   {
    "duration": 22,
    "start_time": "2022-02-01T23:55:52.363Z"
   },
   {
    "duration": 6,
    "start_time": "2022-02-01T23:55:52.387Z"
   },
   {
    "duration": 3,
    "start_time": "2022-02-01T23:55:52.395Z"
   },
   {
    "duration": 14,
    "start_time": "2022-02-01T23:55:52.400Z"
   },
   {
    "duration": 6,
    "start_time": "2022-02-01T23:55:52.415Z"
   },
   {
    "duration": 40,
    "start_time": "2022-02-01T23:55:52.423Z"
   },
   {
    "duration": 10,
    "start_time": "2022-02-01T23:55:52.464Z"
   },
   {
    "duration": 6,
    "start_time": "2022-02-01T23:55:52.475Z"
   },
   {
    "duration": 6,
    "start_time": "2022-02-01T23:55:52.483Z"
   },
   {
    "duration": 9,
    "start_time": "2022-02-01T23:55:52.491Z"
   },
   {
    "duration": 7,
    "start_time": "2022-02-01T23:55:52.502Z"
   },
   {
    "duration": 7,
    "start_time": "2022-02-01T23:55:52.511Z"
   },
   {
    "duration": 40,
    "start_time": "2022-02-01T23:55:52.519Z"
   },
   {
    "duration": 6,
    "start_time": "2022-02-01T23:55:52.561Z"
   },
   {
    "duration": 14,
    "start_time": "2022-02-01T23:55:52.572Z"
   },
   {
    "duration": 5,
    "start_time": "2022-02-01T23:55:52.588Z"
   },
   {
    "duration": 20,
    "start_time": "2022-02-01T23:55:52.595Z"
   },
   {
    "duration": 7,
    "start_time": "2022-02-01T23:55:52.617Z"
   },
   {
    "duration": 39,
    "start_time": "2022-02-01T23:55:52.625Z"
   },
   {
    "duration": 15,
    "start_time": "2022-02-01T23:55:52.665Z"
   },
   {
    "duration": 14,
    "start_time": "2022-02-01T23:55:52.682Z"
   },
   {
    "duration": 7,
    "start_time": "2022-02-01T23:55:52.698Z"
   },
   {
    "duration": 28,
    "start_time": "2022-02-01T23:55:52.706Z"
   },
   {
    "duration": 31,
    "start_time": "2022-02-01T23:55:52.735Z"
   },
   {
    "duration": 15,
    "start_time": "2022-02-01T23:55:52.768Z"
   },
   {
    "duration": 13,
    "start_time": "2022-02-01T23:55:52.785Z"
   },
   {
    "duration": 3,
    "start_time": "2022-02-01T23:55:52.799Z"
   },
   {
    "duration": 10,
    "start_time": "2022-02-01T23:55:52.803Z"
   },
   {
    "duration": 6,
    "start_time": "2022-02-01T23:55:52.815Z"
   },
   {
    "duration": 50,
    "start_time": "2022-02-01T23:55:52.823Z"
   },
   {
    "duration": 3,
    "start_time": "2022-02-01T23:55:52.874Z"
   },
   {
    "duration": 5,
    "start_time": "2022-02-01T23:55:52.879Z"
   },
   {
    "duration": 10,
    "start_time": "2022-02-01T23:55:52.886Z"
   },
   {
    "duration": 7,
    "start_time": "2022-02-01T23:55:52.898Z"
   },
   {
    "duration": 27,
    "start_time": "2022-02-01T23:55:52.907Z"
   },
   {
    "duration": 25,
    "start_time": "2022-02-01T23:55:52.935Z"
   },
   {
    "duration": 33,
    "start_time": "2022-02-01T23:55:52.961Z"
   },
   {
    "duration": 3,
    "start_time": "2022-02-01T23:55:52.996Z"
   },
   {
    "duration": 13,
    "start_time": "2022-02-01T23:55:53.000Z"
   },
   {
    "duration": 9,
    "start_time": "2022-02-01T23:55:53.015Z"
   },
   {
    "duration": 39,
    "start_time": "2022-02-01T23:55:53.025Z"
   },
   {
    "duration": 13,
    "start_time": "2022-02-01T23:55:53.066Z"
   },
   {
    "duration": 11,
    "start_time": "2022-02-01T23:55:53.081Z"
   },
   {
    "duration": 6,
    "start_time": "2022-02-01T23:55:53.093Z"
   },
   {
    "duration": 19,
    "start_time": "2022-02-01T23:55:53.101Z"
   },
   {
    "duration": 3,
    "start_time": "2022-02-01T23:55:53.122Z"
   },
   {
    "duration": 35,
    "start_time": "2022-02-01T23:55:53.126Z"
   },
   {
    "duration": 22,
    "start_time": "2022-02-01T23:55:53.163Z"
   },
   {
    "duration": 25,
    "start_time": "2022-02-01T23:55:53.186Z"
   },
   {
    "duration": 12,
    "start_time": "2022-02-01T23:55:53.213Z"
   },
   {
    "duration": 39,
    "start_time": "2022-02-01T23:55:53.227Z"
   },
   {
    "duration": 2,
    "start_time": "2022-02-01T23:55:53.268Z"
   },
   {
    "duration": 5,
    "start_time": "2022-02-01T23:55:53.272Z"
   },
   {
    "duration": 17,
    "start_time": "2022-02-01T23:55:53.278Z"
   },
   {
    "duration": 4,
    "start_time": "2022-02-01T23:55:53.297Z"
   },
   {
    "duration": 5,
    "start_time": "2022-02-01T23:55:53.302Z"
   },
   {
    "duration": 4,
    "start_time": "2022-02-01T23:55:53.309Z"
   },
   {
    "duration": 5,
    "start_time": "2022-02-01T23:55:53.315Z"
   },
   {
    "duration": 6,
    "start_time": "2022-02-01T23:55:53.322Z"
   },
   {
    "duration": 6,
    "start_time": "2022-02-01T23:55:53.330Z"
   },
   {
    "duration": 22,
    "start_time": "2022-02-01T23:55:53.337Z"
   },
   {
    "duration": 5,
    "start_time": "2022-02-01T23:55:53.361Z"
   },
   {
    "duration": 5,
    "start_time": "2022-02-01T23:55:53.367Z"
   },
   {
    "duration": 5,
    "start_time": "2022-02-01T23:55:53.373Z"
   },
   {
    "duration": 4,
    "start_time": "2022-02-01T23:55:53.379Z"
   },
   {
    "duration": 6,
    "start_time": "2022-02-01T23:55:53.384Z"
   },
   {
    "duration": 5,
    "start_time": "2022-02-01T23:55:53.392Z"
   },
   {
    "duration": 6,
    "start_time": "2022-02-02T00:02:12.022Z"
   },
   {
    "duration": 234,
    "start_time": "2022-02-02T00:05:07.021Z"
   },
   {
    "duration": 30,
    "start_time": "2022-02-02T00:05:17.259Z"
   },
   {
    "duration": 22,
    "start_time": "2022-02-02T00:06:05.209Z"
   },
   {
    "duration": 46,
    "start_time": "2022-02-02T00:06:37.612Z"
   },
   {
    "duration": 44,
    "start_time": "2022-02-02T00:06:58.307Z"
   },
   {
    "duration": 2,
    "start_time": "2022-02-02T00:07:21.165Z"
   },
   {
    "duration": 8,
    "start_time": "2022-02-02T00:07:25.467Z"
   },
   {
    "duration": 7,
    "start_time": "2022-02-02T00:07:36.617Z"
   },
   {
    "duration": 16,
    "start_time": "2022-02-02T00:08:04.474Z"
   },
   {
    "duration": 7,
    "start_time": "2022-02-02T00:08:39.252Z"
   },
   {
    "duration": 2,
    "start_time": "2022-02-02T00:09:56.373Z"
   },
   {
    "duration": 6,
    "start_time": "2022-02-02T00:10:43.997Z"
   },
   {
    "duration": 10,
    "start_time": "2022-02-02T00:11:24.872Z"
   },
   {
    "duration": 9,
    "start_time": "2022-02-02T00:11:43.185Z"
   },
   {
    "duration": 6,
    "start_time": "2022-02-02T00:11:54.496Z"
   },
   {
    "duration": 9,
    "start_time": "2022-02-02T00:12:00.990Z"
   },
   {
    "duration": 6,
    "start_time": "2022-02-02T00:12:19.221Z"
   },
   {
    "duration": 9,
    "start_time": "2022-02-02T00:12:25.691Z"
   },
   {
    "duration": 10,
    "start_time": "2022-02-02T00:12:33.694Z"
   },
   {
    "duration": 11,
    "start_time": "2022-02-02T00:12:41.941Z"
   },
   {
    "duration": 72,
    "start_time": "2022-02-02T00:13:09.714Z"
   },
   {
    "duration": 9,
    "start_time": "2022-02-02T00:13:13.355Z"
   },
   {
    "duration": 59,
    "start_time": "2022-02-02T00:14:31.877Z"
   },
   {
    "duration": 201,
    "start_time": "2022-02-02T00:15:02.272Z"
   },
   {
    "duration": 8,
    "start_time": "2022-02-02T00:15:12.242Z"
   },
   {
    "duration": 8,
    "start_time": "2022-02-02T00:15:35.943Z"
   },
   {
    "duration": 9,
    "start_time": "2022-02-02T00:16:37.553Z"
   },
   {
    "duration": 9,
    "start_time": "2022-02-02T00:16:46.187Z"
   },
   {
    "duration": 9,
    "start_time": "2022-02-02T00:17:01.325Z"
   },
   {
    "duration": 8,
    "start_time": "2022-02-02T00:17:20.745Z"
   },
   {
    "duration": 2606,
    "start_time": "2022-02-02T00:18:46.487Z"
   },
   {
    "duration": 7,
    "start_time": "2022-02-02T00:19:12.553Z"
   },
   {
    "duration": 10,
    "start_time": "2022-02-02T00:20:07.459Z"
   },
   {
    "duration": 10,
    "start_time": "2022-02-02T00:20:24.454Z"
   },
   {
    "duration": 11,
    "start_time": "2022-02-02T00:20:37.190Z"
   },
   {
    "duration": 12,
    "start_time": "2022-02-02T00:21:01.794Z"
   },
   {
    "duration": 12,
    "start_time": "2022-02-02T00:22:13.612Z"
   },
   {
    "duration": 12,
    "start_time": "2022-02-02T00:24:09.018Z"
   },
   {
    "duration": 285,
    "start_time": "2022-02-02T00:24:50.918Z"
   },
   {
    "duration": 50,
    "start_time": "2022-02-02T00:25:40.877Z"
   },
   {
    "duration": 8,
    "start_time": "2022-02-02T00:27:23.269Z"
   },
   {
    "duration": 195,
    "start_time": "2022-02-02T00:27:40.522Z"
   },
   {
    "duration": 12,
    "start_time": "2022-02-02T00:27:51.121Z"
   },
   {
    "duration": 2266,
    "start_time": "2022-02-02T00:45:25.673Z"
   },
   {
    "duration": 18,
    "start_time": "2022-02-02T00:45:44.827Z"
   },
   {
    "duration": 5,
    "start_time": "2022-02-02T00:46:03.044Z"
   },
   {
    "duration": 6,
    "start_time": "2022-02-02T00:48:16.878Z"
   },
   {
    "duration": 3,
    "start_time": "2022-02-02T00:55:24.085Z"
   },
   {
    "duration": 9,
    "start_time": "2022-02-02T00:56:13.682Z"
   },
   {
    "duration": 5,
    "start_time": "2022-02-02T00:56:28.774Z"
   },
   {
    "duration": 15,
    "start_time": "2022-02-02T00:57:04.319Z"
   },
   {
    "duration": 5,
    "start_time": "2022-02-02T00:57:08.838Z"
   },
   {
    "duration": 2,
    "start_time": "2022-02-02T01:01:48.328Z"
   },
   {
    "duration": 3,
    "start_time": "2022-02-02T01:02:02.359Z"
   },
   {
    "duration": 638,
    "start_time": "2022-02-02T01:17:44.529Z"
   },
   {
    "duration": 4,
    "start_time": "2022-02-02T01:17:45.169Z"
   },
   {
    "duration": 23,
    "start_time": "2022-02-02T01:17:45.174Z"
   },
   {
    "duration": 15,
    "start_time": "2022-02-02T01:17:45.198Z"
   },
   {
    "duration": 21,
    "start_time": "2022-02-02T01:17:45.214Z"
   },
   {
    "duration": 23,
    "start_time": "2022-02-02T01:17:45.236Z"
   },
   {
    "duration": 12,
    "start_time": "2022-02-02T01:17:45.260Z"
   },
   {
    "duration": 5,
    "start_time": "2022-02-02T01:17:45.274Z"
   },
   {
    "duration": 9,
    "start_time": "2022-02-02T01:17:45.282Z"
   },
   {
    "duration": 12,
    "start_time": "2022-02-02T01:17:45.293Z"
   },
   {
    "duration": 17,
    "start_time": "2022-02-02T01:17:45.307Z"
   },
   {
    "duration": 36,
    "start_time": "2022-02-02T01:17:45.325Z"
   },
   {
    "duration": 26,
    "start_time": "2022-02-02T01:17:45.363Z"
   },
   {
    "duration": 6,
    "start_time": "2022-02-02T01:17:45.391Z"
   },
   {
    "duration": 5,
    "start_time": "2022-02-02T01:17:45.399Z"
   },
   {
    "duration": 15,
    "start_time": "2022-02-02T01:17:45.406Z"
   },
   {
    "duration": 38,
    "start_time": "2022-02-02T01:17:45.422Z"
   },
   {
    "duration": 8,
    "start_time": "2022-02-02T01:17:45.462Z"
   },
   {
    "duration": 11,
    "start_time": "2022-02-02T01:17:45.471Z"
   },
   {
    "duration": 8,
    "start_time": "2022-02-02T01:17:45.483Z"
   },
   {
    "duration": 10,
    "start_time": "2022-02-02T01:17:45.492Z"
   },
   {
    "duration": 21,
    "start_time": "2022-02-02T01:17:45.504Z"
   },
   {
    "duration": 34,
    "start_time": "2022-02-02T01:17:45.526Z"
   },
   {
    "duration": 6,
    "start_time": "2022-02-02T01:17:45.562Z"
   },
   {
    "duration": 11,
    "start_time": "2022-02-02T01:17:45.570Z"
   },
   {
    "duration": 7,
    "start_time": "2022-02-02T01:17:45.583Z"
   },
   {
    "duration": 15,
    "start_time": "2022-02-02T01:17:45.595Z"
   },
   {
    "duration": 2,
    "start_time": "2022-02-02T01:17:45.613Z"
   },
   {
    "duration": 54,
    "start_time": "2022-02-02T01:17:45.616Z"
   },
   {
    "duration": 7,
    "start_time": "2022-02-02T01:17:45.672Z"
   },
   {
    "duration": 7,
    "start_time": "2022-02-02T01:17:45.681Z"
   },
   {
    "duration": 15,
    "start_time": "2022-02-02T01:17:45.690Z"
   },
   {
    "duration": 15,
    "start_time": "2022-02-02T01:17:45.707Z"
   },
   {
    "duration": 35,
    "start_time": "2022-02-02T01:17:45.724Z"
   },
   {
    "duration": 20,
    "start_time": "2022-02-02T01:17:45.761Z"
   },
   {
    "duration": 15,
    "start_time": "2022-02-02T01:17:45.783Z"
   },
   {
    "duration": 17,
    "start_time": "2022-02-02T01:17:45.800Z"
   },
   {
    "duration": 40,
    "start_time": "2022-02-02T01:17:45.819Z"
   },
   {
    "duration": 4,
    "start_time": "2022-02-02T01:17:45.860Z"
   },
   {
    "duration": 7,
    "start_time": "2022-02-02T01:17:45.866Z"
   },
   {
    "duration": 5,
    "start_time": "2022-02-02T01:17:45.875Z"
   },
   {
    "duration": 30,
    "start_time": "2022-02-02T01:17:45.881Z"
   },
   {
    "duration": 4,
    "start_time": "2022-02-02T01:17:45.913Z"
   },
   {
    "duration": 6,
    "start_time": "2022-02-02T01:17:45.918Z"
   },
   {
    "duration": 40,
    "start_time": "2022-02-02T01:17:45.926Z"
   },
   {
    "duration": 11,
    "start_time": "2022-02-02T01:17:45.968Z"
   },
   {
    "duration": 25,
    "start_time": "2022-02-02T01:17:45.981Z"
   },
   {
    "duration": 11,
    "start_time": "2022-02-02T01:17:46.008Z"
   },
   {
    "duration": 70,
    "start_time": "2022-02-02T01:17:46.020Z"
   },
   {
    "duration": 22,
    "start_time": "2022-02-02T01:17:46.092Z"
   },
   {
    "duration": 5,
    "start_time": "2022-02-02T01:17:46.115Z"
   },
   {
    "duration": 12,
    "start_time": "2022-02-02T01:17:46.122Z"
   },
   {
    "duration": 29,
    "start_time": "2022-02-02T01:17:46.136Z"
   },
   {
    "duration": 12,
    "start_time": "2022-02-02T01:17:46.167Z"
   },
   {
    "duration": 10,
    "start_time": "2022-02-02T01:17:46.181Z"
   },
   {
    "duration": 2,
    "start_time": "2022-02-02T01:17:46.193Z"
   },
   {
    "duration": 20,
    "start_time": "2022-02-02T01:17:46.198Z"
   },
   {
    "duration": 3,
    "start_time": "2022-02-02T01:17:46.220Z"
   },
   {
    "duration": 3,
    "start_time": "2022-02-02T01:17:46.260Z"
   },
   {
    "duration": 22,
    "start_time": "2022-02-02T01:17:46.265Z"
   },
   {
    "duration": 22,
    "start_time": "2022-02-02T01:17:46.289Z"
   },
   {
    "duration": 10,
    "start_time": "2022-02-02T01:17:46.313Z"
   },
   {
    "duration": 35,
    "start_time": "2022-02-02T01:17:46.325Z"
   },
   {
    "duration": 2,
    "start_time": "2022-02-02T01:17:46.362Z"
   },
   {
    "duration": 8,
    "start_time": "2022-02-02T01:17:46.365Z"
   },
   {
    "duration": 15,
    "start_time": "2022-02-02T01:17:46.374Z"
   },
   {
    "duration": 4,
    "start_time": "2022-02-02T01:17:46.390Z"
   },
   {
    "duration": 2,
    "start_time": "2022-02-02T01:17:46.396Z"
   },
   {
    "duration": 6,
    "start_time": "2022-02-02T01:17:46.400Z"
   },
   {
    "duration": 11,
    "start_time": "2022-02-02T01:17:46.407Z"
   },
   {
    "duration": 7,
    "start_time": "2022-02-02T01:17:46.419Z"
   },
   {
    "duration": 5,
    "start_time": "2022-02-02T01:17:46.427Z"
   },
   {
    "duration": 2,
    "start_time": "2022-02-02T01:17:46.459Z"
   },
   {
    "duration": 8,
    "start_time": "2022-02-02T01:17:46.463Z"
   },
   {
    "duration": 5,
    "start_time": "2022-02-02T01:17:46.472Z"
   },
   {
    "duration": 18,
    "start_time": "2022-02-02T01:17:46.478Z"
   },
   {
    "duration": 234,
    "start_time": "2022-02-02T01:17:46.498Z"
   },
   {
    "duration": -655,
    "start_time": "2022-02-02T01:17:47.389Z"
   },
   {
    "duration": -658,
    "start_time": "2022-02-02T01:17:47.393Z"
   },
   {
    "duration": 13,
    "start_time": "2022-02-02T01:19:23.550Z"
   },
   {
    "duration": 8,
    "start_time": "2022-02-02T01:20:02.107Z"
   },
   {
    "duration": 10,
    "start_time": "2022-02-02T01:20:04.204Z"
   },
   {
    "duration": 12,
    "start_time": "2022-02-02T01:20:12.863Z"
   },
   {
    "duration": 7,
    "start_time": "2022-02-02T01:20:53.054Z"
   },
   {
    "duration": 613,
    "start_time": "2022-02-02T02:28:45.950Z"
   },
   {
    "duration": 4,
    "start_time": "2022-02-02T02:29:03.596Z"
   },
   {
    "duration": 20,
    "start_time": "2022-02-02T02:29:08.941Z"
   },
   {
    "duration": 12,
    "start_time": "2022-02-02T02:29:16.610Z"
   },
   {
    "duration": 21,
    "start_time": "2022-02-02T02:35:28.614Z"
   },
   {
    "duration": 9,
    "start_time": "2022-02-02T02:39:58.744Z"
   },
   {
    "duration": 7,
    "start_time": "2022-02-02T02:40:11.797Z"
   },
   {
    "duration": 12,
    "start_time": "2022-02-02T02:48:24.613Z"
   },
   {
    "duration": 6,
    "start_time": "2022-02-02T02:54:46.240Z"
   },
   {
    "duration": 6,
    "start_time": "2022-02-02T02:59:36.419Z"
   },
   {
    "duration": 15,
    "start_time": "2022-02-02T03:07:58.006Z"
   },
   {
    "duration": 12,
    "start_time": "2022-02-02T03:09:25.460Z"
   },
   {
    "duration": 20,
    "start_time": "2022-02-02T03:09:27.845Z"
   },
   {
    "duration": 7,
    "start_time": "2022-02-02T03:09:54.552Z"
   },
   {
    "duration": 4,
    "start_time": "2022-02-02T03:13:59.067Z"
   },
   {
    "duration": 13,
    "start_time": "2022-02-02T03:16:32.181Z"
   },
   {
    "duration": 6,
    "start_time": "2022-02-02T03:17:25.489Z"
   },
   {
    "duration": 8,
    "start_time": "2022-02-02T03:21:10.794Z"
   },
   {
    "duration": 15,
    "start_time": "2022-02-02T03:21:39.169Z"
   },
   {
    "duration": 7,
    "start_time": "2022-02-02T03:21:49.084Z"
   },
   {
    "duration": 11,
    "start_time": "2022-02-02T03:22:06.685Z"
   },
   {
    "duration": 9,
    "start_time": "2022-02-02T03:30:15.712Z"
   },
   {
    "duration": 7,
    "start_time": "2022-02-02T03:30:50.021Z"
   },
   {
    "duration": 5,
    "start_time": "2022-02-02T03:31:29.016Z"
   },
   {
    "duration": 5,
    "start_time": "2022-02-02T03:31:46.375Z"
   },
   {
    "duration": 5,
    "start_time": "2022-02-02T03:32:03.301Z"
   },
   {
    "duration": 7,
    "start_time": "2022-02-02T03:32:34.295Z"
   },
   {
    "duration": 7,
    "start_time": "2022-02-02T03:32:49.729Z"
   },
   {
    "duration": 7,
    "start_time": "2022-02-02T03:34:47.256Z"
   },
   {
    "duration": 5,
    "start_time": "2022-02-02T03:36:43.476Z"
   },
   {
    "duration": 7,
    "start_time": "2022-02-02T03:37:12.312Z"
   },
   {
    "duration": 7,
    "start_time": "2022-02-02T03:37:14.914Z"
   },
   {
    "duration": 5,
    "start_time": "2022-02-02T03:37:18.538Z"
   },
   {
    "duration": 7,
    "start_time": "2022-02-02T03:37:51.151Z"
   },
   {
    "duration": 14,
    "start_time": "2022-02-02T03:37:58.537Z"
   },
   {
    "duration": 14,
    "start_time": "2022-02-02T03:39:45.990Z"
   },
   {
    "duration": 28,
    "start_time": "2022-02-02T03:40:48.487Z"
   },
   {
    "duration": 16,
    "start_time": "2022-02-02T03:41:46.518Z"
   },
   {
    "duration": 247,
    "start_time": "2022-02-02T03:41:59.889Z"
   },
   {
    "duration": 180,
    "start_time": "2022-02-02T03:42:14.193Z"
   },
   {
    "duration": 16,
    "start_time": "2022-02-02T03:42:26.855Z"
   },
   {
    "duration": 184,
    "start_time": "2022-02-02T03:43:12.184Z"
   },
   {
    "duration": 14,
    "start_time": "2022-02-02T03:43:16.511Z"
   },
   {
    "duration": 14,
    "start_time": "2022-02-02T03:43:23.284Z"
   },
   {
    "duration": 15,
    "start_time": "2022-02-02T03:44:37.332Z"
   },
   {
    "duration": 194,
    "start_time": "2022-02-02T03:44:44.000Z"
   },
   {
    "duration": 14,
    "start_time": "2022-02-02T03:44:55.487Z"
   },
   {
    "duration": 7,
    "start_time": "2022-02-02T03:45:05.305Z"
   },
   {
    "duration": 181,
    "start_time": "2022-02-02T03:45:22.877Z"
   },
   {
    "duration": 58,
    "start_time": "2022-02-02T03:45:30.498Z"
   },
   {
    "duration": 7,
    "start_time": "2022-02-02T03:45:35.303Z"
   },
   {
    "duration": 5,
    "start_time": "2022-02-02T03:46:00.025Z"
   },
   {
    "duration": 16,
    "start_time": "2022-02-02T03:46:26.918Z"
   },
   {
    "duration": 15,
    "start_time": "2022-02-02T03:46:35.332Z"
   },
   {
    "duration": 183,
    "start_time": "2022-02-02T03:47:08.882Z"
   },
   {
    "duration": 193,
    "start_time": "2022-02-02T03:47:21.625Z"
   },
   {
    "duration": 5,
    "start_time": "2022-02-02T03:47:38.443Z"
   },
   {
    "duration": 5,
    "start_time": "2022-02-02T03:47:45.322Z"
   },
   {
    "duration": 8,
    "start_time": "2022-02-02T03:49:31.252Z"
   },
   {
    "duration": 14,
    "start_time": "2022-02-02T03:49:43.526Z"
   },
   {
    "duration": 5,
    "start_time": "2022-02-02T03:49:50.765Z"
   },
   {
    "duration": 184,
    "start_time": "2022-02-02T03:50:05.179Z"
   },
   {
    "duration": 5,
    "start_time": "2022-02-02T03:50:23.414Z"
   },
   {
    "duration": 5,
    "start_time": "2022-02-02T03:50:28.814Z"
   },
   {
    "duration": 6,
    "start_time": "2022-02-02T03:50:32.243Z"
   },
   {
    "duration": 11,
    "start_time": "2022-02-02T03:52:46.116Z"
   },
   {
    "duration": 10,
    "start_time": "2022-02-02T03:53:02.999Z"
   },
   {
    "duration": 196,
    "start_time": "2022-02-02T03:53:31.806Z"
   },
   {
    "duration": 10,
    "start_time": "2022-02-02T03:53:40.792Z"
   },
   {
    "duration": 12,
    "start_time": "2022-02-02T03:54:03.731Z"
   },
   {
    "duration": 17,
    "start_time": "2022-02-02T03:54:18.576Z"
   },
   {
    "duration": 8,
    "start_time": "2022-02-02T03:57:20.706Z"
   },
   {
    "duration": 7,
    "start_time": "2022-02-02T03:57:34.267Z"
   },
   {
    "duration": 8,
    "start_time": "2022-02-02T03:57:36.993Z"
   },
   {
    "duration": 4,
    "start_time": "2022-02-02T03:57:49.400Z"
   },
   {
    "duration": 6,
    "start_time": "2022-02-02T03:58:35.281Z"
   },
   {
    "duration": 7,
    "start_time": "2022-02-02T03:59:09.476Z"
   },
   {
    "duration": 5,
    "start_time": "2022-02-02T03:59:25.278Z"
   },
   {
    "duration": 8,
    "start_time": "2022-02-02T04:00:09.719Z"
   },
   {
    "duration": 7,
    "start_time": "2022-02-02T04:00:22.302Z"
   },
   {
    "duration": 16,
    "start_time": "2022-02-02T04:01:05.041Z"
   },
   {
    "duration": 4,
    "start_time": "2022-02-02T04:06:02.192Z"
   },
   {
    "duration": 18,
    "start_time": "2022-02-02T04:06:05.506Z"
   },
   {
    "duration": 6,
    "start_time": "2022-02-02T04:10:47.402Z"
   },
   {
    "duration": 17,
    "start_time": "2022-02-02T04:10:49.400Z"
   },
   {
    "duration": 7,
    "start_time": "2022-02-02T04:11:34.524Z"
   },
   {
    "duration": 6,
    "start_time": "2022-02-02T04:12:11.484Z"
   },
   {
    "duration": 13,
    "start_time": "2022-02-02T04:12:13.059Z"
   },
   {
    "duration": 15,
    "start_time": "2022-02-02T04:13:22.336Z"
   },
   {
    "duration": 17,
    "start_time": "2022-02-02T04:16:01.777Z"
   },
   {
    "duration": 14,
    "start_time": "2022-02-02T04:18:18.479Z"
   },
   {
    "duration": 18,
    "start_time": "2022-02-02T04:19:07.222Z"
   },
   {
    "duration": 15,
    "start_time": "2022-02-02T04:19:08.835Z"
   },
   {
    "duration": 3,
    "start_time": "2022-02-02T04:19:35.590Z"
   },
   {
    "duration": 4,
    "start_time": "2022-02-02T04:19:39.579Z"
   },
   {
    "duration": 4,
    "start_time": "2022-02-02T04:22:46.933Z"
   },
   {
    "duration": 3,
    "start_time": "2022-02-02T04:22:48.882Z"
   },
   {
    "duration": 9,
    "start_time": "2022-02-02T04:22:53.397Z"
   },
   {
    "duration": 9,
    "start_time": "2022-02-02T04:22:55.581Z"
   },
   {
    "duration": 32,
    "start_time": "2022-02-02T04:23:04.061Z"
   },
   {
    "duration": 20,
    "start_time": "2022-02-02T04:24:46.370Z"
   },
   {
    "duration": 9,
    "start_time": "2022-02-02T04:25:02.285Z"
   },
   {
    "duration": 40,
    "start_time": "2022-02-02T04:25:18.582Z"
   },
   {
    "duration": 21,
    "start_time": "2022-02-02T04:25:22.675Z"
   },
   {
    "duration": 4,
    "start_time": "2022-02-02T04:25:26.488Z"
   },
   {
    "duration": 8,
    "start_time": "2022-02-02T04:25:29.713Z"
   },
   {
    "duration": 9,
    "start_time": "2022-02-02T04:25:34.437Z"
   },
   {
    "duration": 11,
    "start_time": "2022-02-02T04:25:39.037Z"
   },
   {
    "duration": 5,
    "start_time": "2022-02-02T04:25:41.309Z"
   },
   {
    "duration": 11,
    "start_time": "2022-02-02T04:25:43.831Z"
   },
   {
    "duration": 19,
    "start_time": "2022-02-02T04:25:54.511Z"
   },
   {
    "duration": 19,
    "start_time": "2022-02-02T04:26:17.949Z"
   },
   {
    "duration": 19,
    "start_time": "2022-02-02T04:26:48.269Z"
   },
   {
    "duration": 19,
    "start_time": "2022-02-02T04:26:52.233Z"
   },
   {
    "duration": 4,
    "start_time": "2022-02-02T04:26:56.907Z"
   },
   {
    "duration": 20,
    "start_time": "2022-02-02T04:26:58.918Z"
   },
   {
    "duration": 24,
    "start_time": "2022-02-02T04:27:10.937Z"
   },
   {
    "duration": 16,
    "start_time": "2022-02-02T04:28:02.711Z"
   },
   {
    "duration": 586,
    "start_time": "2022-02-02T04:29:42.726Z"
   },
   {
    "duration": 3,
    "start_time": "2022-02-02T04:29:43.314Z"
   },
   {
    "duration": 22,
    "start_time": "2022-02-02T04:29:43.319Z"
   },
   {
    "duration": 16,
    "start_time": "2022-02-02T04:29:43.343Z"
   },
   {
    "duration": 20,
    "start_time": "2022-02-02T04:29:43.360Z"
   },
   {
    "duration": 6,
    "start_time": "2022-02-02T04:29:43.381Z"
   },
   {
    "duration": 11,
    "start_time": "2022-02-02T04:29:43.389Z"
   },
   {
    "duration": 5,
    "start_time": "2022-02-02T04:29:43.402Z"
   },
   {
    "duration": 6,
    "start_time": "2022-02-02T04:29:43.409Z"
   },
   {
    "duration": 46,
    "start_time": "2022-02-02T04:29:43.417Z"
   },
   {
    "duration": 10,
    "start_time": "2022-02-02T04:29:43.465Z"
   },
   {
    "duration": 24,
    "start_time": "2022-02-02T04:29:43.476Z"
   },
   {
    "duration": 6,
    "start_time": "2022-02-02T04:29:43.501Z"
   },
   {
    "duration": 3,
    "start_time": "2022-02-02T04:29:43.509Z"
   },
   {
    "duration": 13,
    "start_time": "2022-02-02T04:29:43.514Z"
   },
   {
    "duration": 33,
    "start_time": "2022-02-02T04:29:43.529Z"
   },
   {
    "duration": 7,
    "start_time": "2022-02-02T04:29:43.564Z"
   },
   {
    "duration": 9,
    "start_time": "2022-02-02T04:29:43.573Z"
   },
   {
    "duration": 8,
    "start_time": "2022-02-02T04:29:43.583Z"
   },
   {
    "duration": 6,
    "start_time": "2022-02-02T04:29:43.593Z"
   },
   {
    "duration": 3,
    "start_time": "2022-02-02T04:29:43.601Z"
   },
   {
    "duration": 7,
    "start_time": "2022-02-02T04:29:43.605Z"
   },
   {
    "duration": 46,
    "start_time": "2022-02-02T04:29:43.614Z"
   },
   {
    "duration": 4,
    "start_time": "2022-02-02T04:29:43.662Z"
   },
   {
    "duration": 9,
    "start_time": "2022-02-02T04:29:43.668Z"
   },
   {
    "duration": 5,
    "start_time": "2022-02-02T04:29:43.679Z"
   },
   {
    "duration": 14,
    "start_time": "2022-02-02T04:29:43.687Z"
   },
   {
    "duration": 2,
    "start_time": "2022-02-02T04:29:52.553Z"
   },
   {
    "duration": 15,
    "start_time": "2022-02-02T04:30:02.555Z"
   },
   {
    "duration": 2,
    "start_time": "2022-02-02T04:32:34.504Z"
   },
   {
    "duration": 15,
    "start_time": "2022-02-02T04:32:36.044Z"
   },
   {
    "duration": 8,
    "start_time": "2022-02-02T04:32:37.666Z"
   },
   {
    "duration": 6,
    "start_time": "2022-02-02T04:32:39.517Z"
   },
   {
    "duration": 14,
    "start_time": "2022-02-02T04:32:41.375Z"
   },
   {
    "duration": 14,
    "start_time": "2022-02-02T04:32:43.535Z"
   },
   {
    "duration": 14,
    "start_time": "2022-02-02T04:32:46.770Z"
   },
   {
    "duration": 15,
    "start_time": "2022-02-02T04:32:48.711Z"
   },
   {
    "duration": 16,
    "start_time": "2022-02-02T04:32:50.913Z"
   },
   {
    "duration": 15,
    "start_time": "2022-02-02T04:32:52.601Z"
   },
   {
    "duration": 3,
    "start_time": "2022-02-02T04:32:54.299Z"
   },
   {
    "duration": 5,
    "start_time": "2022-02-02T04:32:56.164Z"
   },
   {
    "duration": 45,
    "start_time": "2022-02-02T04:33:15.873Z"
   },
   {
    "duration": 3,
    "start_time": "2022-02-02T04:33:15.920Z"
   },
   {
    "duration": 23,
    "start_time": "2022-02-02T04:33:15.925Z"
   },
   {
    "duration": 13,
    "start_time": "2022-02-02T04:33:15.950Z"
   },
   {
    "duration": 19,
    "start_time": "2022-02-02T04:33:15.964Z"
   },
   {
    "duration": 6,
    "start_time": "2022-02-02T04:33:15.985Z"
   },
   {
    "duration": 17,
    "start_time": "2022-02-02T04:33:15.993Z"
   },
   {
    "duration": 6,
    "start_time": "2022-02-02T04:33:16.013Z"
   },
   {
    "duration": 38,
    "start_time": "2022-02-02T04:33:16.022Z"
   },
   {
    "duration": 15,
    "start_time": "2022-02-02T04:33:16.062Z"
   },
   {
    "duration": 10,
    "start_time": "2022-02-02T04:33:16.079Z"
   },
   {
    "duration": 21,
    "start_time": "2022-02-02T04:33:16.090Z"
   },
   {
    "duration": 6,
    "start_time": "2022-02-02T04:33:16.113Z"
   },
   {
    "duration": 43,
    "start_time": "2022-02-02T04:33:16.120Z"
   },
   {
    "duration": 12,
    "start_time": "2022-02-02T04:33:16.165Z"
   },
   {
    "duration": 5,
    "start_time": "2022-02-02T04:33:16.179Z"
   },
   {
    "duration": 7,
    "start_time": "2022-02-02T04:33:16.186Z"
   },
   {
    "duration": 8,
    "start_time": "2022-02-02T04:33:16.195Z"
   },
   {
    "duration": 6,
    "start_time": "2022-02-02T04:33:16.205Z"
   },
   {
    "duration": 48,
    "start_time": "2022-02-02T04:33:16.212Z"
   },
   {
    "duration": 4,
    "start_time": "2022-02-02T04:33:16.262Z"
   },
   {
    "duration": 12,
    "start_time": "2022-02-02T04:33:16.267Z"
   },
   {
    "duration": 7,
    "start_time": "2022-02-02T04:33:16.282Z"
   },
   {
    "duration": 8,
    "start_time": "2022-02-02T04:33:16.291Z"
   },
   {
    "duration": 8,
    "start_time": "2022-02-02T04:33:16.300Z"
   },
   {
    "duration": 6,
    "start_time": "2022-02-02T04:33:16.309Z"
   },
   {
    "duration": 47,
    "start_time": "2022-02-02T04:33:16.316Z"
   },
   {
    "duration": 2,
    "start_time": "2022-02-02T04:33:16.365Z"
   },
   {
    "duration": 16,
    "start_time": "2022-02-02T04:33:16.369Z"
   },
   {
    "duration": 6,
    "start_time": "2022-02-02T04:33:16.387Z"
   },
   {
    "duration": 8,
    "start_time": "2022-02-02T04:33:16.394Z"
   },
   {
    "duration": 14,
    "start_time": "2022-02-02T04:33:16.403Z"
   },
   {
    "duration": 45,
    "start_time": "2022-02-02T04:33:16.418Z"
   },
   {
    "duration": 3,
    "start_time": "2022-02-02T04:33:16.464Z"
   },
   {
    "duration": 18,
    "start_time": "2022-02-02T04:33:16.468Z"
   },
   {
    "duration": 14,
    "start_time": "2022-02-02T04:33:16.487Z"
   },
   {
    "duration": 15,
    "start_time": "2022-02-02T04:33:16.503Z"
   },
   {
    "duration": 41,
    "start_time": "2022-02-02T04:33:16.520Z"
   },
   {
    "duration": 3,
    "start_time": "2022-02-02T04:33:16.563Z"
   },
   {
    "duration": 9,
    "start_time": "2022-02-02T04:33:16.568Z"
   },
   {
    "duration": 5,
    "start_time": "2022-02-02T04:33:16.579Z"
   },
   {
    "duration": 32,
    "start_time": "2022-02-02T04:33:16.585Z"
   },
   {
    "duration": 3,
    "start_time": "2022-02-02T04:33:16.619Z"
   },
   {
    "duration": 7,
    "start_time": "2022-02-02T04:33:16.623Z"
   },
   {
    "duration": 30,
    "start_time": "2022-02-02T04:33:16.631Z"
   },
   {
    "duration": 9,
    "start_time": "2022-02-02T04:33:16.663Z"
   },
   {
    "duration": 23,
    "start_time": "2022-02-02T04:33:16.674Z"
   },
   {
    "duration": 9,
    "start_time": "2022-02-02T04:33:16.699Z"
   },
   {
    "duration": 64,
    "start_time": "2022-02-02T04:33:16.710Z"
   },
   {
    "duration": 20,
    "start_time": "2022-02-02T04:33:16.776Z"
   },
   {
    "duration": 4,
    "start_time": "2022-02-02T04:33:16.798Z"
   },
   {
    "duration": 8,
    "start_time": "2022-02-02T04:33:16.803Z"
   },
   {
    "duration": 9,
    "start_time": "2022-02-02T04:33:16.813Z"
   },
   {
    "duration": 44,
    "start_time": "2022-02-02T04:33:16.824Z"
   },
   {
    "duration": 6,
    "start_time": "2022-02-02T04:33:16.870Z"
   },
   {
    "duration": 9,
    "start_time": "2022-02-02T04:33:16.878Z"
   },
   {
    "duration": 2,
    "start_time": "2022-02-02T04:33:16.889Z"
   },
   {
    "duration": 23,
    "start_time": "2022-02-02T04:33:16.892Z"
   },
   {
    "duration": 2,
    "start_time": "2022-02-02T04:33:16.917Z"
   },
   {
    "duration": 7,
    "start_time": "2022-02-02T04:33:16.920Z"
   },
   {
    "duration": 48,
    "start_time": "2022-02-02T04:33:16.929Z"
   },
   {
    "duration": 24,
    "start_time": "2022-02-02T04:33:16.979Z"
   },
   {
    "duration": 13,
    "start_time": "2022-02-02T04:33:17.006Z"
   },
   {
    "duration": 7,
    "start_time": "2022-02-02T04:33:17.021Z"
   },
   {
    "duration": 30,
    "start_time": "2022-02-02T04:33:17.030Z"
   },
   {
    "duration": 6,
    "start_time": "2022-02-02T04:33:17.062Z"
   },
   {
    "duration": 13,
    "start_time": "2022-02-02T04:33:26.416Z"
   },
   {
    "duration": 24,
    "start_time": "2022-02-02T04:34:30.744Z"
   },
   {
    "duration": 7,
    "start_time": "2022-02-02T04:34:33.495Z"
   },
   {
    "duration": 8,
    "start_time": "2022-02-02T04:34:35.010Z"
   },
   {
    "duration": 11,
    "start_time": "2022-02-02T04:34:37.454Z"
   },
   {
    "duration": 5,
    "start_time": "2022-02-02T04:34:40.990Z"
   },
   {
    "duration": 238,
    "start_time": "2022-02-02T04:36:26.803Z"
   },
   {
    "duration": 216,
    "start_time": "2022-02-02T04:36:57.546Z"
   },
   {
    "duration": 4,
    "start_time": "2022-02-02T04:37:00.068Z"
   },
   {
    "duration": 9,
    "start_time": "2022-02-02T04:37:02.154Z"
   },
   {
    "duration": 5,
    "start_time": "2022-02-02T04:37:11.116Z"
   },
   {
    "duration": 180,
    "start_time": "2022-02-02T04:37:44.049Z"
   },
   {
    "duration": 240,
    "start_time": "2022-02-02T04:38:11.113Z"
   },
   {
    "duration": 5,
    "start_time": "2022-02-02T04:38:28.178Z"
   },
   {
    "duration": 26,
    "start_time": "2022-02-02T04:39:01.911Z"
   },
   {
    "duration": 201,
    "start_time": "2022-02-02T04:41:36.260Z"
   },
   {
    "duration": 178,
    "start_time": "2022-02-02T04:41:42.089Z"
   },
   {
    "duration": 622,
    "start_time": "2022-02-02T04:41:47.431Z"
   },
   {
    "duration": 4,
    "start_time": "2022-02-02T04:41:48.054Z"
   },
   {
    "duration": 21,
    "start_time": "2022-02-02T04:41:48.060Z"
   },
   {
    "duration": 10,
    "start_time": "2022-02-02T04:41:48.083Z"
   },
   {
    "duration": 19,
    "start_time": "2022-02-02T04:41:48.094Z"
   },
   {
    "duration": 6,
    "start_time": "2022-02-02T04:41:48.115Z"
   },
   {
    "duration": 37,
    "start_time": "2022-02-02T04:41:48.122Z"
   },
   {
    "duration": 6,
    "start_time": "2022-02-02T04:41:48.160Z"
   },
   {
    "duration": 8,
    "start_time": "2022-02-02T04:41:48.168Z"
   },
   {
    "duration": 16,
    "start_time": "2022-02-02T04:41:48.178Z"
   },
   {
    "duration": 9,
    "start_time": "2022-02-02T04:41:48.195Z"
   },
   {
    "duration": 20,
    "start_time": "2022-02-02T04:41:48.206Z"
   },
   {
    "duration": 11,
    "start_time": "2022-02-02T04:41:48.228Z"
   },
   {
    "duration": 4,
    "start_time": "2022-02-02T04:41:48.259Z"
   },
   {
    "duration": 19,
    "start_time": "2022-02-02T04:41:48.265Z"
   },
   {
    "duration": 5,
    "start_time": "2022-02-02T04:41:48.285Z"
   },
   {
    "duration": 8,
    "start_time": "2022-02-02T04:41:48.291Z"
   },
   {
    "duration": 10,
    "start_time": "2022-02-02T04:41:48.300Z"
   },
   {
    "duration": 8,
    "start_time": "2022-02-02T04:41:48.311Z"
   },
   {
    "duration": 9,
    "start_time": "2022-02-02T04:41:48.320Z"
   },
   {
    "duration": 38,
    "start_time": "2022-02-02T04:41:48.330Z"
   },
   {
    "duration": 11,
    "start_time": "2022-02-02T04:41:48.369Z"
   },
   {
    "duration": 8,
    "start_time": "2022-02-02T04:41:48.381Z"
   },
   {
    "duration": 4,
    "start_time": "2022-02-02T04:41:48.391Z"
   },
   {
    "duration": 8,
    "start_time": "2022-02-02T04:41:48.397Z"
   },
   {
    "duration": 8,
    "start_time": "2022-02-02T04:41:48.407Z"
   },
   {
    "duration": 15,
    "start_time": "2022-02-02T04:41:48.419Z"
   },
   {
    "duration": 2,
    "start_time": "2022-02-02T04:41:48.459Z"
   },
   {
    "duration": 18,
    "start_time": "2022-02-02T04:41:48.462Z"
   },
   {
    "duration": 6,
    "start_time": "2022-02-02T04:41:48.482Z"
   },
   {
    "duration": 7,
    "start_time": "2022-02-02T04:41:48.489Z"
   },
   {
    "duration": 14,
    "start_time": "2022-02-02T04:41:48.498Z"
   },
   {
    "duration": 16,
    "start_time": "2022-02-02T04:41:48.514Z"
   },
   {
    "duration": 27,
    "start_time": "2022-02-02T04:41:48.532Z"
   },
   {
    "duration": 16,
    "start_time": "2022-02-02T04:41:48.561Z"
   },
   {
    "duration": 13,
    "start_time": "2022-02-02T04:41:48.579Z"
   },
   {
    "duration": 16,
    "start_time": "2022-02-02T04:41:48.594Z"
   },
   {
    "duration": 15,
    "start_time": "2022-02-02T04:41:48.611Z"
   },
   {
    "duration": 3,
    "start_time": "2022-02-02T04:41:48.627Z"
   },
   {
    "duration": 4,
    "start_time": "2022-02-02T04:41:48.660Z"
   },
   {
    "duration": 4,
    "start_time": "2022-02-02T04:41:48.666Z"
   },
   {
    "duration": 29,
    "start_time": "2022-02-02T04:41:48.672Z"
   },
   {
    "duration": 4,
    "start_time": "2022-02-02T04:41:48.703Z"
   },
   {
    "duration": 6,
    "start_time": "2022-02-02T04:41:48.709Z"
   },
   {
    "duration": 46,
    "start_time": "2022-02-02T04:41:48.716Z"
   },
   {
    "duration": 9,
    "start_time": "2022-02-02T04:41:48.764Z"
   },
   {
    "duration": 21,
    "start_time": "2022-02-02T04:41:48.775Z"
   },
   {
    "duration": 10,
    "start_time": "2022-02-02T04:41:48.798Z"
   },
   {
    "duration": 68,
    "start_time": "2022-02-02T04:41:48.810Z"
   },
   {
    "duration": 21,
    "start_time": "2022-02-02T04:41:48.880Z"
   },
   {
    "duration": 4,
    "start_time": "2022-02-02T04:41:48.903Z"
   },
   {
    "duration": 8,
    "start_time": "2022-02-02T04:41:48.909Z"
   },
   {
    "duration": 9,
    "start_time": "2022-02-02T04:41:48.918Z"
   },
   {
    "duration": 12,
    "start_time": "2022-02-02T04:41:48.960Z"
   },
   {
    "duration": 6,
    "start_time": "2022-02-02T04:41:48.974Z"
   },
   {
    "duration": 11,
    "start_time": "2022-02-02T04:41:48.982Z"
   },
   {
    "duration": 2,
    "start_time": "2022-02-02T04:41:48.994Z"
   },
   {
    "duration": 22,
    "start_time": "2022-02-02T04:41:48.998Z"
   },
   {
    "duration": 2,
    "start_time": "2022-02-02T04:41:49.022Z"
   },
   {
    "duration": 35,
    "start_time": "2022-02-02T04:41:49.025Z"
   },
   {
    "duration": 21,
    "start_time": "2022-02-02T04:41:49.062Z"
   },
   {
    "duration": 21,
    "start_time": "2022-02-02T04:41:49.085Z"
   },
   {
    "duration": 10,
    "start_time": "2022-02-02T04:41:49.108Z"
   },
   {
    "duration": 6,
    "start_time": "2022-02-02T04:41:49.119Z"
   },
   {
    "duration": 34,
    "start_time": "2022-02-02T04:41:49.126Z"
   },
   {
    "duration": 6,
    "start_time": "2022-02-02T04:41:49.161Z"
   },
   {
    "duration": 14,
    "start_time": "2022-02-02T04:41:49.168Z"
   },
   {
    "duration": 5,
    "start_time": "2022-02-02T04:41:49.183Z"
   },
   {
    "duration": 3,
    "start_time": "2022-02-02T04:41:49.189Z"
   },
   {
    "duration": 7,
    "start_time": "2022-02-02T04:41:49.193Z"
   },
   {
    "duration": 11,
    "start_time": "2022-02-02T04:41:49.201Z"
   },
   {
    "duration": 8,
    "start_time": "2022-02-02T04:41:49.213Z"
   },
   {
    "duration": 2209,
    "start_time": "2022-02-02T04:41:49.223Z"
   },
   {
    "duration": -273,
    "start_time": "2022-02-02T04:41:51.707Z"
   },
   {
    "duration": -277,
    "start_time": "2022-02-02T04:41:51.712Z"
   },
   {
    "duration": -280,
    "start_time": "2022-02-02T04:41:51.716Z"
   },
   {
    "duration": -284,
    "start_time": "2022-02-02T04:41:51.720Z"
   },
   {
    "duration": -287,
    "start_time": "2022-02-02T04:41:51.724Z"
   },
   {
    "duration": -289,
    "start_time": "2022-02-02T04:41:51.728Z"
   },
   {
    "duration": -293,
    "start_time": "2022-02-02T04:41:51.732Z"
   },
   {
    "duration": 2377,
    "start_time": "2022-02-02T04:42:00.305Z"
   },
   {
    "duration": 11,
    "start_time": "2022-02-02T04:42:28.633Z"
   },
   {
    "duration": 9,
    "start_time": "2022-02-02T04:42:55.700Z"
   },
   {
    "duration": 10,
    "start_time": "2022-02-02T04:43:18.678Z"
   },
   {
    "duration": 10,
    "start_time": "2022-02-02T04:43:37.556Z"
   },
   {
    "duration": 7,
    "start_time": "2022-02-02T04:44:03.391Z"
   },
   {
    "duration": 7,
    "start_time": "2022-02-02T04:44:16.673Z"
   },
   {
    "duration": 7,
    "start_time": "2022-02-02T04:45:25.044Z"
   },
   {
    "duration": 9,
    "start_time": "2022-02-02T04:45:34.232Z"
   },
   {
    "duration": 11,
    "start_time": "2022-02-02T04:46:03.443Z"
   },
   {
    "duration": 11,
    "start_time": "2022-02-02T04:46:16.295Z"
   },
   {
    "duration": 437,
    "start_time": "2022-02-02T22:34:27.388Z"
   },
   {
    "duration": 914,
    "start_time": "2022-02-02T22:34:30.910Z"
   },
   {
    "duration": 5,
    "start_time": "2022-02-02T22:34:31.827Z"
   },
   {
    "duration": 40,
    "start_time": "2022-02-02T22:34:31.835Z"
   },
   {
    "duration": 17,
    "start_time": "2022-02-02T22:34:31.877Z"
   },
   {
    "duration": 34,
    "start_time": "2022-02-02T22:34:31.897Z"
   },
   {
    "duration": 11,
    "start_time": "2022-02-02T22:34:31.959Z"
   },
   {
    "duration": 22,
    "start_time": "2022-02-02T22:34:31.972Z"
   },
   {
    "duration": 8,
    "start_time": "2022-02-02T22:34:31.998Z"
   },
   {
    "duration": 9,
    "start_time": "2022-02-02T22:34:32.008Z"
   },
   {
    "duration": 66,
    "start_time": "2022-02-02T22:34:32.020Z"
   },
   {
    "duration": 13,
    "start_time": "2022-02-02T22:34:32.089Z"
   },
   {
    "duration": 27,
    "start_time": "2022-02-02T22:34:32.105Z"
   },
   {
    "duration": 17,
    "start_time": "2022-02-02T22:34:32.159Z"
   },
   {
    "duration": 5,
    "start_time": "2022-02-02T22:34:32.179Z"
   },
   {
    "duration": 22,
    "start_time": "2022-02-02T22:34:32.186Z"
   },
   {
    "duration": 7,
    "start_time": "2022-02-02T22:34:32.210Z"
   },
   {
    "duration": 45,
    "start_time": "2022-02-02T22:34:32.219Z"
   },
   {
    "duration": 19,
    "start_time": "2022-02-02T22:34:32.266Z"
   },
   {
    "duration": 16,
    "start_time": "2022-02-02T22:34:32.287Z"
   },
   {
    "duration": 10,
    "start_time": "2022-02-02T22:34:32.305Z"
   },
   {
    "duration": 11,
    "start_time": "2022-02-02T22:34:32.318Z"
   },
   {
    "duration": 10,
    "start_time": "2022-02-02T22:34:32.364Z"
   },
   {
    "duration": 9,
    "start_time": "2022-02-02T22:34:32.380Z"
   },
   {
    "duration": 6,
    "start_time": "2022-02-02T22:34:32.393Z"
   },
   {
    "duration": 10,
    "start_time": "2022-02-02T22:34:32.401Z"
   },
   {
    "duration": 54,
    "start_time": "2022-02-02T22:34:32.413Z"
   },
   {
    "duration": 22,
    "start_time": "2022-02-02T22:34:32.470Z"
   },
   {
    "duration": 3,
    "start_time": "2022-02-02T22:34:32.495Z"
   },
   {
    "duration": 22,
    "start_time": "2022-02-02T22:34:32.500Z"
   },
   {
    "duration": 39,
    "start_time": "2022-02-02T22:34:32.524Z"
   },
   {
    "duration": 11,
    "start_time": "2022-02-02T22:34:32.567Z"
   },
   {
    "duration": 21,
    "start_time": "2022-02-02T22:34:32.580Z"
   },
   {
    "duration": 20,
    "start_time": "2022-02-02T22:34:32.603Z"
   },
   {
    "duration": 44,
    "start_time": "2022-02-02T22:34:32.626Z"
   },
   {
    "duration": 25,
    "start_time": "2022-02-02T22:34:32.672Z"
   },
   {
    "duration": 23,
    "start_time": "2022-02-02T22:34:32.700Z"
   },
   {
    "duration": 54,
    "start_time": "2022-02-02T22:34:32.726Z"
   },
   {
    "duration": 21,
    "start_time": "2022-02-02T22:34:32.783Z"
   },
   {
    "duration": 5,
    "start_time": "2022-02-02T22:34:32.807Z"
   },
   {
    "duration": 47,
    "start_time": "2022-02-02T22:34:32.815Z"
   },
   {
    "duration": 5,
    "start_time": "2022-02-02T22:34:32.865Z"
   },
   {
    "duration": 47,
    "start_time": "2022-02-02T22:34:32.872Z"
   },
   {
    "duration": 4,
    "start_time": "2022-02-02T22:34:32.922Z"
   },
   {
    "duration": 31,
    "start_time": "2022-02-02T22:34:32.928Z"
   },
   {
    "duration": 23,
    "start_time": "2022-02-02T22:34:32.961Z"
   },
   {
    "duration": 13,
    "start_time": "2022-02-02T22:34:32.986Z"
   },
   {
    "duration": 32,
    "start_time": "2022-02-02T22:34:33.001Z"
   },
   {
    "duration": 20,
    "start_time": "2022-02-02T22:34:33.062Z"
   },
   {
    "duration": 78,
    "start_time": "2022-02-02T22:34:33.084Z"
   },
   {
    "duration": 31,
    "start_time": "2022-02-02T22:34:33.165Z"
   },
   {
    "duration": 5,
    "start_time": "2022-02-02T22:34:33.198Z"
   },
   {
    "duration": 11,
    "start_time": "2022-02-02T22:34:33.205Z"
   },
   {
    "duration": 43,
    "start_time": "2022-02-02T22:34:33.218Z"
   },
   {
    "duration": 18,
    "start_time": "2022-02-02T22:34:33.266Z"
   },
   {
    "duration": 7,
    "start_time": "2022-02-02T22:34:33.286Z"
   },
   {
    "duration": 14,
    "start_time": "2022-02-02T22:34:33.295Z"
   },
   {
    "duration": 3,
    "start_time": "2022-02-02T22:34:33.311Z"
   },
   {
    "duration": 76,
    "start_time": "2022-02-02T22:34:33.316Z"
   },
   {
    "duration": 3,
    "start_time": "2022-02-02T22:34:33.394Z"
   },
   {
    "duration": 5,
    "start_time": "2022-02-02T22:34:33.399Z"
   },
   {
    "duration": 65,
    "start_time": "2022-02-02T22:34:33.407Z"
   },
   {
    "duration": 38,
    "start_time": "2022-02-02T22:34:33.474Z"
   },
   {
    "duration": 14,
    "start_time": "2022-02-02T22:34:33.514Z"
   },
   {
    "duration": 39,
    "start_time": "2022-02-02T22:34:33.530Z"
   },
   {
    "duration": 3,
    "start_time": "2022-02-02T22:34:33.572Z"
   },
   {
    "duration": 6,
    "start_time": "2022-02-02T22:34:33.578Z"
   },
   {
    "duration": 19,
    "start_time": "2022-02-02T22:34:33.586Z"
   },
   {
    "duration": 6,
    "start_time": "2022-02-02T22:34:33.612Z"
   },
   {
    "duration": 6,
    "start_time": "2022-02-02T22:34:33.668Z"
   },
   {
    "duration": 5,
    "start_time": "2022-02-02T22:34:33.676Z"
   },
   {
    "duration": 14,
    "start_time": "2022-02-02T22:34:33.683Z"
   },
   {
    "duration": 6,
    "start_time": "2022-02-02T22:34:33.700Z"
   },
   {
    "duration": 55,
    "start_time": "2022-02-02T22:34:33.708Z"
   },
   {
    "duration": 3,
    "start_time": "2022-02-02T22:34:33.765Z"
   },
   {
    "duration": 9,
    "start_time": "2022-02-02T22:34:33.770Z"
   },
   {
    "duration": 8,
    "start_time": "2022-02-02T22:34:33.781Z"
   },
   {
    "duration": 12,
    "start_time": "2022-02-02T22:34:33.791Z"
   },
   {
    "duration": 415,
    "start_time": "2022-02-02T22:34:33.805Z"
   },
   {
    "duration": -74,
    "start_time": "2022-02-02T22:34:34.296Z"
   },
   {
    "duration": -76,
    "start_time": "2022-02-02T22:34:34.300Z"
   },
   {
    "duration": 54,
    "start_time": "2022-02-02T22:34:55.127Z"
   },
   {
    "duration": 12,
    "start_time": "2022-02-02T22:36:43.691Z"
   },
   {
    "duration": 10,
    "start_time": "2022-02-02T22:36:51.519Z"
   },
   {
    "duration": 10,
    "start_time": "2022-02-02T22:37:04.412Z"
   },
   {
    "duration": 12,
    "start_time": "2022-02-02T22:37:24.894Z"
   },
   {
    "duration": 4,
    "start_time": "2022-02-02T22:38:14.227Z"
   },
   {
    "duration": 5,
    "start_time": "2022-02-02T22:38:16.880Z"
   },
   {
    "duration": 14,
    "start_time": "2022-02-02T22:38:19.093Z"
   },
   {
    "duration": 36,
    "start_time": "2022-02-02T22:38:23.053Z"
   },
   {
    "duration": 468,
    "start_time": "2022-02-02T22:38:28.630Z"
   },
   {
    "duration": 387,
    "start_time": "2022-02-02T22:38:36.517Z"
   },
   {
    "duration": 35,
    "start_time": "2022-02-02T22:38:39.901Z"
   },
   {
    "duration": 401,
    "start_time": "2022-02-02T22:38:43.981Z"
   },
   {
    "duration": 63,
    "start_time": "2022-02-02T22:38:58.988Z"
   },
   {
    "duration": 14,
    "start_time": "2022-02-02T22:38:59.054Z"
   },
   {
    "duration": 26,
    "start_time": "2022-02-02T22:38:59.072Z"
   },
   {
    "duration": 73,
    "start_time": "2022-02-02T22:38:59.102Z"
   },
   {
    "duration": 34,
    "start_time": "2022-02-02T22:38:59.178Z"
   },
   {
    "duration": 10,
    "start_time": "2022-02-02T22:38:59.214Z"
   },
   {
    "duration": 19,
    "start_time": "2022-02-02T22:38:59.268Z"
   },
   {
    "duration": 8,
    "start_time": "2022-02-02T22:38:59.291Z"
   },
   {
    "duration": 11,
    "start_time": "2022-02-02T22:38:59.302Z"
   },
   {
    "duration": 54,
    "start_time": "2022-02-02T22:38:59.316Z"
   },
   {
    "duration": 15,
    "start_time": "2022-02-02T22:38:59.373Z"
   },
   {
    "duration": 29,
    "start_time": "2022-02-02T22:38:59.391Z"
   },
   {
    "duration": 10,
    "start_time": "2022-02-02T22:38:59.423Z"
   },
   {
    "duration": 9,
    "start_time": "2022-02-02T22:38:59.460Z"
   },
   {
    "duration": 19,
    "start_time": "2022-02-02T22:38:59.472Z"
   },
   {
    "duration": 10,
    "start_time": "2022-02-02T22:38:59.493Z"
   },
   {
    "duration": 10,
    "start_time": "2022-02-02T22:38:59.505Z"
   },
   {
    "duration": 59,
    "start_time": "2022-02-02T22:38:59.518Z"
   },
   {
    "duration": 12,
    "start_time": "2022-02-02T22:38:59.579Z"
   },
   {
    "duration": 10,
    "start_time": "2022-02-02T22:38:59.593Z"
   },
   {
    "duration": 5,
    "start_time": "2022-02-02T22:38:59.606Z"
   },
   {
    "duration": 8,
    "start_time": "2022-02-02T22:38:59.613Z"
   },
   {
    "duration": 11,
    "start_time": "2022-02-02T22:38:59.669Z"
   },
   {
    "duration": 7,
    "start_time": "2022-02-02T22:38:59.684Z"
   },
   {
    "duration": 9,
    "start_time": "2022-02-02T22:38:59.693Z"
   },
   {
    "duration": 8,
    "start_time": "2022-02-02T22:38:59.704Z"
   },
   {
    "duration": 54,
    "start_time": "2022-02-02T22:38:59.714Z"
   },
   {
    "duration": 6,
    "start_time": "2022-02-02T22:38:59.770Z"
   },
   {
    "duration": 21,
    "start_time": "2022-02-02T22:38:59.779Z"
   },
   {
    "duration": 9,
    "start_time": "2022-02-02T22:38:59.803Z"
   },
   {
    "duration": 45,
    "start_time": "2022-02-02T22:38:59.814Z"
   },
   {
    "duration": 26,
    "start_time": "2022-02-02T22:38:59.864Z"
   },
   {
    "duration": 21,
    "start_time": "2022-02-02T22:38:59.892Z"
   },
   {
    "duration": 3,
    "start_time": "2022-02-02T22:38:59.915Z"
   },
   {
    "duration": 63,
    "start_time": "2022-02-02T22:38:59.921Z"
   },
   {
    "duration": 21,
    "start_time": "2022-02-02T22:38:59.986Z"
   },
   {
    "duration": 25,
    "start_time": "2022-02-02T22:39:00.010Z"
   },
   {
    "duration": 51,
    "start_time": "2022-02-02T22:39:00.037Z"
   },
   {
    "duration": 4,
    "start_time": "2022-02-02T22:39:00.091Z"
   },
   {
    "duration": 12,
    "start_time": "2022-02-02T22:39:00.098Z"
   },
   {
    "duration": 10,
    "start_time": "2022-02-02T22:39:00.112Z"
   },
   {
    "duration": 75,
    "start_time": "2022-02-02T22:39:00.125Z"
   },
   {
    "duration": 5,
    "start_time": "2022-02-02T22:39:00.202Z"
   },
   {
    "duration": 22,
    "start_time": "2022-02-02T22:39:00.209Z"
   },
   {
    "duration": 42,
    "start_time": "2022-02-02T22:39:00.233Z"
   },
   {
    "duration": 12,
    "start_time": "2022-02-02T22:39:00.277Z"
   },
   {
    "duration": 45,
    "start_time": "2022-02-02T22:39:00.291Z"
   },
   {
    "duration": 3,
    "start_time": "2022-02-02T22:39:00.339Z"
   },
   {
    "duration": 94,
    "start_time": "2022-02-02T22:39:00.344Z"
   },
   {
    "duration": 38,
    "start_time": "2022-02-02T22:39:00.440Z"
   },
   {
    "duration": 5,
    "start_time": "2022-02-02T22:39:00.481Z"
   },
   {
    "duration": 17,
    "start_time": "2022-02-02T22:39:00.488Z"
   },
   {
    "duration": 19,
    "start_time": "2022-02-02T22:39:00.507Z"
   },
   {
    "duration": 23,
    "start_time": "2022-02-02T22:39:00.528Z"
   },
   {
    "duration": 26,
    "start_time": "2022-02-02T22:39:00.553Z"
   },
   {
    "duration": 17,
    "start_time": "2022-02-02T22:39:00.581Z"
   },
   {
    "duration": 3,
    "start_time": "2022-02-02T22:39:00.601Z"
   },
   {
    "duration": 41,
    "start_time": "2022-02-02T22:39:00.606Z"
   },
   {
    "duration": 14,
    "start_time": "2022-02-02T22:39:00.649Z"
   },
   {
    "duration": 17,
    "start_time": "2022-02-02T22:39:00.666Z"
   },
   {
    "duration": 32,
    "start_time": "2022-02-02T22:39:00.686Z"
   },
   {
    "duration": 64,
    "start_time": "2022-02-02T22:39:00.721Z"
   },
   {
    "duration": 16,
    "start_time": "2022-02-02T22:39:00.788Z"
   },
   {
    "duration": 12,
    "start_time": "2022-02-02T22:39:00.807Z"
   },
   {
    "duration": 3,
    "start_time": "2022-02-02T22:39:00.822Z"
   },
   {
    "duration": 40,
    "start_time": "2022-02-02T22:39:00.827Z"
   },
   {
    "duration": 25,
    "start_time": "2022-02-02T22:39:00.870Z"
   },
   {
    "duration": 7,
    "start_time": "2022-02-02T22:39:00.903Z"
   },
   {
    "duration": 4,
    "start_time": "2022-02-02T22:39:00.913Z"
   },
   {
    "duration": 8,
    "start_time": "2022-02-02T22:39:00.919Z"
   },
   {
    "duration": 46,
    "start_time": "2022-02-02T22:39:00.929Z"
   },
   {
    "duration": 7,
    "start_time": "2022-02-02T22:39:00.978Z"
   },
   {
    "duration": 32,
    "start_time": "2022-02-02T22:39:00.988Z"
   },
   {
    "duration": 3,
    "start_time": "2022-02-02T22:39:01.022Z"
   },
   {
    "duration": 9,
    "start_time": "2022-02-02T22:39:01.027Z"
   },
   {
    "duration": 24,
    "start_time": "2022-02-02T22:39:01.039Z"
   },
   {
    "duration": 28,
    "start_time": "2022-02-02T22:39:01.065Z"
   },
   {
    "duration": 406,
    "start_time": "2022-02-02T22:39:01.096Z"
   },
   {
    "duration": -157,
    "start_time": "2022-02-02T22:39:01.662Z"
   },
   {
    "duration": -160,
    "start_time": "2022-02-02T22:39:01.666Z"
   },
   {
    "duration": 386,
    "start_time": "2022-02-02T22:39:17.172Z"
   },
   {
    "duration": 376,
    "start_time": "2022-02-02T22:40:03.272Z"
   },
   {
    "duration": 7,
    "start_time": "2022-02-02T22:40:38.526Z"
   },
   {
    "duration": 424,
    "start_time": "2022-02-02T22:40:44.496Z"
   },
   {
    "duration": 14,
    "start_time": "2022-02-02T22:40:51.907Z"
   },
   {
    "duration": 357,
    "start_time": "2022-02-02T22:40:58.987Z"
   },
   {
    "duration": 407,
    "start_time": "2022-02-02T22:41:36.008Z"
   },
   {
    "duration": 7,
    "start_time": "2022-02-02T22:41:51.744Z"
   },
   {
    "duration": 10,
    "start_time": "2022-02-02T22:41:57.031Z"
   },
   {
    "duration": 21,
    "start_time": "2022-02-02T22:42:49.226Z"
   },
   {
    "duration": 20,
    "start_time": "2022-02-02T22:43:02.481Z"
   },
   {
    "duration": 76,
    "start_time": "2022-02-02T22:44:24.603Z"
   },
   {
    "duration": 59,
    "start_time": "2022-02-02T22:45:07.625Z"
   },
   {
    "duration": 31,
    "start_time": "2022-02-02T22:45:17.419Z"
   },
   {
    "duration": 128,
    "start_time": "2022-02-02T22:50:53.430Z"
   },
   {
    "duration": 33,
    "start_time": "2022-02-02T22:51:43.100Z"
   },
   {
    "duration": 6,
    "start_time": "2022-02-02T22:51:46.795Z"
   },
   {
    "duration": 5,
    "start_time": "2022-02-02T22:56:23.798Z"
   },
   {
    "duration": 9,
    "start_time": "2022-02-02T22:56:29.356Z"
   },
   {
    "duration": 388,
    "start_time": "2022-02-02T22:56:59.053Z"
   },
   {
    "duration": 39,
    "start_time": "2022-02-02T22:57:08.943Z"
   },
   {
    "duration": 1810,
    "start_time": "2022-02-02T22:57:17.621Z"
   },
   {
    "duration": 37,
    "start_time": "2022-02-02T22:58:33.652Z"
   },
   {
    "duration": 2022,
    "start_time": "2022-02-02T22:58:35.406Z"
   },
   {
    "duration": 35,
    "start_time": "2022-02-02T22:59:00.091Z"
   },
   {
    "duration": 1806,
    "start_time": "2022-02-02T22:59:01.801Z"
   },
   {
    "duration": 33,
    "start_time": "2022-02-02T23:01:02.872Z"
   },
   {
    "duration": 1742,
    "start_time": "2022-02-02T23:02:11.472Z"
   },
   {
    "duration": 9,
    "start_time": "2022-02-02T23:02:24.182Z"
   },
   {
    "duration": 1813,
    "start_time": "2022-02-02T23:03:09.483Z"
   },
   {
    "duration": 33,
    "start_time": "2022-02-02T23:03:32.073Z"
   },
   {
    "duration": 1954,
    "start_time": "2022-02-02T23:03:37.952Z"
   },
   {
    "duration": 36,
    "start_time": "2022-02-02T23:04:01.001Z"
   },
   {
    "duration": 10,
    "start_time": "2022-02-02T23:04:02.621Z"
   },
   {
    "duration": 452,
    "start_time": "2022-02-02T23:05:07.287Z"
   },
   {
    "duration": 13,
    "start_time": "2022-02-02T23:05:28.475Z"
   },
   {
    "duration": 140,
    "start_time": "2022-02-02T23:06:54.336Z"
   },
   {
    "duration": 396,
    "start_time": "2022-02-02T23:07:15.891Z"
   },
   {
    "duration": 416,
    "start_time": "2022-02-02T23:08:38.967Z"
   },
   {
    "duration": 118,
    "start_time": "2022-02-02T23:10:46.574Z"
   },
   {
    "duration": 142,
    "start_time": "2022-02-02T23:10:57.197Z"
   },
   {
    "duration": 152,
    "start_time": "2022-02-02T23:11:04.773Z"
   },
   {
    "duration": 33,
    "start_time": "2022-02-02T23:11:14.090Z"
   },
   {
    "duration": 422,
    "start_time": "2022-02-02T23:11:17.490Z"
   },
   {
    "duration": 379,
    "start_time": "2022-02-02T23:11:48.372Z"
   },
   {
    "duration": 1814,
    "start_time": "2022-02-02T23:11:56.511Z"
   },
   {
    "duration": 373,
    "start_time": "2022-02-02T23:12:26.524Z"
   },
   {
    "duration": 372,
    "start_time": "2022-02-02T23:12:32.772Z"
   },
   {
    "duration": 1845,
    "start_time": "2022-02-02T23:12:43.373Z"
   },
   {
    "duration": 14,
    "start_time": "2022-02-02T23:13:09.103Z"
   },
   {
    "duration": 38,
    "start_time": "2022-02-02T23:14:14.955Z"
   },
   {
    "duration": 16,
    "start_time": "2022-02-02T23:14:19.970Z"
   },
   {
    "duration": 17,
    "start_time": "2022-02-02T23:15:04.804Z"
   },
   {
    "duration": 22,
    "start_time": "2022-02-02T23:15:18.455Z"
   },
   {
    "duration": 5,
    "start_time": "2022-02-02T23:16:57.037Z"
   },
   {
    "duration": 16,
    "start_time": "2022-02-02T23:16:59.428Z"
   },
   {
    "duration": 9,
    "start_time": "2022-02-02T23:17:23.376Z"
   },
   {
    "duration": 18,
    "start_time": "2022-02-02T23:18:36.184Z"
   },
   {
    "duration": 8,
    "start_time": "2022-02-02T23:19:03.906Z"
   },
   {
    "duration": 5,
    "start_time": "2022-02-02T23:19:53.552Z"
   },
   {
    "duration": 8,
    "start_time": "2022-02-02T23:19:58.876Z"
   },
   {
    "duration": 16,
    "start_time": "2022-02-02T23:20:19.339Z"
   },
   {
    "duration": 16,
    "start_time": "2022-02-02T23:20:35.892Z"
   },
   {
    "duration": 766,
    "start_time": "2022-02-02T23:21:06.755Z"
   },
   {
    "duration": 858,
    "start_time": "2022-02-02T23:21:39.121Z"
   },
   {
    "duration": 6,
    "start_time": "2022-02-02T23:21:39.982Z"
   },
   {
    "duration": 42,
    "start_time": "2022-02-02T23:21:39.991Z"
   },
   {
    "duration": 39,
    "start_time": "2022-02-02T23:21:40.036Z"
   },
   {
    "duration": 38,
    "start_time": "2022-02-02T23:21:40.078Z"
   },
   {
    "duration": 9,
    "start_time": "2022-02-02T23:21:40.118Z"
   },
   {
    "duration": 42,
    "start_time": "2022-02-02T23:21:40.129Z"
   },
   {
    "duration": 13,
    "start_time": "2022-02-02T23:21:40.173Z"
   },
   {
    "duration": 10,
    "start_time": "2022-02-02T23:21:40.193Z"
   },
   {
    "duration": 20,
    "start_time": "2022-02-02T23:21:40.206Z"
   },
   {
    "duration": 50,
    "start_time": "2022-02-02T23:21:40.228Z"
   },
   {
    "duration": 32,
    "start_time": "2022-02-02T23:21:40.280Z"
   },
   {
    "duration": 8,
    "start_time": "2022-02-02T23:21:40.315Z"
   },
   {
    "duration": 7,
    "start_time": "2022-02-02T23:21:40.325Z"
   },
   {
    "duration": 45,
    "start_time": "2022-02-02T23:21:40.334Z"
   },
   {
    "duration": 8,
    "start_time": "2022-02-02T23:21:40.382Z"
   },
   {
    "duration": 10,
    "start_time": "2022-02-02T23:21:40.393Z"
   },
   {
    "duration": 13,
    "start_time": "2022-02-02T23:21:40.405Z"
   },
   {
    "duration": 20,
    "start_time": "2022-02-02T23:21:40.459Z"
   },
   {
    "duration": 13,
    "start_time": "2022-02-02T23:21:40.482Z"
   },
   {
    "duration": 6,
    "start_time": "2022-02-02T23:21:40.497Z"
   },
   {
    "duration": 17,
    "start_time": "2022-02-02T23:21:40.506Z"
   },
   {
    "duration": 47,
    "start_time": "2022-02-02T23:21:40.526Z"
   },
   {
    "duration": 6,
    "start_time": "2022-02-02T23:21:40.575Z"
   },
   {
    "duration": 12,
    "start_time": "2022-02-02T23:21:40.584Z"
   },
   {
    "duration": 10,
    "start_time": "2022-02-02T23:21:40.599Z"
   },
   {
    "duration": 67,
    "start_time": "2022-02-02T23:21:40.617Z"
   },
   {
    "duration": 3,
    "start_time": "2022-02-02T23:21:40.687Z"
   },
   {
    "duration": 20,
    "start_time": "2022-02-02T23:21:40.693Z"
   },
   {
    "duration": 43,
    "start_time": "2022-02-02T23:21:40.715Z"
   },
   {
    "duration": 10,
    "start_time": "2022-02-02T23:21:40.763Z"
   },
   {
    "duration": 22,
    "start_time": "2022-02-02T23:21:40.776Z"
   },
   {
    "duration": 22,
    "start_time": "2022-02-02T23:21:40.801Z"
   },
   {
    "duration": 43,
    "start_time": "2022-02-02T23:21:40.825Z"
   },
   {
    "duration": 24,
    "start_time": "2022-02-02T23:21:40.871Z"
   },
   {
    "duration": 19,
    "start_time": "2022-02-02T23:21:40.897Z"
   },
   {
    "duration": 48,
    "start_time": "2022-02-02T23:21:40.919Z"
   },
   {
    "duration": 22,
    "start_time": "2022-02-02T23:21:40.969Z"
   },
   {
    "duration": 4,
    "start_time": "2022-02-02T23:21:40.993Z"
   },
   {
    "duration": 9,
    "start_time": "2022-02-02T23:21:40.999Z"
   },
   {
    "duration": 5,
    "start_time": "2022-02-02T23:21:41.011Z"
   },
   {
    "duration": 88,
    "start_time": "2022-02-02T23:21:41.018Z"
   },
   {
    "duration": 4,
    "start_time": "2022-02-02T23:21:41.109Z"
   },
   {
    "duration": 7,
    "start_time": "2022-02-02T23:21:41.116Z"
   },
   {
    "duration": 40,
    "start_time": "2022-02-02T23:21:41.125Z"
   },
   {
    "duration": 18,
    "start_time": "2022-02-02T23:21:41.168Z"
   },
   {
    "duration": 36,
    "start_time": "2022-02-02T23:21:41.189Z"
   },
   {
    "duration": 49,
    "start_time": "2022-02-02T23:21:41.227Z"
   },
   {
    "duration": 93,
    "start_time": "2022-02-02T23:21:41.279Z"
   },
   {
    "duration": 6,
    "start_time": "2022-02-02T23:21:41.374Z"
   },
   {
    "duration": 35,
    "start_time": "2022-02-02T23:21:45.030Z"
   },
   {
    "duration": 488,
    "start_time": "2022-02-02T23:25:27.391Z"
   },
   {
    "duration": 410,
    "start_time": "2022-02-02T23:26:32.874Z"
   },
   {
    "duration": 5130,
    "start_time": "2022-02-02T23:27:02.713Z"
   },
   {
    "duration": 5608,
    "start_time": "2022-02-02T23:27:09.073Z"
   },
   {
    "duration": 3,
    "start_time": "2022-02-02T23:30:26.978Z"
   },
   {
    "duration": 5726,
    "start_time": "2022-02-02T23:30:36.891Z"
   },
   {
    "duration": 197217,
    "start_time": "2022-02-02T23:31:26.937Z"
   },
   {
    "duration": 384,
    "start_time": "2022-02-02T23:37:02.512Z"
   },
   {
    "duration": 379,
    "start_time": "2022-02-02T23:37:14.517Z"
   },
   {
    "duration": 9,
    "start_time": "2022-02-02T23:37:40.171Z"
   },
   {
    "duration": 988,
    "start_time": "2022-02-02T23:38:36.329Z"
   },
   {
    "duration": 533,
    "start_time": "2022-02-02T23:40:19.212Z"
   },
   {
    "duration": 835,
    "start_time": "2022-02-02T23:40:26.061Z"
   },
   {
    "duration": 1441,
    "start_time": "2022-02-02T23:41:25.960Z"
   },
   {
    "duration": 1441,
    "start_time": "2022-02-02T23:41:56.639Z"
   },
   {
    "duration": 1413,
    "start_time": "2022-02-02T23:42:22.087Z"
   },
   {
    "duration": 847,
    "start_time": "2022-02-02T23:42:48.945Z"
   },
   {
    "duration": 4,
    "start_time": "2022-02-02T23:42:49.795Z"
   },
   {
    "duration": 30,
    "start_time": "2022-02-02T23:42:49.802Z"
   },
   {
    "duration": 43,
    "start_time": "2022-02-02T23:42:49.835Z"
   },
   {
    "duration": 29,
    "start_time": "2022-02-02T23:42:49.881Z"
   },
   {
    "duration": 9,
    "start_time": "2022-02-02T23:42:49.912Z"
   },
   {
    "duration": 48,
    "start_time": "2022-02-02T23:42:49.923Z"
   },
   {
    "duration": 8,
    "start_time": "2022-02-02T23:42:49.979Z"
   },
   {
    "duration": 12,
    "start_time": "2022-02-02T23:42:49.991Z"
   },
   {
    "duration": 67,
    "start_time": "2022-02-02T23:42:50.005Z"
   },
   {
    "duration": 15,
    "start_time": "2022-02-02T23:42:50.075Z"
   },
   {
    "duration": 30,
    "start_time": "2022-02-02T23:42:50.092Z"
   },
   {
    "duration": 9,
    "start_time": "2022-02-02T23:42:50.124Z"
   },
   {
    "duration": 28,
    "start_time": "2022-02-02T23:42:50.135Z"
   },
   {
    "duration": 23,
    "start_time": "2022-02-02T23:42:50.165Z"
   },
   {
    "duration": 10,
    "start_time": "2022-02-02T23:42:50.191Z"
   },
   {
    "duration": 11,
    "start_time": "2022-02-02T23:42:50.204Z"
   },
   {
    "duration": 49,
    "start_time": "2022-02-02T23:42:50.218Z"
   },
   {
    "duration": 17,
    "start_time": "2022-02-02T23:42:50.272Z"
   },
   {
    "duration": 9,
    "start_time": "2022-02-02T23:42:50.291Z"
   },
   {
    "duration": 5,
    "start_time": "2022-02-02T23:42:50.303Z"
   },
   {
    "duration": 9,
    "start_time": "2022-02-02T23:42:50.310Z"
   },
   {
    "duration": 11,
    "start_time": "2022-02-02T23:42:50.369Z"
   },
   {
    "duration": 6,
    "start_time": "2022-02-02T23:42:50.383Z"
   },
   {
    "duration": 11,
    "start_time": "2022-02-02T23:42:50.392Z"
   },
   {
    "duration": 12,
    "start_time": "2022-02-02T23:42:50.405Z"
   },
   {
    "duration": 68,
    "start_time": "2022-02-02T23:42:50.419Z"
   },
   {
    "duration": 3,
    "start_time": "2022-02-02T23:42:50.490Z"
   },
   {
    "duration": 24,
    "start_time": "2022-02-02T23:42:50.495Z"
   },
   {
    "duration": 9,
    "start_time": "2022-02-02T23:42:50.522Z"
   },
   {
    "duration": 10,
    "start_time": "2022-02-02T23:42:50.560Z"
   },
   {
    "duration": 23,
    "start_time": "2022-02-02T23:42:50.572Z"
   },
   {
    "duration": 20,
    "start_time": "2022-02-02T23:42:50.597Z"
   },
   {
    "duration": 3,
    "start_time": "2022-02-02T23:42:50.619Z"
   },
   {
    "duration": 26,
    "start_time": "2022-02-02T23:42:50.659Z"
   },
   {
    "duration": 26,
    "start_time": "2022-02-02T23:42:50.687Z"
   },
   {
    "duration": 55,
    "start_time": "2022-02-02T23:42:50.716Z"
   },
   {
    "duration": 29,
    "start_time": "2022-02-02T23:42:50.773Z"
   },
   {
    "duration": 4,
    "start_time": "2022-02-02T23:42:50.804Z"
   },
   {
    "duration": 6,
    "start_time": "2022-02-02T23:42:50.810Z"
   },
   {
    "duration": 7,
    "start_time": "2022-02-02T23:42:50.818Z"
   },
   {
    "duration": 84,
    "start_time": "2022-02-02T23:42:50.827Z"
   },
   {
    "duration": 4,
    "start_time": "2022-02-02T23:42:50.913Z"
   },
   {
    "duration": 6,
    "start_time": "2022-02-02T23:42:50.920Z"
   },
   {
    "duration": 43,
    "start_time": "2022-02-02T23:42:50.928Z"
   },
   {
    "duration": 12,
    "start_time": "2022-02-02T23:42:50.974Z"
   },
   {
    "duration": 35,
    "start_time": "2022-02-02T23:42:50.989Z"
   },
   {
    "duration": 59,
    "start_time": "2022-02-02T23:42:51.027Z"
   },
   {
    "duration": 83,
    "start_time": "2022-02-02T23:42:51.088Z"
   },
   {
    "duration": 5,
    "start_time": "2022-02-02T23:42:51.177Z"
   },
   {
    "duration": 6,
    "start_time": "2022-02-02T23:43:03.623Z"
   },
   {
    "duration": 1568,
    "start_time": "2022-02-02T23:43:05.454Z"
   },
   {
    "duration": 93,
    "start_time": "2022-02-02T23:46:02.928Z"
   },
   {
    "duration": 4,
    "start_time": "2022-02-02T23:46:03.025Z"
   },
   {
    "duration": 21,
    "start_time": "2022-02-02T23:46:03.032Z"
   },
   {
    "duration": 31,
    "start_time": "2022-02-02T23:46:03.081Z"
   },
   {
    "duration": 8,
    "start_time": "2022-02-02T23:46:03.115Z"
   },
   {
    "duration": 21,
    "start_time": "2022-02-02T23:46:03.160Z"
   },
   {
    "duration": 8,
    "start_time": "2022-02-02T23:46:03.184Z"
   },
   {
    "duration": 12,
    "start_time": "2022-02-02T23:46:03.194Z"
   },
   {
    "duration": 63,
    "start_time": "2022-02-02T23:46:03.208Z"
   },
   {
    "duration": 15,
    "start_time": "2022-02-02T23:46:03.274Z"
   },
   {
    "duration": 29,
    "start_time": "2022-02-02T23:46:03.292Z"
   },
   {
    "duration": 45,
    "start_time": "2022-02-02T23:46:03.324Z"
   },
   {
    "duration": 13,
    "start_time": "2022-02-02T23:46:03.372Z"
   },
   {
    "duration": 17,
    "start_time": "2022-02-02T23:46:03.388Z"
   },
   {
    "duration": 8,
    "start_time": "2022-02-02T23:46:03.407Z"
   },
   {
    "duration": 10,
    "start_time": "2022-02-02T23:46:03.419Z"
   },
   {
    "duration": 19,
    "start_time": "2022-02-02T23:46:03.460Z"
   },
   {
    "duration": 9,
    "start_time": "2022-02-02T23:46:03.481Z"
   },
   {
    "duration": 18,
    "start_time": "2022-02-02T23:46:03.492Z"
   },
   {
    "duration": 4,
    "start_time": "2022-02-02T23:46:20.473Z"
   },
   {
    "duration": 5,
    "start_time": "2022-02-02T23:46:21.291Z"
   },
   {
    "duration": 12,
    "start_time": "2022-02-02T23:46:23.838Z"
   },
   {
    "duration": 385,
    "start_time": "2022-02-02T23:46:26.639Z"
   },
   {
    "duration": 25,
    "start_time": "2022-02-02T23:46:35.619Z"
   },
   {
    "duration": 66,
    "start_time": "2022-02-02T23:46:40.108Z"
   },
   {
    "duration": 5,
    "start_time": "2022-02-02T23:46:40.177Z"
   },
   {
    "duration": 22,
    "start_time": "2022-02-02T23:46:40.185Z"
   },
   {
    "duration": 61,
    "start_time": "2022-02-02T23:46:40.210Z"
   },
   {
    "duration": 33,
    "start_time": "2022-02-02T23:46:40.274Z"
   },
   {
    "duration": 9,
    "start_time": "2022-02-02T23:46:40.309Z"
   },
   {
    "duration": 24,
    "start_time": "2022-02-02T23:46:40.359Z"
   },
   {
    "duration": 7,
    "start_time": "2022-02-02T23:46:40.385Z"
   },
   {
    "duration": 9,
    "start_time": "2022-02-02T23:46:40.396Z"
   },
   {
    "duration": 54,
    "start_time": "2022-02-02T23:46:40.408Z"
   },
   {
    "duration": 17,
    "start_time": "2022-02-02T23:46:40.464Z"
   },
   {
    "duration": 28,
    "start_time": "2022-02-02T23:46:40.484Z"
   },
   {
    "duration": 11,
    "start_time": "2022-02-02T23:46:40.515Z"
   },
   {
    "duration": 10,
    "start_time": "2022-02-02T23:46:40.564Z"
   },
   {
    "duration": 17,
    "start_time": "2022-02-02T23:46:40.576Z"
   },
   {
    "duration": 8,
    "start_time": "2022-02-02T23:46:40.595Z"
   },
   {
    "duration": 9,
    "start_time": "2022-02-02T23:46:40.605Z"
   },
   {
    "duration": 52,
    "start_time": "2022-02-02T23:46:40.617Z"
   },
   {
    "duration": 13,
    "start_time": "2022-02-02T23:46:40.671Z"
   },
   {
    "duration": 11,
    "start_time": "2022-02-02T23:46:40.687Z"
   },
   {
    "duration": 5,
    "start_time": "2022-02-02T23:46:40.701Z"
   },
   {
    "duration": 58,
    "start_time": "2022-02-02T23:46:40.709Z"
   },
   {
    "duration": 10,
    "start_time": "2022-02-02T23:46:40.770Z"
   },
   {
    "duration": 6,
    "start_time": "2022-02-02T23:46:40.783Z"
   },
   {
    "duration": 12,
    "start_time": "2022-02-02T23:46:40.792Z"
   },
   {
    "duration": 10,
    "start_time": "2022-02-02T23:46:40.806Z"
   },
   {
    "duration": 22,
    "start_time": "2022-02-02T23:46:40.874Z"
   },
   {
    "duration": 3,
    "start_time": "2022-02-02T23:46:40.901Z"
   },
   {
    "duration": 22,
    "start_time": "2022-02-02T23:46:40.907Z"
   },
   {
    "duration": 40,
    "start_time": "2022-02-02T23:46:40.932Z"
   },
   {
    "duration": 11,
    "start_time": "2022-02-02T23:46:40.975Z"
   },
   {
    "duration": 21,
    "start_time": "2022-02-02T23:46:40.988Z"
   },
   {
    "duration": 65,
    "start_time": "2022-02-02T23:46:41.011Z"
   },
   {
    "duration": 3,
    "start_time": "2022-02-02T23:46:41.078Z"
   },
   {
    "duration": 26,
    "start_time": "2022-02-02T23:46:41.084Z"
   },
   {
    "duration": 22,
    "start_time": "2022-02-02T23:46:41.112Z"
   },
   {
    "duration": 30,
    "start_time": "2022-02-02T23:46:41.160Z"
   },
   {
    "duration": 21,
    "start_time": "2022-02-02T23:46:41.192Z"
   },
   {
    "duration": 4,
    "start_time": "2022-02-02T23:46:41.215Z"
   },
   {
    "duration": 39,
    "start_time": "2022-02-02T23:46:41.222Z"
   },
   {
    "duration": 7,
    "start_time": "2022-02-02T23:46:41.264Z"
   },
   {
    "duration": 48,
    "start_time": "2022-02-02T23:46:41.274Z"
   },
   {
    "duration": 5,
    "start_time": "2022-02-02T23:46:41.324Z"
   },
   {
    "duration": 31,
    "start_time": "2022-02-02T23:46:41.331Z"
   },
   {
    "duration": 25,
    "start_time": "2022-02-02T23:46:41.365Z"
   },
   {
    "duration": 11,
    "start_time": "2022-02-02T23:46:41.392Z"
   },
   {
    "duration": 31,
    "start_time": "2022-02-02T23:46:41.406Z"
   },
   {
    "duration": 29,
    "start_time": "2022-02-02T23:46:41.460Z"
   },
   {
    "duration": 83,
    "start_time": "2022-02-02T23:46:41.492Z"
   },
   {
    "duration": 6,
    "start_time": "2022-02-02T23:46:41.577Z"
   },
   {
    "duration": 1455,
    "start_time": "2022-02-02T23:46:41.585Z"
   },
   {
    "duration": -212,
    "start_time": "2022-02-02T23:46:43.254Z"
   },
   {
    "duration": -214,
    "start_time": "2022-02-02T23:46:43.258Z"
   },
   {
    "duration": -217,
    "start_time": "2022-02-02T23:46:43.262Z"
   },
   {
    "duration": -220,
    "start_time": "2022-02-02T23:46:43.266Z"
   },
   {
    "duration": -222,
    "start_time": "2022-02-02T23:46:43.270Z"
   },
   {
    "duration": -224,
    "start_time": "2022-02-02T23:46:43.273Z"
   },
   {
    "duration": -227,
    "start_time": "2022-02-02T23:46:43.277Z"
   },
   {
    "duration": -228,
    "start_time": "2022-02-02T23:46:43.280Z"
   },
   {
    "duration": -231,
    "start_time": "2022-02-02T23:46:43.284Z"
   },
   {
    "duration": -234,
    "start_time": "2022-02-02T23:46:43.288Z"
   },
   {
    "duration": -236,
    "start_time": "2022-02-02T23:46:43.291Z"
   },
   {
    "duration": -238,
    "start_time": "2022-02-02T23:46:43.295Z"
   },
   {
    "duration": -240,
    "start_time": "2022-02-02T23:46:43.298Z"
   },
   {
    "duration": -242,
    "start_time": "2022-02-02T23:46:43.302Z"
   },
   {
    "duration": -242,
    "start_time": "2022-02-02T23:46:43.305Z"
   },
   {
    "duration": -244,
    "start_time": "2022-02-02T23:46:43.309Z"
   },
   {
    "duration": -245,
    "start_time": "2022-02-02T23:46:43.312Z"
   },
   {
    "duration": -332,
    "start_time": "2022-02-02T23:46:43.403Z"
   },
   {
    "duration": -375,
    "start_time": "2022-02-02T23:46:43.448Z"
   },
   {
    "duration": -374,
    "start_time": "2022-02-02T23:46:43.451Z"
   },
   {
    "duration": -375,
    "start_time": "2022-02-02T23:46:43.454Z"
   },
   {
    "duration": -377,
    "start_time": "2022-02-02T23:46:43.457Z"
   },
   {
    "duration": -378,
    "start_time": "2022-02-02T23:46:43.460Z"
   },
   {
    "duration": -379,
    "start_time": "2022-02-02T23:46:43.463Z"
   },
   {
    "duration": -380,
    "start_time": "2022-02-02T23:46:43.466Z"
   },
   {
    "duration": -382,
    "start_time": "2022-02-02T23:46:43.469Z"
   },
   {
    "duration": -383,
    "start_time": "2022-02-02T23:46:43.472Z"
   },
   {
    "duration": -385,
    "start_time": "2022-02-02T23:46:43.475Z"
   },
   {
    "duration": -386,
    "start_time": "2022-02-02T23:46:43.477Z"
   },
   {
    "duration": 6,
    "start_time": "2022-02-02T23:47:04.045Z"
   },
   {
    "duration": 59,
    "start_time": "2022-02-02T23:50:08.484Z"
   },
   {
    "duration": 5,
    "start_time": "2022-02-02T23:50:13.043Z"
   },
   {
    "duration": 21,
    "start_time": "2022-02-02T23:50:15.495Z"
   },
   {
    "duration": 15,
    "start_time": "2022-02-02T23:50:19.974Z"
   },
   {
    "duration": 44,
    "start_time": "2022-02-02T23:50:22.132Z"
   },
   {
    "duration": 9,
    "start_time": "2022-02-02T23:50:24.340Z"
   },
   {
    "duration": 18,
    "start_time": "2022-02-02T23:50:27.481Z"
   },
   {
    "duration": 8,
    "start_time": "2022-02-02T23:50:30.216Z"
   },
   {
    "duration": 9,
    "start_time": "2022-02-02T23:50:32.189Z"
   },
   {
    "duration": 14,
    "start_time": "2022-02-02T23:50:35.799Z"
   },
   {
    "duration": 11,
    "start_time": "2022-02-02T23:50:39.558Z"
   },
   {
    "duration": 26,
    "start_time": "2022-02-02T23:50:41.873Z"
   },
   {
    "duration": 5,
    "start_time": "2022-02-02T23:50:44.827Z"
   },
   {
    "duration": 17,
    "start_time": "2022-02-02T23:50:46.640Z"
   },
   {
    "duration": 8,
    "start_time": "2022-02-02T23:50:51.108Z"
   },
   {
    "duration": 11,
    "start_time": "2022-02-02T23:50:53.340Z"
   },
   {
    "duration": 12,
    "start_time": "2022-02-02T23:50:55.502Z"
   },
   {
    "duration": 10,
    "start_time": "2022-02-02T23:50:58.276Z"
   },
   {
    "duration": 11,
    "start_time": "2022-02-02T23:51:02.387Z"
   },
   {
    "duration": 5,
    "start_time": "2022-02-02T23:51:28.623Z"
   },
   {
    "duration": 8,
    "start_time": "2022-02-02T23:51:30.875Z"
   },
   {
    "duration": 10,
    "start_time": "2022-02-02T23:51:33.875Z"
   },
   {
    "duration": 7,
    "start_time": "2022-02-02T23:51:36.380Z"
   },
   {
    "duration": 10,
    "start_time": "2022-02-02T23:51:38.218Z"
   },
   {
    "duration": 9,
    "start_time": "2022-02-02T23:51:40.392Z"
   },
   {
    "duration": 20,
    "start_time": "2022-02-02T23:51:42.476Z"
   },
   {
    "duration": 3,
    "start_time": "2022-02-02T23:51:44.548Z"
   },
   {
    "duration": 20,
    "start_time": "2022-02-02T23:51:46.686Z"
   },
   {
    "duration": 9,
    "start_time": "2022-02-02T23:51:49.311Z"
   },
   {
    "duration": 13,
    "start_time": "2022-02-02T23:51:52.359Z"
   },
   {
    "duration": 21,
    "start_time": "2022-02-02T23:51:53.026Z"
   },
   {
    "duration": 23,
    "start_time": "2022-02-02T23:51:54.766Z"
   },
   {
    "duration": 3,
    "start_time": "2022-02-02T23:51:57.101Z"
   },
   {
    "duration": 21,
    "start_time": "2022-02-02T23:51:58.685Z"
   },
   {
    "duration": 21,
    "start_time": "2022-02-02T23:52:02.599Z"
   },
   {
    "duration": 24,
    "start_time": "2022-02-02T23:52:03.875Z"
   },
   {
    "duration": 27,
    "start_time": "2022-02-02T23:52:04.445Z"
   },
   {
    "duration": 4,
    "start_time": "2022-02-02T23:52:07.004Z"
   },
   {
    "duration": 5,
    "start_time": "2022-02-02T23:52:07.624Z"
   },
   {
    "duration": 51,
    "start_time": "2022-02-02T23:52:12.807Z"
   },
   {
    "duration": 5,
    "start_time": "2022-02-02T23:52:20.491Z"
   },
   {
    "duration": 5,
    "start_time": "2022-02-02T23:52:21.141Z"
   },
   {
    "duration": 15,
    "start_time": "2022-02-02T23:52:23.372Z"
   },
   {
    "duration": 13,
    "start_time": "2022-02-02T23:52:26.063Z"
   },
   {
    "duration": 37,
    "start_time": "2022-02-02T23:52:31.355Z"
   },
   {
    "duration": 28,
    "start_time": "2022-02-02T23:52:32.072Z"
   },
   {
    "duration": 60,
    "start_time": "2022-02-02T23:52:38.483Z"
   },
   {
    "duration": 5,
    "start_time": "2022-02-02T23:52:45.609Z"
   },
   {
    "duration": 5,
    "start_time": "2022-02-02T23:52:47.107Z"
   },
   {
    "duration": 99985,
    "start_time": "2022-02-02T23:52:54.338Z"
   },
   {
    "duration": 6,
    "start_time": "2022-02-02T23:56:35.397Z"
   },
   {
    "duration": 45,
    "start_time": "2022-02-02T23:56:54.009Z"
   },
   {
    "duration": 5,
    "start_time": "2022-02-02T23:57:03.939Z"
   },
   {
    "duration": 4,
    "start_time": "2022-02-02T23:57:04.391Z"
   },
   {
    "duration": 19,
    "start_time": "2022-02-02T23:57:05.356Z"
   },
   {
    "duration": 31,
    "start_time": "2022-02-02T23:58:08.740Z"
   },
   {
    "duration": 5,
    "start_time": "2022-02-03T00:01:21.880Z"
   },
   {
    "duration": 1546,
    "start_time": "2022-02-03T00:01:30.372Z"
   },
   {
    "duration": 5,
    "start_time": "2022-02-03T00:01:50.008Z"
   },
   {
    "duration": 1489,
    "start_time": "2022-02-03T00:01:52.396Z"
   },
   {
    "duration": 1469,
    "start_time": "2022-02-03T00:02:27.773Z"
   },
   {
    "duration": 7,
    "start_time": "2022-02-03T00:02:59.579Z"
   },
   {
    "duration": 10776,
    "start_time": "2022-02-03T00:03:02.137Z"
   },
   {
    "duration": 1854,
    "start_time": "2022-02-03T00:04:46.441Z"
   },
   {
    "duration": 1434,
    "start_time": "2022-02-03T00:05:10.306Z"
   },
   {
    "duration": 3,
    "start_time": "2022-02-03T00:06:03.214Z"
   },
   {
    "duration": 5,
    "start_time": "2022-02-03T00:06:15.404Z"
   },
   {
    "duration": 124,
    "start_time": "2022-02-03T00:08:18.498Z"
   },
   {
    "duration": 156468,
    "start_time": "2022-02-03T00:08:30.080Z"
   },
   {
    "duration": 41,
    "start_time": "2022-02-03T00:12:30.345Z"
   },
   {
    "duration": 15674,
    "start_time": "2022-02-03T00:15:49.472Z"
   },
   {
    "duration": 32,
    "start_time": "2022-02-03T00:16:13.298Z"
   },
   {
    "duration": 6,
    "start_time": "2022-02-03T00:19:24.260Z"
   },
   {
    "duration": 3,
    "start_time": "2022-02-03T00:19:24.806Z"
   },
   {
    "duration": 15169,
    "start_time": "2022-02-03T00:19:25.362Z"
   },
   {
    "duration": 32,
    "start_time": "2022-02-03T00:19:43.874Z"
   },
   {
    "duration": 5,
    "start_time": "2022-02-03T00:20:06.113Z"
   },
   {
    "duration": 6,
    "start_time": "2022-02-03T00:20:08.190Z"
   },
   {
    "duration": 14,
    "start_time": "2022-02-03T00:20:10.425Z"
   },
   {
    "duration": 29,
    "start_time": "2022-02-03T00:20:13.696Z"
   },
   {
    "duration": 37,
    "start_time": "2022-02-03T00:20:16.636Z"
   },
   {
    "duration": 24470,
    "start_time": "2022-02-03T00:20:55.452Z"
   },
   {
    "duration": 29,
    "start_time": "2022-02-03T00:22:58.879Z"
   },
   {
    "duration": 1513,
    "start_time": "2022-02-03T00:24:16.453Z"
   },
   {
    "duration": 1476,
    "start_time": "2022-02-03T00:24:42.689Z"
   },
   {
    "duration": 10,
    "start_time": "2022-02-03T00:24:56.784Z"
   },
   {
    "duration": 774,
    "start_time": "2022-02-03T00:27:59.036Z"
   },
   {
    "duration": 1452,
    "start_time": "2022-02-03T00:28:24.756Z"
   },
   {
    "duration": 752,
    "start_time": "2022-02-03T00:29:20.716Z"
   },
   {
    "duration": 16,
    "start_time": "2022-02-03T00:29:43.372Z"
   },
   {
    "duration": 35,
    "start_time": "2022-02-03T00:29:47.673Z"
   },
   {
    "duration": 18,
    "start_time": "2022-02-03T00:29:55.839Z"
   },
   {
    "duration": 33,
    "start_time": "2022-02-03T00:32:28.192Z"
   },
   {
    "duration": 157545,
    "start_time": "2022-02-03T00:32:50.698Z"
   },
   {
    "duration": 16343,
    "start_time": "2022-02-03T00:35:34.056Z"
   },
   {
    "duration": 101,
    "start_time": "2022-02-03T00:39:04.372Z"
   },
   {
    "duration": 86,
    "start_time": "2022-02-03T00:40:46.043Z"
   },
   {
    "duration": 84,
    "start_time": "2022-02-03T00:40:59.948Z"
   },
   {
    "duration": 99,
    "start_time": "2022-02-03T00:41:05.163Z"
   },
   {
    "duration": 93,
    "start_time": "2022-02-03T00:41:33.549Z"
   },
   {
    "duration": 91,
    "start_time": "2022-02-03T00:42:14.117Z"
   },
   {
    "duration": 95,
    "start_time": "2022-02-03T00:42:28.532Z"
   },
   {
    "duration": 5,
    "start_time": "2022-02-03T00:42:42.461Z"
   },
   {
    "duration": 32,
    "start_time": "2022-02-03T00:42:44.221Z"
   },
   {
    "duration": 41,
    "start_time": "2022-02-03T00:42:47.072Z"
   },
   {
    "duration": 14,
    "start_time": "2022-02-03T00:42:50.983Z"
   },
   {
    "duration": 11,
    "start_time": "2022-02-03T00:42:53.376Z"
   },
   {
    "duration": 9,
    "start_time": "2022-02-03T00:43:18.955Z"
   },
   {
    "duration": 23,
    "start_time": "2022-02-03T00:44:02.917Z"
   },
   {
    "duration": 21,
    "start_time": "2022-02-03T00:45:13.150Z"
   },
   {
    "duration": 17,
    "start_time": "2022-02-03T00:46:01.821Z"
   },
   {
    "duration": 16,
    "start_time": "2022-02-03T00:46:15.975Z"
   },
   {
    "duration": 21,
    "start_time": "2022-02-03T00:46:35.820Z"
   },
   {
    "duration": 22,
    "start_time": "2022-02-03T00:46:45.179Z"
   },
   {
    "duration": 4,
    "start_time": "2022-02-03T00:51:33.350Z"
   },
   {
    "duration": 784,
    "start_time": "2022-02-03T00:51:35.596Z"
   },
   {
    "duration": 34,
    "start_time": "2022-02-03T00:51:38.855Z"
   },
   {
    "duration": 30,
    "start_time": "2022-02-03T00:53:03.460Z"
   },
   {
    "duration": 25,
    "start_time": "2022-02-03T00:53:12.376Z"
   },
   {
    "duration": 7,
    "start_time": "2022-02-03T00:53:21.835Z"
   },
   {
    "duration": 5,
    "start_time": "2022-02-03T00:54:43.672Z"
   },
   {
    "duration": 21,
    "start_time": "2022-02-03T00:54:46.961Z"
   },
   {
    "duration": 22,
    "start_time": "2022-02-03T00:54:49.016Z"
   },
   {
    "duration": 18,
    "start_time": "2022-02-03T00:54:51.525Z"
   },
   {
    "duration": 7,
    "start_time": "2022-02-03T00:54:53.972Z"
   },
   {
    "duration": 21,
    "start_time": "2022-02-03T00:54:57.073Z"
   },
   {
    "duration": 24,
    "start_time": "2022-02-03T00:55:00.164Z"
   },
   {
    "duration": 20,
    "start_time": "2022-02-03T00:55:02.967Z"
   },
   {
    "duration": 8,
    "start_time": "2022-02-03T00:55:06.659Z"
   },
   {
    "duration": 4,
    "start_time": "2022-02-03T00:55:35.528Z"
   },
   {
    "duration": 21,
    "start_time": "2022-02-03T00:55:37.922Z"
   },
   {
    "duration": 26,
    "start_time": "2022-02-03T00:55:41.850Z"
   },
   {
    "duration": 20,
    "start_time": "2022-02-03T00:55:43.879Z"
   },
   {
    "duration": 7,
    "start_time": "2022-02-03T00:55:46.078Z"
   },
   {
    "duration": 826,
    "start_time": "2022-02-03T00:56:44.189Z"
   },
   {
    "duration": 5,
    "start_time": "2022-02-03T00:56:45.017Z"
   },
   {
    "duration": 43,
    "start_time": "2022-02-03T00:56:45.025Z"
   },
   {
    "duration": 24,
    "start_time": "2022-02-03T00:56:45.071Z"
   },
   {
    "duration": 34,
    "start_time": "2022-02-03T00:56:45.097Z"
   },
   {
    "duration": 36,
    "start_time": "2022-02-03T00:56:45.134Z"
   },
   {
    "duration": 16,
    "start_time": "2022-02-03T00:56:45.173Z"
   },
   {
    "duration": 8,
    "start_time": "2022-02-03T00:56:45.192Z"
   },
   {
    "duration": 11,
    "start_time": "2022-02-03T00:56:45.202Z"
   },
   {
    "duration": 51,
    "start_time": "2022-02-03T00:56:45.216Z"
   },
   {
    "duration": 15,
    "start_time": "2022-02-03T00:56:45.270Z"
   },
   {
    "duration": 28,
    "start_time": "2022-02-03T00:56:45.287Z"
   },
   {
    "duration": 9,
    "start_time": "2022-02-03T00:56:45.318Z"
   },
   {
    "duration": 5,
    "start_time": "2022-02-03T00:56:45.329Z"
   },
   {
    "duration": 18,
    "start_time": "2022-02-03T00:56:45.365Z"
   },
   {
    "duration": 7,
    "start_time": "2022-02-03T00:56:45.385Z"
   },
   {
    "duration": 9,
    "start_time": "2022-02-03T00:56:45.394Z"
   },
   {
    "duration": 11,
    "start_time": "2022-02-03T00:56:45.406Z"
   },
   {
    "duration": 61,
    "start_time": "2022-02-03T00:56:45.419Z"
   },
   {
    "duration": 10,
    "start_time": "2022-02-03T00:56:45.483Z"
   },
   {
    "duration": 5,
    "start_time": "2022-02-03T00:56:45.495Z"
   },
   {
    "duration": 9,
    "start_time": "2022-02-03T00:56:45.502Z"
   },
   {
    "duration": 52,
    "start_time": "2022-02-03T00:56:45.516Z"
   },
   {
    "duration": 10,
    "start_time": "2022-02-03T00:56:45.572Z"
   },
   {
    "duration": 9,
    "start_time": "2022-02-03T00:56:45.584Z"
   },
   {
    "duration": 8,
    "start_time": "2022-02-03T00:56:45.595Z"
   },
   {
    "duration": 20,
    "start_time": "2022-02-03T00:56:45.605Z"
   },
   {
    "duration": 36,
    "start_time": "2022-02-03T00:56:45.628Z"
   },
   {
    "duration": 27,
    "start_time": "2022-02-03T00:56:45.668Z"
   },
   {
    "duration": 9,
    "start_time": "2022-02-03T00:56:45.698Z"
   },
   {
    "duration": 9,
    "start_time": "2022-02-03T00:56:45.709Z"
   },
   {
    "duration": 59,
    "start_time": "2022-02-03T00:56:45.720Z"
   },
   {
    "duration": 19,
    "start_time": "2022-02-03T00:56:45.782Z"
   },
   {
    "duration": 3,
    "start_time": "2022-02-03T00:56:45.803Z"
   },
   {
    "duration": 24,
    "start_time": "2022-02-03T00:56:45.808Z"
   },
   {
    "duration": 45,
    "start_time": "2022-02-03T00:56:45.835Z"
   },
   {
    "duration": 22,
    "start_time": "2022-02-03T00:56:45.882Z"
   },
   {
    "duration": 18,
    "start_time": "2022-02-03T00:56:45.907Z"
   },
   {
    "duration": 44,
    "start_time": "2022-02-03T00:56:45.927Z"
   },
   {
    "duration": 5,
    "start_time": "2022-02-03T00:56:45.973Z"
   },
   {
    "duration": 5,
    "start_time": "2022-02-03T00:56:45.981Z"
   },
   {
    "duration": 45,
    "start_time": "2022-02-03T00:56:45.989Z"
   },
   {
    "duration": 33,
    "start_time": "2022-02-03T00:56:46.036Z"
   },
   {
    "duration": 11,
    "start_time": "2022-02-03T00:56:46.071Z"
   },
   {
    "duration": 14,
    "start_time": "2022-02-03T00:56:46.084Z"
   },
   {
    "duration": 12,
    "start_time": "2022-02-03T00:56:46.101Z"
   },
   {
    "duration": 66,
    "start_time": "2022-02-03T00:56:46.116Z"
   },
   {
    "duration": 26,
    "start_time": "2022-02-03T00:56:46.185Z"
   },
   {
    "duration": 88,
    "start_time": "2022-02-03T00:56:46.214Z"
   },
   {
    "duration": 30,
    "start_time": "2022-02-03T00:56:46.305Z"
   },
   {
    "duration": 3,
    "start_time": "2022-02-03T00:56:46.337Z"
   },
   {
    "duration": 15720,
    "start_time": "2022-02-03T00:56:46.359Z"
   },
   {
    "duration": -249,
    "start_time": "2022-02-03T00:57:02.331Z"
   },
   {
    "duration": -253,
    "start_time": "2022-02-03T00:57:02.337Z"
   },
   {
    "duration": -256,
    "start_time": "2022-02-03T00:57:02.341Z"
   },
   {
    "duration": -258,
    "start_time": "2022-02-03T00:57:02.345Z"
   },
   {
    "duration": -261,
    "start_time": "2022-02-03T00:57:02.349Z"
   },
   {
    "duration": -262,
    "start_time": "2022-02-03T00:57:02.352Z"
   },
   {
    "duration": -265,
    "start_time": "2022-02-03T00:57:02.356Z"
   },
   {
    "duration": 9129,
    "start_time": "2022-02-03T00:57:03.172Z"
   },
   {
    "duration": -169,
    "start_time": "2022-02-03T00:57:12.473Z"
   },
   {
    "duration": 49,
    "start_time": "2022-02-03T00:58:21.898Z"
   },
   {
    "duration": 4,
    "start_time": "2022-02-03T00:58:28.886Z"
   },
   {
    "duration": 6,
    "start_time": "2022-02-03T00:58:29.444Z"
   },
   {
    "duration": 14,
    "start_time": "2022-02-03T00:58:32.713Z"
   },
   {
    "duration": 12,
    "start_time": "2022-02-03T00:58:33.172Z"
   },
   {
    "duration": 34,
    "start_time": "2022-02-03T01:01:52.103Z"
   },
   {
    "duration": 387,
    "start_time": "2022-02-03T01:03:46.264Z"
   },
   {
    "duration": 77,
    "start_time": "2022-02-03T01:03:53.854Z"
   },
   {
    "duration": 70,
    "start_time": "2022-02-03T01:04:09.172Z"
   },
   {
    "duration": 71,
    "start_time": "2022-02-03T01:05:10.082Z"
   },
   {
    "duration": 6,
    "start_time": "2022-02-03T01:06:19.719Z"
   },
   {
    "duration": 4,
    "start_time": "2022-02-03T01:06:23.425Z"
   },
   {
    "duration": 5,
    "start_time": "2022-02-03T01:06:53.122Z"
   },
   {
    "duration": 9,
    "start_time": "2022-02-03T01:07:50.896Z"
   },
   {
    "duration": 1735,
    "start_time": "2022-02-03T01:08:13.713Z"
   },
   {
    "duration": 1966,
    "start_time": "2022-02-03T01:08:27.229Z"
   },
   {
    "duration": 17,
    "start_time": "2022-02-03T01:09:09.304Z"
   },
   {
    "duration": 3,
    "start_time": "2022-02-03T01:09:27.902Z"
   },
   {
    "duration": 5,
    "start_time": "2022-02-03T01:11:03.309Z"
   },
   {
    "duration": 14,
    "start_time": "2022-02-03T01:11:11.112Z"
   },
   {
    "duration": 17,
    "start_time": "2022-02-03T01:11:16.776Z"
   },
   {
    "duration": 13,
    "start_time": "2022-02-03T01:12:25.816Z"
   },
   {
    "duration": 14903,
    "start_time": "2022-02-03T01:12:37.005Z"
   },
   {
    "duration": 5,
    "start_time": "2022-02-03T01:14:03.519Z"
   },
   {
    "duration": 9,
    "start_time": "2022-02-03T01:14:05.472Z"
   },
   {
    "duration": 974,
    "start_time": "2022-02-03T01:14:20.034Z"
   },
   {
    "duration": 5,
    "start_time": "2022-02-03T01:14:33.191Z"
   },
   {
    "duration": 753,
    "start_time": "2022-02-03T01:14:36.572Z"
   },
   {
    "duration": 5,
    "start_time": "2022-02-03T01:14:56.337Z"
   },
   {
    "duration": 17,
    "start_time": "2022-02-03T01:14:58.895Z"
   },
   {
    "duration": 37228,
    "start_time": "2022-02-03T01:15:05.893Z"
   },
   {
    "duration": 859,
    "start_time": "2022-02-03T01:15:55.454Z"
   },
   {
    "duration": 5,
    "start_time": "2022-02-03T01:15:56.316Z"
   },
   {
    "duration": 42,
    "start_time": "2022-02-03T01:15:56.325Z"
   },
   {
    "duration": 16,
    "start_time": "2022-02-03T01:15:56.373Z"
   },
   {
    "duration": 30,
    "start_time": "2022-02-03T01:15:56.391Z"
   },
   {
    "duration": 8,
    "start_time": "2022-02-03T01:15:56.424Z"
   },
   {
    "duration": 18,
    "start_time": "2022-02-03T01:15:56.463Z"
   },
   {
    "duration": 8,
    "start_time": "2022-02-03T01:15:56.484Z"
   },
   {
    "duration": 11,
    "start_time": "2022-02-03T01:15:56.499Z"
   },
   {
    "duration": 73,
    "start_time": "2022-02-03T01:15:56.514Z"
   },
   {
    "duration": 16,
    "start_time": "2022-02-03T01:15:56.590Z"
   },
   {
    "duration": 52,
    "start_time": "2022-02-03T01:15:56.609Z"
   },
   {
    "duration": 11,
    "start_time": "2022-02-03T01:15:56.667Z"
   },
   {
    "duration": 9,
    "start_time": "2022-02-03T01:15:56.680Z"
   },
   {
    "duration": 26,
    "start_time": "2022-02-03T01:15:56.692Z"
   },
   {
    "duration": 48,
    "start_time": "2022-02-03T01:15:56.721Z"
   },
   {
    "duration": 10,
    "start_time": "2022-02-03T01:15:56.771Z"
   },
   {
    "duration": 13,
    "start_time": "2022-02-03T01:15:56.783Z"
   },
   {
    "duration": 15,
    "start_time": "2022-02-03T01:15:56.798Z"
   },
   {
    "duration": 10,
    "start_time": "2022-02-03T01:15:56.815Z"
   },
   {
    "duration": 35,
    "start_time": "2022-02-03T01:15:56.827Z"
   },
   {
    "duration": 18,
    "start_time": "2022-02-03T01:15:56.866Z"
   },
   {
    "duration": 10,
    "start_time": "2022-02-03T01:15:56.886Z"
   },
   {
    "duration": 7,
    "start_time": "2022-02-03T01:15:56.898Z"
   },
   {
    "duration": 10,
    "start_time": "2022-02-03T01:15:56.907Z"
   },
   {
    "duration": 9,
    "start_time": "2022-02-03T01:15:56.968Z"
   },
   {
    "duration": 19,
    "start_time": "2022-02-03T01:15:56.983Z"
   },
   {
    "duration": 3,
    "start_time": "2022-02-03T01:15:57.005Z"
   },
   {
    "duration": 21,
    "start_time": "2022-02-03T01:15:57.010Z"
   },
   {
    "duration": 11,
    "start_time": "2022-02-03T01:15:57.067Z"
   },
   {
    "duration": 9,
    "start_time": "2022-02-03T01:15:57.081Z"
   },
   {
    "duration": 19,
    "start_time": "2022-02-03T01:15:57.093Z"
   },
   {
    "duration": 50,
    "start_time": "2022-02-03T01:15:57.115Z"
   },
   {
    "duration": 3,
    "start_time": "2022-02-03T01:15:57.168Z"
   },
   {
    "duration": 23,
    "start_time": "2022-02-03T01:15:57.173Z"
   },
   {
    "duration": 18,
    "start_time": "2022-02-03T01:15:57.198Z"
   },
   {
    "duration": 61,
    "start_time": "2022-02-03T01:15:57.218Z"
   },
   {
    "duration": 21,
    "start_time": "2022-02-03T01:15:57.281Z"
   },
   {
    "duration": 4,
    "start_time": "2022-02-03T01:15:57.304Z"
   },
   {
    "duration": 5,
    "start_time": "2022-02-03T01:15:57.310Z"
   },
   {
    "duration": 5,
    "start_time": "2022-02-03T01:15:57.317Z"
   },
   {
    "duration": 81,
    "start_time": "2022-02-03T01:15:57.324Z"
   },
   {
    "duration": 5,
    "start_time": "2022-02-03T01:15:57.407Z"
   },
   {
    "duration": 8,
    "start_time": "2022-02-03T01:15:57.414Z"
   },
   {
    "duration": 48,
    "start_time": "2022-02-03T01:15:57.424Z"
   },
   {
    "duration": 12,
    "start_time": "2022-02-03T01:15:57.475Z"
   },
   {
    "duration": 9305,
    "start_time": "2022-02-03T01:15:57.489Z"
   },
   {
    "duration": -238,
    "start_time": "2022-02-03T01:16:07.035Z"
   },
   {
    "duration": -242,
    "start_time": "2022-02-03T01:16:07.040Z"
   },
   {
    "duration": -244,
    "start_time": "2022-02-03T01:16:07.044Z"
   },
   {
    "duration": -247,
    "start_time": "2022-02-03T01:16:07.048Z"
   },
   {
    "duration": -250,
    "start_time": "2022-02-03T01:16:07.052Z"
   },
   {
    "duration": 391,
    "start_time": "2022-02-03T01:16:10.572Z"
   },
   {
    "duration": 5,
    "start_time": "2022-02-03T01:16:15.272Z"
   },
   {
    "duration": 21,
    "start_time": "2022-02-03T01:16:15.873Z"
   },
   {
    "duration": 7751,
    "start_time": "2022-02-03T01:16:18.973Z"
   },
   {
    "duration": 3,
    "start_time": "2022-02-03T01:16:31.342Z"
   },
   {
    "duration": 14847,
    "start_time": "2022-02-03T01:17:12.284Z"
   },
   {
    "duration": 38,
    "start_time": "2022-02-03T01:19:46.251Z"
   },
   {
    "duration": 80,
    "start_time": "2022-02-03T01:19:46.292Z"
   },
   {
    "duration": 74,
    "start_time": "2022-02-03T01:19:46.696Z"
   },
   {
    "duration": 85,
    "start_time": "2022-02-03T01:20:16.836Z"
   },
   {
    "duration": 388,
    "start_time": "2022-02-03T01:22:52.805Z"
   },
   {
    "duration": 13,
    "start_time": "2022-02-03T01:23:02.037Z"
   },
   {
    "duration": 11,
    "start_time": "2022-02-03T01:23:17.931Z"
   },
   {
    "duration": 9150,
    "start_time": "2022-02-03T01:23:57.589Z"
   },
   {
    "duration": 12,
    "start_time": "2022-02-03T01:24:56.286Z"
   },
   {
    "duration": 12,
    "start_time": "2022-02-03T01:25:11.781Z"
   },
   {
    "duration": 49,
    "start_time": "2022-02-03T01:25:46.288Z"
   },
   {
    "duration": 36,
    "start_time": "2022-02-03T01:25:56.230Z"
   },
   {
    "duration": 36,
    "start_time": "2022-02-03T01:27:05.765Z"
   },
   {
    "duration": 13,
    "start_time": "2022-02-03T01:27:34.938Z"
   },
   {
    "duration": 23,
    "start_time": "2022-02-03T01:28:05.915Z"
   },
   {
    "duration": 25,
    "start_time": "2022-02-03T01:29:42.359Z"
   },
   {
    "duration": 24,
    "start_time": "2022-02-03T01:29:57.157Z"
   },
   {
    "duration": 36,
    "start_time": "2022-02-03T01:30:26.416Z"
   },
   {
    "duration": 21,
    "start_time": "2022-02-03T01:31:34.072Z"
   },
   {
    "duration": 20,
    "start_time": "2022-02-03T01:31:49.086Z"
   },
   {
    "duration": 4,
    "start_time": "2022-02-03T01:35:50.142Z"
   },
   {
    "duration": 12,
    "start_time": "2022-02-03T01:36:03.712Z"
   },
   {
    "duration": 4,
    "start_time": "2022-02-03T01:36:12.831Z"
   },
   {
    "duration": 345,
    "start_time": "2022-02-03T01:36:41.213Z"
   },
   {
    "duration": 7374,
    "start_time": "2022-02-03T01:36:57.219Z"
   },
   {
    "duration": 7440,
    "start_time": "2022-02-03T01:37:54.636Z"
   },
   {
    "duration": 44,
    "start_time": "2022-02-03T01:38:48.928Z"
   },
   {
    "duration": 7222,
    "start_time": "2022-02-03T01:39:51.826Z"
   },
   {
    "duration": 49,
    "start_time": "2022-02-03T01:40:06.166Z"
   },
   {
    "duration": 7303,
    "start_time": "2022-02-03T01:40:37.573Z"
   },
   {
    "duration": 45,
    "start_time": "2022-02-03T01:40:48.728Z"
   },
   {
    "duration": 5,
    "start_time": "2022-02-03T01:41:33.047Z"
   },
   {
    "duration": 9650,
    "start_time": "2022-02-03T01:41:35.340Z"
   },
   {
    "duration": 3,
    "start_time": "2022-02-03T01:42:12.176Z"
   },
   {
    "duration": 4,
    "start_time": "2022-02-03T01:42:33.343Z"
   },
   {
    "duration": 5,
    "start_time": "2022-02-03T01:43:18.272Z"
   },
   {
    "duration": 388,
    "start_time": "2022-02-03T01:43:28.507Z"
   },
   {
    "duration": 10,
    "start_time": "2022-02-03T01:43:43.682Z"
   },
   {
    "duration": 9,
    "start_time": "2022-02-03T01:44:25.835Z"
   },
   {
    "duration": 10,
    "start_time": "2022-02-03T01:44:55.155Z"
   },
   {
    "duration": 6,
    "start_time": "2022-02-03T01:45:25.984Z"
   },
   {
    "duration": 6,
    "start_time": "2022-02-03T01:46:05.658Z"
   },
   {
    "duration": 7,
    "start_time": "2022-02-03T01:46:07.630Z"
   },
   {
    "duration": 4,
    "start_time": "2022-02-03T01:46:49.445Z"
   },
   {
    "duration": 13,
    "start_time": "2022-02-03T01:46:50.372Z"
   },
   {
    "duration": 4,
    "start_time": "2022-02-03T01:47:06.729Z"
   },
   {
    "duration": 7,
    "start_time": "2022-02-03T01:47:07.560Z"
   },
   {
    "duration": 4,
    "start_time": "2022-02-03T01:47:33.684Z"
   },
   {
    "duration": 739,
    "start_time": "2022-02-03T01:47:34.258Z"
   },
   {
    "duration": 4,
    "start_time": "2022-02-03T01:48:22.300Z"
   },
   {
    "duration": 772,
    "start_time": "2022-02-03T01:48:22.676Z"
   },
   {
    "duration": 54,
    "start_time": "2022-02-03T01:48:38.897Z"
   },
   {
    "duration": 4,
    "start_time": "2022-02-03T01:48:57.172Z"
   },
   {
    "duration": 741,
    "start_time": "2022-02-03T01:48:58.210Z"
   },
   {
    "duration": 11,
    "start_time": "2022-02-03T01:49:46.557Z"
   },
   {
    "duration": 9685,
    "start_time": "2022-02-03T01:49:46.571Z"
   },
   {
    "duration": 4,
    "start_time": "2022-02-03T01:50:28.150Z"
   },
   {
    "duration": 6,
    "start_time": "2022-02-03T01:50:52.509Z"
   },
   {
    "duration": 10805,
    "start_time": "2022-02-03T01:50:55.678Z"
   },
   {
    "duration": 35,
    "start_time": "2022-02-03T01:51:26.032Z"
   },
   {
    "duration": 47,
    "start_time": "2022-02-03T01:51:44.424Z"
   },
   {
    "duration": 4,
    "start_time": "2022-02-03T01:51:46.427Z"
   },
   {
    "duration": 7,
    "start_time": "2022-02-03T01:51:46.435Z"
   },
   {
    "duration": 21,
    "start_time": "2022-02-03T01:51:46.445Z"
   },
   {
    "duration": 13,
    "start_time": "2022-02-03T01:51:46.585Z"
   },
   {
    "duration": 3,
    "start_time": "2022-02-03T01:51:47.556Z"
   },
   {
    "duration": 30,
    "start_time": "2022-02-03T01:51:48.478Z"
   },
   {
    "duration": 34,
    "start_time": "2022-02-03T01:51:48.973Z"
   },
   {
    "duration": 22,
    "start_time": "2022-02-03T01:51:49.432Z"
   },
   {
    "duration": 34,
    "start_time": "2022-02-03T01:51:51.911Z"
   },
   {
    "duration": 20,
    "start_time": "2022-02-03T01:51:52.381Z"
   },
   {
    "duration": 26,
    "start_time": "2022-02-03T01:51:57.142Z"
   },
   {
    "duration": 5,
    "start_time": "2022-02-03T01:52:01.922Z"
   },
   {
    "duration": 34,
    "start_time": "2022-02-03T01:52:06.324Z"
   },
   {
    "duration": 3,
    "start_time": "2022-02-03T01:52:12.017Z"
   },
   {
    "duration": 9,
    "start_time": "2022-02-03T01:52:18.917Z"
   },
   {
    "duration": 14,
    "start_time": "2022-02-03T01:52:23.019Z"
   },
   {
    "duration": 13,
    "start_time": "2022-02-03T01:52:38.717Z"
   },
   {
    "duration": 34,
    "start_time": "2022-02-03T01:52:49.272Z"
   },
   {
    "duration": 7591,
    "start_time": "2022-02-03T01:53:05.552Z"
   },
   {
    "duration": 12,
    "start_time": "2022-02-03T01:53:34.432Z"
   },
   {
    "duration": 16,
    "start_time": "2022-02-03T01:53:46.405Z"
   },
   {
    "duration": 7,
    "start_time": "2022-02-03T01:53:53.991Z"
   },
   {
    "duration": 12,
    "start_time": "2022-02-03T01:54:16.059Z"
   },
   {
    "duration": 12,
    "start_time": "2022-02-03T01:54:22.818Z"
   },
   {
    "duration": 5,
    "start_time": "2022-02-03T01:55:12.215Z"
   },
   {
    "duration": 4,
    "start_time": "2022-02-03T01:55:31.522Z"
   },
   {
    "duration": 18,
    "start_time": "2022-02-03T01:55:36.336Z"
   },
   {
    "duration": 10,
    "start_time": "2022-02-03T01:55:42.749Z"
   },
   {
    "duration": 12,
    "start_time": "2022-02-03T01:55:47.172Z"
   },
   {
    "duration": 824,
    "start_time": "2022-02-03T01:56:05.774Z"
   },
   {
    "duration": 5,
    "start_time": "2022-02-03T01:56:06.600Z"
   },
   {
    "duration": 29,
    "start_time": "2022-02-03T01:56:06.608Z"
   },
   {
    "duration": 37,
    "start_time": "2022-02-03T01:56:06.640Z"
   },
   {
    "duration": 34,
    "start_time": "2022-02-03T01:56:06.680Z"
   },
   {
    "duration": 11,
    "start_time": "2022-02-03T01:56:06.717Z"
   },
   {
    "duration": 23,
    "start_time": "2022-02-03T01:56:06.762Z"
   },
   {
    "duration": 8,
    "start_time": "2022-02-03T01:56:06.787Z"
   },
   {
    "duration": 10,
    "start_time": "2022-02-03T01:56:06.800Z"
   },
   {
    "duration": 50,
    "start_time": "2022-02-03T01:56:06.813Z"
   },
   {
    "duration": 22,
    "start_time": "2022-02-03T01:56:06.867Z"
   },
   {
    "duration": 30,
    "start_time": "2022-02-03T01:56:06.891Z"
   },
   {
    "duration": 8,
    "start_time": "2022-02-03T01:56:06.924Z"
   },
   {
    "duration": 32,
    "start_time": "2022-02-03T01:56:06.934Z"
   },
   {
    "duration": 23,
    "start_time": "2022-02-03T01:56:06.969Z"
   },
   {
    "duration": 8,
    "start_time": "2022-02-03T01:56:06.994Z"
   },
   {
    "duration": 9,
    "start_time": "2022-02-03T01:56:07.005Z"
   },
   {
    "duration": 50,
    "start_time": "2022-02-03T01:56:07.017Z"
   },
   {
    "duration": 17,
    "start_time": "2022-02-03T01:56:07.070Z"
   },
   {
    "duration": 13,
    "start_time": "2022-02-03T01:56:07.090Z"
   },
   {
    "duration": 6,
    "start_time": "2022-02-03T01:56:07.105Z"
   },
   {
    "duration": 9,
    "start_time": "2022-02-03T01:56:07.114Z"
   },
   {
    "duration": 17,
    "start_time": "2022-02-03T01:56:07.160Z"
   },
   {
    "duration": 8,
    "start_time": "2022-02-03T01:56:07.179Z"
   },
   {
    "duration": 12,
    "start_time": "2022-02-03T01:56:07.190Z"
   },
   {
    "duration": 10,
    "start_time": "2022-02-03T01:56:07.205Z"
   },
   {
    "duration": 21,
    "start_time": "2022-02-03T01:56:07.269Z"
   },
   {
    "duration": 3,
    "start_time": "2022-02-03T01:56:07.293Z"
   },
   {
    "duration": 24,
    "start_time": "2022-02-03T01:56:07.299Z"
   },
   {
    "duration": 37,
    "start_time": "2022-02-03T01:56:07.326Z"
   },
   {
    "duration": 17,
    "start_time": "2022-02-03T01:56:07.365Z"
   },
   {
    "duration": 20,
    "start_time": "2022-02-03T01:56:07.385Z"
   },
   {
    "duration": 20,
    "start_time": "2022-02-03T01:56:07.407Z"
   },
   {
    "duration": 29,
    "start_time": "2022-02-03T01:56:07.430Z"
   },
   {
    "duration": 28,
    "start_time": "2022-02-03T01:56:07.465Z"
   },
   {
    "duration": 23,
    "start_time": "2022-02-03T01:56:07.496Z"
   },
   {
    "duration": 62,
    "start_time": "2022-02-03T01:56:07.521Z"
   },
   {
    "duration": 22,
    "start_time": "2022-02-03T01:56:07.586Z"
   },
   {
    "duration": 5,
    "start_time": "2022-02-03T01:56:07.611Z"
   },
   {
    "duration": 43,
    "start_time": "2022-02-03T01:56:07.619Z"
   },
   {
    "duration": 6,
    "start_time": "2022-02-03T01:56:07.667Z"
   },
   {
    "duration": 49,
    "start_time": "2022-02-03T01:56:07.675Z"
   },
   {
    "duration": 4,
    "start_time": "2022-02-03T01:56:07.726Z"
   },
   {
    "duration": 32,
    "start_time": "2022-02-03T01:56:07.733Z"
   },
   {
    "duration": 24,
    "start_time": "2022-02-03T01:56:07.767Z"
   },
   {
    "duration": 15,
    "start_time": "2022-02-03T01:56:07.793Z"
   },
   {
    "duration": 4,
    "start_time": "2022-02-03T01:56:07.811Z"
   },
   {
    "duration": 64,
    "start_time": "2022-02-03T01:56:07.818Z"
   },
   {
    "duration": 35,
    "start_time": "2022-02-03T01:56:07.885Z"
   },
   {
    "duration": 46,
    "start_time": "2022-02-03T01:56:07.923Z"
   },
   {
    "duration": 36,
    "start_time": "2022-02-03T01:56:07.971Z"
   },
   {
    "duration": 21,
    "start_time": "2022-02-03T01:56:08.010Z"
   },
   {
    "duration": 29,
    "start_time": "2022-02-03T01:56:08.061Z"
   },
   {
    "duration": 102,
    "start_time": "2022-02-03T01:56:08.092Z"
   },
   {
    "duration": 4,
    "start_time": "2022-02-03T01:56:08.197Z"
   },
   {
    "duration": 4,
    "start_time": "2022-02-03T01:56:11.549Z"
   },
   {
    "duration": 16,
    "start_time": "2022-02-03T01:56:12.650Z"
   },
   {
    "duration": 11043,
    "start_time": "2022-02-03T01:56:19.536Z"
   },
   {
    "duration": 132,
    "start_time": "2022-02-03T01:57:26.839Z"
   },
   {
    "duration": 4,
    "start_time": "2022-02-03T01:57:32.108Z"
   },
   {
    "duration": 20,
    "start_time": "2022-02-03T01:57:36.058Z"
   },
   {
    "duration": 15,
    "start_time": "2022-02-03T01:57:39.977Z"
   },
   {
    "duration": 21,
    "start_time": "2022-02-03T01:57:46.664Z"
   },
   {
    "duration": 5,
    "start_time": "2022-02-03T01:58:20.413Z"
   },
   {
    "duration": 23,
    "start_time": "2022-02-03T01:58:22.056Z"
   },
   {
    "duration": 17,
    "start_time": "2022-02-03T01:58:28.225Z"
   },
   {
    "duration": 17,
    "start_time": "2022-02-03T01:58:29.889Z"
   },
   {
    "duration": 874,
    "start_time": "2022-02-03T01:59:17.539Z"
   },
   {
    "duration": 5,
    "start_time": "2022-02-03T01:59:18.415Z"
   },
   {
    "duration": 33,
    "start_time": "2022-02-03T01:59:18.423Z"
   },
   {
    "duration": 14,
    "start_time": "2022-02-03T01:59:18.468Z"
   },
   {
    "duration": 32,
    "start_time": "2022-02-03T01:59:18.486Z"
   },
   {
    "duration": 9,
    "start_time": "2022-02-03T01:59:18.520Z"
   },
   {
    "duration": 48,
    "start_time": "2022-02-03T01:59:18.531Z"
   },
   {
    "duration": 8,
    "start_time": "2022-02-03T01:59:18.587Z"
   },
   {
    "duration": 9,
    "start_time": "2022-02-03T01:59:18.598Z"
   },
   {
    "duration": 62,
    "start_time": "2022-02-03T01:59:18.610Z"
   },
   {
    "duration": 14,
    "start_time": "2022-02-03T01:59:18.675Z"
   },
   {
    "duration": 28,
    "start_time": "2022-02-03T01:59:18.692Z"
   },
   {
    "duration": 8,
    "start_time": "2022-02-03T01:59:18.723Z"
   },
   {
    "duration": 28,
    "start_time": "2022-02-03T01:59:18.733Z"
   },
   {
    "duration": 26,
    "start_time": "2022-02-03T01:59:18.763Z"
   },
   {
    "duration": 7,
    "start_time": "2022-02-03T01:59:18.792Z"
   },
   {
    "duration": 9,
    "start_time": "2022-02-03T01:59:18.802Z"
   },
   {
    "duration": 57,
    "start_time": "2022-02-03T01:59:18.813Z"
   },
   {
    "duration": 15,
    "start_time": "2022-02-03T01:59:18.873Z"
   },
   {
    "duration": 10,
    "start_time": "2022-02-03T01:59:18.891Z"
   },
   {
    "duration": 5,
    "start_time": "2022-02-03T01:59:18.903Z"
   },
   {
    "duration": 8,
    "start_time": "2022-02-03T01:59:18.911Z"
   },
   {
    "duration": 52,
    "start_time": "2022-02-03T01:59:18.925Z"
   },
   {
    "duration": 8,
    "start_time": "2022-02-03T01:59:18.981Z"
   },
   {
    "duration": 10,
    "start_time": "2022-02-03T01:59:18.991Z"
   },
   {
    "duration": 9,
    "start_time": "2022-02-03T01:59:19.003Z"
   },
   {
    "duration": 54,
    "start_time": "2022-02-03T01:59:19.014Z"
   },
   {
    "duration": 7,
    "start_time": "2022-02-03T01:59:19.071Z"
   },
   {
    "duration": 23,
    "start_time": "2022-02-03T01:59:19.080Z"
   },
   {
    "duration": 9,
    "start_time": "2022-02-03T01:59:19.105Z"
   },
   {
    "duration": 9,
    "start_time": "2022-02-03T01:59:19.116Z"
   },
   {
    "duration": 59,
    "start_time": "2022-02-03T01:59:19.128Z"
   },
   {
    "duration": 19,
    "start_time": "2022-02-03T01:59:19.190Z"
   },
   {
    "duration": 3,
    "start_time": "2022-02-03T01:59:19.211Z"
   },
   {
    "duration": 55,
    "start_time": "2022-02-03T01:59:19.217Z"
   },
   {
    "duration": 19,
    "start_time": "2022-02-03T01:59:19.275Z"
   },
   {
    "duration": 21,
    "start_time": "2022-02-03T01:59:19.297Z"
   },
   {
    "duration": 50,
    "start_time": "2022-02-03T01:59:19.320Z"
   },
   {
    "duration": 5,
    "start_time": "2022-02-03T01:59:19.372Z"
   },
   {
    "duration": 5,
    "start_time": "2022-02-03T01:59:19.379Z"
   },
   {
    "duration": 5,
    "start_time": "2022-02-03T01:59:19.387Z"
   },
   {
    "duration": 75,
    "start_time": "2022-02-03T01:59:19.394Z"
   },
   {
    "duration": 4,
    "start_time": "2022-02-03T01:59:19.472Z"
   },
   {
    "duration": 6,
    "start_time": "2022-02-03T01:59:19.479Z"
   },
   {
    "duration": 14,
    "start_time": "2022-02-03T01:59:19.487Z"
   },
   {
    "duration": 12,
    "start_time": "2022-02-03T01:59:19.503Z"
   },
   {
    "duration": 3,
    "start_time": "2022-02-03T01:59:19.517Z"
   },
   {
    "duration": 33,
    "start_time": "2022-02-03T01:59:19.568Z"
   },
   {
    "duration": 34,
    "start_time": "2022-02-03T01:59:19.604Z"
   },
   {
    "duration": 40,
    "start_time": "2022-02-03T01:59:19.640Z"
   },
   {
    "duration": 34,
    "start_time": "2022-02-03T01:59:19.682Z"
   },
   {
    "duration": 44,
    "start_time": "2022-02-03T01:59:19.719Z"
   },
   {
    "duration": 27,
    "start_time": "2022-02-03T01:59:19.765Z"
   },
   {
    "duration": 110,
    "start_time": "2022-02-03T01:59:19.795Z"
   },
   {
    "duration": 4,
    "start_time": "2022-02-03T01:59:19.908Z"
   },
   {
    "duration": 20,
    "start_time": "2022-02-03T01:59:19.915Z"
   },
   {
    "duration": 15064,
    "start_time": "2022-02-03T01:59:19.937Z"
   },
   {
    "duration": 17,
    "start_time": "2022-02-03T01:59:35.004Z"
   },
   {
    "duration": 40,
    "start_time": "2022-02-03T01:59:35.023Z"
   },
   {
    "duration": 9,
    "start_time": "2022-02-03T01:59:35.066Z"
   },
   {
    "duration": 16,
    "start_time": "2022-02-03T01:59:35.078Z"
   },
   {
    "duration": 3,
    "start_time": "2022-02-03T01:59:35.097Z"
   },
   {
    "duration": 30,
    "start_time": "2022-02-03T01:59:35.102Z"
   },
   {
    "duration": 4,
    "start_time": "2022-02-03T01:59:35.160Z"
   },
   {
    "duration": 114,
    "start_time": "2022-02-03T01:59:35.166Z"
   },
   {
    "duration": 4,
    "start_time": "2022-02-03T01:59:35.283Z"
   },
   {
    "duration": 810,
    "start_time": "2022-02-03T01:59:35.289Z"
   },
   {
    "duration": -110,
    "start_time": "2022-02-03T01:59:36.212Z"
   },
   {
    "duration": -114,
    "start_time": "2022-02-03T01:59:36.217Z"
   },
   {
    "duration": -117,
    "start_time": "2022-02-03T01:59:36.222Z"
   },
   {
    "duration": -119,
    "start_time": "2022-02-03T01:59:36.225Z"
   },
   {
    "duration": -122,
    "start_time": "2022-02-03T01:59:36.229Z"
   },
   {
    "duration": -124,
    "start_time": "2022-02-03T01:59:36.233Z"
   },
   {
    "duration": -284,
    "start_time": "2022-02-03T01:59:36.394Z"
   },
   {
    "duration": -287,
    "start_time": "2022-02-03T01:59:36.398Z"
   },
   {
    "duration": -290,
    "start_time": "2022-02-03T01:59:36.403Z"
   },
   {
    "duration": -293,
    "start_time": "2022-02-03T01:59:36.407Z"
   },
   {
    "duration": -296,
    "start_time": "2022-02-03T01:59:36.411Z"
   },
   {
    "duration": -299,
    "start_time": "2022-02-03T01:59:36.415Z"
   },
   {
    "duration": -302,
    "start_time": "2022-02-03T01:59:36.420Z"
   },
   {
    "duration": -304,
    "start_time": "2022-02-03T01:59:36.423Z"
   },
   {
    "duration": -308,
    "start_time": "2022-02-03T01:59:36.428Z"
   },
   {
    "duration": -309,
    "start_time": "2022-02-03T01:59:36.431Z"
   },
   {
    "duration": -313,
    "start_time": "2022-02-03T01:59:36.436Z"
   },
   {
    "duration": -315,
    "start_time": "2022-02-03T01:59:36.439Z"
   },
   {
    "duration": -318,
    "start_time": "2022-02-03T01:59:36.444Z"
   },
   {
    "duration": 54,
    "start_time": "2022-02-03T01:59:42.573Z"
   },
   {
    "duration": 4,
    "start_time": "2022-02-03T01:59:42.630Z"
   },
   {
    "duration": 40,
    "start_time": "2022-02-03T01:59:42.638Z"
   },
   {
    "duration": 14,
    "start_time": "2022-02-03T01:59:42.680Z"
   },
   {
    "duration": 77,
    "start_time": "2022-02-03T01:59:42.696Z"
   },
   {
    "duration": 9,
    "start_time": "2022-02-03T01:59:42.775Z"
   },
   {
    "duration": 16,
    "start_time": "2022-02-03T01:59:42.787Z"
   },
   {
    "duration": 9,
    "start_time": "2022-02-03T01:59:42.805Z"
   },
   {
    "duration": 53,
    "start_time": "2022-02-03T01:59:42.818Z"
   },
   {
    "duration": 37,
    "start_time": "2022-02-03T01:59:42.875Z"
   },
   {
    "duration": 14,
    "start_time": "2022-02-03T01:59:42.915Z"
   },
   {
    "duration": 59,
    "start_time": "2022-02-03T01:59:42.931Z"
   },
   {
    "duration": 9,
    "start_time": "2022-02-03T01:59:42.992Z"
   },
   {
    "duration": 4,
    "start_time": "2022-02-03T01:59:43.004Z"
   },
   {
    "duration": 15,
    "start_time": "2022-02-03T01:59:43.011Z"
   },
   {
    "duration": 43,
    "start_time": "2022-02-03T01:59:43.029Z"
   },
   {
    "duration": 11,
    "start_time": "2022-02-03T01:59:43.075Z"
   },
   {
    "duration": 12,
    "start_time": "2022-02-03T01:59:43.088Z"
   },
   {
    "duration": 9,
    "start_time": "2022-02-03T01:59:43.102Z"
   },
   {
    "duration": 10,
    "start_time": "2022-02-03T01:59:43.113Z"
   },
   {
    "duration": 8,
    "start_time": "2022-02-03T01:59:43.159Z"
   },
   {
    "duration": 18,
    "start_time": "2022-02-03T01:59:43.169Z"
   },
   {
    "duration": 10,
    "start_time": "2022-02-03T01:59:43.189Z"
   },
   {
    "duration": 8,
    "start_time": "2022-02-03T01:59:43.201Z"
   },
   {
    "duration": 50,
    "start_time": "2022-02-03T01:59:43.212Z"
   },
   {
    "duration": 10,
    "start_time": "2022-02-03T01:59:43.267Z"
   },
   {
    "duration": 19,
    "start_time": "2022-02-03T01:59:43.283Z"
   },
   {
    "duration": 3,
    "start_time": "2022-02-03T01:59:43.305Z"
   },
   {
    "duration": 54,
    "start_time": "2022-02-03T01:59:43.310Z"
   },
   {
    "duration": 12,
    "start_time": "2022-02-03T01:59:43.366Z"
   },
   {
    "duration": 8,
    "start_time": "2022-02-03T01:59:43.381Z"
   },
   {
    "duration": 19,
    "start_time": "2022-02-03T01:59:43.392Z"
   },
   {
    "duration": 50,
    "start_time": "2022-02-03T01:59:43.414Z"
   },
   {
    "duration": 5,
    "start_time": "2022-02-03T01:59:43.466Z"
   },
   {
    "duration": 22,
    "start_time": "2022-02-03T01:59:43.476Z"
   },
   {
    "duration": 19,
    "start_time": "2022-02-03T01:59:43.500Z"
   },
   {
    "duration": 61,
    "start_time": "2022-02-03T01:59:43.521Z"
   },
   {
    "duration": 21,
    "start_time": "2022-02-03T01:59:43.584Z"
   },
   {
    "duration": 4,
    "start_time": "2022-02-03T01:59:43.607Z"
   },
   {
    "duration": 5,
    "start_time": "2022-02-03T01:59:43.613Z"
   },
   {
    "duration": 4,
    "start_time": "2022-02-03T01:59:43.620Z"
   },
   {
    "duration": 47,
    "start_time": "2022-02-03T01:59:43.659Z"
   },
   {
    "duration": 4,
    "start_time": "2022-02-03T01:59:43.709Z"
   },
   {
    "duration": 7,
    "start_time": "2022-02-03T01:59:43.716Z"
   },
   {
    "duration": 19,
    "start_time": "2022-02-03T01:59:43.760Z"
   },
   {
    "duration": 15,
    "start_time": "2022-02-03T01:59:43.782Z"
   },
   {
    "duration": 5,
    "start_time": "2022-02-03T01:59:43.800Z"
   },
   {
    "duration": 69,
    "start_time": "2022-02-03T01:59:43.808Z"
   },
   {
    "duration": 38,
    "start_time": "2022-02-03T01:59:43.879Z"
   },
   {
    "duration": 56,
    "start_time": "2022-02-03T01:59:43.920Z"
   },
   {
    "duration": 36,
    "start_time": "2022-02-03T01:59:43.979Z"
   },
   {
    "duration": 50,
    "start_time": "2022-02-03T01:59:44.017Z"
   },
   {
    "duration": 24,
    "start_time": "2022-02-03T01:59:44.070Z"
   },
   {
    "duration": 91,
    "start_time": "2022-02-03T01:59:44.096Z"
   },
   {
    "duration": 5,
    "start_time": "2022-02-03T01:59:49.204Z"
   },
   {
    "duration": 18,
    "start_time": "2022-02-03T01:59:50.484Z"
   },
   {
    "duration": 15659,
    "start_time": "2022-02-03T01:59:53.900Z"
   },
   {
    "duration": 19,
    "start_time": "2022-02-03T02:00:14.600Z"
   },
   {
    "duration": 5,
    "start_time": "2022-02-03T02:06:32.428Z"
   },
   {
    "duration": 6,
    "start_time": "2022-02-03T02:07:33.451Z"
   },
   {
    "duration": 18,
    "start_time": "2022-02-03T02:07:35.324Z"
   },
   {
    "duration": 28,
    "start_time": "2022-02-03T02:07:38.247Z"
   },
   {
    "duration": 19,
    "start_time": "2022-02-03T02:07:40.416Z"
   },
   {
    "duration": 6,
    "start_time": "2022-02-03T02:08:06.240Z"
   },
   {
    "duration": 19,
    "start_time": "2022-02-03T02:08:06.947Z"
   },
   {
    "duration": 26,
    "start_time": "2022-02-03T02:08:08.011Z"
   },
   {
    "duration": 19,
    "start_time": "2022-02-03T02:08:10.512Z"
   },
   {
    "duration": 6,
    "start_time": "2022-02-03T02:08:43.536Z"
   },
   {
    "duration": 18,
    "start_time": "2022-02-03T02:08:44.281Z"
   },
   {
    "duration": 19,
    "start_time": "2022-02-03T02:08:46.581Z"
   },
   {
    "duration": 25,
    "start_time": "2022-02-03T02:08:50.480Z"
   },
   {
    "duration": 24,
    "start_time": "2022-02-03T02:08:51.073Z"
   },
   {
    "duration": 6,
    "start_time": "2022-02-03T02:09:29.657Z"
   },
   {
    "duration": 20,
    "start_time": "2022-02-03T02:09:30.372Z"
   },
   {
    "duration": 24,
    "start_time": "2022-02-03T02:09:33.936Z"
   },
   {
    "duration": 18,
    "start_time": "2022-02-03T02:09:34.598Z"
   },
   {
    "duration": 5,
    "start_time": "2022-02-03T02:09:50.715Z"
   },
   {
    "duration": 20,
    "start_time": "2022-02-03T02:09:51.349Z"
   },
   {
    "duration": 26,
    "start_time": "2022-02-03T02:09:51.827Z"
   },
   {
    "duration": 18,
    "start_time": "2022-02-03T02:09:52.581Z"
   },
   {
    "duration": 28,
    "start_time": "2022-02-03T02:10:52.760Z"
   },
   {
    "duration": 17,
    "start_time": "2022-02-03T02:10:53.335Z"
   },
   {
    "duration": 6,
    "start_time": "2022-02-03T02:11:14.186Z"
   },
   {
    "duration": 5,
    "start_time": "2022-02-03T02:12:03.686Z"
   },
   {
    "duration": 18,
    "start_time": "2022-02-03T02:12:04.435Z"
   },
   {
    "duration": 25,
    "start_time": "2022-02-03T02:12:05.510Z"
   },
   {
    "duration": 18,
    "start_time": "2022-02-03T02:12:06.811Z"
   },
   {
    "duration": 19,
    "start_time": "2022-02-03T02:12:49.273Z"
   },
   {
    "duration": 12,
    "start_time": "2022-02-03T02:13:05.002Z"
   },
   {
    "duration": 6,
    "start_time": "2022-02-03T02:18:37.827Z"
   },
   {
    "duration": 754,
    "start_time": "2022-02-03T02:18:39.811Z"
   },
   {
    "duration": 18,
    "start_time": "2022-02-03T02:20:25.786Z"
   },
   {
    "duration": 17,
    "start_time": "2022-02-03T02:20:39.876Z"
   },
   {
    "duration": 375,
    "start_time": "2022-02-03T02:21:51.451Z"
   },
   {
    "duration": 10704,
    "start_time": "2022-02-03T02:22:14.472Z"
   },
   {
    "duration": 22,
    "start_time": "2022-02-03T02:23:03.456Z"
   },
   {
    "duration": 134,
    "start_time": "2022-02-03T02:23:40.701Z"
   },
   {
    "duration": 16,
    "start_time": "2022-02-03T02:26:44.090Z"
   },
   {
    "duration": 18,
    "start_time": "2022-02-03T02:26:55.604Z"
   },
   {
    "duration": 19,
    "start_time": "2022-02-03T02:27:23.843Z"
   },
   {
    "duration": 13,
    "start_time": "2022-02-03T02:27:25.176Z"
   },
   {
    "duration": 17,
    "start_time": "2022-02-03T02:27:36.152Z"
   },
   {
    "duration": 7,
    "start_time": "2022-02-03T02:28:42.254Z"
   },
   {
    "duration": 4,
    "start_time": "2022-02-03T02:29:04.153Z"
   },
   {
    "duration": 20,
    "start_time": "2022-02-03T02:29:05.180Z"
   },
   {
    "duration": 4,
    "start_time": "2022-02-03T02:31:15.155Z"
   },
   {
    "duration": 17,
    "start_time": "2022-02-03T02:31:53.054Z"
   },
   {
    "duration": 9237,
    "start_time": "2022-02-03T02:32:05.361Z"
   },
   {
    "duration": 11,
    "start_time": "2022-02-03T02:32:26.385Z"
   },
   {
    "duration": 9278,
    "start_time": "2022-02-03T02:32:32.911Z"
   },
   {
    "duration": 27,
    "start_time": "2022-02-03T02:33:02.034Z"
   },
   {
    "duration": 7,
    "start_time": "2022-02-03T02:33:12.649Z"
   },
   {
    "duration": 7,
    "start_time": "2022-02-03T02:40:01.991Z"
   },
   {
    "duration": 6,
    "start_time": "2022-02-03T02:40:06.687Z"
   },
   {
    "duration": 16,
    "start_time": "2022-02-03T02:40:55.893Z"
   },
   {
    "duration": 413,
    "start_time": "2022-02-03T02:41:19.872Z"
   },
   {
    "duration": 373,
    "start_time": "2022-02-03T02:41:34.569Z"
   },
   {
    "duration": 29,
    "start_time": "2022-02-03T02:41:52.075Z"
   },
   {
    "duration": 397,
    "start_time": "2022-02-03T02:41:57.083Z"
   },
   {
    "duration": 373,
    "start_time": "2022-02-03T02:42:13.769Z"
   },
   {
    "duration": 8,
    "start_time": "2022-02-03T02:42:22.014Z"
   },
   {
    "duration": 12,
    "start_time": "2022-02-03T02:44:19.396Z"
   },
   {
    "duration": 11,
    "start_time": "2022-02-03T02:45:50.992Z"
   },
   {
    "duration": 397,
    "start_time": "2022-02-03T02:46:44.560Z"
   },
   {
    "duration": 10,
    "start_time": "2022-02-03T02:46:54.400Z"
   },
   {
    "duration": 405,
    "start_time": "2022-02-03T02:47:01.772Z"
   },
   {
    "duration": 12,
    "start_time": "2022-02-03T02:47:15.326Z"
   },
   {
    "duration": 365,
    "start_time": "2022-02-03T02:47:34.156Z"
   },
   {
    "duration": 11,
    "start_time": "2022-02-03T02:47:38.699Z"
   },
   {
    "duration": 24,
    "start_time": "2022-02-03T02:48:40.591Z"
   },
   {
    "duration": 25,
    "start_time": "2022-02-03T02:49:00.427Z"
   },
   {
    "duration": 13,
    "start_time": "2022-02-03T02:49:07.592Z"
   },
   {
    "duration": 430,
    "start_time": "2022-02-03T02:49:25.955Z"
   },
   {
    "duration": 12,
    "start_time": "2022-02-03T02:49:30.334Z"
   },
   {
    "duration": 23,
    "start_time": "2022-02-03T02:50:39.972Z"
   },
   {
    "duration": 431,
    "start_time": "2022-02-03T02:50:59.623Z"
   },
   {
    "duration": 23,
    "start_time": "2022-02-03T02:51:03.834Z"
   },
   {
    "duration": 375,
    "start_time": "2022-02-03T02:51:10.156Z"
   },
   {
    "duration": 26,
    "start_time": "2022-02-03T02:51:13.948Z"
   },
   {
    "duration": 384,
    "start_time": "2022-02-03T02:51:27.340Z"
   },
   {
    "duration": 11,
    "start_time": "2022-02-03T02:51:37.496Z"
   },
   {
    "duration": 11,
    "start_time": "2022-02-03T02:52:05.176Z"
   },
   {
    "duration": 393,
    "start_time": "2022-02-03T02:52:11.453Z"
   },
   {
    "duration": 12,
    "start_time": "2022-02-03T02:52:28.889Z"
   },
   {
    "duration": 19,
    "start_time": "2022-02-03T02:54:29.872Z"
   },
   {
    "duration": 21,
    "start_time": "2022-02-03T02:54:35.331Z"
   },
   {
    "duration": 7,
    "start_time": "2022-02-03T02:54:52.593Z"
   },
   {
    "duration": 17,
    "start_time": "2022-02-03T02:54:54.628Z"
   },
   {
    "duration": 13,
    "start_time": "2022-02-03T02:55:03.413Z"
   },
   {
    "duration": 384,
    "start_time": "2022-02-03T02:55:54.210Z"
   },
   {
    "duration": 13,
    "start_time": "2022-02-03T02:56:05.209Z"
   },
   {
    "duration": 122,
    "start_time": "2022-02-03T02:56:41.472Z"
   },
   {
    "duration": 386,
    "start_time": "2022-02-03T02:56:46.611Z"
   },
   {
    "duration": 391,
    "start_time": "2022-02-03T02:57:07.405Z"
   },
   {
    "duration": 372,
    "start_time": "2022-02-03T02:57:14.072Z"
   },
   {
    "duration": 364,
    "start_time": "2022-02-03T02:57:17.599Z"
   },
   {
    "duration": 391,
    "start_time": "2022-02-03T02:57:21.087Z"
   },
   {
    "duration": 418,
    "start_time": "2022-02-03T02:57:27.433Z"
   },
   {
    "duration": 350,
    "start_time": "2022-02-03T02:57:33.246Z"
   },
   {
    "duration": 365,
    "start_time": "2022-02-03T02:57:41.375Z"
   },
   {
    "duration": 848,
    "start_time": "2022-02-03T02:59:32.994Z"
   },
   {
    "duration": 5,
    "start_time": "2022-02-03T02:59:33.844Z"
   },
   {
    "duration": 37,
    "start_time": "2022-02-03T02:59:33.852Z"
   },
   {
    "duration": 23,
    "start_time": "2022-02-03T02:59:33.892Z"
   },
   {
    "duration": 71,
    "start_time": "2022-02-03T02:59:33.918Z"
   },
   {
    "duration": 9,
    "start_time": "2022-02-03T02:59:33.991Z"
   },
   {
    "duration": 64,
    "start_time": "2022-02-03T02:59:34.003Z"
   },
   {
    "duration": 11,
    "start_time": "2022-02-03T02:59:34.069Z"
   },
   {
    "duration": 8,
    "start_time": "2022-02-03T02:59:34.086Z"
   },
   {
    "duration": 21,
    "start_time": "2022-02-03T02:59:34.097Z"
   },
   {
    "duration": 44,
    "start_time": "2022-02-03T02:59:34.120Z"
   },
   {
    "duration": 37,
    "start_time": "2022-02-03T02:59:34.166Z"
   },
   {
    "duration": 8,
    "start_time": "2022-02-03T02:59:34.206Z"
   },
   {
    "duration": 4,
    "start_time": "2022-02-03T02:59:34.217Z"
   },
   {
    "duration": 47,
    "start_time": "2022-02-03T02:59:34.223Z"
   },
   {
    "duration": 7,
    "start_time": "2022-02-03T02:59:34.273Z"
   },
   {
    "duration": 9,
    "start_time": "2022-02-03T02:59:34.283Z"
   },
   {
    "duration": 12,
    "start_time": "2022-02-03T02:59:34.294Z"
   },
   {
    "duration": 59,
    "start_time": "2022-02-03T02:59:34.308Z"
   },
   {
    "duration": 12,
    "start_time": "2022-02-03T02:59:34.369Z"
   },
   {
    "duration": 6,
    "start_time": "2022-02-03T02:59:34.383Z"
   },
   {
    "duration": 10,
    "start_time": "2022-02-03T02:59:34.391Z"
   },
   {
    "duration": 10,
    "start_time": "2022-02-03T02:59:34.403Z"
   },
   {
    "duration": 6,
    "start_time": "2022-02-03T02:59:34.415Z"
   },
   {
    "duration": 10,
    "start_time": "2022-02-03T02:59:34.462Z"
   },
   {
    "duration": 10,
    "start_time": "2022-02-03T02:59:34.476Z"
   },
   {
    "duration": 19,
    "start_time": "2022-02-03T02:59:34.493Z"
   },
   {
    "duration": 3,
    "start_time": "2022-02-03T02:59:34.517Z"
   },
   {
    "duration": 69,
    "start_time": "2022-02-03T02:59:34.522Z"
   },
   {
    "duration": 12,
    "start_time": "2022-02-03T02:59:34.594Z"
   },
   {
    "duration": 10,
    "start_time": "2022-02-03T02:59:34.608Z"
   },
   {
    "duration": 21,
    "start_time": "2022-02-03T02:59:34.620Z"
   },
   {
    "duration": 24,
    "start_time": "2022-02-03T02:59:34.662Z"
   },
   {
    "duration": 3,
    "start_time": "2022-02-03T02:59:34.688Z"
   },
   {
    "duration": 24,
    "start_time": "2022-02-03T02:59:34.693Z"
   },
   {
    "duration": 58,
    "start_time": "2022-02-03T02:59:34.719Z"
   },
   {
    "duration": 24,
    "start_time": "2022-02-03T02:59:34.780Z"
   },
   {
    "duration": 21,
    "start_time": "2022-02-03T02:59:34.807Z"
   },
   {
    "duration": 30,
    "start_time": "2022-02-03T02:59:34.831Z"
   },
   {
    "duration": 14,
    "start_time": "2022-02-03T02:59:34.863Z"
   },
   {
    "duration": 5,
    "start_time": "2022-02-03T02:59:34.879Z"
   },
   {
    "duration": 75,
    "start_time": "2022-02-03T02:59:34.886Z"
   },
   {
    "duration": 6,
    "start_time": "2022-02-03T02:59:34.968Z"
   },
   {
    "duration": 9,
    "start_time": "2022-02-03T02:59:34.976Z"
   },
   {
    "duration": 15,
    "start_time": "2022-02-03T02:59:34.988Z"
   },
   {
    "duration": 13,
    "start_time": "2022-02-03T02:59:35.005Z"
   },
   {
    "duration": 5,
    "start_time": "2022-02-03T02:59:35.020Z"
   },
   {
    "duration": 69,
    "start_time": "2022-02-03T02:59:35.027Z"
   },
   {
    "duration": 33,
    "start_time": "2022-02-03T02:59:35.098Z"
   },
   {
    "duration": 49,
    "start_time": "2022-02-03T02:59:35.133Z"
   },
   {
    "duration": 33,
    "start_time": "2022-02-03T02:59:35.184Z"
   },
   {
    "duration": 51,
    "start_time": "2022-02-03T02:59:35.220Z"
   },
   {
    "duration": 26,
    "start_time": "2022-02-03T02:59:35.273Z"
   },
   {
    "duration": 97,
    "start_time": "2022-02-03T02:59:35.301Z"
   },
   {
    "duration": 5,
    "start_time": "2022-02-03T02:59:35.400Z"
   },
   {
    "duration": 18,
    "start_time": "2022-02-03T02:59:35.408Z"
   },
   {
    "duration": 16074,
    "start_time": "2022-02-03T02:59:35.429Z"
   },
   {
    "duration": 16,
    "start_time": "2022-02-03T02:59:51.505Z"
   },
   {
    "duration": 39,
    "start_time": "2022-02-03T02:59:51.524Z"
   },
   {
    "duration": 21,
    "start_time": "2022-02-03T02:59:51.565Z"
   },
   {
    "duration": 12,
    "start_time": "2022-02-03T02:59:51.589Z"
   },
   {
    "duration": 7,
    "start_time": "2022-02-03T02:59:51.603Z"
   },
   {
    "duration": 55,
    "start_time": "2022-02-03T02:59:51.613Z"
   },
   {
    "duration": 3,
    "start_time": "2022-02-03T02:59:51.672Z"
   },
   {
    "duration": 28,
    "start_time": "2022-02-03T02:59:51.678Z"
   },
   {
    "duration": 3,
    "start_time": "2022-02-03T02:59:51.708Z"
   },
   {
    "duration": 116,
    "start_time": "2022-02-03T02:59:51.713Z"
   },
   {
    "duration": 4,
    "start_time": "2022-02-03T02:59:51.832Z"
   },
   {
    "duration": 37,
    "start_time": "2022-02-03T02:59:51.838Z"
   },
   {
    "duration": 11817,
    "start_time": "2022-02-03T02:59:51.878Z"
   },
   {
    "duration": 16,
    "start_time": "2022-02-03T03:00:03.697Z"
   },
   {
    "duration": 18,
    "start_time": "2022-02-03T03:00:03.716Z"
   },
   {
    "duration": 20,
    "start_time": "2022-02-03T03:00:03.762Z"
   },
   {
    "duration": 14,
    "start_time": "2022-02-03T03:00:03.785Z"
   },
   {
    "duration": 11,
    "start_time": "2022-02-03T03:00:03.802Z"
   },
   {
    "duration": 55,
    "start_time": "2022-02-03T03:00:03.816Z"
   },
   {
    "duration": 9,
    "start_time": "2022-02-03T03:00:03.873Z"
   },
   {
    "duration": 4,
    "start_time": "2022-02-03T03:00:03.885Z"
   },
   {
    "duration": 5,
    "start_time": "2022-02-03T03:00:03.891Z"
   },
   {
    "duration": 14,
    "start_time": "2022-02-03T03:00:03.898Z"
   },
   {
    "duration": 48,
    "start_time": "2022-02-03T03:00:03.920Z"
   },
   {
    "duration": 19,
    "start_time": "2022-02-03T03:00:03.971Z"
   },
   {
    "duration": 11,
    "start_time": "2022-02-03T03:00:03.993Z"
   },
   {
    "duration": 9,
    "start_time": "2022-02-03T03:00:04.007Z"
   },
   {
    "duration": 6,
    "start_time": "2022-02-03T03:00:04.019Z"
   },
   {
    "duration": 52,
    "start_time": "2022-02-03T03:00:04.027Z"
   },
   {
    "duration": 18,
    "start_time": "2022-02-03T03:00:04.082Z"
   },
   {
    "duration": 11,
    "start_time": "2022-02-03T03:00:04.103Z"
   },
   {
    "duration": 52,
    "start_time": "2022-02-03T03:00:04.116Z"
   },
   {
    "duration": 12,
    "start_time": "2022-02-03T03:00:04.171Z"
   },
   {
    "duration": 487,
    "start_time": "2022-02-03T03:00:04.186Z"
   },
   {
    "duration": -203,
    "start_time": "2022-02-03T03:00:04.878Z"
   },
   {
    "duration": -206,
    "start_time": "2022-02-03T03:00:04.883Z"
   },
   {
    "duration": 15,
    "start_time": "2022-02-03T03:10:31.757Z"
   },
   {
    "duration": 10003,
    "start_time": "2022-02-03T03:13:06.347Z"
   },
   {
    "duration": 10,
    "start_time": "2022-02-03T03:13:17.928Z"
   },
   {
    "duration": 215,
    "start_time": "2022-02-03T03:14:06.506Z"
   },
   {
    "duration": 10,
    "start_time": "2022-02-03T03:14:58.273Z"
   },
   {
    "duration": 8,
    "start_time": "2022-02-03T03:15:24.001Z"
   },
   {
    "duration": 13,
    "start_time": "2022-02-03T03:15:26.171Z"
   },
   {
    "duration": 6,
    "start_time": "2022-02-03T03:15:32.648Z"
   },
   {
    "duration": 131,
    "start_time": "2022-02-03T03:16:54.016Z"
   },
   {
    "duration": 119,
    "start_time": "2022-02-03T03:17:01.448Z"
   },
   {
    "duration": 129,
    "start_time": "2022-02-03T03:17:15.212Z"
   },
   {
    "duration": 400,
    "start_time": "2022-02-03T03:17:18.664Z"
   },
   {
    "duration": 344,
    "start_time": "2022-02-03T03:17:27.082Z"
   },
   {
    "duration": 7,
    "start_time": "2022-02-03T03:17:37.368Z"
   },
   {
    "duration": 9,
    "start_time": "2022-02-03T03:17:52.176Z"
   },
   {
    "duration": 130,
    "start_time": "2022-02-03T03:19:17.582Z"
   },
   {
    "duration": 113,
    "start_time": "2022-02-03T03:19:29.336Z"
   },
   {
    "duration": 350,
    "start_time": "2022-02-03T03:19:32.891Z"
   },
   {
    "duration": 5,
    "start_time": "2022-02-03T03:19:45.191Z"
   },
   {
    "duration": 8,
    "start_time": "2022-02-03T03:19:52.871Z"
   },
   {
    "duration": 9,
    "start_time": "2022-02-03T03:20:13.196Z"
   },
   {
    "duration": 8,
    "start_time": "2022-02-03T03:20:20.922Z"
   },
   {
    "duration": 141,
    "start_time": "2022-02-03T03:21:01.228Z"
   },
   {
    "duration": 358,
    "start_time": "2022-02-03T03:21:15.502Z"
   },
   {
    "duration": 344,
    "start_time": "2022-02-03T03:21:22.536Z"
   },
   {
    "duration": 368,
    "start_time": "2022-02-03T03:21:28.111Z"
   },
   {
    "duration": 7,
    "start_time": "2022-02-03T03:21:38.329Z"
   },
   {
    "duration": 8,
    "start_time": "2022-02-03T03:25:17.393Z"
   },
   {
    "duration": 8,
    "start_time": "2022-02-03T03:25:28.070Z"
   },
   {
    "duration": 10,
    "start_time": "2022-02-03T03:30:12.235Z"
   },
   {
    "duration": 12,
    "start_time": "2022-02-03T03:30:20.606Z"
   },
   {
    "duration": 13,
    "start_time": "2022-02-03T03:30:24.064Z"
   },
   {
    "duration": 13,
    "start_time": "2022-02-03T03:33:38.102Z"
   },
   {
    "duration": 12,
    "start_time": "2022-02-03T03:33:41.746Z"
   },
   {
    "duration": 12,
    "start_time": "2022-02-03T03:33:44.011Z"
   },
   {
    "duration": 121,
    "start_time": "2022-02-03T03:35:19.922Z"
   },
   {
    "duration": 356,
    "start_time": "2022-02-03T03:37:34.248Z"
   },
   {
    "duration": 10,
    "start_time": "2022-02-03T03:38:04.603Z"
   },
   {
    "duration": 15,
    "start_time": "2022-02-03T03:38:29.680Z"
   },
   {
    "duration": 17,
    "start_time": "2022-02-03T03:38:38.826Z"
   },
   {
    "duration": 20,
    "start_time": "2022-02-03T03:38:50.200Z"
   },
   {
    "duration": 368,
    "start_time": "2022-02-03T03:39:49.545Z"
   },
   {
    "duration": 17,
    "start_time": "2022-02-03T03:40:08.382Z"
   },
   {
    "duration": 19,
    "start_time": "2022-02-03T03:41:09.065Z"
   },
   {
    "duration": 30,
    "start_time": "2022-02-03T03:45:23.605Z"
   },
   {
    "duration": 374,
    "start_time": "2022-02-03T03:46:14.030Z"
   },
   {
    "duration": 15,
    "start_time": "2022-02-03T03:47:48.632Z"
   },
   {
    "duration": 11,
    "start_time": "2022-02-03T03:48:50.555Z"
   },
   {
    "duration": 51,
    "start_time": "2022-02-03T04:13:00.748Z"
   },
   {
    "duration": 47,
    "start_time": "2022-02-03T05:02:16.667Z"
   },
   {
    "duration": 931,
    "start_time": "2022-02-03T22:41:19.389Z"
   },
   {
    "duration": 6,
    "start_time": "2022-02-03T22:41:20.323Z"
   },
   {
    "duration": 36,
    "start_time": "2022-02-03T22:41:20.332Z"
   },
   {
    "duration": 16,
    "start_time": "2022-02-03T22:41:20.371Z"
   },
   {
    "duration": 37,
    "start_time": "2022-02-03T22:41:20.389Z"
   },
   {
    "duration": 39,
    "start_time": "2022-02-03T22:41:20.429Z"
   },
   {
    "duration": 24,
    "start_time": "2022-02-03T22:41:20.471Z"
   },
   {
    "duration": 8,
    "start_time": "2022-02-03T22:41:20.498Z"
   },
   {
    "duration": 46,
    "start_time": "2022-02-03T22:41:20.512Z"
   },
   {
    "duration": 32,
    "start_time": "2022-02-03T22:41:20.563Z"
   },
   {
    "duration": 16,
    "start_time": "2022-02-03T22:41:20.597Z"
   },
   {
    "duration": 55,
    "start_time": "2022-02-03T22:41:20.616Z"
   },
   {
    "duration": 9,
    "start_time": "2022-02-03T22:41:20.674Z"
   },
   {
    "duration": 12,
    "start_time": "2022-02-03T22:41:20.685Z"
   },
   {
    "duration": 21,
    "start_time": "2022-02-03T22:41:20.699Z"
   },
   {
    "duration": 43,
    "start_time": "2022-02-03T22:41:20.722Z"
   },
   {
    "duration": 13,
    "start_time": "2022-02-03T22:41:20.769Z"
   },
   {
    "duration": 12,
    "start_time": "2022-02-03T22:41:20.784Z"
   },
   {
    "duration": 16,
    "start_time": "2022-02-03T22:41:20.798Z"
   },
   {
    "duration": 54,
    "start_time": "2022-02-03T22:41:20.816Z"
   },
   {
    "duration": 5,
    "start_time": "2022-02-03T22:41:20.872Z"
   },
   {
    "duration": 9,
    "start_time": "2022-02-03T22:41:20.879Z"
   },
   {
    "duration": 9,
    "start_time": "2022-02-03T22:41:20.890Z"
   },
   {
    "duration": 10,
    "start_time": "2022-02-03T22:41:20.901Z"
   },
   {
    "duration": 9,
    "start_time": "2022-02-03T22:41:20.959Z"
   },
   {
    "duration": 8,
    "start_time": "2022-02-03T22:41:20.970Z"
   },
   {
    "duration": 21,
    "start_time": "2022-02-03T22:41:20.986Z"
   },
   {
    "duration": 48,
    "start_time": "2022-02-03T22:41:21.011Z"
   },
   {
    "duration": 24,
    "start_time": "2022-02-03T22:41:21.062Z"
   },
   {
    "duration": 9,
    "start_time": "2022-02-03T22:41:21.089Z"
   },
   {
    "duration": 9,
    "start_time": "2022-02-03T22:41:21.100Z"
   },
   {
    "duration": 66,
    "start_time": "2022-02-03T22:41:21.112Z"
   },
   {
    "duration": 23,
    "start_time": "2022-02-03T22:41:21.181Z"
   },
   {
    "duration": 3,
    "start_time": "2022-02-03T22:41:21.207Z"
   },
   {
    "duration": 65,
    "start_time": "2022-02-03T22:41:21.212Z"
   },
   {
    "duration": 21,
    "start_time": "2022-02-03T22:41:21.279Z"
   },
   {
    "duration": 22,
    "start_time": "2022-02-03T22:41:21.303Z"
   },
   {
    "duration": 48,
    "start_time": "2022-02-03T22:41:21.328Z"
   },
   {
    "duration": 4,
    "start_time": "2022-02-03T22:41:21.379Z"
   },
   {
    "duration": 5,
    "start_time": "2022-02-03T22:41:21.385Z"
   },
   {
    "duration": 74,
    "start_time": "2022-02-03T22:41:21.392Z"
   },
   {
    "duration": 4,
    "start_time": "2022-02-03T22:41:21.469Z"
   },
   {
    "duration": 122,
    "start_time": "2022-02-03T22:41:21.475Z"
   },
   {
    "duration": -283,
    "start_time": "2022-02-03T22:41:21.883Z"
   },
   {
    "duration": -286,
    "start_time": "2022-02-03T22:41:21.887Z"
   },
   {
    "duration": -288,
    "start_time": "2022-02-03T22:41:21.891Z"
   },
   {
    "duration": -291,
    "start_time": "2022-02-03T22:41:21.895Z"
   },
   {
    "duration": -295,
    "start_time": "2022-02-03T22:41:21.900Z"
   },
   {
    "duration": -316,
    "start_time": "2022-02-03T22:41:21.923Z"
   },
   {
    "duration": -320,
    "start_time": "2022-02-03T22:41:21.928Z"
   },
   {
    "duration": -324,
    "start_time": "2022-02-03T22:41:21.933Z"
   },
   {
    "duration": -328,
    "start_time": "2022-02-03T22:41:21.938Z"
   },
   {
    "duration": -331,
    "start_time": "2022-02-03T22:41:21.943Z"
   },
   {
    "duration": -334,
    "start_time": "2022-02-03T22:41:21.947Z"
   },
   {
    "duration": -338,
    "start_time": "2022-02-03T22:41:21.952Z"
   },
   {
    "duration": -344,
    "start_time": "2022-02-03T22:41:21.959Z"
   },
   {
    "duration": -381,
    "start_time": "2022-02-03T22:41:21.997Z"
   },
   {
    "duration": -399,
    "start_time": "2022-02-03T22:41:22.017Z"
   },
   {
    "duration": -409,
    "start_time": "2022-02-03T22:41:22.028Z"
   },
   {
    "duration": -412,
    "start_time": "2022-02-03T22:41:22.032Z"
   },
   {
    "duration": -416,
    "start_time": "2022-02-03T22:41:22.037Z"
   },
   {
    "duration": -419,
    "start_time": "2022-02-03T22:41:22.041Z"
   },
   {
    "duration": -422,
    "start_time": "2022-02-03T22:41:22.045Z"
   },
   {
    "duration": -424,
    "start_time": "2022-02-03T22:41:22.049Z"
   },
   {
    "duration": -427,
    "start_time": "2022-02-03T22:41:22.053Z"
   },
   {
    "duration": -430,
    "start_time": "2022-02-03T22:41:22.058Z"
   },
   {
    "duration": -433,
    "start_time": "2022-02-03T22:41:22.062Z"
   },
   {
    "duration": -436,
    "start_time": "2022-02-03T22:41:22.066Z"
   },
   {
    "duration": -439,
    "start_time": "2022-02-03T22:41:22.070Z"
   },
   {
    "duration": -440,
    "start_time": "2022-02-03T22:41:22.073Z"
   },
   {
    "duration": -443,
    "start_time": "2022-02-03T22:41:22.077Z"
   },
   {
    "duration": -446,
    "start_time": "2022-02-03T22:41:22.081Z"
   },
   {
    "duration": -452,
    "start_time": "2022-02-03T22:41:22.088Z"
   },
   {
    "duration": -432,
    "start_time": "2022-02-03T22:41:22.092Z"
   },
   {
    "duration": -436,
    "start_time": "2022-02-03T22:41:22.098Z"
   },
   {
    "duration": -439,
    "start_time": "2022-02-03T22:41:22.102Z"
   },
   {
    "duration": -441,
    "start_time": "2022-02-03T22:41:22.106Z"
   },
   {
    "duration": -444,
    "start_time": "2022-02-03T22:41:22.110Z"
   },
   {
    "duration": -446,
    "start_time": "2022-02-03T22:41:22.114Z"
   },
   {
    "duration": -449,
    "start_time": "2022-02-03T22:41:22.118Z"
   },
   {
    "duration": -452,
    "start_time": "2022-02-03T22:41:22.122Z"
   },
   {
    "duration": -454,
    "start_time": "2022-02-03T22:41:22.126Z"
   },
   {
    "duration": -466,
    "start_time": "2022-02-03T22:41:22.139Z"
   },
   {
    "duration": -469,
    "start_time": "2022-02-03T22:41:22.143Z"
   },
   {
    "duration": -471,
    "start_time": "2022-02-03T22:41:22.147Z"
   },
   {
    "duration": -475,
    "start_time": "2022-02-03T22:41:22.152Z"
   },
   {
    "duration": -479,
    "start_time": "2022-02-03T22:41:22.157Z"
   },
   {
    "duration": -482,
    "start_time": "2022-02-03T22:41:22.161Z"
   },
   {
    "duration": -484,
    "start_time": "2022-02-03T22:41:22.165Z"
   },
   {
    "duration": -487,
    "start_time": "2022-02-03T22:41:22.169Z"
   },
   {
    "duration": -490,
    "start_time": "2022-02-03T22:41:22.173Z"
   },
   {
    "duration": -495,
    "start_time": "2022-02-03T22:41:22.180Z"
   },
   {
    "duration": 51,
    "start_time": "2022-02-03T22:43:54.132Z"
   },
   {
    "duration": 140,
    "start_time": "2022-02-03T22:44:47.621Z"
   },
   {
    "duration": 5,
    "start_time": "2022-02-03T22:44:58.453Z"
   },
   {
    "duration": 110,
    "start_time": "2022-02-03T22:44:59.508Z"
   },
   {
    "duration": 124,
    "start_time": "2022-02-03T22:45:07.120Z"
   },
   {
    "duration": 122,
    "start_time": "2022-02-03T22:45:15.757Z"
   },
   {
    "duration": 576,
    "start_time": "2022-02-03T22:45:36.075Z"
   },
   {
    "duration": 6,
    "start_time": "2022-02-03T22:45:47.502Z"
   },
   {
    "duration": 15,
    "start_time": "2022-02-03T22:46:55.969Z"
   },
   {
    "duration": 13,
    "start_time": "2022-02-03T22:47:17.349Z"
   },
   {
    "duration": 53,
    "start_time": "2022-02-03T23:01:35.520Z"
   },
   {
    "duration": 146,
    "start_time": "2022-02-03T23:03:10.440Z"
   },
   {
    "duration": 79,
    "start_time": "2022-02-03T23:03:46.632Z"
   },
   {
    "duration": 41,
    "start_time": "2022-02-03T23:03:50.744Z"
   },
   {
    "duration": 92,
    "start_time": "2022-02-03T23:04:16.040Z"
   },
   {
    "duration": 21,
    "start_time": "2022-02-03T23:04:34.971Z"
   },
   {
    "duration": 34,
    "start_time": "2022-02-03T23:05:37.156Z"
   },
   {
    "duration": 33,
    "start_time": "2022-02-03T23:06:25.379Z"
   },
   {
    "duration": 28,
    "start_time": "2022-02-03T23:06:42.289Z"
   },
   {
    "duration": 1600,
    "start_time": "2022-02-03T23:07:16.040Z"
   },
   {
    "duration": 89,
    "start_time": "2022-02-03T23:07:58.741Z"
   },
   {
    "duration": 91,
    "start_time": "2022-02-03T23:08:38.535Z"
   },
   {
    "duration": 199,
    "start_time": "2022-02-03T23:13:11.248Z"
   },
   {
    "duration": 64,
    "start_time": "2022-02-03T23:15:37.896Z"
   },
   {
    "duration": 20,
    "start_time": "2022-02-03T23:16:05.270Z"
   },
   {
    "duration": 25,
    "start_time": "2022-02-03T23:16:36.482Z"
   },
   {
    "duration": 87,
    "start_time": "2022-02-03T23:16:46.239Z"
   },
   {
    "duration": 6,
    "start_time": "2022-02-03T23:21:18.407Z"
   },
   {
    "duration": 18,
    "start_time": "2022-02-03T23:22:31.167Z"
   },
   {
    "duration": 14601,
    "start_time": "2022-02-03T23:25:03.960Z"
   },
   {
    "duration": 18,
    "start_time": "2022-02-03T23:27:50.783Z"
   },
   {
    "duration": 18,
    "start_time": "2022-02-03T23:31:39.985Z"
   },
   {
    "duration": 12,
    "start_time": "2022-02-03T23:32:07.551Z"
   },
   {
    "duration": 8,
    "start_time": "2022-02-03T23:32:46.557Z"
   },
   {
    "duration": 13,
    "start_time": "2022-02-03T23:32:51.875Z"
   },
   {
    "duration": 14,
    "start_time": "2022-02-03T23:33:44.415Z"
   },
   {
    "duration": 14,
    "start_time": "2022-02-03T23:33:58.259Z"
   },
   {
    "duration": 15,
    "start_time": "2022-02-03T23:34:07.188Z"
   },
   {
    "duration": 28,
    "start_time": "2022-02-03T23:40:27.985Z"
   },
   {
    "duration": 87,
    "start_time": "2022-02-03T23:43:38.074Z"
   },
   {
    "duration": 6,
    "start_time": "2022-02-04T00:15:44.460Z"
   },
   {
    "duration": 11,
    "start_time": "2022-02-04T00:19:07.528Z"
   },
   {
    "duration": 7,
    "start_time": "2022-02-04T00:19:48.206Z"
   },
   {
    "duration": 7,
    "start_time": "2022-02-04T00:23:26.228Z"
   },
   {
    "duration": 7,
    "start_time": "2022-02-04T00:28:42.448Z"
   },
   {
    "duration": 4,
    "start_time": "2022-02-04T00:32:54.712Z"
   },
   {
    "duration": 12,
    "start_time": "2022-02-04T00:33:38.802Z"
   },
   {
    "duration": 7,
    "start_time": "2022-02-04T00:33:56.668Z"
   },
   {
    "duration": 463,
    "start_time": "2022-02-04T00:39:39.124Z"
   },
   {
    "duration": 7,
    "start_time": "2022-02-04T00:39:43.755Z"
   },
   {
    "duration": 6,
    "start_time": "2022-02-04T00:39:44.759Z"
   },
   {
    "duration": 17,
    "start_time": "2022-02-04T00:39:45.719Z"
   },
   {
    "duration": 15,
    "start_time": "2022-02-04T00:39:51.484Z"
   },
   {
    "duration": 10,
    "start_time": "2022-02-04T00:40:13.359Z"
   },
   {
    "duration": 11,
    "start_time": "2022-02-04T00:43:20.938Z"
   },
   {
    "duration": 12,
    "start_time": "2022-02-04T00:43:32.993Z"
   },
   {
    "duration": 11,
    "start_time": "2022-02-04T00:43:38.508Z"
   },
   {
    "duration": 12,
    "start_time": "2022-02-04T00:43:42.897Z"
   },
   {
    "duration": 21,
    "start_time": "2022-02-04T00:44:15.435Z"
   },
   {
    "duration": 380,
    "start_time": "2022-02-04T00:44:31.611Z"
   },
   {
    "duration": 25,
    "start_time": "2022-02-04T00:44:39.260Z"
   },
   {
    "duration": 12,
    "start_time": "2022-02-04T00:44:43.264Z"
   },
   {
    "duration": 21,
    "start_time": "2022-02-04T00:45:29.415Z"
   },
   {
    "duration": 10,
    "start_time": "2022-02-04T00:45:35.798Z"
   },
   {
    "duration": 11,
    "start_time": "2022-02-04T00:46:37.145Z"
   },
   {
    "duration": 13,
    "start_time": "2022-02-04T00:49:13.230Z"
   },
   {
    "duration": 11,
    "start_time": "2022-02-04T00:51:12.290Z"
   },
   {
    "duration": 17,
    "start_time": "2022-02-04T00:55:25.072Z"
   },
   {
    "duration": 18,
    "start_time": "2022-02-04T00:55:51.849Z"
   },
   {
    "duration": 16,
    "start_time": "2022-02-04T01:02:17.426Z"
   },
   {
    "duration": 12,
    "start_time": "2022-02-04T01:03:04.219Z"
   },
   {
    "duration": 362,
    "start_time": "2022-02-04T01:09:43.695Z"
   },
   {
    "duration": 4,
    "start_time": "2022-02-04T01:09:58.100Z"
   },
   {
    "duration": 12,
    "start_time": "2022-02-04T01:09:59.027Z"
   },
   {
    "duration": 8,
    "start_time": "2022-02-04T01:09:59.957Z"
   },
   {
    "duration": 13,
    "start_time": "2022-02-04T01:10:11.204Z"
   },
   {
    "duration": 12,
    "start_time": "2022-02-04T01:10:37.079Z"
   },
   {
    "duration": 10,
    "start_time": "2022-02-04T01:10:57.534Z"
   },
   {
    "duration": 14,
    "start_time": "2022-02-04T01:11:43.514Z"
   },
   {
    "duration": 10,
    "start_time": "2022-02-04T01:11:52.805Z"
   },
   {
    "duration": 9,
    "start_time": "2022-02-04T02:02:57.675Z"
   },
   {
    "duration": 9,
    "start_time": "2022-02-04T02:04:23.624Z"
   },
   {
    "duration": 124,
    "start_time": "2022-02-04T02:10:08.299Z"
   },
   {
    "duration": 20,
    "start_time": "2022-02-04T02:11:51.902Z"
   },
   {
    "duration": 359,
    "start_time": "2022-02-04T02:12:33.267Z"
   },
   {
    "duration": 10,
    "start_time": "2022-02-04T02:12:48.261Z"
   },
   {
    "duration": 9,
    "start_time": "2022-02-04T02:12:57.561Z"
   },
   {
    "duration": 10,
    "start_time": "2022-02-04T02:13:45.063Z"
   },
   {
    "duration": 9,
    "start_time": "2022-02-04T02:13:45.565Z"
   },
   {
    "duration": 9,
    "start_time": "2022-02-04T02:13:53.845Z"
   },
   {
    "duration": 27,
    "start_time": "2022-02-04T02:17:05.875Z"
   },
   {
    "duration": 18,
    "start_time": "2022-02-04T02:17:14.910Z"
   },
   {
    "duration": 15,
    "start_time": "2022-02-04T02:17:19.427Z"
   },
   {
    "duration": 3,
    "start_time": "2022-02-04T02:18:45.125Z"
   },
   {
    "duration": 5,
    "start_time": "2022-02-04T02:21:07.189Z"
   },
   {
    "duration": 17,
    "start_time": "2022-02-04T02:21:20.693Z"
   },
   {
    "duration": 15,
    "start_time": "2022-02-04T02:21:45.576Z"
   },
   {
    "duration": 10233,
    "start_time": "2022-02-04T02:23:10.175Z"
   },
   {
    "duration": 21,
    "start_time": "2022-02-04T02:24:05.223Z"
   },
   {
    "duration": 16,
    "start_time": "2022-02-04T02:24:35.250Z"
   },
   {
    "duration": 17,
    "start_time": "2022-02-04T02:25:47.682Z"
   },
   {
    "duration": 18,
    "start_time": "2022-02-04T02:27:17.030Z"
   },
   {
    "duration": 14,
    "start_time": "2022-02-04T02:27:50.042Z"
   },
   {
    "duration": 18,
    "start_time": "2022-02-04T02:28:33.531Z"
   },
   {
    "duration": 567,
    "start_time": "2022-02-04T02:30:42.920Z"
   },
   {
    "duration": 577,
    "start_time": "2022-02-04T02:30:48.852Z"
   },
   {
    "duration": 114,
    "start_time": "2022-02-04T02:30:54.244Z"
   },
   {
    "duration": 11,
    "start_time": "2022-02-04T02:31:00.849Z"
   },
   {
    "duration": 10,
    "start_time": "2022-02-04T02:31:14.863Z"
   },
   {
    "duration": 9,
    "start_time": "2022-02-04T02:31:16.901Z"
   },
   {
    "duration": 143,
    "start_time": "2022-02-04T08:59:33.990Z"
   }
  ],
  "kernelspec": {
   "display_name": "Python 3",
   "language": "python",
   "name": "python3"
  },
  "language_info": {
   "codemirror_mode": {
    "name": "ipython",
    "version": 3
   },
   "file_extension": ".py",
   "mimetype": "text/x-python",
   "name": "python",
   "nbconvert_exporter": "python",
   "pygments_lexer": "ipython3",
   "version": "3.7.8"
  },
  "toc": {
   "base_numbering": 1,
   "nav_menu": {},
   "number_sections": true,
   "sideBar": true,
   "skip_h1_title": true,
   "title_cell": "Table of Contents",
   "title_sidebar": "Contents",
   "toc_cell": false,
   "toc_position": {},
   "toc_section_display": true,
   "toc_window_display": false
  }
 },
 "nbformat": 4,
 "nbformat_minor": 2
}
